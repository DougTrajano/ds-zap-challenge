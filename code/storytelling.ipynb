{
 "cells": [
  {
   "cell_type": "markdown",
   "metadata": {
    "slideshow": {
     "slide_type": "slide"
    }
   },
   "source": [
    "# Phil, o avaliador de imóveis"
   ]
  },
  {
   "cell_type": "markdown",
   "metadata": {
    "slideshow": {
     "slide_type": "slide"
    }
   },
   "source": [
    "## Oi! Eu sou o Phil, um robô que avalia milhares de imóveis todos os dias e fornece recomendações de preços com uma facilidade incrível!\n",
    "\n",
    "![](https://i.pinimg.com/originals/cc/19/bb/cc19bbd5fa4a9e48c697a7107d89c977.jpg)"
   ]
  },
  {
   "cell_type": "markdown",
   "metadata": {
    "slideshow": {
     "slide_type": "slide"
    }
   },
   "source": [
    "## Sou capaz de coletar informações de um imóvel como suas características (quartos, piscina, etc.), avaliar o bairro, localização, os bons vizinhos (os ruins também).\n",
    "\n",
    "## Tudo isso me ajuda a entender quanto um imóvel deveria custar."
   ]
  },
  {
   "cell_type": "markdown",
   "metadata": {
    "slideshow": {
     "slide_type": "slide"
    }
   },
   "source": [
    "## Bem, tecnicamente eu ainda não existo, pois não estou em produção, mas isto é apenas um detalhe.\n",
    "\n",
    "![](https://i.pinimg.com/600x315/9b/06/f7/9b06f7d612112f97a271efc278afe425.jpg)"
   ]
  },
  {
   "cell_type": "markdown",
   "metadata": {
    "slideshow": {
     "slide_type": "slide"
    }
   },
   "source": [
    "## Agora vou contar um pouco dos meus resultados."
   ]
  },
  {
   "cell_type": "markdown",
   "metadata": {
    "slideshow": {
     "slide_type": "fragment"
    }
   },
   "source": [
    "## Olhando para a nossa base histórica de anúncios, eu consegui fornecer uma estimativa de preço próximo ao valor anunciado em **60,28%** dos casos.\n",
    "\n",
    "![](https://media2.giphy.com/media/3o7TKBTLxmltGUyCD6/giphy.gif)"
   ]
  },
  {
   "cell_type": "markdown",
   "metadata": {
    "slideshow": {
     "slide_type": "slide"
    }
   },
   "source": [
    "## Eu virei expert em recomendar preços de imóveis depois de analisar mais ou menos 77 mil anúncios da nossa base.\n",
    "\n",
    "![](https://media0.giphy.com/media/fcpJebgkQ14UE/giphy.gif)\n",
    "\n",
    "#### Parece muito né? Mas eu conseguiria analisar muito mais. ;)"
   ]
  },
  {
   "cell_type": "markdown",
   "metadata": {
    "slideshow": {
     "slide_type": "slide"
    }
   },
   "source": [
    "## Vocẽ quer saber o que eu preciso para ficar melhor?"
   ]
  },
  {
   "cell_type": "markdown",
   "metadata": {
    "slideshow": {
     "slide_type": "fragment"
    }
   },
   "source": [
    "### Bom, preciso coletar mais características dos imóveis, hoje eu avalio apenas algumas informações como piscina, elevador, áreas esportivas e infantis. Seria bem legal conseguir capturar mais informações que está na descrição dos anúncios, pelo que eu vi, tem bastante coisa legal lá."
   ]
  },
  {
   "cell_type": "markdown",
   "metadata": {
    "slideshow": {
     "slide_type": "fragment"
    }
   },
   "source": [
    "### Ah! Também seria legal ter umas informações sobre a segurança do bairro, sabe? Quantidade de furtos e assassinatos, quantidade escolas, essas coisas."
   ]
  },
  {
   "cell_type": "markdown",
   "metadata": {
    "slideshow": {
     "slide_type": "slide"
    }
   },
   "source": [
    "## Se quiser vender seu imóvel, ligue para o Phil!\n",
    "\n",
    "![](https://media2.giphy.com/media/wFOC9RazP97i0/giphy.gif)"
   ]
  }
 ],
 "metadata": {
  "celltoolbar": "Slideshow",
  "kernelspec": {
   "display_name": "conda_python3",
   "language": "python",
   "name": "conda_python3"
  },
  "language_info": {
   "codemirror_mode": {
    "name": "ipython",
    "version": 3
   },
   "file_extension": ".py",
   "mimetype": "text/x-python",
   "name": "python",
   "nbconvert_exporter": "python",
   "pygments_lexer": "ipython3",
   "version": "3.6.10"
  }
 },
 "nbformat": 4,
 "nbformat_minor": 4
}
