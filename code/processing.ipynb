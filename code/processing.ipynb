{
 "cells": [
  {
   "cell_type": "markdown",
   "metadata": {},
   "source": [
    "# Data Science Challange - ZAP\n",
    "\n",
    "Author: [Douglas Trajano](https://dougtrajano.github.io/resume/)\n",
    "\n",
    "## Description\n",
    "\n",
    "This notebooks will download, extract and process raw files (Grupo ZAP, IBGE) and save processed datasets.\n",
    "\n",
    "Estimate time to run all notebook\n",
    "\n",
    "## Installation\n",
    "\n",
    "Make sure that you have executed the command below in the project's root path.\n",
    "\n",
    "```\n",
    "pip install -r requirements.txt\n",
    "```\n",
    "\n",
    "\n",
    "## Index\n",
    "\n",
    "- [Imports](#Imports)\n",
    "- [Parameters](#Parameters)\n",
    "- [Download and extract zip files](#Download-and-extract-zip-files)\n",
    " - [Train dataset by Grupo ZAP](#Train-dataset-by-Grupo-ZAP)\n",
    " - [IBGE Censo 2010 - Agregados por setor censitário](#IBGE-Censo-2010---Agregados-por-setor-censitário)\n",
    " - [IBGE Censo 2010 - Shapefile](#IBGE-Censo-2010---Shapefile)\n",
    " - [IBGE Censo 2010 - Parameters](#IBGE-Censo-2010---Parameters)\n",
    "- [Load train dataset](#Load-train-dataset)\n",
    " - [Filtering](#Filtering)\n",
    " - [Processing train](#Processing-train)\n",
    " - [Save train dataset](#Save-train-dataset)\n",
    "- [Load test dataset](#Load-test-dataset)\n",
    " - [Processing test](#Processing-test)\n",
    " - [Save test dataset](#Save-test-dataset)"
   ]
  },
  {
   "cell_type": "markdown",
   "metadata": {},
   "source": [
    "## Imports"
   ]
  },
  {
   "cell_type": "code",
   "execution_count": null,
   "metadata": {},
   "outputs": [],
   "source": [
    "from processing import *\n",
    "import pandas as pd\n",
    "import numpy as np"
   ]
  },
  {
   "cell_type": "markdown",
   "metadata": {},
   "source": [
    "## Parameters"
   ]
  },
  {
   "cell_type": "code",
   "execution_count": null,
   "metadata": {},
   "outputs": [],
   "source": [
    "files = {\n",
    "    \"train\": {\n",
    "        \"url\": \"https://s3.amazonaws.com/grupozap-data-challenge/data/source-4-ds-train.json.zip\",\n",
    "        \"zip_name\": \"source-4-ds-train.json.zip\",\n",
    "        \"json_name\": \"source-4-ds-train.json\",\n",
    "        \"output_path\": \"../data/raw/\"\n",
    "    },\n",
    "    \"test\": {\n",
    "        \"url\": \"https://s3.amazonaws.com/grupozap-data-challenge/data/source-4-ds-test.json.zip\",\n",
    "        \"zip_name\": \"source-4-ds-test.json.zip\",\n",
    "        \"json_name\": \"source-4-ds-test.json\",\n",
    "        \"output_path\": \"../data/raw/\"\n",
    "    },\n",
    "    \"ibge\": {\n",
    "        \"censo\": {\n",
    "            \"url\": \"https://ftp.ibge.gov.br/Censos/Censo_Demografico_2010/Resultados_do_Universo/Agregados_por_Setores_Censitarios/SP_Capital_20190823.zip\",\n",
    "            \"zip_name\": \"SP_Capital_20190823.zip\",\n",
    "            \"output_path\": \"../data/raw/\",\n",
    "            \"zip_path\": \"Base informaçoes setores2010 universo SP_Capital/CSV\",\n",
    "            \"ext_files\": \".csv\"\n",
    "        },\n",
    "        \"shapefile\": {\n",
    "            \"url\": \"http://geoftp.ibge.gov.br/organizacao_do_territorio/malhas_territoriais/malhas_de_setores_censitarios__divisoes_intramunicipais/censo_2010/setores_censitarios_shp/sp/sp_setores_censitarios.zip\",\n",
    "            \"zip_name\": \"sp_setores_censitarios.zip\",\n",
    "            \"shp_name\": \"33SEE250GC_SIR.shp\",\n",
    "            \"output_path\": \"../data/raw/\"\n",
    "        }\n",
    "    },\n",
    "    \"download_files\": True\n",
    "}\n",
    "\n",
    "\n",
    "converted_features = {\n",
    "    \"pricingInfos_price\": \"price\",\n",
    "    \"pricingInfos_businessType\": \"businessType\",\n",
    "    \"pricingInfos_yearlyIptu\": \"yearlyIptu\",\n",
    "    \"pricingInfos_monthlyCondoFee\": \"monthlyCondoFee\",\n",
    "    \"id\": \"_id\"\n",
    "}\n",
    "\n",
    "censo_config = {\n",
    "    \"DomicilioRenda_SP1.csv\": {\n",
    "        \"V001\": \"total_dom_part_improvisados\",\n",
    "        \"V002\": \"renda_nom_dom_part\",\n",
    "        \"V003\": \"renda_nom_dom_part_perm\",\n",
    "        \"V004\": \"renda_nom_dom_part_imp\",\n",
    "        \"V005\": \"renda_nom_dom_sal_baixo1\",\n",
    "        \"V006\": \"renda_nom_dom_sal_baixo2\",\n",
    "        \"V007\": \"renda_nom_dom_sal_baixo3\",\n",
    "        \"V008\": \"renda_nom_dom_sal_baixo4\",\n",
    "        \"V009\": \"renda_nom_dom_sal_medio1\",\n",
    "        \"V010\": \"renda_nom_dom_sal_medio2\",\n",
    "        \"V011\": \"renda_nom_dom_sal_medio3\",\n",
    "        \"V012\": \"renda_nom_dom_sal_alto1\",\n",
    "        \"V013\": \"renda_nom_dom_sal_alto2\",\n",
    "        \"V014\": \"renda_nom_dom_sem_rendimento\"\n",
    "    },\n",
    "    \"Entorno01_SP1.csv\": {\n",
    "        \"V002\": \"ident_logradouro_proprios\",\n",
    "        \"V003\": \"nao_ident_logradouro_proprios\",\n",
    "        \"V004\": \"ident_logradouro_alugados\",\n",
    "        \"V005\": \"nao_ident_logradouro_alugados\",\n",
    "        \"V008\": \"ilum_publica_proprios\",\n",
    "        \"V009\": \"nao_ilum_publica_proprios\",\n",
    "        \"V010\": \"ilum_publica_alugados\",\n",
    "        \"V011\": \"nao_ilum_publica_alugados\"\n",
    "    }\n",
    "}\n",
    "\n",
    "processed_files = {\n",
    "    \"train_path\": \"../data/processed/train.feather\",\n",
    "    \"test_path\": \"../data/processed/test.feather\"\n",
    "}"
   ]
  },
  {
   "cell_type": "markdown",
   "metadata": {},
   "source": [
    "## Download and extract zip files"
   ]
  },
  {
   "cell_type": "markdown",
   "metadata": {},
   "source": [
    "### Train dataset by Grupo ZAP\n",
    "\n",
    "Download and extract"
   ]
  },
  {
   "cell_type": "code",
   "execution_count": null,
   "metadata": {},
   "outputs": [],
   "source": [
    "if files[\"download_files\"]:\n",
    "    for file in files:\n",
    "        download_url(url=files[\"train\"][\"url\"], file_name=files[\"train\"][\"zip_name\"],\n",
    "                     to_path=files[\"train\"][\"output_path\"])\n",
    "        \n",
    "        file_path = files[\"train\"][\"output_path\"] + files[\"train\"][\"zip_name\"]\n",
    "        extract_zip(file_path=file_path, to_path=files[\"train\"][\"output_path\"])"
   ]
  },
  {
   "cell_type": "markdown",
   "metadata": {},
   "source": [
    "### Test dataset by Grupo ZAP\n",
    "\n",
    "Download and extract"
   ]
  },
  {
   "cell_type": "code",
   "execution_count": null,
   "metadata": {},
   "outputs": [],
   "source": [
    "if files[\"download_files\"]:\n",
    "    for file in files:\n",
    "        download_url(url=files[\"test\"][\"url\"], file_name=files[\"test\"][\"zip_name\"],\n",
    "                     to_path=files[\"test\"][\"output_path\"])\n",
    "        \n",
    "        file_path = files[\"test\"][\"output_path\"] + files[\"test\"][\"zip_name\"]\n",
    "        extract_zip(file_path=file_path, to_path=files[\"test\"][\"output_path\"])"
   ]
  },
  {
   "cell_type": "markdown",
   "metadata": {},
   "source": [
    "### IBGE Censo 2010 - Agregados por setor censitário\n",
    "\n",
    "Download and extract"
   ]
  },
  {
   "cell_type": "code",
   "execution_count": null,
   "metadata": {},
   "outputs": [],
   "source": [
    "if files[\"download_files\"]:\n",
    "    download_url(url=files[\"ibge\"][\"censo\"][\"url\"],\n",
    "                 file_name=files[\"ibge\"][\"censo\"][\"zip_name\"],\n",
    "                 to_path=files[\"ibge\"][\"censo\"][\"output_path\"])\n",
    "    \n",
    "    file_path = files[\"ibge\"][\"censo\"][\"output_path\"] + files[\"ibge\"][\"censo\"][\"zip_name\"]\n",
    "    \n",
    "    extract_zip(file_path=file_path, to_path=files[\"ibge\"][\"censo\"][\"output_path\"])"
   ]
  },
  {
   "cell_type": "markdown",
   "metadata": {},
   "source": [
    "### IBGE Censo 2010 - Shapefile\n",
    "\n",
    "Download and extract"
   ]
  },
  {
   "cell_type": "code",
   "execution_count": null,
   "metadata": {},
   "outputs": [],
   "source": [
    "if files[\"download_files\"]:\n",
    "    download_url(url=files[\"ibge\"][\"shapefile\"][\"url\"],\n",
    "                 file_name=files[\"ibge\"][\"shapefile\"][\"zip_name\"],\n",
    "                 to_path=files[\"ibge\"][\"shapefile\"][\"output_path\"])\n",
    "    \n",
    "    file_path = files[\"ibge\"][\"shapefile\"][\"output_path\"] + files[\"ibge\"][\"shapefile\"][\"zip_name\"]\n",
    "    \n",
    "    extract_zip(file_path=file_path, to_path=files[\"ibge\"][\"shapefile\"][\"output_path\"])"
   ]
  },
  {
   "cell_type": "markdown",
   "metadata": {},
   "source": [
    "### IBGE Censo 2010 - Parameters\n",
    "\n",
    "`ibge_paths` is a dict with file as key and path as value for each file inside IBGE folder."
   ]
  },
  {
   "cell_type": "code",
   "execution_count": null,
   "metadata": {},
   "outputs": [],
   "source": [
    "ibge_path = files[\"ibge\"][\"censo\"][\"output_path\"] + files[\"ibge\"][\"censo\"][\"zip_path\"]\n",
    "ibge_paths = get_files_path(path=ibge_path, file_extension=files[\"ibge\"][\"censo\"][\"ext_files\"])\n",
    "\n",
    "print(\"IBGE Censo files:\", len(ibge_paths))\n",
    "\n",
    "ibge_paths"
   ]
  },
  {
   "cell_type": "code",
   "execution_count": null,
   "metadata": {},
   "outputs": [],
   "source": [
    "shapefile_path = files[\"ibge\"][\"shapefile\"][\"output_path\"] + files[\"ibge\"][\"shapefile\"][\"shp_name\"]\n",
    "shapefile_path"
   ]
  },
  {
   "cell_type": "markdown",
   "metadata": {},
   "source": [
    "---\n",
    "\n",
    "## Load train dataset"
   ]
  },
  {
   "cell_type": "code",
   "execution_count": null,
   "metadata": {},
   "outputs": [],
   "source": [
    "file_path = files[\"train\"][\"output_path\"] + files[\"train\"][\"json_name\"]\n",
    "\n",
    "raw_train = load_json(file_path)\n",
    "\n",
    "print(\"Training set size:\", len(raw_train))"
   ]
  },
  {
   "cell_type": "markdown",
   "metadata": {},
   "source": [
    "### Filtering\n",
    "\n",
    "As requested in project description, we'll only work with `\"APARTMENT\"` items."
   ]
  },
  {
   "cell_type": "code",
   "execution_count": null,
   "metadata": {},
   "outputs": [],
   "source": [
    "raw_train = [item for item in raw_train if item[\"unitTypes\"] in [\"APARTMENT\"]]\n",
    "\n",
    "print(\"Training set size (after filter):\", len(raw_train))"
   ]
  },
  {
   "cell_type": "markdown",
   "metadata": {},
   "source": [
    "### Processing train"
   ]
  },
  {
   "cell_type": "markdown",
   "metadata": {},
   "source": [
    "Convert nested dictionary into flattened dictionary"
   ]
  },
  {
   "cell_type": "code",
   "execution_count": null,
   "metadata": {},
   "outputs": [],
   "source": [
    "%%time\n",
    "raw_train_flatten = [flatten_dict(item) for item in raw_train]"
   ]
  },
  {
   "cell_type": "markdown",
   "metadata": {},
   "source": [
    "Apply processing steps"
   ]
  },
  {
   "cell_type": "code",
   "execution_count": null,
   "metadata": {},
   "outputs": [],
   "source": [
    "train_processed = processing(raw_train_flatten, converted_features, ibge_paths, shapefile_path, censo_config)"
   ]
  },
  {
   "cell_type": "markdown",
   "metadata": {},
   "source": [
    "### Save train dataset"
   ]
  },
  {
   "cell_type": "code",
   "execution_count": null,
   "metadata": {},
   "outputs": [],
   "source": [
    "df_train = pd.DataFrame(train_processed)\n",
    "print(df_train.shape)\n",
    "df_train.head()"
   ]
  },
  {
   "cell_type": "code",
   "execution_count": null,
   "metadata": {},
   "outputs": [],
   "source": [
    "df_train.info()"
   ]
  },
  {
   "cell_type": "code",
   "execution_count": null,
   "metadata": {},
   "outputs": [],
   "source": [
    "df_train.to_feather(processed_files[\"train_path\"])"
   ]
  },
  {
   "cell_type": "markdown",
   "metadata": {},
   "source": [
    "---\n",
    "\n",
    "## Load test dataset"
   ]
  },
  {
   "cell_type": "code",
   "execution_count": null,
   "metadata": {},
   "outputs": [],
   "source": [
    "file_path = files[\"test\"][\"output_path\"] + files[\"test\"][\"json_name\"]\n",
    "\n",
    "raw_test = load_json(file_path)\n",
    "\n",
    "print(\"Test set size:\", len(raw_test))"
   ]
  },
  {
   "cell_type": "markdown",
   "metadata": {},
   "source": [
    "Check for `unitTypes != \"APARTMENT\"`"
   ]
  },
  {
   "cell_type": "code",
   "execution_count": null,
   "metadata": {},
   "outputs": [],
   "source": [
    "wrong_test = []\n",
    "\n",
    "for i in raw_test:\n",
    "    if i[\"unitTypes\"] != \"APARTMENT\":\n",
    "        wrong_test.append(i)\n",
    "\n",
    "wrong_test"
   ]
  },
  {
   "cell_type": "markdown",
   "metadata": {},
   "source": [
    "### Processing test"
   ]
  },
  {
   "cell_type": "markdown",
   "metadata": {},
   "source": [
    "Convert nested dictionary into flattened dictionary"
   ]
  },
  {
   "cell_type": "code",
   "execution_count": null,
   "metadata": {},
   "outputs": [],
   "source": [
    "%%time\n",
    "raw_test_flatten = [flatten_dict(item) for item in raw_test]"
   ]
  },
  {
   "cell_type": "code",
   "execution_count": null,
   "metadata": {},
   "outputs": [],
   "source": [
    "raw_test_flatten[0]"
   ]
  },
  {
   "cell_type": "markdown",
   "metadata": {},
   "source": [
    "Applying processing steps"
   ]
  },
  {
   "cell_type": "code",
   "execution_count": null,
   "metadata": {},
   "outputs": [],
   "source": [
    "%%time\n",
    "test_processed = processing(raw_test_flatten[:2], converted_features, ibge_paths, shapefile_path, censo_config)"
   ]
  },
  {
   "cell_type": "code",
   "execution_count": null,
   "metadata": {},
   "outputs": [],
   "source": [
    "assert len(test_processed) == len(raw_test)"
   ]
  },
  {
   "cell_type": "markdown",
   "metadata": {},
   "source": [
    "### Save test dataset"
   ]
  },
  {
   "cell_type": "code",
   "execution_count": null,
   "metadata": {},
   "outputs": [],
   "source": [
    "df_test = pd.DataFrame(test_processed)\n",
    "print(df_test.shape)\n",
    "df_test.head()"
   ]
  },
  {
   "cell_type": "code",
   "execution_count": null,
   "metadata": {},
   "outputs": [],
   "source": [
    "df_test.info()"
   ]
  },
  {
   "cell_type": "code",
   "execution_count": null,
   "metadata": {},
   "outputs": [],
   "source": [
    "df_test.to_feather(processed_files[\"test_path\"])"
   ]
  }
 ],
 "metadata": {
  "kernelspec": {
   "display_name": "conda_python3",
   "language": "python",
   "name": "conda_python3"
  },
  "language_info": {
   "codemirror_mode": {
    "name": "ipython",
    "version": 3
   },
   "file_extension": ".py",
   "mimetype": "text/x-python",
   "name": "python",
   "nbconvert_exporter": "python",
   "pygments_lexer": "ipython3",
   "version": "3.6.10"
  }
 },
 "nbformat": 4,
 "nbformat_minor": 4
}
