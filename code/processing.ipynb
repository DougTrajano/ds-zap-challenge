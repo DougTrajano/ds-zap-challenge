{
 "cells": [
  {
   "cell_type": "markdown",
   "metadata": {},
   "source": [
    "# Data Science Challange - ZAP\n",
    "\n",
    "Author: [Douglas Trajano](https://dougtrajano.github.io/resume/)\n",
    "\n",
    "## Description\n",
    "\n",
    "This notebooks will download, extract and process raw files (Grupo ZAP, IBGE) and save processed datasets.\n",
    "\n",
    "## ⚠\n",
    "Estimate time to run all this notebook: 7h\n",
    "\n",
    "## Installation\n",
    "\n",
    "Make sure that you have executed the command below in the project's root path.\n",
    "\n",
    "```\n",
    "pip install -r requirements.txt\n",
    "```\n",
    "\n",
    "\n",
    "## Index\n",
    "\n",
    "- [Imports](#Imports)\n",
    "- [Parameters](#Parameters)\n",
    "- [Download and extract zip files](#Download-and-extract-zip-files)\n",
    " - [Train dataset by Grupo ZAP](#Train-dataset-by-Grupo-ZAP)\n",
    " - [IBGE Censo 2010 - Agregados por setor censitário](#IBGE-Censo-2010---Agregados-por-setor-censitário)\n",
    " - [IBGE Censo 2010 - Shapefile](#IBGE-Censo-2010---Shapefile)\n",
    " - [IBGE Censo 2010 - Parameters](#IBGE-Censo-2010---Parameters)\n",
    "- [Load train dataset](#Load-train-dataset)\n",
    " - [Filtering](#Filtering)\n",
    " - [Processing train](#Processing-train)\n",
    " - [Save train dataset](#Save-train-dataset)\n",
    "- [Load test dataset](#Load-test-dataset)\n",
    " - [Processing test](#Processing-test)\n",
    " - [Save test dataset](#Save-test-dataset)"
   ]
  },
  {
   "cell_type": "markdown",
   "metadata": {},
   "source": [
    "## Imports"
   ]
  },
  {
   "cell_type": "code",
   "execution_count": 3,
   "metadata": {},
   "outputs": [],
   "source": [
    "from processing import *\n",
    "import pandas as pd\n",
    "import numpy as np"
   ]
  },
  {
   "cell_type": "markdown",
   "metadata": {},
   "source": [
    "## Parameters"
   ]
  },
  {
   "cell_type": "code",
   "execution_count": 4,
   "metadata": {},
   "outputs": [],
   "source": [
    "files = {\n",
    "    \"train\": {\n",
    "        \"url\": \"https://s3.amazonaws.com/grupozap-data-challenge/data/source-4-ds-train.json.zip\",\n",
    "        \"zip_name\": \"source-4-ds-train.json.zip\",\n",
    "        \"json_name\": \"source-4-ds-train.json\",\n",
    "        \"output_path\": \"../data/raw/\"\n",
    "    },\n",
    "    \"test\": {\n",
    "        \"url\": \"https://s3.amazonaws.com/grupozap-data-challenge/data/source-4-ds-test.json.zip\",\n",
    "        \"zip_name\": \"source-4-ds-test.json.zip\",\n",
    "        \"json_name\": \"source-4-ds-test.json\",\n",
    "        \"output_path\": \"../data/raw/\"\n",
    "    },\n",
    "    \"ibge\": {\n",
    "        \"censo\": {\n",
    "            \"url\": \"https://ftp.ibge.gov.br/Censos/Censo_Demografico_2010/Resultados_do_Universo/Agregados_por_Setores_Censitarios/SP_Capital_20190823.zip\",\n",
    "            \"zip_name\": \"SP_Capital_20190823.zip\",\n",
    "            \"output_path\": \"../data/raw/\",\n",
    "            \"zip_path\": \"Base informaçoes setores2010 universo SP_Capital/CSV\",\n",
    "            \"ext_files\": \".csv\"\n",
    "        },\n",
    "        \"shapefile\": {\n",
    "            \"url\": \"http://geoftp.ibge.gov.br/organizacao_do_territorio/malhas_territoriais/malhas_de_setores_censitarios__divisoes_intramunicipais/censo_2010/setores_censitarios_shp/sp/sp_setores_censitarios.zip\",\n",
    "            \"zip_name\": \"sp_setores_censitarios.zip\",\n",
    "            \"shp_name\": \"33SEE250GC_SIR.shp\",\n",
    "            \"output_path\": \"../data/raw/\"\n",
    "        }\n",
    "    },\n",
    "    \"download_files\": True\n",
    "}\n",
    "\n",
    "\n",
    "converted_features = {\n",
    "    \"pricingInfos_price\": \"price\",\n",
    "    \"pricingInfos_businessType\": \"businessType\",\n",
    "    \"pricingInfos_yearlyIptu\": \"yearlyIptu\",\n",
    "    \"pricingInfos_monthlyCondoFee\": \"monthlyCondoFee\",\n",
    "    \"id\": \"_id\"\n",
    "}\n",
    "\n",
    "censo_config = {\n",
    "    \"DomicilioRenda_SP1.csv\": {\n",
    "        \"V001\": \"total_dom_part_improvisados\",\n",
    "        \"V002\": \"renda_nom_dom_part\",\n",
    "        \"V003\": \"renda_nom_dom_part_perm\",\n",
    "        \"V004\": \"renda_nom_dom_part_imp\",\n",
    "        \"V005\": \"renda_nom_dom_sal_baixo1\",\n",
    "        \"V006\": \"renda_nom_dom_sal_baixo2\",\n",
    "        \"V007\": \"renda_nom_dom_sal_baixo3\",\n",
    "        \"V008\": \"renda_nom_dom_sal_baixo4\",\n",
    "        \"V009\": \"renda_nom_dom_sal_medio1\",\n",
    "        \"V010\": \"renda_nom_dom_sal_medio2\",\n",
    "        \"V011\": \"renda_nom_dom_sal_medio3\",\n",
    "        \"V012\": \"renda_nom_dom_sal_alto1\",\n",
    "        \"V013\": \"renda_nom_dom_sal_alto2\",\n",
    "        \"V014\": \"renda_nom_dom_sem_rendimento\"\n",
    "    },\n",
    "    \"Entorno01_SP1.csv\": {\n",
    "        \"V002\": \"ident_logradouro_proprios\",\n",
    "        \"V003\": \"nao_ident_logradouro_proprios\",\n",
    "        \"V004\": \"ident_logradouro_alugados\",\n",
    "        \"V005\": \"nao_ident_logradouro_alugados\",\n",
    "        \"V008\": \"ilum_publica_proprios\",\n",
    "        \"V009\": \"nao_ilum_publica_proprios\",\n",
    "        \"V010\": \"ilum_publica_alugados\",\n",
    "        \"V011\": \"nao_ilum_publica_alugados\"\n",
    "    }\n",
    "}\n",
    "\n",
    "processed_files = {\n",
    "    \"train_path\": \"../data/processed/train.feather\",\n",
    "    \"test_path\": \"../data/processed/test.feather\"\n",
    "}"
   ]
  },
  {
   "cell_type": "markdown",
   "metadata": {},
   "source": [
    "## Download and extract zip files"
   ]
  },
  {
   "cell_type": "markdown",
   "metadata": {},
   "source": [
    "### Train dataset by Grupo ZAP\n",
    "\n",
    "Download and extract"
   ]
  },
  {
   "cell_type": "code",
   "execution_count": 5,
   "metadata": {},
   "outputs": [],
   "source": [
    "if files[\"download_files\"]:\n",
    "    for file in files:\n",
    "        download_url(url=files[\"train\"][\"url\"], file_name=files[\"train\"][\"zip_name\"],\n",
    "                     to_path=files[\"train\"][\"output_path\"])\n",
    "        \n",
    "        file_path = files[\"train\"][\"output_path\"] + files[\"train\"][\"zip_name\"]\n",
    "        extract_zip(file_path=file_path, to_path=files[\"train\"][\"output_path\"])"
   ]
  },
  {
   "cell_type": "markdown",
   "metadata": {},
   "source": [
    "### Test dataset by Grupo ZAP\n",
    "\n",
    "Download and extract"
   ]
  },
  {
   "cell_type": "code",
   "execution_count": 6,
   "metadata": {},
   "outputs": [],
   "source": [
    "if files[\"download_files\"]:\n",
    "    for file in files:\n",
    "        download_url(url=files[\"test\"][\"url\"], file_name=files[\"test\"][\"zip_name\"],\n",
    "                     to_path=files[\"test\"][\"output_path\"])\n",
    "        \n",
    "        file_path = files[\"test\"][\"output_path\"] + files[\"test\"][\"zip_name\"]\n",
    "        extract_zip(file_path=file_path, to_path=files[\"test\"][\"output_path\"])"
   ]
  },
  {
   "cell_type": "markdown",
   "metadata": {},
   "source": [
    "### IBGE Censo 2010 - Agregados por setor censitário\n",
    "\n",
    "Download and extract"
   ]
  },
  {
   "cell_type": "code",
   "execution_count": 7,
   "metadata": {},
   "outputs": [],
   "source": [
    "if files[\"download_files\"]:\n",
    "    download_url(url=files[\"ibge\"][\"censo\"][\"url\"],\n",
    "                 file_name=files[\"ibge\"][\"censo\"][\"zip_name\"],\n",
    "                 to_path=files[\"ibge\"][\"censo\"][\"output_path\"])\n",
    "    \n",
    "    file_path = files[\"ibge\"][\"censo\"][\"output_path\"] + files[\"ibge\"][\"censo\"][\"zip_name\"]\n",
    "    \n",
    "    extract_zip(file_path=file_path, to_path=files[\"ibge\"][\"censo\"][\"output_path\"])"
   ]
  },
  {
   "cell_type": "markdown",
   "metadata": {},
   "source": [
    "### IBGE Censo 2010 - Shapefile\n",
    "\n",
    "Download and extract"
   ]
  },
  {
   "cell_type": "code",
   "execution_count": 8,
   "metadata": {},
   "outputs": [],
   "source": [
    "if files[\"download_files\"]:\n",
    "    download_url(url=files[\"ibge\"][\"shapefile\"][\"url\"],\n",
    "                 file_name=files[\"ibge\"][\"shapefile\"][\"zip_name\"],\n",
    "                 to_path=files[\"ibge\"][\"shapefile\"][\"output_path\"])\n",
    "    \n",
    "    file_path = files[\"ibge\"][\"shapefile\"][\"output_path\"] + files[\"ibge\"][\"shapefile\"][\"zip_name\"]\n",
    "    \n",
    "    extract_zip(file_path=file_path, to_path=files[\"ibge\"][\"shapefile\"][\"output_path\"])"
   ]
  },
  {
   "cell_type": "markdown",
   "metadata": {},
   "source": [
    "### IBGE Censo 2010 - Parameters\n",
    "\n",
    "`ibge_paths` is a dict with file as key and path as value for each file inside IBGE folder."
   ]
  },
  {
   "cell_type": "code",
   "execution_count": 9,
   "metadata": {},
   "outputs": [
    {
     "name": "stdout",
     "output_type": "stream",
     "text": [
      "IBGE Censo files: 26\n"
     ]
    },
    {
     "data": {
      "text/plain": [
       "{'Pessoa04_SP1.csv': '../data/raw/Base informaçoes setores2010 universo SP_Capital/CSV/Pessoa04_SP1.csv',\n",
       " 'Entorno05_SP1.csv': '../data/raw/Base informaçoes setores2010 universo SP_Capital/CSV/Entorno05_SP1.csv',\n",
       " 'Pessoa02_SP1.csv': '../data/raw/Base informaçoes setores2010 universo SP_Capital/CSV/Pessoa02_SP1.csv',\n",
       " 'Pessoa06_SP1.csv': '../data/raw/Base informaçoes setores2010 universo SP_Capital/CSV/Pessoa06_SP1.csv',\n",
       " 'Basico_SP1.csv': '../data/raw/Base informaçoes setores2010 universo SP_Capital/CSV/Basico_SP1.csv',\n",
       " 'Pessoa08_SP1.csv': '../data/raw/Base informaçoes setores2010 universo SP_Capital/CSV/Pessoa08_SP1.csv',\n",
       " 'Entorno02_SP1.csv': '../data/raw/Base informaçoes setores2010 universo SP_Capital/CSV/Entorno02_SP1.csv',\n",
       " 'Pessoa03_SP1.csv': '../data/raw/Base informaçoes setores2010 universo SP_Capital/CSV/Pessoa03_SP1.csv',\n",
       " 'Pessoa07_SP1.csv': '../data/raw/Base informaçoes setores2010 universo SP_Capital/CSV/Pessoa07_SP1.csv',\n",
       " 'Pessoa05_SP1.csv': '../data/raw/Base informaçoes setores2010 universo SP_Capital/CSV/Pessoa05_SP1.csv',\n",
       " 'DomicilioRenda_SP1.csv': '../data/raw/Base informaçoes setores2010 universo SP_Capital/CSV/DomicilioRenda_SP1.csv',\n",
       " 'Pessoa01_SP1.csv': '../data/raw/Base informaçoes setores2010 universo SP_Capital/CSV/Pessoa01_SP1.csv',\n",
       " 'Entorno04_SP1.csv': '../data/raw/Base informaçoes setores2010 universo SP_Capital/CSV/Entorno04_SP1.csv',\n",
       " 'Pessoa11_SP1.csv': '../data/raw/Base informaçoes setores2010 universo SP_Capital/CSV/Pessoa11_SP1.csv',\n",
       " 'Entorno01_SP1.csv': '../data/raw/Base informaçoes setores2010 universo SP_Capital/CSV/Entorno01_SP1.csv',\n",
       " 'Entorno03_SP1.csv': '../data/raw/Base informaçoes setores2010 universo SP_Capital/CSV/Entorno03_SP1.csv',\n",
       " 'ResponsavelRenda_SP1.csv': '../data/raw/Base informaçoes setores2010 universo SP_Capital/CSV/ResponsavelRenda_SP1.csv',\n",
       " 'Pessoa09_SP1.csv': '../data/raw/Base informaçoes setores2010 universo SP_Capital/CSV/Pessoa09_SP1.csv',\n",
       " 'Pessoa12_SP1.csv': '../data/raw/Base informaçoes setores2010 universo SP_Capital/CSV/Pessoa12_SP1.csv',\n",
       " 'PessoaRenda_SP1.csv': '../data/raw/Base informaçoes setores2010 universo SP_Capital/CSV/PessoaRenda_SP1.csv',\n",
       " 'Responsavel02_SP1.csv': '../data/raw/Base informaçoes setores2010 universo SP_Capital/CSV/Responsavel02_SP1.csv',\n",
       " 'Domicilio01_SP1.csv': '../data/raw/Base informaçoes setores2010 universo SP_Capital/CSV/Domicilio01_SP1.csv',\n",
       " 'Pessoa13_SP1.csv': '../data/raw/Base informaçoes setores2010 universo SP_Capital/CSV/Pessoa13_SP1.csv',\n",
       " 'Domicilio02_SP1.csv': '../data/raw/Base informaçoes setores2010 universo SP_Capital/CSV/Domicilio02_SP1.csv',\n",
       " 'Pessoa10_SP1.csv': '../data/raw/Base informaçoes setores2010 universo SP_Capital/CSV/Pessoa10_SP1.csv',\n",
       " 'Responsavel01_SP.csv': '../data/raw/Base informaçoes setores2010 universo SP_Capital/CSV/Responsavel01_SP.csv'}"
      ]
     },
     "execution_count": 9,
     "metadata": {},
     "output_type": "execute_result"
    }
   ],
   "source": [
    "ibge_path = files[\"ibge\"][\"censo\"][\"output_path\"] + files[\"ibge\"][\"censo\"][\"zip_path\"]\n",
    "ibge_paths = get_files_path(path=ibge_path, file_extension=files[\"ibge\"][\"censo\"][\"ext_files\"])\n",
    "\n",
    "print(\"IBGE Censo files:\", len(ibge_paths))\n",
    "\n",
    "ibge_paths"
   ]
  },
  {
   "cell_type": "code",
   "execution_count": 10,
   "metadata": {},
   "outputs": [
    {
     "data": {
      "text/plain": [
       "'../data/raw/33SEE250GC_SIR.shp'"
      ]
     },
     "execution_count": 10,
     "metadata": {},
     "output_type": "execute_result"
    }
   ],
   "source": [
    "shapefile_path = files[\"ibge\"][\"shapefile\"][\"output_path\"] + files[\"ibge\"][\"shapefile\"][\"shp_name\"]\n",
    "shapefile_path"
   ]
  },
  {
   "cell_type": "markdown",
   "metadata": {},
   "source": [
    "---\n",
    "\n",
    "## Load train dataset"
   ]
  },
  {
   "cell_type": "code",
   "execution_count": 25,
   "metadata": {},
   "outputs": [
    {
     "name": "stdout",
     "output_type": "stream",
     "text": [
      "Training set size: 133964\n"
     ]
    }
   ],
   "source": [
    "file_path = files[\"train\"][\"output_path\"] + files[\"train\"][\"json_name\"]\n",
    "\n",
    "raw_train = load_json(file_path)\n",
    "\n",
    "print(\"Training set size:\", len(raw_train))"
   ]
  },
  {
   "cell_type": "markdown",
   "metadata": {},
   "source": [
    "### Filtering\n",
    "\n",
    "As requested in project description, we'll only work with `\"APARTMENT\"` items."
   ]
  },
  {
   "cell_type": "code",
   "execution_count": 26,
   "metadata": {},
   "outputs": [
    {
     "name": "stdout",
     "output_type": "stream",
     "text": [
      "Training set size (after filter): 72241\n"
     ]
    }
   ],
   "source": [
    "raw_train = [item for item in raw_train if item[\"unitTypes\"] in [\"APARTMENT\"]]\n",
    "\n",
    "print(\"Training set size (after filter):\", len(raw_train))"
   ]
  },
  {
   "cell_type": "markdown",
   "metadata": {},
   "source": [
    "### Processing train"
   ]
  },
  {
   "cell_type": "markdown",
   "metadata": {},
   "source": [
    "Convert nested dictionary into flattened dictionary"
   ]
  },
  {
   "cell_type": "code",
   "execution_count": 27,
   "metadata": {},
   "outputs": [
    {
     "name": "stdout",
     "output_type": "stream",
     "text": [
      "CPU times: user 2.67 s, sys: 0 ns, total: 2.67 s\n",
      "Wall time: 2.67 s\n"
     ]
    }
   ],
   "source": [
    "%%time\n",
    "raw_train_flatten = [flatten_dict(item) for item in raw_train]"
   ]
  },
  {
   "cell_type": "markdown",
   "metadata": {},
   "source": [
    "Apply processing steps"
   ]
  },
  {
   "cell_type": "code",
   "execution_count": 28,
   "metadata": {},
   "outputs": [
    {
     "name": "stderr",
     "output_type": "stream",
     "text": [
      "Processing: 100%|██████████| 72241/72241 [5:32:35<00:00,  3.62it/s]  \n"
     ]
    }
   ],
   "source": [
    "train_processed = processing(raw_train_flatten, converted_features, ibge_paths, shapefile_path, censo_config)"
   ]
  },
  {
   "cell_type": "code",
   "execution_count": 34,
   "metadata": {},
   "outputs": [],
   "source": [
    "assert len(train_processed) == len(raw_train)"
   ]
  },
  {
   "cell_type": "markdown",
   "metadata": {},
   "source": [
    "### Save train dataset"
   ]
  },
  {
   "cell_type": "code",
   "execution_count": 35,
   "metadata": {},
   "outputs": [
    {
     "name": "stdout",
     "output_type": "stream",
     "text": [
      "(72241, 49)\n"
     ]
    },
    {
     "data": {
      "text/html": [
       "<div>\n",
       "<style scoped>\n",
       "    .dataframe tbody tr th:only-of-type {\n",
       "        vertical-align: middle;\n",
       "    }\n",
       "\n",
       "    .dataframe tbody tr th {\n",
       "        vertical-align: top;\n",
       "    }\n",
       "\n",
       "    .dataframe thead th {\n",
       "        text-align: right;\n",
       "    }\n",
       "</style>\n",
       "<table border=\"1\" class=\"dataframe\">\n",
       "  <thead>\n",
       "    <tr style=\"text-align: right;\">\n",
       "      <th></th>\n",
       "      <th>id</th>\n",
       "      <th>usableAreas</th>\n",
       "      <th>parkingSpaces</th>\n",
       "      <th>suites</th>\n",
       "      <th>bathrooms</th>\n",
       "      <th>totalAreas</th>\n",
       "      <th>bedrooms</th>\n",
       "      <th>publicationType</th>\n",
       "      <th>geohash</th>\n",
       "      <th>price</th>\n",
       "      <th>...</th>\n",
       "      <th>renda_nom_dom_sem_rendimento</th>\n",
       "      <th>rural_urbano</th>\n",
       "      <th>ident_logradouro_proprios</th>\n",
       "      <th>nao_ident_logradouro_proprios</th>\n",
       "      <th>ident_logradouro_alugados</th>\n",
       "      <th>nao_ident_logradouro_alugados</th>\n",
       "      <th>ilum_publica_proprios</th>\n",
       "      <th>nao_ilum_publica_proprios</th>\n",
       "      <th>ilum_publica_alugados</th>\n",
       "      <th>nao_ilum_publica_alugados</th>\n",
       "    </tr>\n",
       "  </thead>\n",
       "  <tbody>\n",
       "    <tr>\n",
       "      <th>0</th>\n",
       "      <td>6654d93423</td>\n",
       "      <td>80.0</td>\n",
       "      <td>2.0</td>\n",
       "      <td>1.0</td>\n",
       "      <td>2.0</td>\n",
       "      <td>80.0</td>\n",
       "      <td>3</td>\n",
       "      <td>STANDARD</td>\n",
       "      <td>6gycc8n</td>\n",
       "      <td>739643</td>\n",
       "      <td>...</td>\n",
       "      <td>11.0</td>\n",
       "      <td>None</td>\n",
       "      <td>164.0</td>\n",
       "      <td>0.0</td>\n",
       "      <td>79.0</td>\n",
       "      <td>0.0</td>\n",
       "      <td>164.0</td>\n",
       "      <td>0.0</td>\n",
       "      <td>79.0</td>\n",
       "      <td>0.0</td>\n",
       "    </tr>\n",
       "    <tr>\n",
       "      <th>1</th>\n",
       "      <td>9ffaf676ae</td>\n",
       "      <td>3322.0</td>\n",
       "      <td>5.0</td>\n",
       "      <td>4.0</td>\n",
       "      <td>5.0</td>\n",
       "      <td>332.0</td>\n",
       "      <td>4</td>\n",
       "      <td>STANDARD</td>\n",
       "      <td>6gycf6u</td>\n",
       "      <td>7520099</td>\n",
       "      <td>...</td>\n",
       "      <td>5.0</td>\n",
       "      <td>None</td>\n",
       "      <td>253.0</td>\n",
       "      <td>0.0</td>\n",
       "      <td>25.0</td>\n",
       "      <td>0.0</td>\n",
       "      <td>253.0</td>\n",
       "      <td>0.0</td>\n",
       "      <td>25.0</td>\n",
       "      <td>0.0</td>\n",
       "    </tr>\n",
       "    <tr>\n",
       "      <th>2</th>\n",
       "      <td>f03e22422a</td>\n",
       "      <td>94.0</td>\n",
       "      <td>2.0</td>\n",
       "      <td>0.0</td>\n",
       "      <td>1.0</td>\n",
       "      <td>0.0</td>\n",
       "      <td>3</td>\n",
       "      <td>STANDARD</td>\n",
       "      <td>6gyccwu</td>\n",
       "      <td>630700</td>\n",
       "      <td>...</td>\n",
       "      <td>11.0</td>\n",
       "      <td>None</td>\n",
       "      <td>106.0</td>\n",
       "      <td>0.0</td>\n",
       "      <td>45.0</td>\n",
       "      <td>0.0</td>\n",
       "      <td>106.0</td>\n",
       "      <td>0.0</td>\n",
       "      <td>45.0</td>\n",
       "      <td>0.0</td>\n",
       "    </tr>\n",
       "    <tr>\n",
       "      <th>3</th>\n",
       "      <td>8e1922c386</td>\n",
       "      <td>141.0</td>\n",
       "      <td>2.0</td>\n",
       "      <td>3.0</td>\n",
       "      <td>4.0</td>\n",
       "      <td>141.0</td>\n",
       "      <td>4</td>\n",
       "      <td>PREMIUM</td>\n",
       "      <td>6gycfvw</td>\n",
       "      <td>1106000</td>\n",
       "      <td>...</td>\n",
       "      <td>30.0</td>\n",
       "      <td>None</td>\n",
       "      <td>57.0</td>\n",
       "      <td>0.0</td>\n",
       "      <td>184.0</td>\n",
       "      <td>0.0</td>\n",
       "      <td>57.0</td>\n",
       "      <td>0.0</td>\n",
       "      <td>184.0</td>\n",
       "      <td>0.0</td>\n",
       "    </tr>\n",
       "    <tr>\n",
       "      <th>4</th>\n",
       "      <td>690407f653</td>\n",
       "      <td>188.0</td>\n",
       "      <td>3.0</td>\n",
       "      <td>4.0</td>\n",
       "      <td>0.0</td>\n",
       "      <td>188.0</td>\n",
       "      <td>4</td>\n",
       "      <td>STANDARD</td>\n",
       "      <td>6gyc896</td>\n",
       "      <td>910000</td>\n",
       "      <td>...</td>\n",
       "      <td>2.0</td>\n",
       "      <td>None</td>\n",
       "      <td>92.0</td>\n",
       "      <td>0.0</td>\n",
       "      <td>19.0</td>\n",
       "      <td>0.0</td>\n",
       "      <td>92.0</td>\n",
       "      <td>0.0</td>\n",
       "      <td>19.0</td>\n",
       "      <td>0.0</td>\n",
       "    </tr>\n",
       "  </tbody>\n",
       "</table>\n",
       "<p>5 rows × 49 columns</p>\n",
       "</div>"
      ],
      "text/plain": [
       "           id  usableAreas  parkingSpaces  suites  bathrooms  totalAreas  \\\n",
       "0  6654d93423         80.0            2.0     1.0        2.0        80.0   \n",
       "1  9ffaf676ae       3322.0            5.0     4.0        5.0       332.0   \n",
       "2  f03e22422a         94.0            2.0     0.0        1.0         0.0   \n",
       "3  8e1922c386        141.0            2.0     3.0        4.0       141.0   \n",
       "4  690407f653        188.0            3.0     4.0        0.0       188.0   \n",
       "\n",
       "   bedrooms publicationType  geohash    price  ...  \\\n",
       "0         3        STANDARD  6gycc8n   739643  ...   \n",
       "1         4        STANDARD  6gycf6u  7520099  ...   \n",
       "2         3        STANDARD  6gyccwu   630700  ...   \n",
       "3         4         PREMIUM  6gycfvw  1106000  ...   \n",
       "4         4        STANDARD  6gyc896   910000  ...   \n",
       "\n",
       "  renda_nom_dom_sem_rendimento  rural_urbano  ident_logradouro_proprios  \\\n",
       "0                         11.0          None                      164.0   \n",
       "1                          5.0          None                      253.0   \n",
       "2                         11.0          None                      106.0   \n",
       "3                         30.0          None                       57.0   \n",
       "4                          2.0          None                       92.0   \n",
       "\n",
       "   nao_ident_logradouro_proprios  ident_logradouro_alugados  \\\n",
       "0                            0.0                       79.0   \n",
       "1                            0.0                       25.0   \n",
       "2                            0.0                       45.0   \n",
       "3                            0.0                      184.0   \n",
       "4                            0.0                       19.0   \n",
       "\n",
       "   nao_ident_logradouro_alugados  ilum_publica_proprios  \\\n",
       "0                            0.0                  164.0   \n",
       "1                            0.0                  253.0   \n",
       "2                            0.0                  106.0   \n",
       "3                            0.0                   57.0   \n",
       "4                            0.0                   92.0   \n",
       "\n",
       "   nao_ilum_publica_proprios  ilum_publica_alugados  nao_ilum_publica_alugados  \n",
       "0                        0.0                   79.0                        0.0  \n",
       "1                        0.0                   25.0                        0.0  \n",
       "2                        0.0                   45.0                        0.0  \n",
       "3                        0.0                  184.0                        0.0  \n",
       "4                        0.0                   19.0                        0.0  \n",
       "\n",
       "[5 rows x 49 columns]"
      ]
     },
     "execution_count": 35,
     "metadata": {},
     "output_type": "execute_result"
    }
   ],
   "source": [
    "df_train = pd.DataFrame(train_processed)\n",
    "print(df_train.shape)\n",
    "df_train.head()"
   ]
  },
  {
   "cell_type": "code",
   "execution_count": 36,
   "metadata": {},
   "outputs": [
    {
     "name": "stdout",
     "output_type": "stream",
     "text": [
      "<class 'pandas.core.frame.DataFrame'>\n",
      "RangeIndex: 72241 entries, 0 to 72240\n",
      "Data columns (total 49 columns):\n",
      " #   Column                         Non-Null Count  Dtype  \n",
      "---  ------                         --------------  -----  \n",
      " 0   id                             72241 non-null  object \n",
      " 1   usableAreas                    72231 non-null  float64\n",
      " 2   parkingSpaces                  71019 non-null  float64\n",
      " 3   suites                         66274 non-null  float64\n",
      " 4   bathrooms                      72240 non-null  float64\n",
      " 5   totalAreas                     43864 non-null  float64\n",
      " 6   bedrooms                       72241 non-null  int64  \n",
      " 7   publicationType                72241 non-null  object \n",
      " 8   geohash                        72231 non-null  object \n",
      " 9   price                          72241 non-null  int64  \n",
      " 10  businessType                   72241 non-null  object \n",
      " 11  yearlyIptu                     62236 non-null  float64\n",
      " 12  monthlyCondoFee                68461 non-null  float64\n",
      " 13  has_gym                        72241 non-null  bool   \n",
      " 14  has_garden                     72241 non-null  bool   \n",
      " 15  has_pool                       72241 non-null  bool   \n",
      " 16  has_lobby                      72241 non-null  bool   \n",
      " 17  has_partyRoom                  72241 non-null  bool   \n",
      " 18  has_balcony                    72241 non-null  bool   \n",
      " 19  has_playground                 72241 non-null  bool   \n",
      " 20  has_grill                      72241 non-null  bool   \n",
      " 21  has_games                      72241 non-null  bool   \n",
      " 22  has_closet                     72241 non-null  bool   \n",
      " 23  has_elevator                   72241 non-null  bool   \n",
      " 24  has_furnitures                 72241 non-null  bool   \n",
      " 25  has_toilet                     72241 non-null  bool   \n",
      " 26  total_dom_part_improvisados    71700 non-null  float64\n",
      " 27  renda_nom_dom_part             71700 non-null  float64\n",
      " 28  renda_nom_dom_part_perm        71700 non-null  float64\n",
      " 29  renda_nom_dom_part_imp         71700 non-null  float64\n",
      " 30  renda_nom_dom_sal_baixo1       71700 non-null  float64\n",
      " 31  renda_nom_dom_sal_baixo2       71700 non-null  float64\n",
      " 32  renda_nom_dom_sal_baixo3       71700 non-null  float64\n",
      " 33  renda_nom_dom_sal_baixo4       71700 non-null  float64\n",
      " 34  renda_nom_dom_sal_medio1       71700 non-null  float64\n",
      " 35  renda_nom_dom_sal_medio2       71700 non-null  float64\n",
      " 36  renda_nom_dom_sal_medio3       71700 non-null  float64\n",
      " 37  renda_nom_dom_sal_alto1        71700 non-null  float64\n",
      " 38  renda_nom_dom_sal_alto2        71700 non-null  float64\n",
      " 39  renda_nom_dom_sem_rendimento   71700 non-null  float64\n",
      " 40  rural_urbano                   0 non-null      object \n",
      " 41  ident_logradouro_proprios      71700 non-null  float64\n",
      " 42  nao_ident_logradouro_proprios  71700 non-null  float64\n",
      " 43  ident_logradouro_alugados      71700 non-null  float64\n",
      " 44  nao_ident_logradouro_alugados  71700 non-null  float64\n",
      " 45  ilum_publica_proprios          71700 non-null  float64\n",
      " 46  nao_ilum_publica_proprios      71700 non-null  float64\n",
      " 47  ilum_publica_alugados          71700 non-null  float64\n",
      " 48  nao_ilum_publica_alugados      71700 non-null  float64\n",
      "dtypes: bool(13), float64(29), int64(2), object(5)\n",
      "memory usage: 20.7+ MB\n"
     ]
    }
   ],
   "source": [
    "df_train.info()"
   ]
  },
  {
   "cell_type": "code",
   "execution_count": 37,
   "metadata": {},
   "outputs": [],
   "source": [
    "df_train.to_feather(processed_files[\"train_path\"])"
   ]
  },
  {
   "cell_type": "markdown",
   "metadata": {},
   "source": [
    "---\n",
    "\n",
    "## Load test dataset"
   ]
  },
  {
   "cell_type": "code",
   "execution_count": 11,
   "metadata": {},
   "outputs": [
    {
     "name": "stdout",
     "output_type": "stream",
     "text": [
      "Test set size: 16036\n"
     ]
    }
   ],
   "source": [
    "file_path = files[\"test\"][\"output_path\"] + files[\"test\"][\"json_name\"]\n",
    "\n",
    "raw_test = load_json(file_path)\n",
    "\n",
    "print(\"Test set size:\", len(raw_test))"
   ]
  },
  {
   "cell_type": "markdown",
   "metadata": {},
   "source": [
    "Check for `unitTypes != \"APARTMENT\"`"
   ]
  },
  {
   "cell_type": "code",
   "execution_count": 12,
   "metadata": {},
   "outputs": [
    {
     "data": {
      "text/plain": [
       "[]"
      ]
     },
     "execution_count": 12,
     "metadata": {},
     "output_type": "execute_result"
    }
   ],
   "source": [
    "wrong_test = []\n",
    "\n",
    "for i in raw_test:\n",
    "    if i[\"unitTypes\"] != \"APARTMENT\":\n",
    "        wrong_test.append(i)\n",
    "\n",
    "wrong_test"
   ]
  },
  {
   "cell_type": "markdown",
   "metadata": {},
   "source": [
    "### Processing test"
   ]
  },
  {
   "cell_type": "markdown",
   "metadata": {},
   "source": [
    "Convert nested dictionary into flattened dictionary"
   ]
  },
  {
   "cell_type": "code",
   "execution_count": 13,
   "metadata": {},
   "outputs": [
    {
     "name": "stdout",
     "output_type": "stream",
     "text": [
      "CPU times: user 459 ms, sys: 13 ms, total: 472 ms\n",
      "Wall time: 471 ms\n"
     ]
    }
   ],
   "source": [
    "%%time\n",
    "raw_test_flatten = [flatten_dict(item) for item in raw_test]"
   ]
  },
  {
   "cell_type": "markdown",
   "metadata": {},
   "source": [
    "Applying processing steps"
   ]
  },
  {
   "cell_type": "code",
   "execution_count": null,
   "metadata": {},
   "outputs": [
    {
     "name": "stderr",
     "output_type": "stream",
     "text": [
      "Processing: 100%|██████████| 16036/16036 [1:09:51<00:00,  3.83it/s]"
     ]
    },
    {
     "name": "stdout",
     "output_type": "stream",
     "text": [
      "CPU times: user 1h 9min 42s, sys: 5.6 s, total: 1h 9min 48s\n",
      "Wall time: 1h 9min 57s\n"
     ]
    },
    {
     "name": "stderr",
     "output_type": "stream",
     "text": [
      "\n"
     ]
    }
   ],
   "source": [
    "%%time\n",
    "test_processed = processing(raw_test_flatten, converted_features, ibge_paths, shapefile_path, censo_config)"
   ]
  },
  {
   "cell_type": "code",
   "execution_count": 21,
   "metadata": {},
   "outputs": [],
   "source": [
    "assert len(test_processed) == len(raw_test)"
   ]
  },
  {
   "cell_type": "markdown",
   "metadata": {},
   "source": [
    "### Save test dataset"
   ]
  },
  {
   "cell_type": "code",
   "execution_count": 22,
   "metadata": {},
   "outputs": [
    {
     "name": "stdout",
     "output_type": "stream",
     "text": [
      "(16036, 49)\n"
     ]
    },
    {
     "data": {
      "text/html": [
       "<div>\n",
       "<style scoped>\n",
       "    .dataframe tbody tr th:only-of-type {\n",
       "        vertical-align: middle;\n",
       "    }\n",
       "\n",
       "    .dataframe tbody tr th {\n",
       "        vertical-align: top;\n",
       "    }\n",
       "\n",
       "    .dataframe thead th {\n",
       "        text-align: right;\n",
       "    }\n",
       "</style>\n",
       "<table border=\"1\" class=\"dataframe\">\n",
       "  <thead>\n",
       "    <tr style=\"text-align: right;\">\n",
       "      <th></th>\n",
       "      <th>id</th>\n",
       "      <th>usableAreas</th>\n",
       "      <th>parkingSpaces</th>\n",
       "      <th>suites</th>\n",
       "      <th>bathrooms</th>\n",
       "      <th>totalAreas</th>\n",
       "      <th>bedrooms</th>\n",
       "      <th>publicationType</th>\n",
       "      <th>geohash</th>\n",
       "      <th>price</th>\n",
       "      <th>...</th>\n",
       "      <th>renda_nom_dom_sem_rendimento</th>\n",
       "      <th>rural_urbano</th>\n",
       "      <th>ident_logradouro_proprios</th>\n",
       "      <th>nao_ident_logradouro_proprios</th>\n",
       "      <th>ident_logradouro_alugados</th>\n",
       "      <th>nao_ident_logradouro_alugados</th>\n",
       "      <th>ilum_publica_proprios</th>\n",
       "      <th>nao_ilum_publica_proprios</th>\n",
       "      <th>ilum_publica_alugados</th>\n",
       "      <th>nao_ilum_publica_alugados</th>\n",
       "    </tr>\n",
       "  </thead>\n",
       "  <tbody>\n",
       "    <tr>\n",
       "      <th>0</th>\n",
       "      <td>89224365f8</td>\n",
       "      <td>47.0</td>\n",
       "      <td>1.0</td>\n",
       "      <td>0.0</td>\n",
       "      <td>1.0</td>\n",
       "      <td>47.0</td>\n",
       "      <td>1</td>\n",
       "      <td>STANDARD</td>\n",
       "      <td>6gycfpt</td>\n",
       "      <td>None</td>\n",
       "      <td>...</td>\n",
       "      <td>18.0</td>\n",
       "      <td>None</td>\n",
       "      <td>92.0</td>\n",
       "      <td>25.0</td>\n",
       "      <td>73.0</td>\n",
       "      <td>5.0</td>\n",
       "      <td>117.0</td>\n",
       "      <td>0.0</td>\n",
       "      <td>78.0</td>\n",
       "      <td>0.0</td>\n",
       "    </tr>\n",
       "    <tr>\n",
       "      <th>1</th>\n",
       "      <td>363731333f</td>\n",
       "      <td>55.0</td>\n",
       "      <td>1.0</td>\n",
       "      <td>0.0</td>\n",
       "      <td>0.0</td>\n",
       "      <td>55.0</td>\n",
       "      <td>2</td>\n",
       "      <td>STANDARD</td>\n",
       "      <td>6gycu10</td>\n",
       "      <td>None</td>\n",
       "      <td>...</td>\n",
       "      <td>5.0</td>\n",
       "      <td>None</td>\n",
       "      <td>306.0</td>\n",
       "      <td>15.0</td>\n",
       "      <td>40.0</td>\n",
       "      <td>3.0</td>\n",
       "      <td>321.0</td>\n",
       "      <td>0.0</td>\n",
       "      <td>43.0</td>\n",
       "      <td>0.0</td>\n",
       "    </tr>\n",
       "    <tr>\n",
       "      <th>2</th>\n",
       "      <td>6e6283378a</td>\n",
       "      <td>92.0</td>\n",
       "      <td>2.0</td>\n",
       "      <td>1.0</td>\n",
       "      <td>3.0</td>\n",
       "      <td>NaN</td>\n",
       "      <td>3</td>\n",
       "      <td>STANDARD</td>\n",
       "      <td>6gyf6en</td>\n",
       "      <td>None</td>\n",
       "      <td>...</td>\n",
       "      <td>11.0</td>\n",
       "      <td>None</td>\n",
       "      <td>85.0</td>\n",
       "      <td>0.0</td>\n",
       "      <td>35.0</td>\n",
       "      <td>0.0</td>\n",
       "      <td>85.0</td>\n",
       "      <td>0.0</td>\n",
       "      <td>35.0</td>\n",
       "      <td>0.0</td>\n",
       "    </tr>\n",
       "    <tr>\n",
       "      <th>3</th>\n",
       "      <td>4c29a27f44</td>\n",
       "      <td>145.0</td>\n",
       "      <td>3.0</td>\n",
       "      <td>3.0</td>\n",
       "      <td>4.0</td>\n",
       "      <td>145.0</td>\n",
       "      <td>3</td>\n",
       "      <td>STANDARD</td>\n",
       "      <td>6gyc9wk</td>\n",
       "      <td>None</td>\n",
       "      <td>...</td>\n",
       "      <td>12.0</td>\n",
       "      <td>None</td>\n",
       "      <td>148.0</td>\n",
       "      <td>0.0</td>\n",
       "      <td>45.0</td>\n",
       "      <td>0.0</td>\n",
       "      <td>114.0</td>\n",
       "      <td>34.0</td>\n",
       "      <td>39.0</td>\n",
       "      <td>6.0</td>\n",
       "    </tr>\n",
       "    <tr>\n",
       "      <th>4</th>\n",
       "      <td>7b16cf224b</td>\n",
       "      <td>76.0</td>\n",
       "      <td>1.0</td>\n",
       "      <td>1.0</td>\n",
       "      <td>2.0</td>\n",
       "      <td>76.0</td>\n",
       "      <td>2</td>\n",
       "      <td>STANDARD</td>\n",
       "      <td>6gyf0fx</td>\n",
       "      <td>None</td>\n",
       "      <td>...</td>\n",
       "      <td>14.0</td>\n",
       "      <td>None</td>\n",
       "      <td>120.0</td>\n",
       "      <td>0.0</td>\n",
       "      <td>27.0</td>\n",
       "      <td>0.0</td>\n",
       "      <td>120.0</td>\n",
       "      <td>0.0</td>\n",
       "      <td>27.0</td>\n",
       "      <td>0.0</td>\n",
       "    </tr>\n",
       "  </tbody>\n",
       "</table>\n",
       "<p>5 rows × 49 columns</p>\n",
       "</div>"
      ],
      "text/plain": [
       "           id  usableAreas  parkingSpaces  suites  bathrooms  totalAreas  \\\n",
       "0  89224365f8         47.0            1.0     0.0        1.0        47.0   \n",
       "1  363731333f         55.0            1.0     0.0        0.0        55.0   \n",
       "2  6e6283378a         92.0            2.0     1.0        3.0         NaN   \n",
       "3  4c29a27f44        145.0            3.0     3.0        4.0       145.0   \n",
       "4  7b16cf224b         76.0            1.0     1.0        2.0        76.0   \n",
       "\n",
       "   bedrooms publicationType  geohash price  ... renda_nom_dom_sem_rendimento  \\\n",
       "0         1        STANDARD  6gycfpt  None  ...                         18.0   \n",
       "1         2        STANDARD  6gycu10  None  ...                          5.0   \n",
       "2         3        STANDARD  6gyf6en  None  ...                         11.0   \n",
       "3         3        STANDARD  6gyc9wk  None  ...                         12.0   \n",
       "4         2        STANDARD  6gyf0fx  None  ...                         14.0   \n",
       "\n",
       "   rural_urbano  ident_logradouro_proprios  nao_ident_logradouro_proprios  \\\n",
       "0          None                       92.0                           25.0   \n",
       "1          None                      306.0                           15.0   \n",
       "2          None                       85.0                            0.0   \n",
       "3          None                      148.0                            0.0   \n",
       "4          None                      120.0                            0.0   \n",
       "\n",
       "   ident_logradouro_alugados  nao_ident_logradouro_alugados  \\\n",
       "0                       73.0                            5.0   \n",
       "1                       40.0                            3.0   \n",
       "2                       35.0                            0.0   \n",
       "3                       45.0                            0.0   \n",
       "4                       27.0                            0.0   \n",
       "\n",
       "   ilum_publica_proprios  nao_ilum_publica_proprios  ilum_publica_alugados  \\\n",
       "0                  117.0                        0.0                   78.0   \n",
       "1                  321.0                        0.0                   43.0   \n",
       "2                   85.0                        0.0                   35.0   \n",
       "3                  114.0                       34.0                   39.0   \n",
       "4                  120.0                        0.0                   27.0   \n",
       "\n",
       "   nao_ilum_publica_alugados  \n",
       "0                        0.0  \n",
       "1                        0.0  \n",
       "2                        0.0  \n",
       "3                        6.0  \n",
       "4                        0.0  \n",
       "\n",
       "[5 rows x 49 columns]"
      ]
     },
     "execution_count": 22,
     "metadata": {},
     "output_type": "execute_result"
    }
   ],
   "source": [
    "df_test = pd.DataFrame(test_processed)\n",
    "print(df_test.shape)\n",
    "df_test.head()"
   ]
  },
  {
   "cell_type": "code",
   "execution_count": 23,
   "metadata": {},
   "outputs": [
    {
     "name": "stdout",
     "output_type": "stream",
     "text": [
      "<class 'pandas.core.frame.DataFrame'>\n",
      "RangeIndex: 16036 entries, 0 to 16035\n",
      "Data columns (total 49 columns):\n",
      " #   Column                         Non-Null Count  Dtype  \n",
      "---  ------                         --------------  -----  \n",
      " 0   id                             16036 non-null  object \n",
      " 1   usableAreas                    16029 non-null  float64\n",
      " 2   parkingSpaces                  15772 non-null  float64\n",
      " 3   suites                         14641 non-null  float64\n",
      " 4   bathrooms                      16035 non-null  float64\n",
      " 5   totalAreas                     9942 non-null   float64\n",
      " 6   bedrooms                       16036 non-null  int64  \n",
      " 7   publicationType                16036 non-null  object \n",
      " 8   geohash                        16031 non-null  object \n",
      " 9   price                          0 non-null      object \n",
      " 10  businessType                   16036 non-null  object \n",
      " 11  yearlyIptu                     13639 non-null  float64\n",
      " 12  monthlyCondoFee                15100 non-null  float64\n",
      " 13  has_gym                        16036 non-null  bool   \n",
      " 14  has_garden                     16036 non-null  bool   \n",
      " 15  has_pool                       16036 non-null  bool   \n",
      " 16  has_lobby                      16036 non-null  bool   \n",
      " 17  has_partyRoom                  16036 non-null  bool   \n",
      " 18  has_balcony                    16036 non-null  bool   \n",
      " 19  has_playground                 16036 non-null  bool   \n",
      " 20  has_grill                      16036 non-null  bool   \n",
      " 21  has_games                      16036 non-null  bool   \n",
      " 22  has_closet                     16036 non-null  bool   \n",
      " 23  has_elevator                   16036 non-null  bool   \n",
      " 24  has_furnitures                 16036 non-null  bool   \n",
      " 25  has_toilet                     16036 non-null  bool   \n",
      " 26  total_dom_part_improvisados    15902 non-null  float64\n",
      " 27  renda_nom_dom_part             15902 non-null  float64\n",
      " 28  renda_nom_dom_part_perm        15902 non-null  float64\n",
      " 29  renda_nom_dom_part_imp         15902 non-null  float64\n",
      " 30  renda_nom_dom_sal_baixo1       15902 non-null  float64\n",
      " 31  renda_nom_dom_sal_baixo2       15902 non-null  float64\n",
      " 32  renda_nom_dom_sal_baixo3       15902 non-null  float64\n",
      " 33  renda_nom_dom_sal_baixo4       15902 non-null  float64\n",
      " 34  renda_nom_dom_sal_medio1       15902 non-null  float64\n",
      " 35  renda_nom_dom_sal_medio2       15902 non-null  float64\n",
      " 36  renda_nom_dom_sal_medio3       15902 non-null  float64\n",
      " 37  renda_nom_dom_sal_alto1        15902 non-null  float64\n",
      " 38  renda_nom_dom_sal_alto2        15902 non-null  float64\n",
      " 39  renda_nom_dom_sem_rendimento   15902 non-null  float64\n",
      " 40  rural_urbano                   0 non-null      object \n",
      " 41  ident_logradouro_proprios      15902 non-null  float64\n",
      " 42  nao_ident_logradouro_proprios  15902 non-null  float64\n",
      " 43  ident_logradouro_alugados      15902 non-null  float64\n",
      " 44  nao_ident_logradouro_alugados  15902 non-null  float64\n",
      " 45  ilum_publica_proprios          15902 non-null  float64\n",
      " 46  nao_ilum_publica_proprios      15902 non-null  float64\n",
      " 47  ilum_publica_alugados          15902 non-null  float64\n",
      " 48  nao_ilum_publica_alugados      15902 non-null  float64\n",
      "dtypes: bool(13), float64(29), int64(1), object(6)\n",
      "memory usage: 4.6+ MB\n"
     ]
    }
   ],
   "source": [
    "df_test.info()"
   ]
  },
  {
   "cell_type": "code",
   "execution_count": 24,
   "metadata": {},
   "outputs": [],
   "source": [
    "df_test.to_feather(processed_files[\"test_path\"])"
   ]
  }
 ],
 "metadata": {
  "kernelspec": {
   "display_name": "conda_python3",
   "language": "python",
   "name": "conda_python3"
  },
  "language_info": {
   "codemirror_mode": {
    "name": "ipython",
    "version": 3
   },
   "file_extension": ".py",
   "mimetype": "text/x-python",
   "name": "python",
   "nbconvert_exporter": "python",
   "pygments_lexer": "ipython3",
   "version": "3.6.10"
  }
 },
 "nbformat": 4,
 "nbformat_minor": 4
}
