{
 "cells": [
  {
   "cell_type": "markdown",
   "metadata": {},
   "source": [
    "# Modeling\n",
    "\n",
    "## Description\n",
    "\n",
    "This notebook will prepare final dataset based on processed files and training a regression model.\n",
    "\n",
    "## Installation\n",
    "\n",
    "Make sure that you have executed the command below in the project's root path.\n",
    "\n",
    "```\n",
    "pip install -r requirements.txt\n",
    "```\n",
    "\n",
    "## Index\n",
    "\n",
    "- [Imports](#Imports)\n",
    "- [Parameters](#Parameters)\n",
    "- [Load train dataset](#Load-train-dataset)\n",
    "- [Prepare dataset](#Prepare-dataset)\n",
    "- [Training-XGBRegressor](#Training-XGBRegressor)\n",
    " - [Baseline](#Baseline)\n",
    " - [Feature importances](#Feature-importances)\n",
    " - [Hyperparameter optimization](#Hyperparameter-optimization)\n",
    " - [Cross validation](#Cross-validation)\n",
    "- [Evaluate trained model](#Evaluate-trained-model)\n",
    " - [Check some predictions](#Check-some-predictions)\n",
    " - [Price range score](#Price-range-score)\n",
    " - [Score by price_range](#Score-by-price_ranges)\n",
    "- [Save trained model](#Save-trained-model)\n",
    "- [Predict test dataset](#Predict-test-dataset)\n",
    " - [Save predictions.csv](#Save-predictions.csv)"
   ]
  },
  {
   "cell_type": "markdown",
   "metadata": {},
   "source": [
    "# Imports\n",
    "\n",
    "All custom functions are stored on [modeling.py](modeling.py)."
   ]
  },
  {
   "cell_type": "code",
   "execution_count": 3,
   "metadata": {},
   "outputs": [],
   "source": [
    "from modeling import *\n",
    "import pandas as pd\n",
    "import numpy as np\n",
    "import plotly.express as px\n",
    "\n",
    "from sklearn.metrics import mean_squared_error\n",
    "from sklearn.model_selection import train_test_split\n",
    "from sklearn.model_selection import cross_val_score\n",
    "from sklearn.model_selection import GridSearchCV\n",
    "from xgboost.sklearn import XGBRegressor\n",
    "from skopt import BayesSearchCV\n",
    "from skopt.space import Real, Categorical, Integer"
   ]
  },
  {
   "cell_type": "markdown",
   "metadata": {},
   "source": [
    "# Parameters"
   ]
  },
  {
   "cell_type": "code",
   "execution_count": 25,
   "metadata": {},
   "outputs": [],
   "source": [
    "target_col = \"price\"\n",
    "\n",
    "invalid_cols = [\"id\", \"has_elevator\", \"rural_urbano\"]\n",
    "invalid_cols.append(target_col)\n",
    "\n",
    "seed = 1993\n",
    "\n",
    "np.random.seed(seed)\n",
    "\n",
    "knn_n = 500\n",
    "\n",
    "geohash_delimiters = [5]"
   ]
  },
  {
   "cell_type": "markdown",
   "metadata": {},
   "source": [
    "# Load train dataset"
   ]
  },
  {
   "cell_type": "code",
   "execution_count": 26,
   "metadata": {},
   "outputs": [
    {
     "name": "stdout",
     "output_type": "stream",
     "text": [
      "(72241, 49)\n"
     ]
    }
   ],
   "source": [
    "df_train = pd.read_feather(\"../data/processed/train.feather\")\n",
    "print(df_train.shape)"
   ]
  },
  {
   "cell_type": "code",
   "execution_count": 27,
   "metadata": {},
   "outputs": [
    {
     "name": "stdout",
     "output_type": "stream",
     "text": [
      "<class 'pandas.core.frame.DataFrame'>\n",
      "RangeIndex: 72241 entries, 0 to 72240\n",
      "Data columns (total 49 columns):\n",
      " #   Column                         Non-Null Count  Dtype  \n",
      "---  ------                         --------------  -----  \n",
      " 0   id                             72241 non-null  object \n",
      " 1   usableAreas                    72231 non-null  float64\n",
      " 2   parkingSpaces                  71019 non-null  float64\n",
      " 3   suites                         66274 non-null  float64\n",
      " 4   bathrooms                      72240 non-null  float64\n",
      " 5   totalAreas                     43864 non-null  float64\n",
      " 6   bedrooms                       72241 non-null  int64  \n",
      " 7   publicationType                72241 non-null  object \n",
      " 8   geohash                        72231 non-null  object \n",
      " 9   price                          72241 non-null  int64  \n",
      " 10  businessType                   72241 non-null  object \n",
      " 11  yearlyIptu                     62236 non-null  float64\n",
      " 12  monthlyCondoFee                68461 non-null  float64\n",
      " 13  has_gym                        72241 non-null  bool   \n",
      " 14  has_garden                     72241 non-null  bool   \n",
      " 15  has_pool                       72241 non-null  bool   \n",
      " 16  has_lobby                      72241 non-null  bool   \n",
      " 17  has_partyRoom                  72241 non-null  bool   \n",
      " 18  has_balcony                    72241 non-null  bool   \n",
      " 19  has_playground                 72241 non-null  bool   \n",
      " 20  has_grill                      72241 non-null  bool   \n",
      " 21  has_games                      72241 non-null  bool   \n",
      " 22  has_closet                     72241 non-null  bool   \n",
      " 23  has_elevator                   72241 non-null  bool   \n",
      " 24  has_furnitures                 72241 non-null  bool   \n",
      " 25  has_toilet                     72241 non-null  bool   \n",
      " 26  total_dom_part_improvisados    71700 non-null  float64\n",
      " 27  renda_nom_dom_part             71700 non-null  float64\n",
      " 28  renda_nom_dom_part_perm        71700 non-null  float64\n",
      " 29  renda_nom_dom_part_imp         71700 non-null  float64\n",
      " 30  renda_nom_dom_sal_baixo1       71700 non-null  float64\n",
      " 31  renda_nom_dom_sal_baixo2       71700 non-null  float64\n",
      " 32  renda_nom_dom_sal_baixo3       71700 non-null  float64\n",
      " 33  renda_nom_dom_sal_baixo4       71700 non-null  float64\n",
      " 34  renda_nom_dom_sal_medio1       71700 non-null  float64\n",
      " 35  renda_nom_dom_sal_medio2       71700 non-null  float64\n",
      " 36  renda_nom_dom_sal_medio3       71700 non-null  float64\n",
      " 37  renda_nom_dom_sal_alto1        71700 non-null  float64\n",
      " 38  renda_nom_dom_sal_alto2        71700 non-null  float64\n",
      " 39  renda_nom_dom_sem_rendimento   71700 non-null  float64\n",
      " 40  rural_urbano                   0 non-null      object \n",
      " 41  ident_logradouro_proprios      71700 non-null  float64\n",
      " 42  nao_ident_logradouro_proprios  71700 non-null  float64\n",
      " 43  ident_logradouro_alugados      71700 non-null  float64\n",
      " 44  nao_ident_logradouro_alugados  71700 non-null  float64\n",
      " 45  ilum_publica_proprios          71700 non-null  float64\n",
      " 46  nao_ilum_publica_proprios      71700 non-null  float64\n",
      " 47  ilum_publica_alugados          71700 non-null  float64\n",
      " 48  nao_ilum_publica_alugados      71700 non-null  float64\n",
      "dtypes: bool(13), float64(29), int64(2), object(5)\n",
      "memory usage: 20.7+ MB\n"
     ]
    }
   ],
   "source": [
    "df_train.info()"
   ]
  },
  {
   "cell_type": "markdown",
   "metadata": {},
   "source": [
    "# Prepare dataset\n",
    "\n",
    "To prepare dataset, we'll split into X and Y, then, we'll apply `prep_modeling()` individually to avoid escaping data from validation to training dataset."
   ]
  },
  {
   "cell_type": "code",
   "execution_count": 28,
   "metadata": {},
   "outputs": [],
   "source": [
    "y = df_train[target_col].values\n",
    "X = df_train.drop(columns=[target_col])"
   ]
  },
  {
   "cell_type": "markdown",
   "metadata": {},
   "source": [
    "To stratify the train test split I decided to use a quantile-based discretization function."
   ]
  },
  {
   "cell_type": "code",
   "execution_count": 29,
   "metadata": {},
   "outputs": [
    {
     "name": "stdout",
     "output_type": "stream",
     "text": [
      "(48401, 48)\n",
      "(23840, 48)\n"
     ]
    }
   ],
   "source": [
    "X_train, X_test, y_train, y_test = train_test_split(X, y, test_size=0.33, random_state=seed,\n",
    "                                                    stratify=pd.qcut(y, q=20))\n",
    "\n",
    "print(X_train.shape)\n",
    "print(X_test.shape)"
   ]
  },
  {
   "cell_type": "code",
   "execution_count": 30,
   "metadata": {},
   "outputs": [],
   "source": [
    "X_train = prep_modeling(X_train, invalid_cols, geohash=geohash_delimiters,\n",
    "                        generate_encoder=True, knn_neighbors=knn_n)\n",
    "\n",
    "X_test = prep_modeling(X_test, invalid_cols, geohash=geohash_delimiters,\n",
    "                       generate_encoder=False, knn_neighbors=knn_n)"
   ]
  },
  {
   "cell_type": "code",
   "execution_count": 31,
   "metadata": {},
   "outputs": [
    {
     "name": "stdout",
     "output_type": "stream",
     "text": [
      "<class 'pandas.core.frame.DataFrame'>\n",
      "RangeIndex: 48401 entries, 0 to 48400\n",
      "Data columns (total 45 columns):\n",
      " #   Column                         Non-Null Count  Dtype  \n",
      "---  ------                         --------------  -----  \n",
      " 0   usableAreas                    48401 non-null  float64\n",
      " 1   parkingSpaces                  48401 non-null  float64\n",
      " 2   suites                         48401 non-null  float64\n",
      " 3   bathrooms                      48401 non-null  float64\n",
      " 4   totalAreas                     48401 non-null  float64\n",
      " 5   bedrooms                       48401 non-null  float64\n",
      " 6   publicationType                48401 non-null  float64\n",
      " 7   businessType                   48401 non-null  float64\n",
      " 8   yearlyIptu                     48401 non-null  float64\n",
      " 9   monthlyCondoFee                48401 non-null  float64\n",
      " 10  has_gym                        48401 non-null  float64\n",
      " 11  has_garden                     48401 non-null  float64\n",
      " 12  has_pool                       48401 non-null  float64\n",
      " 13  has_lobby                      48401 non-null  float64\n",
      " 14  has_partyRoom                  48401 non-null  float64\n",
      " 15  has_balcony                    48401 non-null  float64\n",
      " 16  has_playground                 48401 non-null  float64\n",
      " 17  has_grill                      48401 non-null  float64\n",
      " 18  has_games                      48401 non-null  float64\n",
      " 19  has_closet                     48401 non-null  float64\n",
      " 20  has_furnitures                 48401 non-null  float64\n",
      " 21  has_toilet                     48401 non-null  float64\n",
      " 22  total_dom_part_improvisados    48401 non-null  float64\n",
      " 23  renda_nom_dom_part             48401 non-null  float64\n",
      " 24  renda_nom_dom_part_perm        48401 non-null  float64\n",
      " 25  renda_nom_dom_part_imp         48401 non-null  float64\n",
      " 26  renda_nom_dom_sal_baixo1       48401 non-null  float64\n",
      " 27  renda_nom_dom_sal_baixo2       48401 non-null  float64\n",
      " 28  renda_nom_dom_sal_baixo3       48401 non-null  float64\n",
      " 29  renda_nom_dom_sal_baixo4       48401 non-null  float64\n",
      " 30  renda_nom_dom_sal_medio1       48401 non-null  float64\n",
      " 31  renda_nom_dom_sal_medio2       48401 non-null  float64\n",
      " 32  renda_nom_dom_sal_medio3       48401 non-null  float64\n",
      " 33  renda_nom_dom_sal_alto1        48401 non-null  float64\n",
      " 34  renda_nom_dom_sal_alto2        48401 non-null  float64\n",
      " 35  renda_nom_dom_sem_rendimento   48401 non-null  float64\n",
      " 36  ident_logradouro_proprios      48401 non-null  float64\n",
      " 37  nao_ident_logradouro_proprios  48401 non-null  float64\n",
      " 38  ident_logradouro_alugados      48401 non-null  float64\n",
      " 39  nao_ident_logradouro_alugados  48401 non-null  float64\n",
      " 40  ilum_publica_proprios          48401 non-null  float64\n",
      " 41  nao_ilum_publica_proprios      48401 non-null  float64\n",
      " 42  ilum_publica_alugados          48401 non-null  float64\n",
      " 43  nao_ilum_publica_alugados      48401 non-null  float64\n",
      " 44  geohash_5                      48401 non-null  float64\n",
      "dtypes: float64(45)\n",
      "memory usage: 16.6 MB\n"
     ]
    }
   ],
   "source": [
    "X_train.info()"
   ]
  },
  {
   "cell_type": "markdown",
   "metadata": {},
   "source": [
    "# Training XGBRegressor\n",
    "\n",
    "The algorithm used here is [XGBRegressor](https://xgboost.readthedocs.io/en/latest/python/python_api.html#xgboost.XGBRegressor)"
   ]
  },
  {
   "cell_type": "markdown",
   "metadata": {},
   "source": [
    "## Baseline\n",
    "\n",
    "The baseline model help us to understand how hyperparameters optimization will improve the quality of the final optimized model."
   ]
  },
  {
   "cell_type": "code",
   "execution_count": 32,
   "metadata": {},
   "outputs": [
    {
     "name": "stdout",
     "output_type": "stream",
     "text": [
      "[0]\tvalidation_0-rmse:897328.62500\tvalidation_0-mse:805198823424.00000\n",
      "[1]\tvalidation_0-rmse:707191.06250\tvalidation_0-mse:500119830528.00000\n",
      "[2]\tvalidation_0-rmse:586893.62500\tvalidation_0-mse:344444993536.00000\n",
      "[3]\tvalidation_0-rmse:512727.62500\tvalidation_0-mse:262890373120.00000\n",
      "[4]\tvalidation_0-rmse:465803.28125\tvalidation_0-mse:216973131776.00000\n",
      "[5]\tvalidation_0-rmse:433877.53125\tvalidation_0-mse:188249505792.00000\n",
      "[6]\tvalidation_0-rmse:414571.96875\tvalidation_0-mse:171868405760.00000\n",
      "[7]\tvalidation_0-rmse:399747.12500\tvalidation_0-mse:159787581440.00000\n",
      "[8]\tvalidation_0-rmse:393797.59375\tvalidation_0-mse:155050819584.00000\n",
      "[9]\tvalidation_0-rmse:386819.71875\tvalidation_0-mse:149602172928.00000\n",
      "[10]\tvalidation_0-rmse:381191.87500\tvalidation_0-mse:145259855872.00000\n",
      "[11]\tvalidation_0-rmse:379115.50000\tvalidation_0-mse:143654240256.00000\n",
      "[12]\tvalidation_0-rmse:376775.75000\tvalidation_0-mse:141891993600.00000\n",
      "[13]\tvalidation_0-rmse:377151.90625\tvalidation_0-mse:142171619328.00000\n",
      "[14]\tvalidation_0-rmse:375709.31250\tvalidation_0-mse:141070057472.00000\n",
      "[15]\tvalidation_0-rmse:374121.59375\tvalidation_0-mse:139873648640.00000\n",
      "[16]\tvalidation_0-rmse:376464.96875\tvalidation_0-mse:141613596672.00000\n",
      "[17]\tvalidation_0-rmse:375066.40625\tvalidation_0-mse:140549406720.00000\n",
      "[18]\tvalidation_0-rmse:372504.68750\tvalidation_0-mse:138618896384.00000\n",
      "[19]\tvalidation_0-rmse:371654.96875\tvalidation_0-mse:137977937920.00000\n",
      "[20]\tvalidation_0-rmse:369299.15625\tvalidation_0-mse:136210432000.00000\n",
      "[21]\tvalidation_0-rmse:368537.34375\tvalidation_0-mse:135637196800.00000\n",
      "[22]\tvalidation_0-rmse:367070.43750\tvalidation_0-mse:134559039488.00000\n",
      "[23]\tvalidation_0-rmse:365899.28125\tvalidation_0-mse:133665366016.00000\n",
      "[24]\tvalidation_0-rmse:365148.75000\tvalidation_0-mse:133114372096.00000\n",
      "[25]\tvalidation_0-rmse:365582.43750\tvalidation_0-mse:133407875072.00000\n",
      "[26]\tvalidation_0-rmse:363395.34375\tvalidation_0-mse:131784155136.00000\n",
      "[27]\tvalidation_0-rmse:362602.12500\tvalidation_0-mse:131188203520.00000\n",
      "[28]\tvalidation_0-rmse:362092.34375\tvalidation_0-mse:130796617728.00000\n",
      "[29]\tvalidation_0-rmse:362446.37500\tvalidation_0-mse:131027361792.00000\n",
      "[30]\tvalidation_0-rmse:361709.93750\tvalidation_0-mse:130472673280.00000\n",
      "[31]\tvalidation_0-rmse:361473.56250\tvalidation_0-mse:130295488512.00000\n",
      "[32]\tvalidation_0-rmse:361316.03125\tvalidation_0-mse:130174058496.00000\n",
      "[33]\tvalidation_0-rmse:360339.25000\tvalidation_0-mse:129469407232.00000\n",
      "[34]\tvalidation_0-rmse:361022.68750\tvalidation_0-mse:129903247360.00000\n",
      "[35]\tvalidation_0-rmse:360760.81250\tvalidation_0-mse:129706950656.00000\n",
      "[36]\tvalidation_0-rmse:362014.25000\tvalidation_0-mse:130614894592.00000\n",
      "[37]\tvalidation_0-rmse:361337.43750\tvalidation_0-mse:130062385152.00000\n",
      "[38]\tvalidation_0-rmse:361173.46875\tvalidation_0-mse:129933410304.00000\n",
      "[39]\tvalidation_0-rmse:361047.37500\tvalidation_0-mse:129804140544.00000\n",
      "[40]\tvalidation_0-rmse:360386.43750\tvalidation_0-mse:129320583168.00000\n",
      "[41]\tvalidation_0-rmse:362239.50000\tvalidation_0-mse:130651824128.00000\n",
      "[42]\tvalidation_0-rmse:362363.34375\tvalidation_0-mse:130740690944.00000\n",
      "[43]\tvalidation_0-rmse:361887.46875\tvalidation_0-mse:130383200256.00000\n",
      "[44]\tvalidation_0-rmse:361574.84375\tvalidation_0-mse:130157494272.00000\n",
      "[45]\tvalidation_0-rmse:361611.43750\tvalidation_0-mse:130141945856.00000\n",
      "[46]\tvalidation_0-rmse:362100.50000\tvalidation_0-mse:130461671424.00000\n",
      "[47]\tvalidation_0-rmse:362011.59375\tvalidation_0-mse:130379644928.00000\n",
      "[48]\tvalidation_0-rmse:361930.84375\tvalidation_0-mse:130310504448.00000\n",
      "[49]\tvalidation_0-rmse:361664.93750\tvalidation_0-mse:130118770688.00000\n",
      "[50]\tvalidation_0-rmse:361112.37500\tvalidation_0-mse:129719066624.00000\n",
      "[51]\tvalidation_0-rmse:361106.40625\tvalidation_0-mse:129714552832.00000\n",
      "[52]\tvalidation_0-rmse:361710.15625\tvalidation_0-mse:130145378304.00000\n",
      "[53]\tvalidation_0-rmse:361440.81250\tvalidation_0-mse:129936883712.00000\n",
      "[54]\tvalidation_0-rmse:361358.28125\tvalidation_0-mse:129862934528.00000\n",
      "[55]\tvalidation_0-rmse:361290.84375\tvalidation_0-mse:129816076288.00000\n",
      "[56]\tvalidation_0-rmse:361075.40625\tvalidation_0-mse:129656709120.00000\n",
      "[57]\tvalidation_0-rmse:360983.21875\tvalidation_0-mse:129580834816.00000\n",
      "[58]\tvalidation_0-rmse:360735.65625\tvalidation_0-mse:129373888512.00000\n",
      "[59]\tvalidation_0-rmse:359742.68750\tvalidation_0-mse:128652738560.00000\n",
      "[60]\tvalidation_0-rmse:359364.81250\tvalidation_0-mse:128355811328.00000\n",
      "[61]\tvalidation_0-rmse:359753.09375\tvalidation_0-mse:128633659392.00000\n",
      "[62]\tvalidation_0-rmse:359951.90625\tvalidation_0-mse:128735879168.00000\n",
      "[63]\tvalidation_0-rmse:359806.09375\tvalidation_0-mse:128623419392.00000\n",
      "[64]\tvalidation_0-rmse:359393.46875\tvalidation_0-mse:128307036160.00000\n",
      "[65]\tvalidation_0-rmse:359061.71875\tvalidation_0-mse:128024420352.00000\n",
      "[66]\tvalidation_0-rmse:358950.09375\tvalidation_0-mse:127923617792.00000\n",
      "[67]\tvalidation_0-rmse:358986.43750\tvalidation_0-mse:127944310784.00000\n",
      "[68]\tvalidation_0-rmse:358946.25000\tvalidation_0-mse:127907594240.00000\n",
      "[69]\tvalidation_0-rmse:359729.87500\tvalidation_0-mse:128467476480.00000\n",
      "[70]\tvalidation_0-rmse:359943.15625\tvalidation_0-mse:128608313344.00000\n",
      "[71]\tvalidation_0-rmse:359691.46875\tvalidation_0-mse:128422158336.00000\n",
      "[72]\tvalidation_0-rmse:359588.84375\tvalidation_0-mse:128337125376.00000\n",
      "[73]\tvalidation_0-rmse:359563.31250\tvalidation_0-mse:128313262080.00000\n",
      "[74]\tvalidation_0-rmse:359946.06250\tvalidation_0-mse:128577765376.00000\n",
      "[75]\tvalidation_0-rmse:362132.21875\tvalidation_0-mse:130158510080.00000\n",
      "[76]\tvalidation_0-rmse:361943.40625\tvalidation_0-mse:130023186432.00000\n",
      "[77]\tvalidation_0-rmse:361455.78125\tvalidation_0-mse:129664344064.00000\n",
      "[78]\tvalidation_0-rmse:361293.18750\tvalidation_0-mse:129527676928.00000\n",
      "[79]\tvalidation_0-rmse:361065.12500\tvalidation_0-mse:129372921856.00000\n",
      "[80]\tvalidation_0-rmse:360873.21875\tvalidation_0-mse:129214087168.00000\n",
      "[81]\tvalidation_0-rmse:360679.96875\tvalidation_0-mse:129051787264.00000\n",
      "[82]\tvalidation_0-rmse:360566.37500\tvalidation_0-mse:128969252864.00000\n",
      "[83]\tvalidation_0-rmse:360192.68750\tvalidation_0-mse:128731095040.00000\n",
      "[84]\tvalidation_0-rmse:360127.46875\tvalidation_0-mse:128670613504.00000\n",
      "[85]\tvalidation_0-rmse:359918.18750\tvalidation_0-mse:128510984192.00000\n",
      "[86]\tvalidation_0-rmse:359859.18750\tvalidation_0-mse:128481427456.00000\n",
      "[87]\tvalidation_0-rmse:359863.96875\tvalidation_0-mse:128475193344.00000\n",
      "[88]\tvalidation_0-rmse:359770.25000\tvalidation_0-mse:128406528000.00000\n",
      "[89]\tvalidation_0-rmse:359512.43750\tvalidation_0-mse:128199720960.00000\n",
      "[90]\tvalidation_0-rmse:359519.65625\tvalidation_0-mse:128198336512.00000\n",
      "[91]\tvalidation_0-rmse:365535.15625\tvalidation_0-mse:132552179712.00000\n",
      "[92]\tvalidation_0-rmse:365803.37500\tvalidation_0-mse:132743675904.00000\n",
      "[93]\tvalidation_0-rmse:365876.43750\tvalidation_0-mse:132797833216.00000\n",
      "[94]\tvalidation_0-rmse:365773.96875\tvalidation_0-mse:132723900416.00000\n",
      "[95]\tvalidation_0-rmse:365662.15625\tvalidation_0-mse:132640333824.00000\n",
      "[96]\tvalidation_0-rmse:365650.03125\tvalidation_0-mse:132627685376.00000\n",
      "[97]\tvalidation_0-rmse:365685.37500\tvalidation_0-mse:132604370944.00000\n",
      "[98]\tvalidation_0-rmse:365454.50000\tvalidation_0-mse:132437475328.00000\n",
      "[99]\tvalidation_0-rmse:365314.31250\tvalidation_0-mse:132355457024.00000\n"
     ]
    },
    {
     "data": {
      "text/plain": [
       "{'mse': 133454961847.80215, 'r2_score': 0.8595974870762524}"
      ]
     },
     "execution_count": 32,
     "metadata": {},
     "output_type": "execute_result"
    }
   ],
   "source": [
    "xgb_model = XGBRegressor(random_state=seed)\n",
    "xgb_model.fit(X_train, y_train, eval_set=[(X_test, y_test)],\n",
    "              eval_metric=mse_score)\n",
    "\n",
    "y_pred = xgb_model.predict(X_test)\n",
    "\n",
    "xgb_score = {}\n",
    "xgb_score[\"mse\"] = mean_squared_error(y_test, y_pred)\n",
    "xgb_score[\"r2_score\"] = xgb_model.score(X_test, y_test)\n",
    "\n",
    "xgb_score"
   ]
  },
  {
   "cell_type": "code",
   "execution_count": 33,
   "metadata": {},
   "outputs": [
    {
     "data": {
      "application/vnd.plotly.v1+json": {
       "config": {
        "plotlyServerURL": "https://plot.ly"
       },
       "data": [
        {
         "hovertemplate": "x=%{x}<br>y=%{y}<extra></extra>",
         "legendgroup": "",
         "line": {
          "color": "#636efa",
          "dash": "solid"
         },
         "mode": "lines",
         "name": "",
         "orientation": "v",
         "showlegend": false,
         "type": "scatter",
         "x": [
          0,
          1,
          2,
          3,
          4,
          5,
          6,
          7,
          8,
          9,
          10,
          11,
          12,
          13,
          14,
          15,
          16,
          17,
          18,
          19,
          20,
          21,
          22,
          23,
          24,
          25,
          26,
          27,
          28,
          29,
          30,
          31,
          32,
          33,
          34,
          35,
          36,
          37,
          38,
          39,
          40,
          41,
          42,
          43,
          44,
          45,
          46,
          47,
          48,
          49,
          50,
          51,
          52,
          53,
          54,
          55,
          56,
          57,
          58,
          59,
          60,
          61,
          62,
          63,
          64,
          65,
          66,
          67,
          68,
          69,
          70,
          71,
          72,
          73,
          74,
          75,
          76,
          77,
          78,
          79,
          80,
          81,
          82,
          83,
          84,
          85,
          86,
          87,
          88,
          89,
          90,
          91,
          92,
          93,
          94,
          95,
          96,
          97,
          98,
          99
         ],
         "xaxis": "x",
         "y": [
          897328.625,
          707191.0625,
          586893.625,
          512727.625,
          465803.28125,
          433877.53125,
          414571.96875,
          399747.125,
          393797.59375,
          386819.71875,
          381191.875,
          379115.5,
          376775.75,
          377151.90625,
          375709.3125,
          374121.59375,
          376464.96875,
          375066.40625,
          372504.6875,
          371654.96875,
          369299.15625,
          368537.34375,
          367070.4375,
          365899.28125,
          365148.75,
          365582.4375,
          363395.34375,
          362602.125,
          362092.34375,
          362446.375,
          361709.9375,
          361473.5625,
          361316.03125,
          360339.25,
          361022.6875,
          360760.8125,
          362014.25,
          361337.4375,
          361173.46875,
          361047.375,
          360386.4375,
          362239.5,
          362363.34375,
          361887.46875,
          361574.84375,
          361611.4375,
          362100.5,
          362011.59375,
          361930.84375,
          361664.9375,
          361112.375,
          361106.40625,
          361710.15625,
          361440.8125,
          361358.28125,
          361290.84375,
          361075.40625,
          360983.21875,
          360735.65625,
          359742.6875,
          359364.8125,
          359753.09375,
          359951.90625,
          359806.09375,
          359393.46875,
          359061.71875,
          358950.09375,
          358986.4375,
          358946.25,
          359729.875,
          359943.15625,
          359691.46875,
          359588.84375,
          359563.3125,
          359946.0625,
          362132.21875,
          361943.40625,
          361455.78125,
          361293.1875,
          361065.125,
          360873.21875,
          360679.96875,
          360566.375,
          360192.6875,
          360127.46875,
          359918.1875,
          359859.1875,
          359863.96875,
          359770.25,
          359512.4375,
          359519.65625,
          365535.15625,
          365803.375,
          365876.4375,
          365773.96875,
          365662.15625,
          365650.03125,
          365685.375,
          365454.5,
          365314.3125
         ],
         "yaxis": "y"
        }
       ],
       "layout": {
        "legend": {
         "tracegroupgap": 0
        },
        "template": {
         "data": {
          "bar": [
           {
            "error_x": {
             "color": "#2a3f5f"
            },
            "error_y": {
             "color": "#2a3f5f"
            },
            "marker": {
             "line": {
              "color": "#E5ECF6",
              "width": 0.5
             }
            },
            "type": "bar"
           }
          ],
          "barpolar": [
           {
            "marker": {
             "line": {
              "color": "#E5ECF6",
              "width": 0.5
             }
            },
            "type": "barpolar"
           }
          ],
          "carpet": [
           {
            "aaxis": {
             "endlinecolor": "#2a3f5f",
             "gridcolor": "white",
             "linecolor": "white",
             "minorgridcolor": "white",
             "startlinecolor": "#2a3f5f"
            },
            "baxis": {
             "endlinecolor": "#2a3f5f",
             "gridcolor": "white",
             "linecolor": "white",
             "minorgridcolor": "white",
             "startlinecolor": "#2a3f5f"
            },
            "type": "carpet"
           }
          ],
          "choropleth": [
           {
            "colorbar": {
             "outlinewidth": 0,
             "ticks": ""
            },
            "type": "choropleth"
           }
          ],
          "contour": [
           {
            "colorbar": {
             "outlinewidth": 0,
             "ticks": ""
            },
            "colorscale": [
             [
              0,
              "#0d0887"
             ],
             [
              0.1111111111111111,
              "#46039f"
             ],
             [
              0.2222222222222222,
              "#7201a8"
             ],
             [
              0.3333333333333333,
              "#9c179e"
             ],
             [
              0.4444444444444444,
              "#bd3786"
             ],
             [
              0.5555555555555556,
              "#d8576b"
             ],
             [
              0.6666666666666666,
              "#ed7953"
             ],
             [
              0.7777777777777778,
              "#fb9f3a"
             ],
             [
              0.8888888888888888,
              "#fdca26"
             ],
             [
              1,
              "#f0f921"
             ]
            ],
            "type": "contour"
           }
          ],
          "contourcarpet": [
           {
            "colorbar": {
             "outlinewidth": 0,
             "ticks": ""
            },
            "type": "contourcarpet"
           }
          ],
          "heatmap": [
           {
            "colorbar": {
             "outlinewidth": 0,
             "ticks": ""
            },
            "colorscale": [
             [
              0,
              "#0d0887"
             ],
             [
              0.1111111111111111,
              "#46039f"
             ],
             [
              0.2222222222222222,
              "#7201a8"
             ],
             [
              0.3333333333333333,
              "#9c179e"
             ],
             [
              0.4444444444444444,
              "#bd3786"
             ],
             [
              0.5555555555555556,
              "#d8576b"
             ],
             [
              0.6666666666666666,
              "#ed7953"
             ],
             [
              0.7777777777777778,
              "#fb9f3a"
             ],
             [
              0.8888888888888888,
              "#fdca26"
             ],
             [
              1,
              "#f0f921"
             ]
            ],
            "type": "heatmap"
           }
          ],
          "heatmapgl": [
           {
            "colorbar": {
             "outlinewidth": 0,
             "ticks": ""
            },
            "colorscale": [
             [
              0,
              "#0d0887"
             ],
             [
              0.1111111111111111,
              "#46039f"
             ],
             [
              0.2222222222222222,
              "#7201a8"
             ],
             [
              0.3333333333333333,
              "#9c179e"
             ],
             [
              0.4444444444444444,
              "#bd3786"
             ],
             [
              0.5555555555555556,
              "#d8576b"
             ],
             [
              0.6666666666666666,
              "#ed7953"
             ],
             [
              0.7777777777777778,
              "#fb9f3a"
             ],
             [
              0.8888888888888888,
              "#fdca26"
             ],
             [
              1,
              "#f0f921"
             ]
            ],
            "type": "heatmapgl"
           }
          ],
          "histogram": [
           {
            "marker": {
             "colorbar": {
              "outlinewidth": 0,
              "ticks": ""
             }
            },
            "type": "histogram"
           }
          ],
          "histogram2d": [
           {
            "colorbar": {
             "outlinewidth": 0,
             "ticks": ""
            },
            "colorscale": [
             [
              0,
              "#0d0887"
             ],
             [
              0.1111111111111111,
              "#46039f"
             ],
             [
              0.2222222222222222,
              "#7201a8"
             ],
             [
              0.3333333333333333,
              "#9c179e"
             ],
             [
              0.4444444444444444,
              "#bd3786"
             ],
             [
              0.5555555555555556,
              "#d8576b"
             ],
             [
              0.6666666666666666,
              "#ed7953"
             ],
             [
              0.7777777777777778,
              "#fb9f3a"
             ],
             [
              0.8888888888888888,
              "#fdca26"
             ],
             [
              1,
              "#f0f921"
             ]
            ],
            "type": "histogram2d"
           }
          ],
          "histogram2dcontour": [
           {
            "colorbar": {
             "outlinewidth": 0,
             "ticks": ""
            },
            "colorscale": [
             [
              0,
              "#0d0887"
             ],
             [
              0.1111111111111111,
              "#46039f"
             ],
             [
              0.2222222222222222,
              "#7201a8"
             ],
             [
              0.3333333333333333,
              "#9c179e"
             ],
             [
              0.4444444444444444,
              "#bd3786"
             ],
             [
              0.5555555555555556,
              "#d8576b"
             ],
             [
              0.6666666666666666,
              "#ed7953"
             ],
             [
              0.7777777777777778,
              "#fb9f3a"
             ],
             [
              0.8888888888888888,
              "#fdca26"
             ],
             [
              1,
              "#f0f921"
             ]
            ],
            "type": "histogram2dcontour"
           }
          ],
          "mesh3d": [
           {
            "colorbar": {
             "outlinewidth": 0,
             "ticks": ""
            },
            "type": "mesh3d"
           }
          ],
          "parcoords": [
           {
            "line": {
             "colorbar": {
              "outlinewidth": 0,
              "ticks": ""
             }
            },
            "type": "parcoords"
           }
          ],
          "pie": [
           {
            "automargin": true,
            "type": "pie"
           }
          ],
          "scatter": [
           {
            "marker": {
             "colorbar": {
              "outlinewidth": 0,
              "ticks": ""
             }
            },
            "type": "scatter"
           }
          ],
          "scatter3d": [
           {
            "line": {
             "colorbar": {
              "outlinewidth": 0,
              "ticks": ""
             }
            },
            "marker": {
             "colorbar": {
              "outlinewidth": 0,
              "ticks": ""
             }
            },
            "type": "scatter3d"
           }
          ],
          "scattercarpet": [
           {
            "marker": {
             "colorbar": {
              "outlinewidth": 0,
              "ticks": ""
             }
            },
            "type": "scattercarpet"
           }
          ],
          "scattergeo": [
           {
            "marker": {
             "colorbar": {
              "outlinewidth": 0,
              "ticks": ""
             }
            },
            "type": "scattergeo"
           }
          ],
          "scattergl": [
           {
            "marker": {
             "colorbar": {
              "outlinewidth": 0,
              "ticks": ""
             }
            },
            "type": "scattergl"
           }
          ],
          "scattermapbox": [
           {
            "marker": {
             "colorbar": {
              "outlinewidth": 0,
              "ticks": ""
             }
            },
            "type": "scattermapbox"
           }
          ],
          "scatterpolar": [
           {
            "marker": {
             "colorbar": {
              "outlinewidth": 0,
              "ticks": ""
             }
            },
            "type": "scatterpolar"
           }
          ],
          "scatterpolargl": [
           {
            "marker": {
             "colorbar": {
              "outlinewidth": 0,
              "ticks": ""
             }
            },
            "type": "scatterpolargl"
           }
          ],
          "scatterternary": [
           {
            "marker": {
             "colorbar": {
              "outlinewidth": 0,
              "ticks": ""
             }
            },
            "type": "scatterternary"
           }
          ],
          "surface": [
           {
            "colorbar": {
             "outlinewidth": 0,
             "ticks": ""
            },
            "colorscale": [
             [
              0,
              "#0d0887"
             ],
             [
              0.1111111111111111,
              "#46039f"
             ],
             [
              0.2222222222222222,
              "#7201a8"
             ],
             [
              0.3333333333333333,
              "#9c179e"
             ],
             [
              0.4444444444444444,
              "#bd3786"
             ],
             [
              0.5555555555555556,
              "#d8576b"
             ],
             [
              0.6666666666666666,
              "#ed7953"
             ],
             [
              0.7777777777777778,
              "#fb9f3a"
             ],
             [
              0.8888888888888888,
              "#fdca26"
             ],
             [
              1,
              "#f0f921"
             ]
            ],
            "type": "surface"
           }
          ],
          "table": [
           {
            "cells": {
             "fill": {
              "color": "#EBF0F8"
             },
             "line": {
              "color": "white"
             }
            },
            "header": {
             "fill": {
              "color": "#C8D4E3"
             },
             "line": {
              "color": "white"
             }
            },
            "type": "table"
           }
          ]
         },
         "layout": {
          "annotationdefaults": {
           "arrowcolor": "#2a3f5f",
           "arrowhead": 0,
           "arrowwidth": 1
          },
          "coloraxis": {
           "colorbar": {
            "outlinewidth": 0,
            "ticks": ""
           }
          },
          "colorscale": {
           "diverging": [
            [
             0,
             "#8e0152"
            ],
            [
             0.1,
             "#c51b7d"
            ],
            [
             0.2,
             "#de77ae"
            ],
            [
             0.3,
             "#f1b6da"
            ],
            [
             0.4,
             "#fde0ef"
            ],
            [
             0.5,
             "#f7f7f7"
            ],
            [
             0.6,
             "#e6f5d0"
            ],
            [
             0.7,
             "#b8e186"
            ],
            [
             0.8,
             "#7fbc41"
            ],
            [
             0.9,
             "#4d9221"
            ],
            [
             1,
             "#276419"
            ]
           ],
           "sequential": [
            [
             0,
             "#0d0887"
            ],
            [
             0.1111111111111111,
             "#46039f"
            ],
            [
             0.2222222222222222,
             "#7201a8"
            ],
            [
             0.3333333333333333,
             "#9c179e"
            ],
            [
             0.4444444444444444,
             "#bd3786"
            ],
            [
             0.5555555555555556,
             "#d8576b"
            ],
            [
             0.6666666666666666,
             "#ed7953"
            ],
            [
             0.7777777777777778,
             "#fb9f3a"
            ],
            [
             0.8888888888888888,
             "#fdca26"
            ],
            [
             1,
             "#f0f921"
            ]
           ],
           "sequentialminus": [
            [
             0,
             "#0d0887"
            ],
            [
             0.1111111111111111,
             "#46039f"
            ],
            [
             0.2222222222222222,
             "#7201a8"
            ],
            [
             0.3333333333333333,
             "#9c179e"
            ],
            [
             0.4444444444444444,
             "#bd3786"
            ],
            [
             0.5555555555555556,
             "#d8576b"
            ],
            [
             0.6666666666666666,
             "#ed7953"
            ],
            [
             0.7777777777777778,
             "#fb9f3a"
            ],
            [
             0.8888888888888888,
             "#fdca26"
            ],
            [
             1,
             "#f0f921"
            ]
           ]
          },
          "colorway": [
           "#636efa",
           "#EF553B",
           "#00cc96",
           "#ab63fa",
           "#FFA15A",
           "#19d3f3",
           "#FF6692",
           "#B6E880",
           "#FF97FF",
           "#FECB52"
          ],
          "font": {
           "color": "#2a3f5f"
          },
          "geo": {
           "bgcolor": "white",
           "lakecolor": "white",
           "landcolor": "#E5ECF6",
           "showlakes": true,
           "showland": true,
           "subunitcolor": "white"
          },
          "hoverlabel": {
           "align": "left"
          },
          "hovermode": "closest",
          "mapbox": {
           "style": "light"
          },
          "paper_bgcolor": "white",
          "plot_bgcolor": "#E5ECF6",
          "polar": {
           "angularaxis": {
            "gridcolor": "white",
            "linecolor": "white",
            "ticks": ""
           },
           "bgcolor": "#E5ECF6",
           "radialaxis": {
            "gridcolor": "white",
            "linecolor": "white",
            "ticks": ""
           }
          },
          "scene": {
           "xaxis": {
            "backgroundcolor": "#E5ECF6",
            "gridcolor": "white",
            "gridwidth": 2,
            "linecolor": "white",
            "showbackground": true,
            "ticks": "",
            "zerolinecolor": "white"
           },
           "yaxis": {
            "backgroundcolor": "#E5ECF6",
            "gridcolor": "white",
            "gridwidth": 2,
            "linecolor": "white",
            "showbackground": true,
            "ticks": "",
            "zerolinecolor": "white"
           },
           "zaxis": {
            "backgroundcolor": "#E5ECF6",
            "gridcolor": "white",
            "gridwidth": 2,
            "linecolor": "white",
            "showbackground": true,
            "ticks": "",
            "zerolinecolor": "white"
           }
          },
          "shapedefaults": {
           "line": {
            "color": "#2a3f5f"
           }
          },
          "ternary": {
           "aaxis": {
            "gridcolor": "white",
            "linecolor": "white",
            "ticks": ""
           },
           "baxis": {
            "gridcolor": "white",
            "linecolor": "white",
            "ticks": ""
           },
           "bgcolor": "#E5ECF6",
           "caxis": {
            "gridcolor": "white",
            "linecolor": "white",
            "ticks": ""
           }
          },
          "title": {
           "x": 0.05
          },
          "xaxis": {
           "automargin": true,
           "gridcolor": "white",
           "linecolor": "white",
           "ticks": "",
           "title": {
            "standoff": 15
           },
           "zerolinecolor": "white",
           "zerolinewidth": 2
          },
          "yaxis": {
           "automargin": true,
           "gridcolor": "white",
           "linecolor": "white",
           "ticks": "",
           "title": {
            "standoff": 15
           },
           "zerolinecolor": "white",
           "zerolinewidth": 2
          }
         }
        },
        "title": {
         "text": "Validation loss (RMSE)"
        },
        "xaxis": {
         "anchor": "y",
         "domain": [
          0,
          1
         ],
         "title": {
          "text": "x"
         }
        },
        "yaxis": {
         "anchor": "x",
         "domain": [
          0,
          1
         ],
         "title": {
          "text": "y"
         }
        }
       }
      },
      "text/html": [
       "<div>                            <div id=\"719f7c00-97e3-4d97-a335-9bb52cfd5e3f\" class=\"plotly-graph-div\" style=\"height:525px; width:100%;\"></div>            <script type=\"text/javascript\">                require([\"plotly\"], function(Plotly) {                    window.PLOTLYENV=window.PLOTLYENV || {};                                    if (document.getElementById(\"719f7c00-97e3-4d97-a335-9bb52cfd5e3f\")) {                    Plotly.newPlot(                        \"719f7c00-97e3-4d97-a335-9bb52cfd5e3f\",                        [{\"hovertemplate\": \"x=%{x}<br>y=%{y}<extra></extra>\", \"legendgroup\": \"\", \"line\": {\"color\": \"#636efa\", \"dash\": \"solid\"}, \"mode\": \"lines\", \"name\": \"\", \"orientation\": \"v\", \"showlegend\": false, \"type\": \"scatter\", \"x\": [0, 1, 2, 3, 4, 5, 6, 7, 8, 9, 10, 11, 12, 13, 14, 15, 16, 17, 18, 19, 20, 21, 22, 23, 24, 25, 26, 27, 28, 29, 30, 31, 32, 33, 34, 35, 36, 37, 38, 39, 40, 41, 42, 43, 44, 45, 46, 47, 48, 49, 50, 51, 52, 53, 54, 55, 56, 57, 58, 59, 60, 61, 62, 63, 64, 65, 66, 67, 68, 69, 70, 71, 72, 73, 74, 75, 76, 77, 78, 79, 80, 81, 82, 83, 84, 85, 86, 87, 88, 89, 90, 91, 92, 93, 94, 95, 96, 97, 98, 99], \"xaxis\": \"x\", \"y\": [897328.625, 707191.0625, 586893.625, 512727.625, 465803.28125, 433877.53125, 414571.96875, 399747.125, 393797.59375, 386819.71875, 381191.875, 379115.5, 376775.75, 377151.90625, 375709.3125, 374121.59375, 376464.96875, 375066.40625, 372504.6875, 371654.96875, 369299.15625, 368537.34375, 367070.4375, 365899.28125, 365148.75, 365582.4375, 363395.34375, 362602.125, 362092.34375, 362446.375, 361709.9375, 361473.5625, 361316.03125, 360339.25, 361022.6875, 360760.8125, 362014.25, 361337.4375, 361173.46875, 361047.375, 360386.4375, 362239.5, 362363.34375, 361887.46875, 361574.84375, 361611.4375, 362100.5, 362011.59375, 361930.84375, 361664.9375, 361112.375, 361106.40625, 361710.15625, 361440.8125, 361358.28125, 361290.84375, 361075.40625, 360983.21875, 360735.65625, 359742.6875, 359364.8125, 359753.09375, 359951.90625, 359806.09375, 359393.46875, 359061.71875, 358950.09375, 358986.4375, 358946.25, 359729.875, 359943.15625, 359691.46875, 359588.84375, 359563.3125, 359946.0625, 362132.21875, 361943.40625, 361455.78125, 361293.1875, 361065.125, 360873.21875, 360679.96875, 360566.375, 360192.6875, 360127.46875, 359918.1875, 359859.1875, 359863.96875, 359770.25, 359512.4375, 359519.65625, 365535.15625, 365803.375, 365876.4375, 365773.96875, 365662.15625, 365650.03125, 365685.375, 365454.5, 365314.3125], \"yaxis\": \"y\"}],                        {\"legend\": {\"tracegroupgap\": 0}, \"template\": {\"data\": {\"bar\": [{\"error_x\": {\"color\": \"#2a3f5f\"}, \"error_y\": {\"color\": \"#2a3f5f\"}, \"marker\": {\"line\": {\"color\": \"#E5ECF6\", \"width\": 0.5}}, \"type\": \"bar\"}], \"barpolar\": [{\"marker\": {\"line\": {\"color\": \"#E5ECF6\", \"width\": 0.5}}, \"type\": \"barpolar\"}], \"carpet\": [{\"aaxis\": {\"endlinecolor\": \"#2a3f5f\", \"gridcolor\": \"white\", \"linecolor\": \"white\", \"minorgridcolor\": \"white\", \"startlinecolor\": \"#2a3f5f\"}, \"baxis\": {\"endlinecolor\": \"#2a3f5f\", \"gridcolor\": \"white\", \"linecolor\": \"white\", \"minorgridcolor\": \"white\", \"startlinecolor\": \"#2a3f5f\"}, \"type\": \"carpet\"}], \"choropleth\": [{\"colorbar\": {\"outlinewidth\": 0, \"ticks\": \"\"}, \"type\": \"choropleth\"}], \"contour\": [{\"colorbar\": {\"outlinewidth\": 0, \"ticks\": \"\"}, \"colorscale\": [[0.0, \"#0d0887\"], [0.1111111111111111, \"#46039f\"], [0.2222222222222222, \"#7201a8\"], [0.3333333333333333, \"#9c179e\"], [0.4444444444444444, \"#bd3786\"], [0.5555555555555556, \"#d8576b\"], [0.6666666666666666, \"#ed7953\"], [0.7777777777777778, \"#fb9f3a\"], [0.8888888888888888, \"#fdca26\"], [1.0, \"#f0f921\"]], \"type\": \"contour\"}], \"contourcarpet\": [{\"colorbar\": {\"outlinewidth\": 0, \"ticks\": \"\"}, \"type\": \"contourcarpet\"}], \"heatmap\": [{\"colorbar\": {\"outlinewidth\": 0, \"ticks\": \"\"}, \"colorscale\": [[0.0, \"#0d0887\"], [0.1111111111111111, \"#46039f\"], [0.2222222222222222, \"#7201a8\"], [0.3333333333333333, \"#9c179e\"], [0.4444444444444444, \"#bd3786\"], [0.5555555555555556, \"#d8576b\"], [0.6666666666666666, \"#ed7953\"], [0.7777777777777778, \"#fb9f3a\"], [0.8888888888888888, \"#fdca26\"], [1.0, \"#f0f921\"]], \"type\": \"heatmap\"}], \"heatmapgl\": [{\"colorbar\": {\"outlinewidth\": 0, \"ticks\": \"\"}, \"colorscale\": [[0.0, \"#0d0887\"], [0.1111111111111111, \"#46039f\"], [0.2222222222222222, \"#7201a8\"], [0.3333333333333333, \"#9c179e\"], [0.4444444444444444, \"#bd3786\"], [0.5555555555555556, \"#d8576b\"], [0.6666666666666666, \"#ed7953\"], [0.7777777777777778, \"#fb9f3a\"], [0.8888888888888888, \"#fdca26\"], [1.0, \"#f0f921\"]], \"type\": \"heatmapgl\"}], \"histogram\": [{\"marker\": {\"colorbar\": {\"outlinewidth\": 0, \"ticks\": \"\"}}, \"type\": \"histogram\"}], \"histogram2d\": [{\"colorbar\": {\"outlinewidth\": 0, \"ticks\": \"\"}, \"colorscale\": [[0.0, \"#0d0887\"], [0.1111111111111111, \"#46039f\"], [0.2222222222222222, \"#7201a8\"], [0.3333333333333333, \"#9c179e\"], [0.4444444444444444, \"#bd3786\"], [0.5555555555555556, \"#d8576b\"], [0.6666666666666666, \"#ed7953\"], [0.7777777777777778, \"#fb9f3a\"], [0.8888888888888888, \"#fdca26\"], [1.0, \"#f0f921\"]], \"type\": \"histogram2d\"}], \"histogram2dcontour\": [{\"colorbar\": {\"outlinewidth\": 0, \"ticks\": \"\"}, \"colorscale\": [[0.0, \"#0d0887\"], [0.1111111111111111, \"#46039f\"], [0.2222222222222222, \"#7201a8\"], [0.3333333333333333, \"#9c179e\"], [0.4444444444444444, \"#bd3786\"], [0.5555555555555556, \"#d8576b\"], [0.6666666666666666, \"#ed7953\"], [0.7777777777777778, \"#fb9f3a\"], [0.8888888888888888, \"#fdca26\"], [1.0, \"#f0f921\"]], \"type\": \"histogram2dcontour\"}], \"mesh3d\": [{\"colorbar\": {\"outlinewidth\": 0, \"ticks\": \"\"}, \"type\": \"mesh3d\"}], \"parcoords\": [{\"line\": {\"colorbar\": {\"outlinewidth\": 0, \"ticks\": \"\"}}, \"type\": \"parcoords\"}], \"pie\": [{\"automargin\": true, \"type\": \"pie\"}], \"scatter\": [{\"marker\": {\"colorbar\": {\"outlinewidth\": 0, \"ticks\": \"\"}}, \"type\": \"scatter\"}], \"scatter3d\": [{\"line\": {\"colorbar\": {\"outlinewidth\": 0, \"ticks\": \"\"}}, \"marker\": {\"colorbar\": {\"outlinewidth\": 0, \"ticks\": \"\"}}, \"type\": \"scatter3d\"}], \"scattercarpet\": [{\"marker\": {\"colorbar\": {\"outlinewidth\": 0, \"ticks\": \"\"}}, \"type\": \"scattercarpet\"}], \"scattergeo\": [{\"marker\": {\"colorbar\": {\"outlinewidth\": 0, \"ticks\": \"\"}}, \"type\": \"scattergeo\"}], \"scattergl\": [{\"marker\": {\"colorbar\": {\"outlinewidth\": 0, \"ticks\": \"\"}}, \"type\": \"scattergl\"}], \"scattermapbox\": [{\"marker\": {\"colorbar\": {\"outlinewidth\": 0, \"ticks\": \"\"}}, \"type\": \"scattermapbox\"}], \"scatterpolar\": [{\"marker\": {\"colorbar\": {\"outlinewidth\": 0, \"ticks\": \"\"}}, \"type\": \"scatterpolar\"}], \"scatterpolargl\": [{\"marker\": {\"colorbar\": {\"outlinewidth\": 0, \"ticks\": \"\"}}, \"type\": \"scatterpolargl\"}], \"scatterternary\": [{\"marker\": {\"colorbar\": {\"outlinewidth\": 0, \"ticks\": \"\"}}, \"type\": \"scatterternary\"}], \"surface\": [{\"colorbar\": {\"outlinewidth\": 0, \"ticks\": \"\"}, \"colorscale\": [[0.0, \"#0d0887\"], [0.1111111111111111, \"#46039f\"], [0.2222222222222222, \"#7201a8\"], [0.3333333333333333, \"#9c179e\"], [0.4444444444444444, \"#bd3786\"], [0.5555555555555556, \"#d8576b\"], [0.6666666666666666, \"#ed7953\"], [0.7777777777777778, \"#fb9f3a\"], [0.8888888888888888, \"#fdca26\"], [1.0, \"#f0f921\"]], \"type\": \"surface\"}], \"table\": [{\"cells\": {\"fill\": {\"color\": \"#EBF0F8\"}, \"line\": {\"color\": \"white\"}}, \"header\": {\"fill\": {\"color\": \"#C8D4E3\"}, \"line\": {\"color\": \"white\"}}, \"type\": \"table\"}]}, \"layout\": {\"annotationdefaults\": {\"arrowcolor\": \"#2a3f5f\", \"arrowhead\": 0, \"arrowwidth\": 1}, \"coloraxis\": {\"colorbar\": {\"outlinewidth\": 0, \"ticks\": \"\"}}, \"colorscale\": {\"diverging\": [[0, \"#8e0152\"], [0.1, \"#c51b7d\"], [0.2, \"#de77ae\"], [0.3, \"#f1b6da\"], [0.4, \"#fde0ef\"], [0.5, \"#f7f7f7\"], [0.6, \"#e6f5d0\"], [0.7, \"#b8e186\"], [0.8, \"#7fbc41\"], [0.9, \"#4d9221\"], [1, \"#276419\"]], \"sequential\": [[0.0, \"#0d0887\"], [0.1111111111111111, \"#46039f\"], [0.2222222222222222, \"#7201a8\"], [0.3333333333333333, \"#9c179e\"], [0.4444444444444444, \"#bd3786\"], [0.5555555555555556, \"#d8576b\"], [0.6666666666666666, \"#ed7953\"], [0.7777777777777778, \"#fb9f3a\"], [0.8888888888888888, \"#fdca26\"], [1.0, \"#f0f921\"]], \"sequentialminus\": [[0.0, \"#0d0887\"], [0.1111111111111111, \"#46039f\"], [0.2222222222222222, \"#7201a8\"], [0.3333333333333333, \"#9c179e\"], [0.4444444444444444, \"#bd3786\"], [0.5555555555555556, \"#d8576b\"], [0.6666666666666666, \"#ed7953\"], [0.7777777777777778, \"#fb9f3a\"], [0.8888888888888888, \"#fdca26\"], [1.0, \"#f0f921\"]]}, \"colorway\": [\"#636efa\", \"#EF553B\", \"#00cc96\", \"#ab63fa\", \"#FFA15A\", \"#19d3f3\", \"#FF6692\", \"#B6E880\", \"#FF97FF\", \"#FECB52\"], \"font\": {\"color\": \"#2a3f5f\"}, \"geo\": {\"bgcolor\": \"white\", \"lakecolor\": \"white\", \"landcolor\": \"#E5ECF6\", \"showlakes\": true, \"showland\": true, \"subunitcolor\": \"white\"}, \"hoverlabel\": {\"align\": \"left\"}, \"hovermode\": \"closest\", \"mapbox\": {\"style\": \"light\"}, \"paper_bgcolor\": \"white\", \"plot_bgcolor\": \"#E5ECF6\", \"polar\": {\"angularaxis\": {\"gridcolor\": \"white\", \"linecolor\": \"white\", \"ticks\": \"\"}, \"bgcolor\": \"#E5ECF6\", \"radialaxis\": {\"gridcolor\": \"white\", \"linecolor\": \"white\", \"ticks\": \"\"}}, \"scene\": {\"xaxis\": {\"backgroundcolor\": \"#E5ECF6\", \"gridcolor\": \"white\", \"gridwidth\": 2, \"linecolor\": \"white\", \"showbackground\": true, \"ticks\": \"\", \"zerolinecolor\": \"white\"}, \"yaxis\": {\"backgroundcolor\": \"#E5ECF6\", \"gridcolor\": \"white\", \"gridwidth\": 2, \"linecolor\": \"white\", \"showbackground\": true, \"ticks\": \"\", \"zerolinecolor\": \"white\"}, \"zaxis\": {\"backgroundcolor\": \"#E5ECF6\", \"gridcolor\": \"white\", \"gridwidth\": 2, \"linecolor\": \"white\", \"showbackground\": true, \"ticks\": \"\", \"zerolinecolor\": \"white\"}}, \"shapedefaults\": {\"line\": {\"color\": \"#2a3f5f\"}}, \"ternary\": {\"aaxis\": {\"gridcolor\": \"white\", \"linecolor\": \"white\", \"ticks\": \"\"}, \"baxis\": {\"gridcolor\": \"white\", \"linecolor\": \"white\", \"ticks\": \"\"}, \"bgcolor\": \"#E5ECF6\", \"caxis\": {\"gridcolor\": \"white\", \"linecolor\": \"white\", \"ticks\": \"\"}}, \"title\": {\"x\": 0.05}, \"xaxis\": {\"automargin\": true, \"gridcolor\": \"white\", \"linecolor\": \"white\", \"ticks\": \"\", \"title\": {\"standoff\": 15}, \"zerolinecolor\": \"white\", \"zerolinewidth\": 2}, \"yaxis\": {\"automargin\": true, \"gridcolor\": \"white\", \"linecolor\": \"white\", \"ticks\": \"\", \"title\": {\"standoff\": 15}, \"zerolinecolor\": \"white\", \"zerolinewidth\": 2}}}, \"title\": {\"text\": \"Validation loss (RMSE)\"}, \"xaxis\": {\"anchor\": \"y\", \"domain\": [0.0, 1.0], \"title\": {\"text\": \"x\"}}, \"yaxis\": {\"anchor\": \"x\", \"domain\": [0.0, 1.0], \"title\": {\"text\": \"y\"}}},                        {\"responsive\": true}                    ).then(function(){\n",
       "                            \n",
       "var gd = document.getElementById('719f7c00-97e3-4d97-a335-9bb52cfd5e3f');\n",
       "var x = new MutationObserver(function (mutations, observer) {{\n",
       "        var display = window.getComputedStyle(gd).display;\n",
       "        if (!display || display === 'none') {{\n",
       "            console.log([gd, 'removed!']);\n",
       "            Plotly.purge(gd);\n",
       "            observer.disconnect();\n",
       "        }}\n",
       "}});\n",
       "\n",
       "// Listen for the removal of the full notebook cells\n",
       "var notebookContainer = gd.closest('#notebook-container');\n",
       "if (notebookContainer) {{\n",
       "    x.observe(notebookContainer, {childList: true});\n",
       "}}\n",
       "\n",
       "// Listen for the clearing of the current output cell\n",
       "var outputEl = gd.closest('.output');\n",
       "if (outputEl) {{\n",
       "    x.observe(outputEl, {childList: true});\n",
       "}}\n",
       "\n",
       "                        })                };                });            </script>        </div>"
      ]
     },
     "metadata": {},
     "output_type": "display_data"
    }
   ],
   "source": [
    "evals_result = xgb_model.evals_result()\n",
    "px.line(y=evals_result[\"validation_0\"][\"rmse\"], title=\"Validation loss (RMSE)\")"
   ]
  },
  {
   "cell_type": "code",
   "execution_count": 36,
   "metadata": {},
   "outputs": [
    {
     "data": {
      "text/plain": [
       "{'objective': 'reg:squarederror',\n",
       " 'base_score': 0.5,\n",
       " 'booster': 'gbtree',\n",
       " 'colsample_bylevel': 1,\n",
       " 'colsample_bynode': 1,\n",
       " 'colsample_bytree': 1,\n",
       " 'gamma': 0,\n",
       " 'gpu_id': -1,\n",
       " 'importance_type': 'gain',\n",
       " 'interaction_constraints': '',\n",
       " 'learning_rate': 0.300000012,\n",
       " 'max_delta_step': 0,\n",
       " 'max_depth': 6,\n",
       " 'min_child_weight': 1,\n",
       " 'missing': nan,\n",
       " 'monotone_constraints': '()',\n",
       " 'n_estimators': 100,\n",
       " 'n_jobs': 0,\n",
       " 'num_parallel_tree': 1,\n",
       " 'random_state': 1993,\n",
       " 'reg_alpha': 0,\n",
       " 'reg_lambda': 1,\n",
       " 'scale_pos_weight': 1,\n",
       " 'subsample': 1,\n",
       " 'tree_method': 'exact',\n",
       " 'validate_parameters': 1,\n",
       " 'verbosity': None}"
      ]
     },
     "execution_count": 36,
     "metadata": {},
     "output_type": "execute_result"
    }
   ],
   "source": [
    "xgb_model.get_params()"
   ]
  },
  {
   "cell_type": "markdown",
   "metadata": {},
   "source": [
    "## Feature importances"
   ]
  },
  {
   "cell_type": "code",
   "execution_count": 35,
   "metadata": {},
   "outputs": [
    {
     "data": {
      "application/vnd.plotly.v1+json": {
       "config": {
        "plotlyServerURL": "https://plot.ly"
       },
       "data": [
        {
         "alignmentgroup": "True",
         "hovertemplate": "importances=%{x}<br>features=%{y}<extra></extra>",
         "legendgroup": "",
         "marker": {
          "color": "#636efa"
         },
         "name": "",
         "offsetgroup": "",
         "orientation": "h",
         "showlegend": false,
         "textposition": "auto",
         "type": "bar",
         "x": [
          0.0006908937939442694,
          0.0016712835058569908,
          0.0017118959221988916,
          0.0018491377122700214,
          0.001985482405871153,
          0.002215030137449503,
          0.0022195870988070965,
          0.002272956073284149,
          0.0024001600686460733,
          0.0024896825198084116,
          0.002719273092225194,
          0.002839014632627368,
          0.002906493376940489,
          0.003130263416096568,
          0.0034744329750537872,
          0.003766739508137107,
          0.004169104155153036,
          0.0051419492810964584,
          0.005854732356965542,
          0.0060110511258244514,
          0.006364774890244007,
          0.006560254376381636,
          0.007284536492079496,
          0.007350139785557985,
          0.007779071573168039,
          0.008275952190160751,
          0.010684222914278507,
          0.011039778590202332,
          0.011658179573714733,
          0.012421981431543827,
          0.01274759043008089,
          0.013085314072668552,
          0.01477192435413599,
          0.01870509423315525,
          0.025341195985674858,
          0.0279677901417017,
          0.029628382995724678,
          0.03334996849298477,
          0.03462561219930649,
          0.036360617727041245,
          0.04722041264176369,
          0.05266629159450531,
          0.054635897278785706,
          0.14475683867931366,
          0.30519899725914
         ],
         "xaxis": "x",
         "y": [
          "renda_nom_dom_part_perm",
          "has_furnitures",
          "publicationType",
          "has_games",
          "has_balcony",
          "has_closet",
          "has_toilet",
          "total_dom_part_improvisados",
          "bedrooms",
          "nao_ident_logradouro_alugados",
          "nao_ident_logradouro_proprios",
          "ilum_publica_alugados",
          "renda_nom_dom_part_imp",
          "renda_nom_dom_sal_baixo2",
          "nao_ilum_publica_proprios",
          "has_garden",
          "has_pool",
          "totalAreas",
          "renda_nom_dom_sal_baixo1",
          "has_partyRoom",
          "renda_nom_dom_sal_baixo3",
          "has_gym",
          "renda_nom_dom_sal_baixo4",
          "has_playground",
          "ident_logradouro_proprios",
          "yearlyIptu",
          "nao_ilum_publica_alugados",
          "renda_nom_dom_sal_medio1",
          "ilum_publica_proprios",
          "renda_nom_dom_sal_medio2",
          "renda_nom_dom_sal_alto1",
          "renda_nom_dom_part",
          "renda_nom_dom_sal_medio3",
          "has_lobby",
          "renda_nom_dom_sal_alto2",
          "bathrooms",
          "renda_nom_dom_sem_rendimento",
          "suites",
          "ident_logradouro_alugados",
          "monthlyCondoFee",
          "has_grill",
          "geohash_5",
          "parkingSpaces",
          "usableAreas",
          "businessType"
         ],
         "yaxis": "y"
        }
       ],
       "layout": {
        "barmode": "relative",
        "height": 1200,
        "legend": {
         "tracegroupgap": 0
        },
        "margin": {
         "t": 60
        },
        "template": {
         "data": {
          "bar": [
           {
            "error_x": {
             "color": "#2a3f5f"
            },
            "error_y": {
             "color": "#2a3f5f"
            },
            "marker": {
             "line": {
              "color": "#E5ECF6",
              "width": 0.5
             }
            },
            "type": "bar"
           }
          ],
          "barpolar": [
           {
            "marker": {
             "line": {
              "color": "#E5ECF6",
              "width": 0.5
             }
            },
            "type": "barpolar"
           }
          ],
          "carpet": [
           {
            "aaxis": {
             "endlinecolor": "#2a3f5f",
             "gridcolor": "white",
             "linecolor": "white",
             "minorgridcolor": "white",
             "startlinecolor": "#2a3f5f"
            },
            "baxis": {
             "endlinecolor": "#2a3f5f",
             "gridcolor": "white",
             "linecolor": "white",
             "minorgridcolor": "white",
             "startlinecolor": "#2a3f5f"
            },
            "type": "carpet"
           }
          ],
          "choropleth": [
           {
            "colorbar": {
             "outlinewidth": 0,
             "ticks": ""
            },
            "type": "choropleth"
           }
          ],
          "contour": [
           {
            "colorbar": {
             "outlinewidth": 0,
             "ticks": ""
            },
            "colorscale": [
             [
              0,
              "#0d0887"
             ],
             [
              0.1111111111111111,
              "#46039f"
             ],
             [
              0.2222222222222222,
              "#7201a8"
             ],
             [
              0.3333333333333333,
              "#9c179e"
             ],
             [
              0.4444444444444444,
              "#bd3786"
             ],
             [
              0.5555555555555556,
              "#d8576b"
             ],
             [
              0.6666666666666666,
              "#ed7953"
             ],
             [
              0.7777777777777778,
              "#fb9f3a"
             ],
             [
              0.8888888888888888,
              "#fdca26"
             ],
             [
              1,
              "#f0f921"
             ]
            ],
            "type": "contour"
           }
          ],
          "contourcarpet": [
           {
            "colorbar": {
             "outlinewidth": 0,
             "ticks": ""
            },
            "type": "contourcarpet"
           }
          ],
          "heatmap": [
           {
            "colorbar": {
             "outlinewidth": 0,
             "ticks": ""
            },
            "colorscale": [
             [
              0,
              "#0d0887"
             ],
             [
              0.1111111111111111,
              "#46039f"
             ],
             [
              0.2222222222222222,
              "#7201a8"
             ],
             [
              0.3333333333333333,
              "#9c179e"
             ],
             [
              0.4444444444444444,
              "#bd3786"
             ],
             [
              0.5555555555555556,
              "#d8576b"
             ],
             [
              0.6666666666666666,
              "#ed7953"
             ],
             [
              0.7777777777777778,
              "#fb9f3a"
             ],
             [
              0.8888888888888888,
              "#fdca26"
             ],
             [
              1,
              "#f0f921"
             ]
            ],
            "type": "heatmap"
           }
          ],
          "heatmapgl": [
           {
            "colorbar": {
             "outlinewidth": 0,
             "ticks": ""
            },
            "colorscale": [
             [
              0,
              "#0d0887"
             ],
             [
              0.1111111111111111,
              "#46039f"
             ],
             [
              0.2222222222222222,
              "#7201a8"
             ],
             [
              0.3333333333333333,
              "#9c179e"
             ],
             [
              0.4444444444444444,
              "#bd3786"
             ],
             [
              0.5555555555555556,
              "#d8576b"
             ],
             [
              0.6666666666666666,
              "#ed7953"
             ],
             [
              0.7777777777777778,
              "#fb9f3a"
             ],
             [
              0.8888888888888888,
              "#fdca26"
             ],
             [
              1,
              "#f0f921"
             ]
            ],
            "type": "heatmapgl"
           }
          ],
          "histogram": [
           {
            "marker": {
             "colorbar": {
              "outlinewidth": 0,
              "ticks": ""
             }
            },
            "type": "histogram"
           }
          ],
          "histogram2d": [
           {
            "colorbar": {
             "outlinewidth": 0,
             "ticks": ""
            },
            "colorscale": [
             [
              0,
              "#0d0887"
             ],
             [
              0.1111111111111111,
              "#46039f"
             ],
             [
              0.2222222222222222,
              "#7201a8"
             ],
             [
              0.3333333333333333,
              "#9c179e"
             ],
             [
              0.4444444444444444,
              "#bd3786"
             ],
             [
              0.5555555555555556,
              "#d8576b"
             ],
             [
              0.6666666666666666,
              "#ed7953"
             ],
             [
              0.7777777777777778,
              "#fb9f3a"
             ],
             [
              0.8888888888888888,
              "#fdca26"
             ],
             [
              1,
              "#f0f921"
             ]
            ],
            "type": "histogram2d"
           }
          ],
          "histogram2dcontour": [
           {
            "colorbar": {
             "outlinewidth": 0,
             "ticks": ""
            },
            "colorscale": [
             [
              0,
              "#0d0887"
             ],
             [
              0.1111111111111111,
              "#46039f"
             ],
             [
              0.2222222222222222,
              "#7201a8"
             ],
             [
              0.3333333333333333,
              "#9c179e"
             ],
             [
              0.4444444444444444,
              "#bd3786"
             ],
             [
              0.5555555555555556,
              "#d8576b"
             ],
             [
              0.6666666666666666,
              "#ed7953"
             ],
             [
              0.7777777777777778,
              "#fb9f3a"
             ],
             [
              0.8888888888888888,
              "#fdca26"
             ],
             [
              1,
              "#f0f921"
             ]
            ],
            "type": "histogram2dcontour"
           }
          ],
          "mesh3d": [
           {
            "colorbar": {
             "outlinewidth": 0,
             "ticks": ""
            },
            "type": "mesh3d"
           }
          ],
          "parcoords": [
           {
            "line": {
             "colorbar": {
              "outlinewidth": 0,
              "ticks": ""
             }
            },
            "type": "parcoords"
           }
          ],
          "pie": [
           {
            "automargin": true,
            "type": "pie"
           }
          ],
          "scatter": [
           {
            "marker": {
             "colorbar": {
              "outlinewidth": 0,
              "ticks": ""
             }
            },
            "type": "scatter"
           }
          ],
          "scatter3d": [
           {
            "line": {
             "colorbar": {
              "outlinewidth": 0,
              "ticks": ""
             }
            },
            "marker": {
             "colorbar": {
              "outlinewidth": 0,
              "ticks": ""
             }
            },
            "type": "scatter3d"
           }
          ],
          "scattercarpet": [
           {
            "marker": {
             "colorbar": {
              "outlinewidth": 0,
              "ticks": ""
             }
            },
            "type": "scattercarpet"
           }
          ],
          "scattergeo": [
           {
            "marker": {
             "colorbar": {
              "outlinewidth": 0,
              "ticks": ""
             }
            },
            "type": "scattergeo"
           }
          ],
          "scattergl": [
           {
            "marker": {
             "colorbar": {
              "outlinewidth": 0,
              "ticks": ""
             }
            },
            "type": "scattergl"
           }
          ],
          "scattermapbox": [
           {
            "marker": {
             "colorbar": {
              "outlinewidth": 0,
              "ticks": ""
             }
            },
            "type": "scattermapbox"
           }
          ],
          "scatterpolar": [
           {
            "marker": {
             "colorbar": {
              "outlinewidth": 0,
              "ticks": ""
             }
            },
            "type": "scatterpolar"
           }
          ],
          "scatterpolargl": [
           {
            "marker": {
             "colorbar": {
              "outlinewidth": 0,
              "ticks": ""
             }
            },
            "type": "scatterpolargl"
           }
          ],
          "scatterternary": [
           {
            "marker": {
             "colorbar": {
              "outlinewidth": 0,
              "ticks": ""
             }
            },
            "type": "scatterternary"
           }
          ],
          "surface": [
           {
            "colorbar": {
             "outlinewidth": 0,
             "ticks": ""
            },
            "colorscale": [
             [
              0,
              "#0d0887"
             ],
             [
              0.1111111111111111,
              "#46039f"
             ],
             [
              0.2222222222222222,
              "#7201a8"
             ],
             [
              0.3333333333333333,
              "#9c179e"
             ],
             [
              0.4444444444444444,
              "#bd3786"
             ],
             [
              0.5555555555555556,
              "#d8576b"
             ],
             [
              0.6666666666666666,
              "#ed7953"
             ],
             [
              0.7777777777777778,
              "#fb9f3a"
             ],
             [
              0.8888888888888888,
              "#fdca26"
             ],
             [
              1,
              "#f0f921"
             ]
            ],
            "type": "surface"
           }
          ],
          "table": [
           {
            "cells": {
             "fill": {
              "color": "#EBF0F8"
             },
             "line": {
              "color": "white"
             }
            },
            "header": {
             "fill": {
              "color": "#C8D4E3"
             },
             "line": {
              "color": "white"
             }
            },
            "type": "table"
           }
          ]
         },
         "layout": {
          "annotationdefaults": {
           "arrowcolor": "#2a3f5f",
           "arrowhead": 0,
           "arrowwidth": 1
          },
          "coloraxis": {
           "colorbar": {
            "outlinewidth": 0,
            "ticks": ""
           }
          },
          "colorscale": {
           "diverging": [
            [
             0,
             "#8e0152"
            ],
            [
             0.1,
             "#c51b7d"
            ],
            [
             0.2,
             "#de77ae"
            ],
            [
             0.3,
             "#f1b6da"
            ],
            [
             0.4,
             "#fde0ef"
            ],
            [
             0.5,
             "#f7f7f7"
            ],
            [
             0.6,
             "#e6f5d0"
            ],
            [
             0.7,
             "#b8e186"
            ],
            [
             0.8,
             "#7fbc41"
            ],
            [
             0.9,
             "#4d9221"
            ],
            [
             1,
             "#276419"
            ]
           ],
           "sequential": [
            [
             0,
             "#0d0887"
            ],
            [
             0.1111111111111111,
             "#46039f"
            ],
            [
             0.2222222222222222,
             "#7201a8"
            ],
            [
             0.3333333333333333,
             "#9c179e"
            ],
            [
             0.4444444444444444,
             "#bd3786"
            ],
            [
             0.5555555555555556,
             "#d8576b"
            ],
            [
             0.6666666666666666,
             "#ed7953"
            ],
            [
             0.7777777777777778,
             "#fb9f3a"
            ],
            [
             0.8888888888888888,
             "#fdca26"
            ],
            [
             1,
             "#f0f921"
            ]
           ],
           "sequentialminus": [
            [
             0,
             "#0d0887"
            ],
            [
             0.1111111111111111,
             "#46039f"
            ],
            [
             0.2222222222222222,
             "#7201a8"
            ],
            [
             0.3333333333333333,
             "#9c179e"
            ],
            [
             0.4444444444444444,
             "#bd3786"
            ],
            [
             0.5555555555555556,
             "#d8576b"
            ],
            [
             0.6666666666666666,
             "#ed7953"
            ],
            [
             0.7777777777777778,
             "#fb9f3a"
            ],
            [
             0.8888888888888888,
             "#fdca26"
            ],
            [
             1,
             "#f0f921"
            ]
           ]
          },
          "colorway": [
           "#636efa",
           "#EF553B",
           "#00cc96",
           "#ab63fa",
           "#FFA15A",
           "#19d3f3",
           "#FF6692",
           "#B6E880",
           "#FF97FF",
           "#FECB52"
          ],
          "font": {
           "color": "#2a3f5f"
          },
          "geo": {
           "bgcolor": "white",
           "lakecolor": "white",
           "landcolor": "#E5ECF6",
           "showlakes": true,
           "showland": true,
           "subunitcolor": "white"
          },
          "hoverlabel": {
           "align": "left"
          },
          "hovermode": "closest",
          "mapbox": {
           "style": "light"
          },
          "paper_bgcolor": "white",
          "plot_bgcolor": "#E5ECF6",
          "polar": {
           "angularaxis": {
            "gridcolor": "white",
            "linecolor": "white",
            "ticks": ""
           },
           "bgcolor": "#E5ECF6",
           "radialaxis": {
            "gridcolor": "white",
            "linecolor": "white",
            "ticks": ""
           }
          },
          "scene": {
           "xaxis": {
            "backgroundcolor": "#E5ECF6",
            "gridcolor": "white",
            "gridwidth": 2,
            "linecolor": "white",
            "showbackground": true,
            "ticks": "",
            "zerolinecolor": "white"
           },
           "yaxis": {
            "backgroundcolor": "#E5ECF6",
            "gridcolor": "white",
            "gridwidth": 2,
            "linecolor": "white",
            "showbackground": true,
            "ticks": "",
            "zerolinecolor": "white"
           },
           "zaxis": {
            "backgroundcolor": "#E5ECF6",
            "gridcolor": "white",
            "gridwidth": 2,
            "linecolor": "white",
            "showbackground": true,
            "ticks": "",
            "zerolinecolor": "white"
           }
          },
          "shapedefaults": {
           "line": {
            "color": "#2a3f5f"
           }
          },
          "ternary": {
           "aaxis": {
            "gridcolor": "white",
            "linecolor": "white",
            "ticks": ""
           },
           "baxis": {
            "gridcolor": "white",
            "linecolor": "white",
            "ticks": ""
           },
           "bgcolor": "#E5ECF6",
           "caxis": {
            "gridcolor": "white",
            "linecolor": "white",
            "ticks": ""
           }
          },
          "title": {
           "x": 0.05
          },
          "xaxis": {
           "automargin": true,
           "gridcolor": "white",
           "linecolor": "white",
           "ticks": "",
           "title": {
            "standoff": 15
           },
           "zerolinecolor": "white",
           "zerolinewidth": 2
          },
          "yaxis": {
           "automargin": true,
           "gridcolor": "white",
           "linecolor": "white",
           "ticks": "",
           "title": {
            "standoff": 15
           },
           "zerolinecolor": "white",
           "zerolinewidth": 2
          }
         }
        },
        "xaxis": {
         "anchor": "y",
         "domain": [
          0,
          1
         ],
         "title": {
          "text": "importances"
         }
        },
        "yaxis": {
         "anchor": "x",
         "domain": [
          0,
          1
         ],
         "title": {
          "text": "features"
         }
        }
       }
      },
      "text/html": [
       "<div>                            <div id=\"7b57d14a-86f2-449a-8822-f7901aa99e52\" class=\"plotly-graph-div\" style=\"height:1200px; width:100%;\"></div>            <script type=\"text/javascript\">                require([\"plotly\"], function(Plotly) {                    window.PLOTLYENV=window.PLOTLYENV || {};                                    if (document.getElementById(\"7b57d14a-86f2-449a-8822-f7901aa99e52\")) {                    Plotly.newPlot(                        \"7b57d14a-86f2-449a-8822-f7901aa99e52\",                        [{\"alignmentgroup\": \"True\", \"hovertemplate\": \"importances=%{x}<br>features=%{y}<extra></extra>\", \"legendgroup\": \"\", \"marker\": {\"color\": \"#636efa\"}, \"name\": \"\", \"offsetgroup\": \"\", \"orientation\": \"h\", \"showlegend\": false, \"textposition\": \"auto\", \"type\": \"bar\", \"x\": [0.0006908937939442694, 0.0016712835058569908, 0.0017118959221988916, 0.0018491377122700214, 0.001985482405871153, 0.002215030137449503, 0.0022195870988070965, 0.002272956073284149, 0.0024001600686460733, 0.0024896825198084116, 0.002719273092225194, 0.002839014632627368, 0.002906493376940489, 0.003130263416096568, 0.0034744329750537872, 0.003766739508137107, 0.004169104155153036, 0.0051419492810964584, 0.005854732356965542, 0.0060110511258244514, 0.006364774890244007, 0.006560254376381636, 0.007284536492079496, 0.007350139785557985, 0.007779071573168039, 0.008275952190160751, 0.010684222914278507, 0.011039778590202332, 0.011658179573714733, 0.012421981431543827, 0.01274759043008089, 0.013085314072668552, 0.01477192435413599, 0.01870509423315525, 0.025341195985674858, 0.0279677901417017, 0.029628382995724678, 0.03334996849298477, 0.03462561219930649, 0.036360617727041245, 0.04722041264176369, 0.05266629159450531, 0.054635897278785706, 0.14475683867931366, 0.30519899725914], \"xaxis\": \"x\", \"y\": [\"renda_nom_dom_part_perm\", \"has_furnitures\", \"publicationType\", \"has_games\", \"has_balcony\", \"has_closet\", \"has_toilet\", \"total_dom_part_improvisados\", \"bedrooms\", \"nao_ident_logradouro_alugados\", \"nao_ident_logradouro_proprios\", \"ilum_publica_alugados\", \"renda_nom_dom_part_imp\", \"renda_nom_dom_sal_baixo2\", \"nao_ilum_publica_proprios\", \"has_garden\", \"has_pool\", \"totalAreas\", \"renda_nom_dom_sal_baixo1\", \"has_partyRoom\", \"renda_nom_dom_sal_baixo3\", \"has_gym\", \"renda_nom_dom_sal_baixo4\", \"has_playground\", \"ident_logradouro_proprios\", \"yearlyIptu\", \"nao_ilum_publica_alugados\", \"renda_nom_dom_sal_medio1\", \"ilum_publica_proprios\", \"renda_nom_dom_sal_medio2\", \"renda_nom_dom_sal_alto1\", \"renda_nom_dom_part\", \"renda_nom_dom_sal_medio3\", \"has_lobby\", \"renda_nom_dom_sal_alto2\", \"bathrooms\", \"renda_nom_dom_sem_rendimento\", \"suites\", \"ident_logradouro_alugados\", \"monthlyCondoFee\", \"has_grill\", \"geohash_5\", \"parkingSpaces\", \"usableAreas\", \"businessType\"], \"yaxis\": \"y\"}],                        {\"barmode\": \"relative\", \"height\": 1200, \"legend\": {\"tracegroupgap\": 0}, \"margin\": {\"t\": 60}, \"template\": {\"data\": {\"bar\": [{\"error_x\": {\"color\": \"#2a3f5f\"}, \"error_y\": {\"color\": \"#2a3f5f\"}, \"marker\": {\"line\": {\"color\": \"#E5ECF6\", \"width\": 0.5}}, \"type\": \"bar\"}], \"barpolar\": [{\"marker\": {\"line\": {\"color\": \"#E5ECF6\", \"width\": 0.5}}, \"type\": \"barpolar\"}], \"carpet\": [{\"aaxis\": {\"endlinecolor\": \"#2a3f5f\", \"gridcolor\": \"white\", \"linecolor\": \"white\", \"minorgridcolor\": \"white\", \"startlinecolor\": \"#2a3f5f\"}, \"baxis\": {\"endlinecolor\": \"#2a3f5f\", \"gridcolor\": \"white\", \"linecolor\": \"white\", \"minorgridcolor\": \"white\", \"startlinecolor\": \"#2a3f5f\"}, \"type\": \"carpet\"}], \"choropleth\": [{\"colorbar\": {\"outlinewidth\": 0, \"ticks\": \"\"}, \"type\": \"choropleth\"}], \"contour\": [{\"colorbar\": {\"outlinewidth\": 0, \"ticks\": \"\"}, \"colorscale\": [[0.0, \"#0d0887\"], [0.1111111111111111, \"#46039f\"], [0.2222222222222222, \"#7201a8\"], [0.3333333333333333, \"#9c179e\"], [0.4444444444444444, \"#bd3786\"], [0.5555555555555556, \"#d8576b\"], [0.6666666666666666, \"#ed7953\"], [0.7777777777777778, \"#fb9f3a\"], [0.8888888888888888, \"#fdca26\"], [1.0, \"#f0f921\"]], \"type\": \"contour\"}], \"contourcarpet\": [{\"colorbar\": {\"outlinewidth\": 0, \"ticks\": \"\"}, \"type\": \"contourcarpet\"}], \"heatmap\": [{\"colorbar\": {\"outlinewidth\": 0, \"ticks\": \"\"}, \"colorscale\": [[0.0, \"#0d0887\"], [0.1111111111111111, \"#46039f\"], [0.2222222222222222, \"#7201a8\"], [0.3333333333333333, \"#9c179e\"], [0.4444444444444444, \"#bd3786\"], [0.5555555555555556, \"#d8576b\"], [0.6666666666666666, \"#ed7953\"], [0.7777777777777778, \"#fb9f3a\"], [0.8888888888888888, \"#fdca26\"], [1.0, \"#f0f921\"]], \"type\": \"heatmap\"}], \"heatmapgl\": [{\"colorbar\": {\"outlinewidth\": 0, \"ticks\": \"\"}, \"colorscale\": [[0.0, \"#0d0887\"], [0.1111111111111111, \"#46039f\"], [0.2222222222222222, \"#7201a8\"], [0.3333333333333333, \"#9c179e\"], [0.4444444444444444, \"#bd3786\"], [0.5555555555555556, \"#d8576b\"], [0.6666666666666666, \"#ed7953\"], [0.7777777777777778, \"#fb9f3a\"], [0.8888888888888888, \"#fdca26\"], [1.0, \"#f0f921\"]], \"type\": \"heatmapgl\"}], \"histogram\": [{\"marker\": {\"colorbar\": {\"outlinewidth\": 0, \"ticks\": \"\"}}, \"type\": \"histogram\"}], \"histogram2d\": [{\"colorbar\": {\"outlinewidth\": 0, \"ticks\": \"\"}, \"colorscale\": [[0.0, \"#0d0887\"], [0.1111111111111111, \"#46039f\"], [0.2222222222222222, \"#7201a8\"], [0.3333333333333333, \"#9c179e\"], [0.4444444444444444, \"#bd3786\"], [0.5555555555555556, \"#d8576b\"], [0.6666666666666666, \"#ed7953\"], [0.7777777777777778, \"#fb9f3a\"], [0.8888888888888888, \"#fdca26\"], [1.0, \"#f0f921\"]], \"type\": \"histogram2d\"}], \"histogram2dcontour\": [{\"colorbar\": {\"outlinewidth\": 0, \"ticks\": \"\"}, \"colorscale\": [[0.0, \"#0d0887\"], [0.1111111111111111, \"#46039f\"], [0.2222222222222222, \"#7201a8\"], [0.3333333333333333, \"#9c179e\"], [0.4444444444444444, \"#bd3786\"], [0.5555555555555556, \"#d8576b\"], [0.6666666666666666, \"#ed7953\"], [0.7777777777777778, \"#fb9f3a\"], [0.8888888888888888, \"#fdca26\"], [1.0, \"#f0f921\"]], \"type\": \"histogram2dcontour\"}], \"mesh3d\": [{\"colorbar\": {\"outlinewidth\": 0, \"ticks\": \"\"}, \"type\": \"mesh3d\"}], \"parcoords\": [{\"line\": {\"colorbar\": {\"outlinewidth\": 0, \"ticks\": \"\"}}, \"type\": \"parcoords\"}], \"pie\": [{\"automargin\": true, \"type\": \"pie\"}], \"scatter\": [{\"marker\": {\"colorbar\": {\"outlinewidth\": 0, \"ticks\": \"\"}}, \"type\": \"scatter\"}], \"scatter3d\": [{\"line\": {\"colorbar\": {\"outlinewidth\": 0, \"ticks\": \"\"}}, \"marker\": {\"colorbar\": {\"outlinewidth\": 0, \"ticks\": \"\"}}, \"type\": \"scatter3d\"}], \"scattercarpet\": [{\"marker\": {\"colorbar\": {\"outlinewidth\": 0, \"ticks\": \"\"}}, \"type\": \"scattercarpet\"}], \"scattergeo\": [{\"marker\": {\"colorbar\": {\"outlinewidth\": 0, \"ticks\": \"\"}}, \"type\": \"scattergeo\"}], \"scattergl\": [{\"marker\": {\"colorbar\": {\"outlinewidth\": 0, \"ticks\": \"\"}}, \"type\": \"scattergl\"}], \"scattermapbox\": [{\"marker\": {\"colorbar\": {\"outlinewidth\": 0, \"ticks\": \"\"}}, \"type\": \"scattermapbox\"}], \"scatterpolar\": [{\"marker\": {\"colorbar\": {\"outlinewidth\": 0, \"ticks\": \"\"}}, \"type\": \"scatterpolar\"}], \"scatterpolargl\": [{\"marker\": {\"colorbar\": {\"outlinewidth\": 0, \"ticks\": \"\"}}, \"type\": \"scatterpolargl\"}], \"scatterternary\": [{\"marker\": {\"colorbar\": {\"outlinewidth\": 0, \"ticks\": \"\"}}, \"type\": \"scatterternary\"}], \"surface\": [{\"colorbar\": {\"outlinewidth\": 0, \"ticks\": \"\"}, \"colorscale\": [[0.0, \"#0d0887\"], [0.1111111111111111, \"#46039f\"], [0.2222222222222222, \"#7201a8\"], [0.3333333333333333, \"#9c179e\"], [0.4444444444444444, \"#bd3786\"], [0.5555555555555556, \"#d8576b\"], [0.6666666666666666, \"#ed7953\"], [0.7777777777777778, \"#fb9f3a\"], [0.8888888888888888, \"#fdca26\"], [1.0, \"#f0f921\"]], \"type\": \"surface\"}], \"table\": [{\"cells\": {\"fill\": {\"color\": \"#EBF0F8\"}, \"line\": {\"color\": \"white\"}}, \"header\": {\"fill\": {\"color\": \"#C8D4E3\"}, \"line\": {\"color\": \"white\"}}, \"type\": \"table\"}]}, \"layout\": {\"annotationdefaults\": {\"arrowcolor\": \"#2a3f5f\", \"arrowhead\": 0, \"arrowwidth\": 1}, \"coloraxis\": {\"colorbar\": {\"outlinewidth\": 0, \"ticks\": \"\"}}, \"colorscale\": {\"diverging\": [[0, \"#8e0152\"], [0.1, \"#c51b7d\"], [0.2, \"#de77ae\"], [0.3, \"#f1b6da\"], [0.4, \"#fde0ef\"], [0.5, \"#f7f7f7\"], [0.6, \"#e6f5d0\"], [0.7, \"#b8e186\"], [0.8, \"#7fbc41\"], [0.9, \"#4d9221\"], [1, \"#276419\"]], \"sequential\": [[0.0, \"#0d0887\"], [0.1111111111111111, \"#46039f\"], [0.2222222222222222, \"#7201a8\"], [0.3333333333333333, \"#9c179e\"], [0.4444444444444444, \"#bd3786\"], [0.5555555555555556, \"#d8576b\"], [0.6666666666666666, \"#ed7953\"], [0.7777777777777778, \"#fb9f3a\"], [0.8888888888888888, \"#fdca26\"], [1.0, \"#f0f921\"]], \"sequentialminus\": [[0.0, \"#0d0887\"], [0.1111111111111111, \"#46039f\"], [0.2222222222222222, \"#7201a8\"], [0.3333333333333333, \"#9c179e\"], [0.4444444444444444, \"#bd3786\"], [0.5555555555555556, \"#d8576b\"], [0.6666666666666666, \"#ed7953\"], [0.7777777777777778, \"#fb9f3a\"], [0.8888888888888888, \"#fdca26\"], [1.0, \"#f0f921\"]]}, \"colorway\": [\"#636efa\", \"#EF553B\", \"#00cc96\", \"#ab63fa\", \"#FFA15A\", \"#19d3f3\", \"#FF6692\", \"#B6E880\", \"#FF97FF\", \"#FECB52\"], \"font\": {\"color\": \"#2a3f5f\"}, \"geo\": {\"bgcolor\": \"white\", \"lakecolor\": \"white\", \"landcolor\": \"#E5ECF6\", \"showlakes\": true, \"showland\": true, \"subunitcolor\": \"white\"}, \"hoverlabel\": {\"align\": \"left\"}, \"hovermode\": \"closest\", \"mapbox\": {\"style\": \"light\"}, \"paper_bgcolor\": \"white\", \"plot_bgcolor\": \"#E5ECF6\", \"polar\": {\"angularaxis\": {\"gridcolor\": \"white\", \"linecolor\": \"white\", \"ticks\": \"\"}, \"bgcolor\": \"#E5ECF6\", \"radialaxis\": {\"gridcolor\": \"white\", \"linecolor\": \"white\", \"ticks\": \"\"}}, \"scene\": {\"xaxis\": {\"backgroundcolor\": \"#E5ECF6\", \"gridcolor\": \"white\", \"gridwidth\": 2, \"linecolor\": \"white\", \"showbackground\": true, \"ticks\": \"\", \"zerolinecolor\": \"white\"}, \"yaxis\": {\"backgroundcolor\": \"#E5ECF6\", \"gridcolor\": \"white\", \"gridwidth\": 2, \"linecolor\": \"white\", \"showbackground\": true, \"ticks\": \"\", \"zerolinecolor\": \"white\"}, \"zaxis\": {\"backgroundcolor\": \"#E5ECF6\", \"gridcolor\": \"white\", \"gridwidth\": 2, \"linecolor\": \"white\", \"showbackground\": true, \"ticks\": \"\", \"zerolinecolor\": \"white\"}}, \"shapedefaults\": {\"line\": {\"color\": \"#2a3f5f\"}}, \"ternary\": {\"aaxis\": {\"gridcolor\": \"white\", \"linecolor\": \"white\", \"ticks\": \"\"}, \"baxis\": {\"gridcolor\": \"white\", \"linecolor\": \"white\", \"ticks\": \"\"}, \"bgcolor\": \"#E5ECF6\", \"caxis\": {\"gridcolor\": \"white\", \"linecolor\": \"white\", \"ticks\": \"\"}}, \"title\": {\"x\": 0.05}, \"xaxis\": {\"automargin\": true, \"gridcolor\": \"white\", \"linecolor\": \"white\", \"ticks\": \"\", \"title\": {\"standoff\": 15}, \"zerolinecolor\": \"white\", \"zerolinewidth\": 2}, \"yaxis\": {\"automargin\": true, \"gridcolor\": \"white\", \"linecolor\": \"white\", \"ticks\": \"\", \"title\": {\"standoff\": 15}, \"zerolinecolor\": \"white\", \"zerolinewidth\": 2}}}, \"xaxis\": {\"anchor\": \"y\", \"domain\": [0.0, 1.0], \"title\": {\"text\": \"importances\"}}, \"yaxis\": {\"anchor\": \"x\", \"domain\": [0.0, 1.0], \"title\": {\"text\": \"features\"}}},                        {\"responsive\": true}                    ).then(function(){\n",
       "                            \n",
       "var gd = document.getElementById('7b57d14a-86f2-449a-8822-f7901aa99e52');\n",
       "var x = new MutationObserver(function (mutations, observer) {{\n",
       "        var display = window.getComputedStyle(gd).display;\n",
       "        if (!display || display === 'none') {{\n",
       "            console.log([gd, 'removed!']);\n",
       "            Plotly.purge(gd);\n",
       "            observer.disconnect();\n",
       "        }}\n",
       "}});\n",
       "\n",
       "// Listen for the removal of the full notebook cells\n",
       "var notebookContainer = gd.closest('#notebook-container');\n",
       "if (notebookContainer) {{\n",
       "    x.observe(notebookContainer, {childList: true});\n",
       "}}\n",
       "\n",
       "// Listen for the clearing of the current output cell\n",
       "var outputEl = gd.closest('.output');\n",
       "if (outputEl) {{\n",
       "    x.observe(outputEl, {childList: true});\n",
       "}}\n",
       "\n",
       "                        })                };                });            </script>        </div>"
      ]
     },
     "metadata": {},
     "output_type": "display_data"
    }
   ],
   "source": [
    "df_feats_importances = pd.DataFrame({\"features\": X_train.columns,\n",
    "                                     \"importances\": xgb_model.feature_importances_})\n",
    "\n",
    "df_feats_importances.sort_values(by=\"importances\", ascending=True, inplace=True)\n",
    "\n",
    "px.bar(df_feats_importances, x=\"importances\", y=\"features\", height=1200)"
   ]
  },
  {
   "cell_type": "markdown",
   "metadata": {},
   "source": [
    "## Hyperparameter optimization\n",
    "\n",
    "In the next cell we'll run Grid Search to find best parameters. We'll apply cross-validation as well.\n",
    "\n",
    "\n",
    "- [XGBRegressor Class - Docs](https://xgboost.readthedocs.io/en/latest/python/python_api.html#module-xgboost.sklearn)\n",
    "- [XGBoost Parameters - Docs](https://xgboost.readthedocs.io/en/latest/parameter.html)"
   ]
  },
  {
   "cell_type": "code",
   "execution_count": 13,
   "metadata": {},
   "outputs": [
    {
     "name": "stdout",
     "output_type": "stream",
     "text": [
      "Fitting 5 folds for each of 4 candidates, totalling 20 fits\n"
     ]
    },
    {
     "name": "stderr",
     "output_type": "stream",
     "text": [
      "[Parallel(n_jobs=4)]: Using backend LokyBackend with 4 concurrent workers.\n",
      "[Parallel(n_jobs=4)]: Done  20 out of  20 | elapsed:   37.5s remaining:    0.0s\n",
      "[Parallel(n_jobs=4)]: Done  20 out of  20 | elapsed:   37.5s finished\n",
      "[Parallel(n_jobs=4)]: Using backend LokyBackend with 4 concurrent workers.\n"
     ]
    },
    {
     "name": "stdout",
     "output_type": "stream",
     "text": [
      "Fitting 5 folds for each of 4 candidates, totalling 20 fits\n"
     ]
    },
    {
     "name": "stderr",
     "output_type": "stream",
     "text": [
      "[Parallel(n_jobs=4)]: Done  20 out of  20 | elapsed:   28.4s remaining:    0.0s\n",
      "[Parallel(n_jobs=4)]: Done  20 out of  20 | elapsed:   28.4s finished\n"
     ]
    },
    {
     "name": "stdout",
     "output_type": "stream",
     "text": [
      "Fitting 5 folds for each of 4 candidates, totalling 20 fits\n"
     ]
    },
    {
     "name": "stderr",
     "output_type": "stream",
     "text": [
      "[Parallel(n_jobs=4)]: Using backend LokyBackend with 4 concurrent workers.\n",
      "[Parallel(n_jobs=4)]: Done  20 out of  20 | elapsed:   41.9s remaining:    0.0s\n",
      "[Parallel(n_jobs=4)]: Done  20 out of  20 | elapsed:   41.9s finished\n"
     ]
    },
    {
     "name": "stdout",
     "output_type": "stream",
     "text": [
      "Fitting 5 folds for each of 4 candidates, totalling 20 fits\n"
     ]
    },
    {
     "name": "stderr",
     "output_type": "stream",
     "text": [
      "[Parallel(n_jobs=4)]: Using backend LokyBackend with 4 concurrent workers.\n",
      "[Parallel(n_jobs=4)]: Done  20 out of  20 | elapsed:  1.5min remaining:    0.0s\n",
      "[Parallel(n_jobs=4)]: Done  20 out of  20 | elapsed:  1.5min finished\n"
     ]
    },
    {
     "name": "stdout",
     "output_type": "stream",
     "text": [
      "Fitting 5 folds for each of 4 candidates, totalling 20 fits\n"
     ]
    },
    {
     "name": "stderr",
     "output_type": "stream",
     "text": [
      "[Parallel(n_jobs=4)]: Using backend LokyBackend with 4 concurrent workers.\n",
      "[Parallel(n_jobs=4)]: Done  20 out of  20 | elapsed:   53.0s remaining:    0.0s\n",
      "[Parallel(n_jobs=4)]: Done  20 out of  20 | elapsed:   53.0s finished\n"
     ]
    },
    {
     "name": "stdout",
     "output_type": "stream",
     "text": [
      "Fitting 5 folds for each of 4 candidates, totalling 20 fits\n"
     ]
    },
    {
     "name": "stderr",
     "output_type": "stream",
     "text": [
      "[Parallel(n_jobs=4)]: Using backend LokyBackend with 4 concurrent workers.\n",
      "[Parallel(n_jobs=4)]: Done  20 out of  20 | elapsed:   34.4s remaining:    0.0s\n",
      "[Parallel(n_jobs=4)]: Done  20 out of  20 | elapsed:   34.4s finished\n"
     ]
    },
    {
     "name": "stdout",
     "output_type": "stream",
     "text": [
      "Fitting 5 folds for each of 4 candidates, totalling 20 fits\n"
     ]
    },
    {
     "name": "stderr",
     "output_type": "stream",
     "text": [
      "[Parallel(n_jobs=4)]: Using backend LokyBackend with 4 concurrent workers.\n",
      "[Parallel(n_jobs=4)]: Done  20 out of  20 | elapsed:   12.0s remaining:    0.0s\n",
      "[Parallel(n_jobs=4)]: Done  20 out of  20 | elapsed:   12.0s finished\n"
     ]
    },
    {
     "name": "stdout",
     "output_type": "stream",
     "text": [
      "Fitting 5 folds for each of 4 candidates, totalling 20 fits\n"
     ]
    },
    {
     "name": "stderr",
     "output_type": "stream",
     "text": [
      "[Parallel(n_jobs=4)]: Using backend LokyBackend with 4 concurrent workers.\n",
      "[Parallel(n_jobs=4)]: Done  20 out of  20 | elapsed:  1.2min remaining:    0.0s\n",
      "[Parallel(n_jobs=4)]: Done  20 out of  20 | elapsed:  1.2min finished\n"
     ]
    },
    {
     "name": "stdout",
     "output_type": "stream",
     "text": [
      "Fitting 5 folds for each of 4 candidates, totalling 20 fits\n"
     ]
    },
    {
     "name": "stderr",
     "output_type": "stream",
     "text": [
      "[Parallel(n_jobs=4)]: Using backend LokyBackend with 4 concurrent workers.\n",
      "[Parallel(n_jobs=4)]: Done  20 out of  20 | elapsed:  1.3min remaining:    0.0s\n",
      "[Parallel(n_jobs=4)]: Done  20 out of  20 | elapsed:  1.3min finished\n"
     ]
    },
    {
     "name": "stdout",
     "output_type": "stream",
     "text": [
      "Fitting 5 folds for each of 4 candidates, totalling 20 fits\n"
     ]
    },
    {
     "name": "stderr",
     "output_type": "stream",
     "text": [
      "[Parallel(n_jobs=4)]: Using backend LokyBackend with 4 concurrent workers.\n",
      "[Parallel(n_jobs=4)]: Done  20 out of  20 | elapsed:  1.5min remaining:    0.0s\n",
      "[Parallel(n_jobs=4)]: Done  20 out of  20 | elapsed:  1.5min finished\n"
     ]
    },
    {
     "name": "stdout",
     "output_type": "stream",
     "text": [
      "Fitting 5 folds for each of 4 candidates, totalling 20 fits\n"
     ]
    },
    {
     "name": "stderr",
     "output_type": "stream",
     "text": [
      "[Parallel(n_jobs=4)]: Using backend LokyBackend with 4 concurrent workers.\n",
      "[Parallel(n_jobs=4)]: Done  20 out of  20 | elapsed:  1.2min remaining:    0.0s\n",
      "[Parallel(n_jobs=4)]: Done  20 out of  20 | elapsed:  1.2min finished\n"
     ]
    },
    {
     "name": "stdout",
     "output_type": "stream",
     "text": [
      "Fitting 5 folds for each of 4 candidates, totalling 20 fits\n"
     ]
    },
    {
     "name": "stderr",
     "output_type": "stream",
     "text": [
      "[Parallel(n_jobs=4)]: Using backend LokyBackend with 4 concurrent workers.\n",
      "[Parallel(n_jobs=4)]: Done  20 out of  20 | elapsed:   21.6s remaining:    0.0s\n",
      "[Parallel(n_jobs=4)]: Done  20 out of  20 | elapsed:   21.6s finished\n"
     ]
    },
    {
     "name": "stdout",
     "output_type": "stream",
     "text": [
      "Fitting 5 folds for each of 4 candidates, totalling 20 fits\n"
     ]
    },
    {
     "name": "stderr",
     "output_type": "stream",
     "text": [
      "[Parallel(n_jobs=4)]: Using backend LokyBackend with 4 concurrent workers.\n",
      "[Parallel(n_jobs=4)]: Done  20 out of  20 | elapsed:  1.4min remaining:    0.0s\n",
      "[Parallel(n_jobs=4)]: Done  20 out of  20 | elapsed:  1.4min finished\n"
     ]
    },
    {
     "name": "stdout",
     "output_type": "stream",
     "text": [
      "Fitting 5 folds for each of 4 candidates, totalling 20 fits\n"
     ]
    },
    {
     "name": "stderr",
     "output_type": "stream",
     "text": [
      "[Parallel(n_jobs=4)]: Using backend LokyBackend with 4 concurrent workers.\n",
      "[Parallel(n_jobs=4)]: Done  20 out of  20 | elapsed:   27.7s remaining:    0.0s\n",
      "[Parallel(n_jobs=4)]: Done  20 out of  20 | elapsed:   27.7s finished\n"
     ]
    },
    {
     "name": "stdout",
     "output_type": "stream",
     "text": [
      "Fitting 5 folds for each of 4 candidates, totalling 20 fits\n"
     ]
    },
    {
     "name": "stderr",
     "output_type": "stream",
     "text": [
      "[Parallel(n_jobs=4)]: Using backend LokyBackend with 4 concurrent workers.\n",
      "[Parallel(n_jobs=4)]: Done  20 out of  20 | elapsed:   37.3s remaining:    0.0s\n",
      "[Parallel(n_jobs=4)]: Done  20 out of  20 | elapsed:   37.3s finished\n"
     ]
    },
    {
     "name": "stdout",
     "output_type": "stream",
     "text": [
      "Fitting 5 folds for each of 4 candidates, totalling 20 fits\n"
     ]
    },
    {
     "name": "stderr",
     "output_type": "stream",
     "text": [
      "[Parallel(n_jobs=4)]: Using backend LokyBackend with 4 concurrent workers.\n",
      "[Parallel(n_jobs=4)]: Done  20 out of  20 | elapsed:   51.7s remaining:    0.0s\n",
      "[Parallel(n_jobs=4)]: Done  20 out of  20 | elapsed:   51.7s finished\n"
     ]
    },
    {
     "name": "stdout",
     "output_type": "stream",
     "text": [
      "Fitting 5 folds for each of 4 candidates, totalling 20 fits\n"
     ]
    },
    {
     "name": "stderr",
     "output_type": "stream",
     "text": [
      "[Parallel(n_jobs=4)]: Using backend LokyBackend with 4 concurrent workers.\n",
      "[Parallel(n_jobs=4)]: Done  20 out of  20 | elapsed:   55.0s remaining:    0.0s\n",
      "[Parallel(n_jobs=4)]: Done  20 out of  20 | elapsed:   55.0s finished\n"
     ]
    },
    {
     "name": "stdout",
     "output_type": "stream",
     "text": [
      "Fitting 5 folds for each of 4 candidates, totalling 20 fits\n"
     ]
    },
    {
     "name": "stderr",
     "output_type": "stream",
     "text": [
      "[Parallel(n_jobs=4)]: Using backend LokyBackend with 4 concurrent workers.\n",
      "[Parallel(n_jobs=4)]: Done  20 out of  20 | elapsed:   37.2s remaining:    0.0s\n",
      "[Parallel(n_jobs=4)]: Done  20 out of  20 | elapsed:   37.2s finished\n"
     ]
    },
    {
     "name": "stdout",
     "output_type": "stream",
     "text": [
      "Fitting 5 folds for each of 4 candidates, totalling 20 fits\n"
     ]
    },
    {
     "name": "stderr",
     "output_type": "stream",
     "text": [
      "[Parallel(n_jobs=4)]: Using backend LokyBackend with 4 concurrent workers.\n",
      "[Parallel(n_jobs=4)]: Done  20 out of  20 | elapsed:   25.7s remaining:    0.0s\n",
      "[Parallel(n_jobs=4)]: Done  20 out of  20 | elapsed:   25.7s finished\n"
     ]
    },
    {
     "name": "stdout",
     "output_type": "stream",
     "text": [
      "Fitting 5 folds for each of 4 candidates, totalling 20 fits\n"
     ]
    },
    {
     "name": "stderr",
     "output_type": "stream",
     "text": [
      "[Parallel(n_jobs=4)]: Using backend LokyBackend with 4 concurrent workers.\n",
      "[Parallel(n_jobs=4)]: Done  20 out of  20 | elapsed:  1.2min remaining:    0.0s\n",
      "[Parallel(n_jobs=4)]: Done  20 out of  20 | elapsed:  1.2min finished\n"
     ]
    },
    {
     "name": "stdout",
     "output_type": "stream",
     "text": [
      "Fitting 5 folds for each of 4 candidates, totalling 20 fits\n"
     ]
    },
    {
     "name": "stderr",
     "output_type": "stream",
     "text": [
      "[Parallel(n_jobs=4)]: Using backend LokyBackend with 4 concurrent workers.\n",
      "[Parallel(n_jobs=4)]: Done  20 out of  20 | elapsed:  1.0min remaining:    0.0s\n",
      "[Parallel(n_jobs=4)]: Done  20 out of  20 | elapsed:  1.0min finished\n"
     ]
    },
    {
     "name": "stdout",
     "output_type": "stream",
     "text": [
      "Fitting 5 folds for each of 4 candidates, totalling 20 fits\n"
     ]
    },
    {
     "name": "stderr",
     "output_type": "stream",
     "text": [
      "[Parallel(n_jobs=4)]: Using backend LokyBackend with 4 concurrent workers.\n",
      "[Parallel(n_jobs=4)]: Done  20 out of  20 | elapsed:   17.3s remaining:    0.0s\n",
      "[Parallel(n_jobs=4)]: Done  20 out of  20 | elapsed:   17.3s finished\n"
     ]
    },
    {
     "name": "stdout",
     "output_type": "stream",
     "text": [
      "Fitting 5 folds for each of 4 candidates, totalling 20 fits\n"
     ]
    },
    {
     "name": "stderr",
     "output_type": "stream",
     "text": [
      "[Parallel(n_jobs=4)]: Using backend LokyBackend with 4 concurrent workers.\n",
      "[Parallel(n_jobs=4)]: Done  20 out of  20 | elapsed:   51.0s remaining:    0.0s\n",
      "[Parallel(n_jobs=4)]: Done  20 out of  20 | elapsed:   51.0s finished\n"
     ]
    },
    {
     "name": "stdout",
     "output_type": "stream",
     "text": [
      "Fitting 5 folds for each of 4 candidates, totalling 20 fits\n"
     ]
    },
    {
     "name": "stderr",
     "output_type": "stream",
     "text": [
      "[Parallel(n_jobs=4)]: Using backend LokyBackend with 4 concurrent workers.\n",
      "[Parallel(n_jobs=4)]: Done  20 out of  20 | elapsed:  1.4min remaining:    0.0s\n",
      "[Parallel(n_jobs=4)]: Done  20 out of  20 | elapsed:  1.4min finished\n"
     ]
    },
    {
     "name": "stdout",
     "output_type": "stream",
     "text": [
      "Fitting 5 folds for each of 4 candidates, totalling 20 fits\n"
     ]
    },
    {
     "name": "stderr",
     "output_type": "stream",
     "text": [
      "[Parallel(n_jobs=4)]: Using backend LokyBackend with 4 concurrent workers.\n",
      "[Parallel(n_jobs=4)]: Done  20 out of  20 | elapsed:  1.4min remaining:    0.0s\n",
      "[Parallel(n_jobs=4)]: Done  20 out of  20 | elapsed:  1.4min finished\n"
     ]
    },
    {
     "name": "stdout",
     "output_type": "stream",
     "text": [
      "Fitting 5 folds for each of 4 candidates, totalling 20 fits\n"
     ]
    },
    {
     "name": "stderr",
     "output_type": "stream",
     "text": [
      "[Parallel(n_jobs=4)]: Using backend LokyBackend with 4 concurrent workers.\n",
      "[Parallel(n_jobs=4)]: Done  20 out of  20 | elapsed:  1.0min remaining:    0.0s\n",
      "[Parallel(n_jobs=4)]: Done  20 out of  20 | elapsed:  1.0min finished\n"
     ]
    },
    {
     "name": "stdout",
     "output_type": "stream",
     "text": [
      "Fitting 5 folds for each of 4 candidates, totalling 20 fits\n"
     ]
    },
    {
     "name": "stderr",
     "output_type": "stream",
     "text": [
      "[Parallel(n_jobs=4)]: Using backend LokyBackend with 4 concurrent workers.\n",
      "[Parallel(n_jobs=4)]: Done  20 out of  20 | elapsed:   50.0s remaining:    0.0s\n",
      "[Parallel(n_jobs=4)]: Done  20 out of  20 | elapsed:   50.0s finished\n"
     ]
    },
    {
     "name": "stdout",
     "output_type": "stream",
     "text": [
      "Fitting 5 folds for each of 4 candidates, totalling 20 fits\n"
     ]
    },
    {
     "name": "stderr",
     "output_type": "stream",
     "text": [
      "[Parallel(n_jobs=4)]: Using backend LokyBackend with 4 concurrent workers.\n",
      "[Parallel(n_jobs=4)]: Done  20 out of  20 | elapsed:   50.1s remaining:    0.0s\n",
      "[Parallel(n_jobs=4)]: Done  20 out of  20 | elapsed:   50.1s finished\n"
     ]
    },
    {
     "name": "stdout",
     "output_type": "stream",
     "text": [
      "Fitting 5 folds for each of 4 candidates, totalling 20 fits\n"
     ]
    },
    {
     "name": "stderr",
     "output_type": "stream",
     "text": [
      "[Parallel(n_jobs=4)]: Using backend LokyBackend with 4 concurrent workers.\n",
      "[Parallel(n_jobs=4)]: Done  20 out of  20 | elapsed:   37.7s remaining:    0.0s\n",
      "[Parallel(n_jobs=4)]: Done  20 out of  20 | elapsed:   37.7s finished\n"
     ]
    },
    {
     "name": "stdout",
     "output_type": "stream",
     "text": [
      "Fitting 5 folds for each of 4 candidates, totalling 20 fits\n"
     ]
    },
    {
     "name": "stderr",
     "output_type": "stream",
     "text": [
      "[Parallel(n_jobs=4)]: Using backend LokyBackend with 4 concurrent workers.\n",
      "[Parallel(n_jobs=4)]: Done  20 out of  20 | elapsed:   44.5s remaining:    0.0s\n",
      "[Parallel(n_jobs=4)]: Done  20 out of  20 | elapsed:   44.5s finished\n"
     ]
    },
    {
     "name": "stdout",
     "output_type": "stream",
     "text": [
      "Fitting 5 folds for each of 4 candidates, totalling 20 fits\n"
     ]
    },
    {
     "name": "stderr",
     "output_type": "stream",
     "text": [
      "[Parallel(n_jobs=4)]: Using backend LokyBackend with 4 concurrent workers.\n",
      "[Parallel(n_jobs=4)]: Done  20 out of  20 | elapsed:   14.1s remaining:    0.0s\n",
      "[Parallel(n_jobs=4)]: Done  20 out of  20 | elapsed:   14.1s finished\n"
     ]
    },
    {
     "name": "stdout",
     "output_type": "stream",
     "text": [
      "Fitting 5 folds for each of 4 candidates, totalling 20 fits\n"
     ]
    },
    {
     "name": "stderr",
     "output_type": "stream",
     "text": [
      "[Parallel(n_jobs=4)]: Using backend LokyBackend with 4 concurrent workers.\n",
      "[Parallel(n_jobs=4)]: Done  20 out of  20 | elapsed:   14.3s remaining:    0.0s\n",
      "[Parallel(n_jobs=4)]: Done  20 out of  20 | elapsed:   14.3s finished\n"
     ]
    },
    {
     "name": "stdout",
     "output_type": "stream",
     "text": [
      "Fitting 5 folds for each of 4 candidates, totalling 20 fits\n"
     ]
    },
    {
     "name": "stderr",
     "output_type": "stream",
     "text": [
      "[Parallel(n_jobs=4)]: Using backend LokyBackend with 4 concurrent workers.\n",
      "[Parallel(n_jobs=4)]: Done  20 out of  20 | elapsed:  1.5min remaining:    0.0s\n",
      "[Parallel(n_jobs=4)]: Done  20 out of  20 | elapsed:  1.5min finished\n"
     ]
    },
    {
     "name": "stdout",
     "output_type": "stream",
     "text": [
      "Fitting 5 folds for each of 4 candidates, totalling 20 fits\n"
     ]
    },
    {
     "name": "stderr",
     "output_type": "stream",
     "text": [
      "[Parallel(n_jobs=4)]: Using backend LokyBackend with 4 concurrent workers.\n",
      "[Parallel(n_jobs=4)]: Done  20 out of  20 | elapsed:   31.5s remaining:    0.0s\n",
      "[Parallel(n_jobs=4)]: Done  20 out of  20 | elapsed:   31.5s finished\n"
     ]
    },
    {
     "name": "stdout",
     "output_type": "stream",
     "text": [
      "Fitting 5 folds for each of 4 candidates, totalling 20 fits\n"
     ]
    },
    {
     "name": "stderr",
     "output_type": "stream",
     "text": [
      "[Parallel(n_jobs=4)]: Using backend LokyBackend with 4 concurrent workers.\n",
      "[Parallel(n_jobs=4)]: Done  20 out of  20 | elapsed:   52.7s remaining:    0.0s\n",
      "[Parallel(n_jobs=4)]: Done  20 out of  20 | elapsed:   52.7s finished\n"
     ]
    },
    {
     "name": "stdout",
     "output_type": "stream",
     "text": [
      "Fitting 5 folds for each of 4 candidates, totalling 20 fits\n"
     ]
    },
    {
     "name": "stderr",
     "output_type": "stream",
     "text": [
      "[Parallel(n_jobs=4)]: Using backend LokyBackend with 4 concurrent workers.\n",
      "[Parallel(n_jobs=4)]: Done  20 out of  20 | elapsed:  1.5min remaining:    0.0s\n",
      "[Parallel(n_jobs=4)]: Done  20 out of  20 | elapsed:  1.5min finished\n"
     ]
    },
    {
     "name": "stdout",
     "output_type": "stream",
     "text": [
      "Fitting 5 folds for each of 4 candidates, totalling 20 fits\n"
     ]
    },
    {
     "name": "stderr",
     "output_type": "stream",
     "text": [
      "[Parallel(n_jobs=4)]: Using backend LokyBackend with 4 concurrent workers.\n",
      "[Parallel(n_jobs=4)]: Done  20 out of  20 | elapsed:  1.4min remaining:    0.0s\n",
      "[Parallel(n_jobs=4)]: Done  20 out of  20 | elapsed:  1.4min finished\n"
     ]
    },
    {
     "name": "stdout",
     "output_type": "stream",
     "text": [
      "Fitting 5 folds for each of 4 candidates, totalling 20 fits\n"
     ]
    },
    {
     "name": "stderr",
     "output_type": "stream",
     "text": [
      "[Parallel(n_jobs=4)]: Using backend LokyBackend with 4 concurrent workers.\n",
      "[Parallel(n_jobs=4)]: Done  20 out of  20 | elapsed:   20.8s remaining:    0.0s\n",
      "[Parallel(n_jobs=4)]: Done  20 out of  20 | elapsed:   20.8s finished\n"
     ]
    },
    {
     "name": "stdout",
     "output_type": "stream",
     "text": [
      "Fitting 5 folds for each of 4 candidates, totalling 20 fits\n"
     ]
    },
    {
     "name": "stderr",
     "output_type": "stream",
     "text": [
      "[Parallel(n_jobs=4)]: Using backend LokyBackend with 4 concurrent workers.\n",
      "[Parallel(n_jobs=4)]: Done  20 out of  20 | elapsed:  1.5min remaining:    0.0s\n",
      "[Parallel(n_jobs=4)]: Done  20 out of  20 | elapsed:  1.5min finished\n"
     ]
    },
    {
     "name": "stdout",
     "output_type": "stream",
     "text": [
      "Fitting 5 folds for each of 4 candidates, totalling 20 fits\n"
     ]
    },
    {
     "name": "stderr",
     "output_type": "stream",
     "text": [
      "[Parallel(n_jobs=4)]: Using backend LokyBackend with 4 concurrent workers.\n",
      "[Parallel(n_jobs=4)]: Done  20 out of  20 | elapsed:  1.3min remaining:    0.0s\n",
      "[Parallel(n_jobs=4)]: Done  20 out of  20 | elapsed:  1.3min finished\n"
     ]
    },
    {
     "name": "stdout",
     "output_type": "stream",
     "text": [
      "Fitting 5 folds for each of 4 candidates, totalling 20 fits\n"
     ]
    },
    {
     "name": "stderr",
     "output_type": "stream",
     "text": [
      "[Parallel(n_jobs=4)]: Using backend LokyBackend with 4 concurrent workers.\n",
      "[Parallel(n_jobs=4)]: Done  20 out of  20 | elapsed:  1.1min remaining:    0.0s\n",
      "[Parallel(n_jobs=4)]: Done  20 out of  20 | elapsed:  1.1min finished\n"
     ]
    },
    {
     "name": "stdout",
     "output_type": "stream",
     "text": [
      "Fitting 5 folds for each of 4 candidates, totalling 20 fits\n"
     ]
    },
    {
     "name": "stderr",
     "output_type": "stream",
     "text": [
      "[Parallel(n_jobs=4)]: Using backend LokyBackend with 4 concurrent workers.\n",
      "[Parallel(n_jobs=4)]: Done  20 out of  20 | elapsed:  1.6min remaining:    0.0s\n",
      "[Parallel(n_jobs=4)]: Done  20 out of  20 | elapsed:  1.6min finished\n"
     ]
    },
    {
     "name": "stdout",
     "output_type": "stream",
     "text": [
      "Fitting 5 folds for each of 4 candidates, totalling 20 fits\n"
     ]
    },
    {
     "name": "stderr",
     "output_type": "stream",
     "text": [
      "[Parallel(n_jobs=4)]: Using backend LokyBackend with 4 concurrent workers.\n",
      "[Parallel(n_jobs=4)]: Done  20 out of  20 | elapsed:  1.4min remaining:    0.0s\n",
      "[Parallel(n_jobs=4)]: Done  20 out of  20 | elapsed:  1.4min finished\n"
     ]
    },
    {
     "name": "stdout",
     "output_type": "stream",
     "text": [
      "Fitting 5 folds for each of 4 candidates, totalling 20 fits\n"
     ]
    },
    {
     "name": "stderr",
     "output_type": "stream",
     "text": [
      "[Parallel(n_jobs=4)]: Using backend LokyBackend with 4 concurrent workers.\n",
      "[Parallel(n_jobs=4)]: Done  20 out of  20 | elapsed:  1.3min remaining:    0.0s\n",
      "[Parallel(n_jobs=4)]: Done  20 out of  20 | elapsed:  1.3min finished\n"
     ]
    },
    {
     "name": "stdout",
     "output_type": "stream",
     "text": [
      "Fitting 5 folds for each of 4 candidates, totalling 20 fits\n"
     ]
    },
    {
     "name": "stderr",
     "output_type": "stream",
     "text": [
      "[Parallel(n_jobs=4)]: Using backend LokyBackend with 4 concurrent workers.\n",
      "[Parallel(n_jobs=4)]: Done  20 out of  20 | elapsed:   59.5s remaining:    0.0s\n",
      "[Parallel(n_jobs=4)]: Done  20 out of  20 | elapsed:   59.5s finished\n"
     ]
    },
    {
     "name": "stdout",
     "output_type": "stream",
     "text": [
      "Fitting 5 folds for each of 4 candidates, totalling 20 fits\n"
     ]
    },
    {
     "name": "stderr",
     "output_type": "stream",
     "text": [
      "[Parallel(n_jobs=4)]: Using backend LokyBackend with 4 concurrent workers.\n",
      "[Parallel(n_jobs=4)]: Done  20 out of  20 | elapsed:  1.2min remaining:    0.0s\n",
      "[Parallel(n_jobs=4)]: Done  20 out of  20 | elapsed:  1.2min finished\n"
     ]
    },
    {
     "name": "stdout",
     "output_type": "stream",
     "text": [
      "Fitting 5 folds for each of 4 candidates, totalling 20 fits\n"
     ]
    },
    {
     "name": "stderr",
     "output_type": "stream",
     "text": [
      "[Parallel(n_jobs=4)]: Using backend LokyBackend with 4 concurrent workers.\n",
      "[Parallel(n_jobs=4)]: Done  20 out of  20 | elapsed:   39.6s remaining:    0.0s\n",
      "[Parallel(n_jobs=4)]: Done  20 out of  20 | elapsed:   39.6s finished\n"
     ]
    },
    {
     "name": "stdout",
     "output_type": "stream",
     "text": [
      "Fitting 5 folds for each of 4 candidates, totalling 20 fits\n"
     ]
    },
    {
     "name": "stderr",
     "output_type": "stream",
     "text": [
      "[Parallel(n_jobs=4)]: Using backend LokyBackend with 4 concurrent workers.\n",
      "[Parallel(n_jobs=4)]: Done  20 out of  20 | elapsed:  1.4min remaining:    0.0s\n",
      "[Parallel(n_jobs=4)]: Done  20 out of  20 | elapsed:  1.4min finished\n"
     ]
    },
    {
     "name": "stdout",
     "output_type": "stream",
     "text": [
      "Fitting 5 folds for each of 4 candidates, totalling 20 fits\n"
     ]
    },
    {
     "name": "stderr",
     "output_type": "stream",
     "text": [
      "[Parallel(n_jobs=4)]: Using backend LokyBackend with 4 concurrent workers.\n",
      "[Parallel(n_jobs=4)]: Done  20 out of  20 | elapsed:  1.5min remaining:    0.0s\n",
      "[Parallel(n_jobs=4)]: Done  20 out of  20 | elapsed:  1.5min finished\n"
     ]
    },
    {
     "name": "stdout",
     "output_type": "stream",
     "text": [
      "Fitting 5 folds for each of 4 candidates, totalling 20 fits\n"
     ]
    },
    {
     "name": "stderr",
     "output_type": "stream",
     "text": [
      "[Parallel(n_jobs=4)]: Using backend LokyBackend with 4 concurrent workers.\n",
      "[Parallel(n_jobs=4)]: Done  20 out of  20 | elapsed:  1.1min remaining:    0.0s\n",
      "[Parallel(n_jobs=4)]: Done  20 out of  20 | elapsed:  1.1min finished\n"
     ]
    },
    {
     "name": "stdout",
     "output_type": "stream",
     "text": [
      "val. score: 0.8380687938392506\n",
      "test score: 0.8715813046359541\n"
     ]
    }
   ],
   "source": [
    "opt_params = {\n",
    "    \"max_depth\": Integer(5, 15),\n",
    "    \"learning_rate\": Real(3e-4, 3e-1, prior=\"log-uniform\"),\n",
    "    \"objective\": Categorical([\"reg:squarederror\", \"reg:gamma\", \"reg:tweedie\"]),\n",
    "    \"booster\": Categorical([\"gbtree\", \"dart\"]),\n",
    "    \"reg_alpha\": Real(0.01, 1.0, prior=\"log-uniform\"),\n",
    "    \"reg_lambda\": Real(0.5, 2.0, prior=\"log-uniform\"),\n",
    "    \"colsample_bytree\": Real(0.01, 1.0, prior=\"log-uniform\"),\n",
    "    \"colsample_bylevel\": Real(0.01, 1.0, prior=\"log-uniform\"),\n",
    "    \"colsample_bynode\": Real(0.01, 1.0, prior=\"log-uniform\"),\n",
    "    \"subsample\": Real(0.01, 1.0, prior=\"log-uniform\")\n",
    "}\n",
    "\n",
    "opt = BayesSearchCV(estimator=XGBRegressor(),\n",
    "                    search_spaces=opt_params, n_iter=200,\n",
    "                    n_jobs=4, n_points=4, verbose=3, cv=5,\n",
    "                    random_state=seed)\n",
    "\n",
    "opt.fit(X_train, y_train)\n",
    "\n",
    "print(\"val. score: %s\" % opt.best_score_)\n",
    "print(\"test score: %s\" % opt.score(X_test, y_test))"
   ]
  },
  {
   "cell_type": "code",
   "execution_count": 18,
   "metadata": {},
   "outputs": [
    {
     "data": {
      "text/plain": [
       "{'objective': 'reg:tweedie',\n",
       " 'base_score': 0.5,\n",
       " 'booster': 'gbtree',\n",
       " 'colsample_bylevel': 1.0,\n",
       " 'colsample_bynode': 1.0,\n",
       " 'colsample_bytree': 1.0,\n",
       " 'gamma': 0,\n",
       " 'gpu_id': -1,\n",
       " 'importance_type': 'gain',\n",
       " 'interaction_constraints': '',\n",
       " 'learning_rate': 0.3,\n",
       " 'max_delta_step': 0,\n",
       " 'max_depth': 5,\n",
       " 'min_child_weight': 1,\n",
       " 'missing': nan,\n",
       " 'monotone_constraints': '()',\n",
       " 'n_estimators': 100,\n",
       " 'n_jobs': 0,\n",
       " 'num_parallel_tree': 1,\n",
       " 'random_state': 0,\n",
       " 'reg_alpha': 1.0,\n",
       " 'reg_lambda': 0.5,\n",
       " 'scale_pos_weight': None,\n",
       " 'subsample': 1.0,\n",
       " 'tree_method': 'exact',\n",
       " 'validate_parameters': 1,\n",
       " 'verbosity': None}"
      ]
     },
     "execution_count": 18,
     "metadata": {},
     "output_type": "execute_result"
    }
   ],
   "source": [
    "best_params = dict(opt.best_estimator_.get_params())\n",
    "best_params"
   ]
  },
  {
   "cell_type": "markdown",
   "metadata": {},
   "source": [
    "## Cross validation"
   ]
  },
  {
   "cell_type": "code",
   "execution_count": 59,
   "metadata": {},
   "outputs": [
    {
     "name": "stdout",
     "output_type": "stream",
     "text": [
      "Fold 1 - r2_score: 0.9119\n",
      "Fold 2 - r2_score: 0.9116\n",
      "Fold 3 - r2_score: 0.9190\n",
      "Fold 4 - r2_score: 0.8995\n",
      "Fold 5 - r2_score: 0.5486\n"
     ]
    }
   ],
   "source": [
    "n_folds = 5\n",
    "\n",
    "best_params[\"n_estimators\"] = 1000\n",
    "\n",
    "xgb_model = XGBRegressor(**best_params)\n",
    "\n",
    "xgb_scores = cross_val_score(xgb_model, X_train, y_train, cv=n_folds)\n",
    "\n",
    "for n in range(n_folds):\n",
    "    print(\"Fold {} - r2_score: {:.4f}\".format(n+1, xgb_scores[n]))"
   ]
  },
  {
   "cell_type": "markdown",
   "metadata": {},
   "source": [
    "## Evaluate trained model"
   ]
  },
  {
   "cell_type": "code",
   "execution_count": 79,
   "metadata": {},
   "outputs": [
    {
     "name": "stdout",
     "output_type": "stream",
     "text": [
      "[0]\tvalidation_0-tweedie-nloglik@1.5:1418811.75000\tvalidation_0-mse:1409011417088.00000\n",
      "[1]\tvalidation_0-tweedie-nloglik@1.5:1051079.62500\tvalidation_0-mse:1409010630656.00000\n",
      "[2]\tvalidation_0-tweedie-nloglik@1.5:778664.75000\tvalidation_0-mse:1409009975296.00000\n",
      "[3]\tvalidation_0-tweedie-nloglik@1.5:576851.18750\tvalidation_0-mse:1409009057792.00000\n",
      "[4]\tvalidation_0-tweedie-nloglik@1.5:427347.18750\tvalidation_0-mse:1409008140288.00000\n",
      "[5]\tvalidation_0-tweedie-nloglik@1.5:316593.18750\tvalidation_0-mse:1409007353856.00000\n",
      "[6]\tvalidation_0-tweedie-nloglik@1.5:234547.25000\tvalidation_0-mse:1409006567424.00000\n",
      "[7]\tvalidation_0-tweedie-nloglik@1.5:173769.32812\tvalidation_0-mse:1409005780992.00000\n",
      "[8]\tvalidation_0-tweedie-nloglik@1.5:128747.67188\tvalidation_0-mse:1409004994560.00000\n",
      "[9]\tvalidation_0-tweedie-nloglik@1.5:95400.85938\tvalidation_0-mse:1409004208128.00000\n",
      "[10]\tvalidation_0-tweedie-nloglik@1.5:70704.38281\tvalidation_0-mse:1409003421696.00000\n",
      "[11]\tvalidation_0-tweedie-nloglik@1.5:52418.87109\tvalidation_0-mse:1409002635264.00000\n",
      "[12]\tvalidation_0-tweedie-nloglik@1.5:38886.18359\tvalidation_0-mse:1409001717760.00000\n",
      "[13]\tvalidation_0-tweedie-nloglik@1.5:28878.55078\tvalidation_0-mse:1409000931328.00000\n",
      "[14]\tvalidation_0-tweedie-nloglik@1.5:21487.79688\tvalidation_0-mse:1409000013824.00000\n",
      "[15]\tvalidation_0-tweedie-nloglik@1.5:16043.08203\tvalidation_0-mse:1408999227392.00000\n",
      "[16]\tvalidation_0-tweedie-nloglik@1.5:12048.83594\tvalidation_0-mse:1408998440960.00000\n",
      "[17]\tvalidation_0-tweedie-nloglik@1.5:9140.05078\tvalidation_0-mse:1408997654528.00000\n",
      "[18]\tvalidation_0-tweedie-nloglik@1.5:7047.09863\tvalidation_0-mse:1408996868096.00000\n",
      "[19]\tvalidation_0-tweedie-nloglik@1.5:5569.13232\tvalidation_0-mse:1408996212736.00000\n",
      "[20]\tvalidation_0-tweedie-nloglik@1.5:4552.81397\tvalidation_0-mse:1408995557376.00000\n",
      "[21]\tvalidation_0-tweedie-nloglik@1.5:3878.09595\tvalidation_0-mse:1408995033088.00000\n",
      "[22]\tvalidation_0-tweedie-nloglik@1.5:3448.72827\tvalidation_0-mse:1408994246656.00000\n",
      "[23]\tvalidation_0-tweedie-nloglik@1.5:3187.20972\tvalidation_0-mse:1408993984512.00000\n",
      "[24]\tvalidation_0-tweedie-nloglik@1.5:3034.81030\tvalidation_0-mse:1408993460224.00000\n",
      "[25]\tvalidation_0-tweedie-nloglik@1.5:2949.57251\tvalidation_0-mse:1408993198080.00000\n",
      "[26]\tvalidation_0-tweedie-nloglik@1.5:2902.99268\tvalidation_0-mse:1408993067008.00000\n",
      "[27]\tvalidation_0-tweedie-nloglik@1.5:2877.70142\tvalidation_0-mse:1408992804864.00000\n",
      "[28]\tvalidation_0-tweedie-nloglik@1.5:2864.37476\tvalidation_0-mse:1408992804864.00000\n",
      "[29]\tvalidation_0-tweedie-nloglik@1.5:2857.02344\tvalidation_0-mse:1408992673792.00000\n",
      "[30]\tvalidation_0-tweedie-nloglik@1.5:2852.67310\tvalidation_0-mse:1408992673792.00000\n",
      "[31]\tvalidation_0-tweedie-nloglik@1.5:2849.47852\tvalidation_0-mse:1408992542720.00000\n",
      "[32]\tvalidation_0-tweedie-nloglik@1.5:2847.83252\tvalidation_0-mse:1408992542720.00000\n",
      "[33]\tvalidation_0-tweedie-nloglik@1.5:2847.00342\tvalidation_0-mse:1408992542720.00000\n",
      "[34]\tvalidation_0-tweedie-nloglik@1.5:2846.17505\tvalidation_0-mse:1408992542720.00000\n",
      "[35]\tvalidation_0-tweedie-nloglik@1.5:2845.57153\tvalidation_0-mse:1408992542720.00000\n",
      "[36]\tvalidation_0-tweedie-nloglik@1.5:2845.06152\tvalidation_0-mse:1408992542720.00000\n",
      "[37]\tvalidation_0-tweedie-nloglik@1.5:2844.64404\tvalidation_0-mse:1408992542720.00000\n",
      "[38]\tvalidation_0-tweedie-nloglik@1.5:2844.32959\tvalidation_0-mse:1408992542720.00000\n",
      "[39]\tvalidation_0-tweedie-nloglik@1.5:2843.78198\tvalidation_0-mse:1408992542720.00000\n",
      "[40]\tvalidation_0-tweedie-nloglik@1.5:2843.53320\tvalidation_0-mse:1408992542720.00000\n",
      "[41]\tvalidation_0-tweedie-nloglik@1.5:2843.05127\tvalidation_0-mse:1408992542720.00000\n",
      "[42]\tvalidation_0-tweedie-nloglik@1.5:2842.84058\tvalidation_0-mse:1408992542720.00000\n",
      "[43]\tvalidation_0-tweedie-nloglik@1.5:2842.73804\tvalidation_0-mse:1408992542720.00000\n",
      "[44]\tvalidation_0-tweedie-nloglik@1.5:2842.55566\tvalidation_0-mse:1408992542720.00000\n",
      "[45]\tvalidation_0-tweedie-nloglik@1.5:2842.41187\tvalidation_0-mse:1408992542720.00000\n",
      "[46]\tvalidation_0-tweedie-nloglik@1.5:2842.18994\tvalidation_0-mse:1408992542720.00000\n",
      "[47]\tvalidation_0-tweedie-nloglik@1.5:2842.10107\tvalidation_0-mse:1408992542720.00000\n",
      "[48]\tvalidation_0-tweedie-nloglik@1.5:2841.88525\tvalidation_0-mse:1408992542720.00000\n",
      "[49]\tvalidation_0-tweedie-nloglik@1.5:2841.78247\tvalidation_0-mse:1408992542720.00000\n",
      "[50]\tvalidation_0-tweedie-nloglik@1.5:2841.66187\tvalidation_0-mse:1408992542720.00000\n",
      "[51]\tvalidation_0-tweedie-nloglik@1.5:2841.45874\tvalidation_0-mse:1408992542720.00000\n",
      "[52]\tvalidation_0-tweedie-nloglik@1.5:2841.25537\tvalidation_0-mse:1408992542720.00000\n",
      "[53]\tvalidation_0-tweedie-nloglik@1.5:2841.15137\tvalidation_0-mse:1408992542720.00000\n",
      "[54]\tvalidation_0-tweedie-nloglik@1.5:2840.99536\tvalidation_0-mse:1408992542720.00000\n",
      "[55]\tvalidation_0-tweedie-nloglik@1.5:2840.96313\tvalidation_0-mse:1408992542720.00000\n",
      "[56]\tvalidation_0-tweedie-nloglik@1.5:2840.88501\tvalidation_0-mse:1408992542720.00000\n",
      "[57]\tvalidation_0-tweedie-nloglik@1.5:2840.82886\tvalidation_0-mse:1408992542720.00000\n",
      "[58]\tvalidation_0-tweedie-nloglik@1.5:2840.68628\tvalidation_0-mse:1408992542720.00000\n",
      "[59]\tvalidation_0-tweedie-nloglik@1.5:2840.62988\tvalidation_0-mse:1408992542720.00000\n",
      "[60]\tvalidation_0-tweedie-nloglik@1.5:2840.56885\tvalidation_0-mse:1408992542720.00000\n",
      "[61]\tvalidation_0-tweedie-nloglik@1.5:2840.54736\tvalidation_0-mse:1408992542720.00000\n",
      "[62]\tvalidation_0-tweedie-nloglik@1.5:2840.47412\tvalidation_0-mse:1408992542720.00000\n",
      "[63]\tvalidation_0-tweedie-nloglik@1.5:2840.38721\tvalidation_0-mse:1408992542720.00000\n",
      "[64]\tvalidation_0-tweedie-nloglik@1.5:2840.34424\tvalidation_0-mse:1408992542720.00000\n",
      "[65]\tvalidation_0-tweedie-nloglik@1.5:2840.26709\tvalidation_0-mse:1408992542720.00000\n",
      "[66]\tvalidation_0-tweedie-nloglik@1.5:2840.17383\tvalidation_0-mse:1408992542720.00000\n",
      "[67]\tvalidation_0-tweedie-nloglik@1.5:2840.11133\tvalidation_0-mse:1408992542720.00000\n",
      "[68]\tvalidation_0-tweedie-nloglik@1.5:2840.01733\tvalidation_0-mse:1408992542720.00000\n",
      "[69]\tvalidation_0-tweedie-nloglik@1.5:2840.01685\tvalidation_0-mse:1408992542720.00000\n",
      "[70]\tvalidation_0-tweedie-nloglik@1.5:2839.94458\tvalidation_0-mse:1408992542720.00000\n",
      "[71]\tvalidation_0-tweedie-nloglik@1.5:2839.90381\tvalidation_0-mse:1408992542720.00000\n",
      "[72]\tvalidation_0-tweedie-nloglik@1.5:2839.89526\tvalidation_0-mse:1408992542720.00000\n",
      "[73]\tvalidation_0-tweedie-nloglik@1.5:2839.85669\tvalidation_0-mse:1408992542720.00000\n",
      "[74]\tvalidation_0-tweedie-nloglik@1.5:2839.85132\tvalidation_0-mse:1408992542720.00000\n",
      "[75]\tvalidation_0-tweedie-nloglik@1.5:2839.82886\tvalidation_0-mse:1408992542720.00000\n",
      "[76]\tvalidation_0-tweedie-nloglik@1.5:2839.78198\tvalidation_0-mse:1408992542720.00000\n",
      "[77]\tvalidation_0-tweedie-nloglik@1.5:2839.74805\tvalidation_0-mse:1408992542720.00000\n",
      "[78]\tvalidation_0-tweedie-nloglik@1.5:2839.66968\tvalidation_0-mse:1408992542720.00000\n",
      "[79]\tvalidation_0-tweedie-nloglik@1.5:2839.65332\tvalidation_0-mse:1408992542720.00000\n",
      "[80]\tvalidation_0-tweedie-nloglik@1.5:2839.61084\tvalidation_0-mse:1408992542720.00000\n",
      "[81]\tvalidation_0-tweedie-nloglik@1.5:2839.59570\tvalidation_0-mse:1408992542720.00000\n",
      "[82]\tvalidation_0-tweedie-nloglik@1.5:2839.56299\tvalidation_0-mse:1408992542720.00000\n",
      "[83]\tvalidation_0-tweedie-nloglik@1.5:2839.51440\tvalidation_0-mse:1408992542720.00000\n",
      "[84]\tvalidation_0-tweedie-nloglik@1.5:2839.50659\tvalidation_0-mse:1408992542720.00000\n",
      "[85]\tvalidation_0-tweedie-nloglik@1.5:2839.47119\tvalidation_0-mse:1408992542720.00000\n",
      "[86]\tvalidation_0-tweedie-nloglik@1.5:2839.40674\tvalidation_0-mse:1408992542720.00000\n",
      "[87]\tvalidation_0-tweedie-nloglik@1.5:2839.41480\tvalidation_0-mse:1408992542720.00000\n",
      "[88]\tvalidation_0-tweedie-nloglik@1.5:2839.35571\tvalidation_0-mse:1408992542720.00000\n",
      "[89]\tvalidation_0-tweedie-nloglik@1.5:2839.32227\tvalidation_0-mse:1408992542720.00000\n",
      "[90]\tvalidation_0-tweedie-nloglik@1.5:2839.22412\tvalidation_0-mse:1408992542720.00000\n",
      "[91]\tvalidation_0-tweedie-nloglik@1.5:2839.18799\tvalidation_0-mse:1408992542720.00000\n",
      "[92]\tvalidation_0-tweedie-nloglik@1.5:2839.16846\tvalidation_0-mse:1408992542720.00000\n",
      "[93]\tvalidation_0-tweedie-nloglik@1.5:2839.17651\tvalidation_0-mse:1408992542720.00000\n",
      "[94]\tvalidation_0-tweedie-nloglik@1.5:2839.15527\tvalidation_0-mse:1408992542720.00000\n",
      "[95]\tvalidation_0-tweedie-nloglik@1.5:2839.19556\tvalidation_0-mse:1408992542720.00000\n"
     ]
    },
    {
     "name": "stdout",
     "output_type": "stream",
     "text": [
      "[96]\tvalidation_0-tweedie-nloglik@1.5:2839.10327\tvalidation_0-mse:1408992542720.00000\n",
      "[97]\tvalidation_0-tweedie-nloglik@1.5:2839.02490\tvalidation_0-mse:1408992542720.00000\n",
      "[98]\tvalidation_0-tweedie-nloglik@1.5:2838.99194\tvalidation_0-mse:1408992542720.00000\n",
      "[99]\tvalidation_0-tweedie-nloglik@1.5:2838.95239\tvalidation_0-mse:1408992542720.00000\n",
      "[100]\tvalidation_0-tweedie-nloglik@1.5:2838.91138\tvalidation_0-mse:1408992542720.00000\n",
      "[101]\tvalidation_0-tweedie-nloglik@1.5:2838.88623\tvalidation_0-mse:1408992542720.00000\n",
      "[102]\tvalidation_0-tweedie-nloglik@1.5:2838.84326\tvalidation_0-mse:1408992542720.00000\n",
      "[103]\tvalidation_0-tweedie-nloglik@1.5:2838.81543\tvalidation_0-mse:1408992542720.00000\n",
      "[104]\tvalidation_0-tweedie-nloglik@1.5:2838.80884\tvalidation_0-mse:1408992542720.00000\n",
      "[105]\tvalidation_0-tweedie-nloglik@1.5:2838.79126\tvalidation_0-mse:1408992542720.00000\n",
      "[106]\tvalidation_0-tweedie-nloglik@1.5:2838.74878\tvalidation_0-mse:1408992542720.00000\n",
      "[107]\tvalidation_0-tweedie-nloglik@1.5:2838.71265\tvalidation_0-mse:1408992542720.00000\n",
      "[108]\tvalidation_0-tweedie-nloglik@1.5:2838.70239\tvalidation_0-mse:1408992542720.00000\n",
      "[109]\tvalidation_0-tweedie-nloglik@1.5:2838.71338\tvalidation_0-mse:1408992542720.00000\n",
      "[110]\tvalidation_0-tweedie-nloglik@1.5:2838.67676\tvalidation_0-mse:1408992542720.00000\n",
      "[111]\tvalidation_0-tweedie-nloglik@1.5:2838.67041\tvalidation_0-mse:1408992542720.00000\n",
      "[112]\tvalidation_0-tweedie-nloglik@1.5:2838.67383\tvalidation_0-mse:1408992542720.00000\n",
      "[113]\tvalidation_0-tweedie-nloglik@1.5:2838.66382\tvalidation_0-mse:1408992542720.00000\n",
      "[114]\tvalidation_0-tweedie-nloglik@1.5:2838.67236\tvalidation_0-mse:1408992542720.00000\n",
      "[115]\tvalidation_0-tweedie-nloglik@1.5:2838.68262\tvalidation_0-mse:1408992542720.00000\n",
      "[116]\tvalidation_0-tweedie-nloglik@1.5:2838.66577\tvalidation_0-mse:1408992542720.00000\n",
      "[117]\tvalidation_0-tweedie-nloglik@1.5:2838.64356\tvalidation_0-mse:1408992542720.00000\n",
      "[118]\tvalidation_0-tweedie-nloglik@1.5:2838.62549\tvalidation_0-mse:1408992542720.00000\n",
      "[119]\tvalidation_0-tweedie-nloglik@1.5:2838.58179\tvalidation_0-mse:1408992542720.00000\n",
      "[120]\tvalidation_0-tweedie-nloglik@1.5:2838.54858\tvalidation_0-mse:1408992542720.00000\n",
      "[121]\tvalidation_0-tweedie-nloglik@1.5:2838.50610\tvalidation_0-mse:1408992542720.00000\n",
      "[122]\tvalidation_0-tweedie-nloglik@1.5:2838.48389\tvalidation_0-mse:1408992542720.00000\n",
      "[123]\tvalidation_0-tweedie-nloglik@1.5:2838.47290\tvalidation_0-mse:1408992542720.00000\n",
      "[124]\tvalidation_0-tweedie-nloglik@1.5:2838.46045\tvalidation_0-mse:1408992542720.00000\n",
      "[125]\tvalidation_0-tweedie-nloglik@1.5:2838.42847\tvalidation_0-mse:1408992542720.00000\n",
      "[126]\tvalidation_0-tweedie-nloglik@1.5:2838.33789\tvalidation_0-mse:1408992542720.00000\n",
      "[127]\tvalidation_0-tweedie-nloglik@1.5:2838.33594\tvalidation_0-mse:1408992542720.00000\n",
      "[128]\tvalidation_0-tweedie-nloglik@1.5:2838.30395\tvalidation_0-mse:1408992542720.00000\n",
      "[129]\tvalidation_0-tweedie-nloglik@1.5:2838.29932\tvalidation_0-mse:1408992542720.00000\n",
      "[130]\tvalidation_0-tweedie-nloglik@1.5:2838.27173\tvalidation_0-mse:1408992542720.00000\n",
      "[131]\tvalidation_0-tweedie-nloglik@1.5:2838.26807\tvalidation_0-mse:1408992542720.00000\n",
      "[132]\tvalidation_0-tweedie-nloglik@1.5:2838.24658\tvalidation_0-mse:1408992542720.00000\n",
      "[133]\tvalidation_0-tweedie-nloglik@1.5:2838.23755\tvalidation_0-mse:1408992542720.00000\n",
      "[134]\tvalidation_0-tweedie-nloglik@1.5:2838.23144\tvalidation_0-mse:1408992542720.00000\n",
      "[135]\tvalidation_0-tweedie-nloglik@1.5:2838.22144\tvalidation_0-mse:1408992542720.00000\n",
      "[136]\tvalidation_0-tweedie-nloglik@1.5:2838.21680\tvalidation_0-mse:1408992542720.00000\n",
      "[137]\tvalidation_0-tweedie-nloglik@1.5:2838.21973\tvalidation_0-mse:1408992542720.00000\n",
      "[138]\tvalidation_0-tweedie-nloglik@1.5:2838.20068\tvalidation_0-mse:1408992542720.00000\n",
      "[139]\tvalidation_0-tweedie-nloglik@1.5:2838.18726\tvalidation_0-mse:1408992542720.00000\n",
      "[140]\tvalidation_0-tweedie-nloglik@1.5:2838.17358\tvalidation_0-mse:1408992542720.00000\n",
      "[141]\tvalidation_0-tweedie-nloglik@1.5:2838.14502\tvalidation_0-mse:1408992542720.00000\n",
      "[142]\tvalidation_0-tweedie-nloglik@1.5:2838.13818\tvalidation_0-mse:1408992542720.00000\n",
      "[143]\tvalidation_0-tweedie-nloglik@1.5:2838.13159\tvalidation_0-mse:1408992542720.00000\n",
      "[144]\tvalidation_0-tweedie-nloglik@1.5:2838.11890\tvalidation_0-mse:1408992542720.00000\n",
      "[145]\tvalidation_0-tweedie-nloglik@1.5:2838.09863\tvalidation_0-mse:1408992542720.00000\n",
      "[146]\tvalidation_0-tweedie-nloglik@1.5:2838.08325\tvalidation_0-mse:1408992542720.00000\n",
      "[147]\tvalidation_0-tweedie-nloglik@1.5:2838.07080\tvalidation_0-mse:1408992542720.00000\n",
      "[148]\tvalidation_0-tweedie-nloglik@1.5:2838.05371\tvalidation_0-mse:1408992542720.00000\n",
      "[149]\tvalidation_0-tweedie-nloglik@1.5:2838.05981\tvalidation_0-mse:1408992542720.00000\n",
      "[150]\tvalidation_0-tweedie-nloglik@1.5:2838.08057\tvalidation_0-mse:1408992542720.00000\n",
      "[151]\tvalidation_0-tweedie-nloglik@1.5:2838.05737\tvalidation_0-mse:1408992542720.00000\n",
      "[152]\tvalidation_0-tweedie-nloglik@1.5:2838.00391\tvalidation_0-mse:1408992542720.00000\n",
      "[153]\tvalidation_0-tweedie-nloglik@1.5:2837.98731\tvalidation_0-mse:1408992542720.00000\n",
      "[154]\tvalidation_0-tweedie-nloglik@1.5:2837.98901\tvalidation_0-mse:1408992542720.00000\n",
      "[155]\tvalidation_0-tweedie-nloglik@1.5:2837.97852\tvalidation_0-mse:1408992542720.00000\n",
      "[156]\tvalidation_0-tweedie-nloglik@1.5:2838.01050\tvalidation_0-mse:1408992542720.00000\n",
      "[157]\tvalidation_0-tweedie-nloglik@1.5:2837.98950\tvalidation_0-mse:1408992542720.00000\n",
      "[158]\tvalidation_0-tweedie-nloglik@1.5:2837.97730\tvalidation_0-mse:1408992542720.00000\n",
      "[159]\tvalidation_0-tweedie-nloglik@1.5:2837.97412\tvalidation_0-mse:1408992542720.00000\n",
      "[160]\tvalidation_0-tweedie-nloglik@1.5:2837.96167\tvalidation_0-mse:1408992542720.00000\n",
      "[161]\tvalidation_0-tweedie-nloglik@1.5:2837.96167\tvalidation_0-mse:1408992542720.00000\n",
      "[162]\tvalidation_0-tweedie-nloglik@1.5:2837.95776\tvalidation_0-mse:1408992542720.00000\n",
      "[163]\tvalidation_0-tweedie-nloglik@1.5:2837.94165\tvalidation_0-mse:1408992542720.00000\n",
      "[164]\tvalidation_0-tweedie-nloglik@1.5:2837.92383\tvalidation_0-mse:1408992542720.00000\n",
      "[165]\tvalidation_0-tweedie-nloglik@1.5:2837.91675\tvalidation_0-mse:1408992542720.00000\n",
      "[166]\tvalidation_0-tweedie-nloglik@1.5:2837.90308\tvalidation_0-mse:1408992542720.00000\n",
      "[167]\tvalidation_0-tweedie-nloglik@1.5:2837.90601\tvalidation_0-mse:1408992542720.00000\n",
      "[168]\tvalidation_0-tweedie-nloglik@1.5:2837.91870\tvalidation_0-mse:1408992542720.00000\n",
      "[169]\tvalidation_0-tweedie-nloglik@1.5:2837.87744\tvalidation_0-mse:1408992542720.00000\n",
      "[170]\tvalidation_0-tweedie-nloglik@1.5:2837.87036\tvalidation_0-mse:1408992542720.00000\n",
      "[171]\tvalidation_0-tweedie-nloglik@1.5:2837.86206\tvalidation_0-mse:1408992542720.00000\n",
      "[172]\tvalidation_0-tweedie-nloglik@1.5:2837.84302\tvalidation_0-mse:1408992542720.00000\n",
      "[173]\tvalidation_0-tweedie-nloglik@1.5:2837.85010\tvalidation_0-mse:1408992542720.00000\n",
      "[174]\tvalidation_0-tweedie-nloglik@1.5:2837.83423\tvalidation_0-mse:1408992542720.00000\n",
      "[175]\tvalidation_0-tweedie-nloglik@1.5:2837.83032\tvalidation_0-mse:1408992542720.00000\n",
      "[176]\tvalidation_0-tweedie-nloglik@1.5:2837.83154\tvalidation_0-mse:1408992542720.00000\n",
      "[177]\tvalidation_0-tweedie-nloglik@1.5:2837.82105\tvalidation_0-mse:1408992542720.00000\n",
      "[178]\tvalidation_0-tweedie-nloglik@1.5:2837.81543\tvalidation_0-mse:1408992542720.00000\n",
      "[179]\tvalidation_0-tweedie-nloglik@1.5:2837.79053\tvalidation_0-mse:1408992542720.00000\n",
      "[180]\tvalidation_0-tweedie-nloglik@1.5:2837.78491\tvalidation_0-mse:1408992542720.00000\n",
      "[181]\tvalidation_0-tweedie-nloglik@1.5:2837.77539\tvalidation_0-mse:1408992542720.00000\n",
      "[182]\tvalidation_0-tweedie-nloglik@1.5:2837.76978\tvalidation_0-mse:1408992542720.00000\n",
      "[183]\tvalidation_0-tweedie-nloglik@1.5:2837.73315\tvalidation_0-mse:1408992542720.00000\n",
      "[184]\tvalidation_0-tweedie-nloglik@1.5:2837.72559\tvalidation_0-mse:1408992542720.00000\n",
      "[185]\tvalidation_0-tweedie-nloglik@1.5:2837.71216\tvalidation_0-mse:1408992542720.00000\n",
      "[186]\tvalidation_0-tweedie-nloglik@1.5:2837.69897\tvalidation_0-mse:1408992542720.00000\n",
      "[187]\tvalidation_0-tweedie-nloglik@1.5:2837.68652\tvalidation_0-mse:1408992542720.00000\n",
      "[188]\tvalidation_0-tweedie-nloglik@1.5:2837.68726\tvalidation_0-mse:1408992542720.00000\n",
      "[189]\tvalidation_0-tweedie-nloglik@1.5:2837.68652\tvalidation_0-mse:1408992542720.00000\n",
      "[190]\tvalidation_0-tweedie-nloglik@1.5:2837.64770\tvalidation_0-mse:1408992542720.00000\n"
     ]
    },
    {
     "name": "stdout",
     "output_type": "stream",
     "text": [
      "[191]\tvalidation_0-tweedie-nloglik@1.5:2837.68042\tvalidation_0-mse:1408992542720.00000\n",
      "[192]\tvalidation_0-tweedie-nloglik@1.5:2837.65503\tvalidation_0-mse:1408992542720.00000\n",
      "[193]\tvalidation_0-tweedie-nloglik@1.5:2837.62280\tvalidation_0-mse:1408992542720.00000\n",
      "[194]\tvalidation_0-tweedie-nloglik@1.5:2837.62427\tvalidation_0-mse:1408992542720.00000\n",
      "[195]\tvalidation_0-tweedie-nloglik@1.5:2837.61841\tvalidation_0-mse:1408992542720.00000\n",
      "[196]\tvalidation_0-tweedie-nloglik@1.5:2837.60230\tvalidation_0-mse:1408992542720.00000\n",
      "[197]\tvalidation_0-tweedie-nloglik@1.5:2837.58594\tvalidation_0-mse:1408992542720.00000\n",
      "[198]\tvalidation_0-tweedie-nloglik@1.5:2837.54468\tvalidation_0-mse:1408992542720.00000\n",
      "[199]\tvalidation_0-tweedie-nloglik@1.5:2837.53076\tvalidation_0-mse:1408992542720.00000\n",
      "[200]\tvalidation_0-tweedie-nloglik@1.5:2837.50903\tvalidation_0-mse:1408992542720.00000\n",
      "[201]\tvalidation_0-tweedie-nloglik@1.5:2837.49194\tvalidation_0-mse:1408992542720.00000\n",
      "[202]\tvalidation_0-tweedie-nloglik@1.5:2837.47021\tvalidation_0-mse:1408992542720.00000\n",
      "[203]\tvalidation_0-tweedie-nloglik@1.5:2837.47144\tvalidation_0-mse:1408992542720.00000\n",
      "[204]\tvalidation_0-tweedie-nloglik@1.5:2837.46582\tvalidation_0-mse:1408992542720.00000\n",
      "[205]\tvalidation_0-tweedie-nloglik@1.5:2837.46802\tvalidation_0-mse:1408992542720.00000\n",
      "[206]\tvalidation_0-tweedie-nloglik@1.5:2837.46655\tvalidation_0-mse:1408992542720.00000\n",
      "[207]\tvalidation_0-tweedie-nloglik@1.5:2837.44775\tvalidation_0-mse:1408992542720.00000\n",
      "[208]\tvalidation_0-tweedie-nloglik@1.5:2837.43018\tvalidation_0-mse:1408992542720.00000\n",
      "[209]\tvalidation_0-tweedie-nloglik@1.5:2837.44360\tvalidation_0-mse:1408992542720.00000\n",
      "[210]\tvalidation_0-tweedie-nloglik@1.5:2837.43286\tvalidation_0-mse:1408992542720.00000\n",
      "[211]\tvalidation_0-tweedie-nloglik@1.5:2837.42310\tvalidation_0-mse:1408992542720.00000\n",
      "[212]\tvalidation_0-tweedie-nloglik@1.5:2837.41846\tvalidation_0-mse:1408992542720.00000\n",
      "[213]\tvalidation_0-tweedie-nloglik@1.5:2837.41675\tvalidation_0-mse:1408992542720.00000\n",
      "[214]\tvalidation_0-tweedie-nloglik@1.5:2837.42090\tvalidation_0-mse:1408992542720.00000\n",
      "[215]\tvalidation_0-tweedie-nloglik@1.5:2837.42041\tvalidation_0-mse:1408992542720.00000\n",
      "[216]\tvalidation_0-tweedie-nloglik@1.5:2837.42017\tvalidation_0-mse:1408992542720.00000\n",
      "[217]\tvalidation_0-tweedie-nloglik@1.5:2837.41113\tvalidation_0-mse:1408992542720.00000\n",
      "[218]\tvalidation_0-tweedie-nloglik@1.5:2837.40332\tvalidation_0-mse:1408992542720.00000\n",
      "[219]\tvalidation_0-tweedie-nloglik@1.5:2837.38599\tvalidation_0-mse:1408992542720.00000\n",
      "[220]\tvalidation_0-tweedie-nloglik@1.5:2837.35693\tvalidation_0-mse:1408992542720.00000\n",
      "[221]\tvalidation_0-tweedie-nloglik@1.5:2837.35059\tvalidation_0-mse:1408992542720.00000\n",
      "[222]\tvalidation_0-tweedie-nloglik@1.5:2837.33618\tvalidation_0-mse:1408992542720.00000\n",
      "[223]\tvalidation_0-tweedie-nloglik@1.5:2837.32642\tvalidation_0-mse:1408992542720.00000\n",
      "[224]\tvalidation_0-tweedie-nloglik@1.5:2837.32959\tvalidation_0-mse:1408992542720.00000\n",
      "[225]\tvalidation_0-tweedie-nloglik@1.5:2837.32544\tvalidation_0-mse:1408992542720.00000\n",
      "[226]\tvalidation_0-tweedie-nloglik@1.5:2837.32690\tvalidation_0-mse:1408992542720.00000\n",
      "[227]\tvalidation_0-tweedie-nloglik@1.5:2837.28931\tvalidation_0-mse:1408992542720.00000\n",
      "[228]\tvalidation_0-tweedie-nloglik@1.5:2837.28296\tvalidation_0-mse:1408992542720.00000\n",
      "[229]\tvalidation_0-tweedie-nloglik@1.5:2837.28931\tvalidation_0-mse:1408992542720.00000\n",
      "[230]\tvalidation_0-tweedie-nloglik@1.5:2837.26782\tvalidation_0-mse:1408992542720.00000\n",
      "[231]\tvalidation_0-tweedie-nloglik@1.5:2837.29224\tvalidation_0-mse:1408992542720.00000\n",
      "[232]\tvalidation_0-tweedie-nloglik@1.5:2837.27612\tvalidation_0-mse:1408992542720.00000\n",
      "[233]\tvalidation_0-tweedie-nloglik@1.5:2837.25732\tvalidation_0-mse:1408992542720.00000\n",
      "[234]\tvalidation_0-tweedie-nloglik@1.5:2837.21411\tvalidation_0-mse:1408992542720.00000\n",
      "[235]\tvalidation_0-tweedie-nloglik@1.5:2837.20996\tvalidation_0-mse:1408992542720.00000\n",
      "[236]\tvalidation_0-tweedie-nloglik@1.5:2837.20606\tvalidation_0-mse:1408992542720.00000\n",
      "[237]\tvalidation_0-tweedie-nloglik@1.5:2837.20947\tvalidation_0-mse:1408992542720.00000\n",
      "[238]\tvalidation_0-tweedie-nloglik@1.5:2837.18311\tvalidation_0-mse:1408992542720.00000\n",
      "[239]\tvalidation_0-tweedie-nloglik@1.5:2837.17456\tvalidation_0-mse:1408992542720.00000\n",
      "[240]\tvalidation_0-tweedie-nloglik@1.5:2837.16480\tvalidation_0-mse:1408992542720.00000\n",
      "[241]\tvalidation_0-tweedie-nloglik@1.5:2837.14404\tvalidation_0-mse:1408992542720.00000\n",
      "[242]\tvalidation_0-tweedie-nloglik@1.5:2837.13501\tvalidation_0-mse:1408992542720.00000\n",
      "[243]\tvalidation_0-tweedie-nloglik@1.5:2837.12280\tvalidation_0-mse:1408992542720.00000\n",
      "[244]\tvalidation_0-tweedie-nloglik@1.5:2837.12524\tvalidation_0-mse:1408992542720.00000\n",
      "[245]\tvalidation_0-tweedie-nloglik@1.5:2837.13355\tvalidation_0-mse:1408992542720.00000\n",
      "[246]\tvalidation_0-tweedie-nloglik@1.5:2837.10693\tvalidation_0-mse:1408992542720.00000\n",
      "[247]\tvalidation_0-tweedie-nloglik@1.5:2837.09937\tvalidation_0-mse:1408992542720.00000\n",
      "[248]\tvalidation_0-tweedie-nloglik@1.5:2837.10596\tvalidation_0-mse:1408992542720.00000\n",
      "[249]\tvalidation_0-tweedie-nloglik@1.5:2837.09595\tvalidation_0-mse:1408992542720.00000\n",
      "[250]\tvalidation_0-tweedie-nloglik@1.5:2837.09351\tvalidation_0-mse:1408992542720.00000\n",
      "[251]\tvalidation_0-tweedie-nloglik@1.5:2837.09204\tvalidation_0-mse:1408992542720.00000\n",
      "[252]\tvalidation_0-tweedie-nloglik@1.5:2837.07642\tvalidation_0-mse:1408992542720.00000\n",
      "[253]\tvalidation_0-tweedie-nloglik@1.5:2837.07642\tvalidation_0-mse:1408992542720.00000\n",
      "[254]\tvalidation_0-tweedie-nloglik@1.5:2837.05225\tvalidation_0-mse:1408992542720.00000\n",
      "[255]\tvalidation_0-tweedie-nloglik@1.5:2837.06982\tvalidation_0-mse:1408992542720.00000\n",
      "[256]\tvalidation_0-tweedie-nloglik@1.5:2837.05713\tvalidation_0-mse:1408992542720.00000\n",
      "[257]\tvalidation_0-tweedie-nloglik@1.5:2837.04956\tvalidation_0-mse:1408992542720.00000\n",
      "[258]\tvalidation_0-tweedie-nloglik@1.5:2837.04370\tvalidation_0-mse:1408992542720.00000\n",
      "[259]\tvalidation_0-tweedie-nloglik@1.5:2837.04004\tvalidation_0-mse:1408992542720.00000\n",
      "[260]\tvalidation_0-tweedie-nloglik@1.5:2837.03149\tvalidation_0-mse:1408992542720.00000\n",
      "[261]\tvalidation_0-tweedie-nloglik@1.5:2837.01074\tvalidation_0-mse:1408992542720.00000\n",
      "[262]\tvalidation_0-tweedie-nloglik@1.5:2837.00391\tvalidation_0-mse:1408992542720.00000\n",
      "[263]\tvalidation_0-tweedie-nloglik@1.5:2837.00366\tvalidation_0-mse:1408992542720.00000\n",
      "[264]\tvalidation_0-tweedie-nloglik@1.5:2836.99438\tvalidation_0-mse:1408992542720.00000\n",
      "[265]\tvalidation_0-tweedie-nloglik@1.5:2836.98144\tvalidation_0-mse:1408992542720.00000\n",
      "[266]\tvalidation_0-tweedie-nloglik@1.5:2836.98047\tvalidation_0-mse:1408992542720.00000\n",
      "[267]\tvalidation_0-tweedie-nloglik@1.5:2836.98193\tvalidation_0-mse:1408992542720.00000\n",
      "[268]\tvalidation_0-tweedie-nloglik@1.5:2836.99390\tvalidation_0-mse:1408992542720.00000\n",
      "[269]\tvalidation_0-tweedie-nloglik@1.5:2836.98901\tvalidation_0-mse:1408992542720.00000\n",
      "[270]\tvalidation_0-tweedie-nloglik@1.5:2836.98047\tvalidation_0-mse:1408992542720.00000\n",
      "[271]\tvalidation_0-tweedie-nloglik@1.5:2836.96606\tvalidation_0-mse:1408992542720.00000\n",
      "[272]\tvalidation_0-tweedie-nloglik@1.5:2836.96509\tvalidation_0-mse:1408992542720.00000\n",
      "[273]\tvalidation_0-tweedie-nloglik@1.5:2836.97876\tvalidation_0-mse:1408992542720.00000\n",
      "[274]\tvalidation_0-tweedie-nloglik@1.5:2836.96167\tvalidation_0-mse:1408992542720.00000\n",
      "[275]\tvalidation_0-tweedie-nloglik@1.5:2836.95264\tvalidation_0-mse:1408992542720.00000\n",
      "[276]\tvalidation_0-tweedie-nloglik@1.5:2836.93750\tvalidation_0-mse:1408992542720.00000\n",
      "[277]\tvalidation_0-tweedie-nloglik@1.5:2836.93994\tvalidation_0-mse:1408992542720.00000\n",
      "[278]\tvalidation_0-tweedie-nloglik@1.5:2836.93994\tvalidation_0-mse:1408992542720.00000\n",
      "[279]\tvalidation_0-tweedie-nloglik@1.5:2836.94092\tvalidation_0-mse:1408992542720.00000\n",
      "[280]\tvalidation_0-tweedie-nloglik@1.5:2836.94531\tvalidation_0-mse:1408992542720.00000\n",
      "[281]\tvalidation_0-tweedie-nloglik@1.5:2836.94531\tvalidation_0-mse:1408992542720.00000\n",
      "[282]\tvalidation_0-tweedie-nloglik@1.5:2836.93896\tvalidation_0-mse:1408992542720.00000\n",
      "[283]\tvalidation_0-tweedie-nloglik@1.5:2836.92920\tvalidation_0-mse:1408992542720.00000\n",
      "[284]\tvalidation_0-tweedie-nloglik@1.5:2836.92676\tvalidation_0-mse:1408992542720.00000\n",
      "[285]\tvalidation_0-tweedie-nloglik@1.5:2836.91943\tvalidation_0-mse:1408992542720.00000\n"
     ]
    },
    {
     "name": "stdout",
     "output_type": "stream",
     "text": [
      "[286]\tvalidation_0-tweedie-nloglik@1.5:2836.92188\tvalidation_0-mse:1408992542720.00000\n",
      "[287]\tvalidation_0-tweedie-nloglik@1.5:2836.92578\tvalidation_0-mse:1408992542720.00000\n",
      "[288]\tvalidation_0-tweedie-nloglik@1.5:2836.92505\tvalidation_0-mse:1408992542720.00000\n",
      "[289]\tvalidation_0-tweedie-nloglik@1.5:2836.91284\tvalidation_0-mse:1408992542720.00000\n",
      "[290]\tvalidation_0-tweedie-nloglik@1.5:2836.90747\tvalidation_0-mse:1408992542720.00000\n",
      "[291]\tvalidation_0-tweedie-nloglik@1.5:2836.90796\tvalidation_0-mse:1408992542720.00000\n",
      "[292]\tvalidation_0-tweedie-nloglik@1.5:2836.90479\tvalidation_0-mse:1408992542720.00000\n",
      "[293]\tvalidation_0-tweedie-nloglik@1.5:2836.91138\tvalidation_0-mse:1408992542720.00000\n",
      "[294]\tvalidation_0-tweedie-nloglik@1.5:2836.92017\tvalidation_0-mse:1408992542720.00000\n",
      "[295]\tvalidation_0-tweedie-nloglik@1.5:2836.91138\tvalidation_0-mse:1408992542720.00000\n",
      "[296]\tvalidation_0-tweedie-nloglik@1.5:2836.91455\tvalidation_0-mse:1408992542720.00000\n",
      "[297]\tvalidation_0-tweedie-nloglik@1.5:2836.90137\tvalidation_0-mse:1408992542720.00000\n",
      "[298]\tvalidation_0-tweedie-nloglik@1.5:2836.90308\tvalidation_0-mse:1408992542720.00000\n",
      "[299]\tvalidation_0-tweedie-nloglik@1.5:2836.90942\tvalidation_0-mse:1408992542720.00000\n",
      "[300]\tvalidation_0-tweedie-nloglik@1.5:2836.90771\tvalidation_0-mse:1408992542720.00000\n",
      "[301]\tvalidation_0-tweedie-nloglik@1.5:2836.89429\tvalidation_0-mse:1408992542720.00000\n",
      "[302]\tvalidation_0-tweedie-nloglik@1.5:2836.89185\tvalidation_0-mse:1408992542720.00000\n",
      "[303]\tvalidation_0-tweedie-nloglik@1.5:2836.89062\tvalidation_0-mse:1408992542720.00000\n",
      "[304]\tvalidation_0-tweedie-nloglik@1.5:2836.89160\tvalidation_0-mse:1408992542720.00000\n",
      "[305]\tvalidation_0-tweedie-nloglik@1.5:2836.89356\tvalidation_0-mse:1408992542720.00000\n",
      "[306]\tvalidation_0-tweedie-nloglik@1.5:2836.88599\tvalidation_0-mse:1408992542720.00000\n",
      "[307]\tvalidation_0-tweedie-nloglik@1.5:2836.88330\tvalidation_0-mse:1408992542720.00000\n",
      "[308]\tvalidation_0-tweedie-nloglik@1.5:2836.87451\tvalidation_0-mse:1408992542720.00000\n",
      "[309]\tvalidation_0-tweedie-nloglik@1.5:2836.86987\tvalidation_0-mse:1408992542720.00000\n",
      "[310]\tvalidation_0-tweedie-nloglik@1.5:2836.86133\tvalidation_0-mse:1408992542720.00000\n",
      "[311]\tvalidation_0-tweedie-nloglik@1.5:2836.86304\tvalidation_0-mse:1408992542720.00000\n",
      "[312]\tvalidation_0-tweedie-nloglik@1.5:2836.85230\tvalidation_0-mse:1408992542720.00000\n",
      "[313]\tvalidation_0-tweedie-nloglik@1.5:2836.84937\tvalidation_0-mse:1408992542720.00000\n",
      "[314]\tvalidation_0-tweedie-nloglik@1.5:2836.84888\tvalidation_0-mse:1408992542720.00000\n",
      "[315]\tvalidation_0-tweedie-nloglik@1.5:2836.84888\tvalidation_0-mse:1408992542720.00000\n",
      "[316]\tvalidation_0-tweedie-nloglik@1.5:2836.82178\tvalidation_0-mse:1408992542720.00000\n",
      "[317]\tvalidation_0-tweedie-nloglik@1.5:2836.82324\tvalidation_0-mse:1408992542720.00000\n",
      "[318]\tvalidation_0-tweedie-nloglik@1.5:2836.81689\tvalidation_0-mse:1408992542720.00000\n",
      "[319]\tvalidation_0-tweedie-nloglik@1.5:2836.81543\tvalidation_0-mse:1408992542720.00000\n",
      "[320]\tvalidation_0-tweedie-nloglik@1.5:2836.81250\tvalidation_0-mse:1408992542720.00000\n",
      "[321]\tvalidation_0-tweedie-nloglik@1.5:2836.80615\tvalidation_0-mse:1408992542720.00000\n",
      "[322]\tvalidation_0-tweedie-nloglik@1.5:2836.80347\tvalidation_0-mse:1408992542720.00000\n",
      "[323]\tvalidation_0-tweedie-nloglik@1.5:2836.79932\tvalidation_0-mse:1408992542720.00000\n",
      "[324]\tvalidation_0-tweedie-nloglik@1.5:2836.79858\tvalidation_0-mse:1408992542720.00000\n",
      "[325]\tvalidation_0-tweedie-nloglik@1.5:2836.78735\tvalidation_0-mse:1408992542720.00000\n",
      "[326]\tvalidation_0-tweedie-nloglik@1.5:2836.77979\tvalidation_0-mse:1408992542720.00000\n",
      "[327]\tvalidation_0-tweedie-nloglik@1.5:2836.77661\tvalidation_0-mse:1408992542720.00000\n",
      "[328]\tvalidation_0-tweedie-nloglik@1.5:2836.77783\tvalidation_0-mse:1408992542720.00000\n",
      "[329]\tvalidation_0-tweedie-nloglik@1.5:2836.77710\tvalidation_0-mse:1408992542720.00000\n",
      "[330]\tvalidation_0-tweedie-nloglik@1.5:2836.77954\tvalidation_0-mse:1408992542720.00000\n",
      "[331]\tvalidation_0-tweedie-nloglik@1.5:2836.77148\tvalidation_0-mse:1408992542720.00000\n",
      "[332]\tvalidation_0-tweedie-nloglik@1.5:2836.77930\tvalidation_0-mse:1408992542720.00000\n",
      "[333]\tvalidation_0-tweedie-nloglik@1.5:2836.76196\tvalidation_0-mse:1408992542720.00000\n",
      "[334]\tvalidation_0-tweedie-nloglik@1.5:2836.76440\tvalidation_0-mse:1408992542720.00000\n",
      "[335]\tvalidation_0-tweedie-nloglik@1.5:2836.75122\tvalidation_0-mse:1408992542720.00000\n",
      "[336]\tvalidation_0-tweedie-nloglik@1.5:2836.75171\tvalidation_0-mse:1408992542720.00000\n",
      "[337]\tvalidation_0-tweedie-nloglik@1.5:2836.75244\tvalidation_0-mse:1408992542720.00000\n",
      "[338]\tvalidation_0-tweedie-nloglik@1.5:2836.74902\tvalidation_0-mse:1408992542720.00000\n",
      "[339]\tvalidation_0-tweedie-nloglik@1.5:2836.74390\tvalidation_0-mse:1408992542720.00000\n",
      "[340]\tvalidation_0-tweedie-nloglik@1.5:2836.74463\tvalidation_0-mse:1408992542720.00000\n",
      "[341]\tvalidation_0-tweedie-nloglik@1.5:2836.74609\tvalidation_0-mse:1408992542720.00000\n",
      "[342]\tvalidation_0-tweedie-nloglik@1.5:2836.73901\tvalidation_0-mse:1408992542720.00000\n",
      "[343]\tvalidation_0-tweedie-nloglik@1.5:2836.73682\tvalidation_0-mse:1408992542720.00000\n",
      "[344]\tvalidation_0-tweedie-nloglik@1.5:2836.73657\tvalidation_0-mse:1408992542720.00000\n",
      "[345]\tvalidation_0-tweedie-nloglik@1.5:2836.73901\tvalidation_0-mse:1408992542720.00000\n",
      "[346]\tvalidation_0-tweedie-nloglik@1.5:2836.73950\tvalidation_0-mse:1408992542720.00000\n",
      "[347]\tvalidation_0-tweedie-nloglik@1.5:2836.74170\tvalidation_0-mse:1408992542720.00000\n",
      "[348]\tvalidation_0-tweedie-nloglik@1.5:2836.73413\tvalidation_0-mse:1408992542720.00000\n",
      "[349]\tvalidation_0-tweedie-nloglik@1.5:2836.72412\tvalidation_0-mse:1408992542720.00000\n",
      "[350]\tvalidation_0-tweedie-nloglik@1.5:2836.72559\tvalidation_0-mse:1408992542720.00000\n",
      "[351]\tvalidation_0-tweedie-nloglik@1.5:2836.72510\tvalidation_0-mse:1408992542720.00000\n",
      "[352]\tvalidation_0-tweedie-nloglik@1.5:2836.72388\tvalidation_0-mse:1408992542720.00000\n",
      "[353]\tvalidation_0-tweedie-nloglik@1.5:2836.71973\tvalidation_0-mse:1408992542720.00000\n",
      "[354]\tvalidation_0-tweedie-nloglik@1.5:2836.72021\tvalidation_0-mse:1408992542720.00000\n",
      "[355]\tvalidation_0-tweedie-nloglik@1.5:2836.72412\tvalidation_0-mse:1408992542720.00000\n",
      "[356]\tvalidation_0-tweedie-nloglik@1.5:2836.72217\tvalidation_0-mse:1408992542720.00000\n",
      "[357]\tvalidation_0-tweedie-nloglik@1.5:2836.72290\tvalidation_0-mse:1408992542720.00000\n",
      "[358]\tvalidation_0-tweedie-nloglik@1.5:2836.72339\tvalidation_0-mse:1408992542720.00000\n",
      "[359]\tvalidation_0-tweedie-nloglik@1.5:2836.71802\tvalidation_0-mse:1408992542720.00000\n",
      "[360]\tvalidation_0-tweedie-nloglik@1.5:2836.72217\tvalidation_0-mse:1408992542720.00000\n",
      "[361]\tvalidation_0-tweedie-nloglik@1.5:2836.72144\tvalidation_0-mse:1408992542720.00000\n",
      "[362]\tvalidation_0-tweedie-nloglik@1.5:2836.71924\tvalidation_0-mse:1408992542720.00000\n",
      "[363]\tvalidation_0-tweedie-nloglik@1.5:2836.71680\tvalidation_0-mse:1408992542720.00000\n",
      "[364]\tvalidation_0-tweedie-nloglik@1.5:2836.70606\tvalidation_0-mse:1408992542720.00000\n",
      "[365]\tvalidation_0-tweedie-nloglik@1.5:2836.70679\tvalidation_0-mse:1408992542720.00000\n",
      "[366]\tvalidation_0-tweedie-nloglik@1.5:2836.69458\tvalidation_0-mse:1408992542720.00000\n",
      "[367]\tvalidation_0-tweedie-nloglik@1.5:2836.68823\tvalidation_0-mse:1408992542720.00000\n",
      "[368]\tvalidation_0-tweedie-nloglik@1.5:2836.67993\tvalidation_0-mse:1408992542720.00000\n",
      "[369]\tvalidation_0-tweedie-nloglik@1.5:2836.67920\tvalidation_0-mse:1408992542720.00000\n",
      "[370]\tvalidation_0-tweedie-nloglik@1.5:2836.67993\tvalidation_0-mse:1408992542720.00000\n",
      "[371]\tvalidation_0-tweedie-nloglik@1.5:2836.66309\tvalidation_0-mse:1408992542720.00000\n",
      "[372]\tvalidation_0-tweedie-nloglik@1.5:2836.65381\tvalidation_0-mse:1408992542720.00000\n",
      "[373]\tvalidation_0-tweedie-nloglik@1.5:2836.64697\tvalidation_0-mse:1408992542720.00000\n",
      "[374]\tvalidation_0-tweedie-nloglik@1.5:2836.64307\tvalidation_0-mse:1408992542720.00000\n",
      "[375]\tvalidation_0-tweedie-nloglik@1.5:2836.64062\tvalidation_0-mse:1408992542720.00000\n",
      "[376]\tvalidation_0-tweedie-nloglik@1.5:2836.64307\tvalidation_0-mse:1408992542720.00000\n",
      "[377]\tvalidation_0-tweedie-nloglik@1.5:2836.64038\tvalidation_0-mse:1408992542720.00000\n",
      "[378]\tvalidation_0-tweedie-nloglik@1.5:2836.63989\tvalidation_0-mse:1408992542720.00000\n",
      "[379]\tvalidation_0-tweedie-nloglik@1.5:2836.62646\tvalidation_0-mse:1408992542720.00000\n",
      "[380]\tvalidation_0-tweedie-nloglik@1.5:2836.61890\tvalidation_0-mse:1408992542720.00000\n"
     ]
    },
    {
     "name": "stdout",
     "output_type": "stream",
     "text": [
      "[381]\tvalidation_0-tweedie-nloglik@1.5:2836.61890\tvalidation_0-mse:1408992542720.00000\n",
      "[382]\tvalidation_0-tweedie-nloglik@1.5:2836.61670\tvalidation_0-mse:1408992542720.00000\n",
      "[383]\tvalidation_0-tweedie-nloglik@1.5:2836.62085\tvalidation_0-mse:1408992542720.00000\n",
      "[384]\tvalidation_0-tweedie-nloglik@1.5:2836.62109\tvalidation_0-mse:1408992542720.00000\n",
      "[385]\tvalidation_0-tweedie-nloglik@1.5:2836.62085\tvalidation_0-mse:1408992542720.00000\n",
      "[386]\tvalidation_0-tweedie-nloglik@1.5:2836.62183\tvalidation_0-mse:1408992542720.00000\n",
      "[387]\tvalidation_0-tweedie-nloglik@1.5:2836.62158\tvalidation_0-mse:1408992542720.00000\n",
      "[388]\tvalidation_0-tweedie-nloglik@1.5:2836.61353\tvalidation_0-mse:1408992542720.00000\n",
      "[389]\tvalidation_0-tweedie-nloglik@1.5:2836.61499\tvalidation_0-mse:1408992542720.00000\n",
      "[390]\tvalidation_0-tweedie-nloglik@1.5:2836.60742\tvalidation_0-mse:1408992542720.00000\n",
      "[391]\tvalidation_0-tweedie-nloglik@1.5:2836.59082\tvalidation_0-mse:1408992542720.00000\n",
      "[392]\tvalidation_0-tweedie-nloglik@1.5:2836.58789\tvalidation_0-mse:1408992542720.00000\n",
      "[393]\tvalidation_0-tweedie-nloglik@1.5:2836.58691\tvalidation_0-mse:1408992542720.00000\n",
      "[394]\tvalidation_0-tweedie-nloglik@1.5:2836.58765\tvalidation_0-mse:1408992542720.00000\n",
      "[395]\tvalidation_0-tweedie-nloglik@1.5:2836.58862\tvalidation_0-mse:1408992542720.00000\n",
      "[396]\tvalidation_0-tweedie-nloglik@1.5:2836.59595\tvalidation_0-mse:1408992542720.00000\n",
      "[397]\tvalidation_0-tweedie-nloglik@1.5:2836.59790\tvalidation_0-mse:1408992542720.00000\n",
      "[398]\tvalidation_0-tweedie-nloglik@1.5:2836.59692\tvalidation_0-mse:1408992542720.00000\n",
      "[399]\tvalidation_0-tweedie-nloglik@1.5:2836.60547\tvalidation_0-mse:1408992542720.00000\n",
      "[400]\tvalidation_0-tweedie-nloglik@1.5:2836.59253\tvalidation_0-mse:1408992542720.00000\n",
      "[401]\tvalidation_0-tweedie-nloglik@1.5:2836.58813\tvalidation_0-mse:1408992542720.00000\n",
      "[402]\tvalidation_0-tweedie-nloglik@1.5:2836.58447\tvalidation_0-mse:1408992542720.00000\n",
      "[403]\tvalidation_0-tweedie-nloglik@1.5:2836.58301\tvalidation_0-mse:1408992542720.00000\n",
      "[404]\tvalidation_0-tweedie-nloglik@1.5:2836.57715\tvalidation_0-mse:1408992542720.00000\n",
      "[405]\tvalidation_0-tweedie-nloglik@1.5:2836.57959\tvalidation_0-mse:1408992542720.00000\n",
      "[406]\tvalidation_0-tweedie-nloglik@1.5:2836.58130\tvalidation_0-mse:1408992542720.00000\n",
      "[407]\tvalidation_0-tweedie-nloglik@1.5:2836.59595\tvalidation_0-mse:1408992542720.00000\n",
      "[408]\tvalidation_0-tweedie-nloglik@1.5:2836.60498\tvalidation_0-mse:1408992542720.00000\n",
      "[409]\tvalidation_0-tweedie-nloglik@1.5:2836.60596\tvalidation_0-mse:1408992542720.00000\n",
      "[410]\tvalidation_0-tweedie-nloglik@1.5:2836.59961\tvalidation_0-mse:1408992542720.00000\n",
      "[411]\tvalidation_0-tweedie-nloglik@1.5:2836.60230\tvalidation_0-mse:1408992542720.00000\n",
      "[412]\tvalidation_0-tweedie-nloglik@1.5:2836.59937\tvalidation_0-mse:1408992542720.00000\n",
      "[413]\tvalidation_0-tweedie-nloglik@1.5:2836.59521\tvalidation_0-mse:1408992542720.00000\n",
      "[414]\tvalidation_0-tweedie-nloglik@1.5:2836.60278\tvalidation_0-mse:1408992542720.00000\n",
      "[415]\tvalidation_0-tweedie-nloglik@1.5:2836.60156\tvalidation_0-mse:1408992542720.00000\n",
      "[416]\tvalidation_0-tweedie-nloglik@1.5:2836.59204\tvalidation_0-mse:1408992542720.00000\n",
      "[417]\tvalidation_0-tweedie-nloglik@1.5:2836.58960\tvalidation_0-mse:1408992542720.00000\n",
      "[418]\tvalidation_0-tweedie-nloglik@1.5:2836.58984\tvalidation_0-mse:1408992542720.00000\n",
      "[419]\tvalidation_0-tweedie-nloglik@1.5:2836.59033\tvalidation_0-mse:1408992542720.00000\n",
      "[420]\tvalidation_0-tweedie-nloglik@1.5:2836.59229\tvalidation_0-mse:1408992542720.00000\n",
      "[421]\tvalidation_0-tweedie-nloglik@1.5:2836.58667\tvalidation_0-mse:1408992542720.00000\n",
      "[422]\tvalidation_0-tweedie-nloglik@1.5:2836.57690\tvalidation_0-mse:1408992542720.00000\n",
      "[423]\tvalidation_0-tweedie-nloglik@1.5:2836.57788\tvalidation_0-mse:1408992542720.00000\n",
      "[424]\tvalidation_0-tweedie-nloglik@1.5:2836.57861\tvalidation_0-mse:1408992542720.00000\n",
      "[425]\tvalidation_0-tweedie-nloglik@1.5:2836.58252\tvalidation_0-mse:1408992542720.00000\n",
      "[426]\tvalidation_0-tweedie-nloglik@1.5:2836.58398\tvalidation_0-mse:1408992542720.00000\n",
      "[427]\tvalidation_0-tweedie-nloglik@1.5:2836.58179\tvalidation_0-mse:1408992542720.00000\n",
      "[428]\tvalidation_0-tweedie-nloglik@1.5:2836.58154\tvalidation_0-mse:1408992542720.00000\n",
      "[429]\tvalidation_0-tweedie-nloglik@1.5:2836.58350\tvalidation_0-mse:1408992542720.00000\n",
      "[430]\tvalidation_0-tweedie-nloglik@1.5:2836.58228\tvalidation_0-mse:1408992542720.00000\n",
      "[431]\tvalidation_0-tweedie-nloglik@1.5:2836.57886\tvalidation_0-mse:1408992542720.00000\n",
      "[432]\tvalidation_0-tweedie-nloglik@1.5:2836.57861\tvalidation_0-mse:1408992542720.00000\n",
      "[433]\tvalidation_0-tweedie-nloglik@1.5:2836.56543\tvalidation_0-mse:1408992542720.00000\n",
      "[434]\tvalidation_0-tweedie-nloglik@1.5:2836.55933\tvalidation_0-mse:1408992542720.00000\n",
      "[435]\tvalidation_0-tweedie-nloglik@1.5:2836.55127\tvalidation_0-mse:1408992542720.00000\n",
      "[436]\tvalidation_0-tweedie-nloglik@1.5:2836.55078\tvalidation_0-mse:1408992542720.00000\n",
      "[437]\tvalidation_0-tweedie-nloglik@1.5:2836.54224\tvalidation_0-mse:1408992542720.00000\n",
      "[438]\tvalidation_0-tweedie-nloglik@1.5:2836.53516\tvalidation_0-mse:1408992542720.00000\n",
      "[439]\tvalidation_0-tweedie-nloglik@1.5:2836.51465\tvalidation_0-mse:1408992542720.00000\n",
      "[440]\tvalidation_0-tweedie-nloglik@1.5:2836.51733\tvalidation_0-mse:1408992542720.00000\n",
      "[441]\tvalidation_0-tweedie-nloglik@1.5:2836.51172\tvalidation_0-mse:1408992542720.00000\n",
      "[442]\tvalidation_0-tweedie-nloglik@1.5:2836.50464\tvalidation_0-mse:1408992542720.00000\n",
      "[443]\tvalidation_0-tweedie-nloglik@1.5:2836.50537\tvalidation_0-mse:1408992542720.00000\n",
      "[444]\tvalidation_0-tweedie-nloglik@1.5:2836.50781\tvalidation_0-mse:1408992542720.00000\n",
      "[445]\tvalidation_0-tweedie-nloglik@1.5:2836.50024\tvalidation_0-mse:1408992542720.00000\n",
      "[446]\tvalidation_0-tweedie-nloglik@1.5:2836.49463\tvalidation_0-mse:1408992542720.00000\n",
      "[447]\tvalidation_0-tweedie-nloglik@1.5:2836.50098\tvalidation_0-mse:1408992542720.00000\n",
      "[448]\tvalidation_0-tweedie-nloglik@1.5:2836.50610\tvalidation_0-mse:1408992542720.00000\n",
      "[449]\tvalidation_0-tweedie-nloglik@1.5:2836.49829\tvalidation_0-mse:1408992542720.00000\n",
      "[450]\tvalidation_0-tweedie-nloglik@1.5:2836.49731\tvalidation_0-mse:1408992542720.00000\n",
      "[451]\tvalidation_0-tweedie-nloglik@1.5:2836.48047\tvalidation_0-mse:1408992542720.00000\n",
      "[452]\tvalidation_0-tweedie-nloglik@1.5:2836.46680\tvalidation_0-mse:1408992542720.00000\n",
      "[453]\tvalidation_0-tweedie-nloglik@1.5:2836.46069\tvalidation_0-mse:1408992542720.00000\n",
      "[454]\tvalidation_0-tweedie-nloglik@1.5:2836.45947\tvalidation_0-mse:1408992542720.00000\n",
      "[455]\tvalidation_0-tweedie-nloglik@1.5:2836.47217\tvalidation_0-mse:1408992542720.00000\n",
      "[456]\tvalidation_0-tweedie-nloglik@1.5:2836.47070\tvalidation_0-mse:1408992542720.00000\n",
      "[457]\tvalidation_0-tweedie-nloglik@1.5:2836.46704\tvalidation_0-mse:1408992542720.00000\n",
      "[458]\tvalidation_0-tweedie-nloglik@1.5:2836.46802\tvalidation_0-mse:1408992542720.00000\n",
      "[459]\tvalidation_0-tweedie-nloglik@1.5:2836.46338\tvalidation_0-mse:1408992542720.00000\n",
      "[460]\tvalidation_0-tweedie-nloglik@1.5:2836.47778\tvalidation_0-mse:1408992542720.00000\n",
      "[461]\tvalidation_0-tweedie-nloglik@1.5:2836.47949\tvalidation_0-mse:1408992542720.00000\n",
      "[462]\tvalidation_0-tweedie-nloglik@1.5:2836.47412\tvalidation_0-mse:1408992542720.00000\n",
      "[463]\tvalidation_0-tweedie-nloglik@1.5:2836.46606\tvalidation_0-mse:1408992542720.00000\n",
      "[464]\tvalidation_0-tweedie-nloglik@1.5:2836.46387\tvalidation_0-mse:1408992542720.00000\n",
      "[465]\tvalidation_0-tweedie-nloglik@1.5:2836.46069\tvalidation_0-mse:1408992542720.00000\n",
      "[466]\tvalidation_0-tweedie-nloglik@1.5:2836.45581\tvalidation_0-mse:1408992542720.00000\n",
      "[467]\tvalidation_0-tweedie-nloglik@1.5:2836.45459\tvalidation_0-mse:1408992542720.00000\n",
      "[468]\tvalidation_0-tweedie-nloglik@1.5:2836.44702\tvalidation_0-mse:1408992542720.00000\n",
      "[469]\tvalidation_0-tweedie-nloglik@1.5:2836.44824\tvalidation_0-mse:1408992542720.00000\n",
      "[470]\tvalidation_0-tweedie-nloglik@1.5:2836.44775\tvalidation_0-mse:1408992542720.00000\n",
      "[471]\tvalidation_0-tweedie-nloglik@1.5:2836.44897\tvalidation_0-mse:1408992542720.00000\n",
      "[472]\tvalidation_0-tweedie-nloglik@1.5:2836.44165\tvalidation_0-mse:1408992542720.00000\n",
      "[473]\tvalidation_0-tweedie-nloglik@1.5:2836.44189\tvalidation_0-mse:1408992542720.00000\n",
      "[474]\tvalidation_0-tweedie-nloglik@1.5:2836.44189\tvalidation_0-mse:1408992542720.00000\n",
      "[475]\tvalidation_0-tweedie-nloglik@1.5:2836.43823\tvalidation_0-mse:1408992542720.00000\n"
     ]
    },
    {
     "name": "stdout",
     "output_type": "stream",
     "text": [
      "[476]\tvalidation_0-tweedie-nloglik@1.5:2836.43896\tvalidation_0-mse:1408992542720.00000\n",
      "[477]\tvalidation_0-tweedie-nloglik@1.5:2836.43970\tvalidation_0-mse:1408992542720.00000\n",
      "[478]\tvalidation_0-tweedie-nloglik@1.5:2836.43823\tvalidation_0-mse:1408992542720.00000\n",
      "[479]\tvalidation_0-tweedie-nloglik@1.5:2836.43262\tvalidation_0-mse:1408992542720.00000\n",
      "[480]\tvalidation_0-tweedie-nloglik@1.5:2836.41870\tvalidation_0-mse:1408992542720.00000\n",
      "[481]\tvalidation_0-tweedie-nloglik@1.5:2836.41919\tvalidation_0-mse:1408992542720.00000\n",
      "[482]\tvalidation_0-tweedie-nloglik@1.5:2836.41943\tvalidation_0-mse:1408992542720.00000\n",
      "[483]\tvalidation_0-tweedie-nloglik@1.5:2836.42139\tvalidation_0-mse:1408992542720.00000\n",
      "[484]\tvalidation_0-tweedie-nloglik@1.5:2836.42188\tvalidation_0-mse:1408992542720.00000\n",
      "[485]\tvalidation_0-tweedie-nloglik@1.5:2836.42749\tvalidation_0-mse:1408992542720.00000\n",
      "[486]\tvalidation_0-tweedie-nloglik@1.5:2836.42627\tvalidation_0-mse:1408992542720.00000\n",
      "[487]\tvalidation_0-tweedie-nloglik@1.5:2836.42481\tvalidation_0-mse:1408992542720.00000\n",
      "[488]\tvalidation_0-tweedie-nloglik@1.5:2836.42407\tvalidation_0-mse:1408992542720.00000\n",
      "[489]\tvalidation_0-tweedie-nloglik@1.5:2836.42236\tvalidation_0-mse:1408992542720.00000\n",
      "[490]\tvalidation_0-tweedie-nloglik@1.5:2836.42041\tvalidation_0-mse:1408992542720.00000\n",
      "[491]\tvalidation_0-tweedie-nloglik@1.5:2836.41699\tvalidation_0-mse:1408992542720.00000\n",
      "[492]\tvalidation_0-tweedie-nloglik@1.5:2836.41211\tvalidation_0-mse:1408992542720.00000\n",
      "[493]\tvalidation_0-tweedie-nloglik@1.5:2836.39673\tvalidation_0-mse:1408992542720.00000\n",
      "[494]\tvalidation_0-tweedie-nloglik@1.5:2836.39673\tvalidation_0-mse:1408992542720.00000\n",
      "[495]\tvalidation_0-tweedie-nloglik@1.5:2836.39868\tvalidation_0-mse:1408992542720.00000\n",
      "[496]\tvalidation_0-tweedie-nloglik@1.5:2836.39990\tvalidation_0-mse:1408992542720.00000\n",
      "[497]\tvalidation_0-tweedie-nloglik@1.5:2836.40063\tvalidation_0-mse:1408992542720.00000\n",
      "[498]\tvalidation_0-tweedie-nloglik@1.5:2836.39966\tvalidation_0-mse:1408992542720.00000\n",
      "[499]\tvalidation_0-tweedie-nloglik@1.5:2836.40161\tvalidation_0-mse:1408992542720.00000\n",
      "[500]\tvalidation_0-tweedie-nloglik@1.5:2836.40405\tvalidation_0-mse:1408992542720.00000\n",
      "[501]\tvalidation_0-tweedie-nloglik@1.5:2836.39404\tvalidation_0-mse:1408992542720.00000\n",
      "[502]\tvalidation_0-tweedie-nloglik@1.5:2836.39526\tvalidation_0-mse:1408992542720.00000\n",
      "[503]\tvalidation_0-tweedie-nloglik@1.5:2836.38794\tvalidation_0-mse:1408992542720.00000\n",
      "[504]\tvalidation_0-tweedie-nloglik@1.5:2836.38965\tvalidation_0-mse:1408992542720.00000\n",
      "[505]\tvalidation_0-tweedie-nloglik@1.5:2836.39233\tvalidation_0-mse:1408992542720.00000\n",
      "[506]\tvalidation_0-tweedie-nloglik@1.5:2836.39331\tvalidation_0-mse:1408992542720.00000\n",
      "[507]\tvalidation_0-tweedie-nloglik@1.5:2836.39600\tvalidation_0-mse:1408992542720.00000\n",
      "[508]\tvalidation_0-tweedie-nloglik@1.5:2836.39770\tvalidation_0-mse:1408992542720.00000\n",
      "[509]\tvalidation_0-tweedie-nloglik@1.5:2836.39404\tvalidation_0-mse:1408992542720.00000\n",
      "[510]\tvalidation_0-tweedie-nloglik@1.5:2836.40063\tvalidation_0-mse:1408992542720.00000\n",
      "[511]\tvalidation_0-tweedie-nloglik@1.5:2836.40063\tvalidation_0-mse:1408992542720.00000\n",
      "[512]\tvalidation_0-tweedie-nloglik@1.5:2836.39429\tvalidation_0-mse:1408992542720.00000\n",
      "[513]\tvalidation_0-tweedie-nloglik@1.5:2836.39331\tvalidation_0-mse:1408992542720.00000\n",
      "[514]\tvalidation_0-tweedie-nloglik@1.5:2836.39087\tvalidation_0-mse:1408992542720.00000\n",
      "[515]\tvalidation_0-tweedie-nloglik@1.5:2836.38794\tvalidation_0-mse:1408992542720.00000\n",
      "[516]\tvalidation_0-tweedie-nloglik@1.5:2836.38794\tvalidation_0-mse:1408992542720.00000\n",
      "[517]\tvalidation_0-tweedie-nloglik@1.5:2836.37842\tvalidation_0-mse:1408992542720.00000\n",
      "[518]\tvalidation_0-tweedie-nloglik@1.5:2836.37915\tvalidation_0-mse:1408992542720.00000\n",
      "[519]\tvalidation_0-tweedie-nloglik@1.5:2836.37988\tvalidation_0-mse:1408992542720.00000\n",
      "[520]\tvalidation_0-tweedie-nloglik@1.5:2836.37646\tvalidation_0-mse:1408992542720.00000\n",
      "[521]\tvalidation_0-tweedie-nloglik@1.5:2836.37891\tvalidation_0-mse:1408992542720.00000\n",
      "[522]\tvalidation_0-tweedie-nloglik@1.5:2836.37915\tvalidation_0-mse:1408992542720.00000\n",
      "[523]\tvalidation_0-tweedie-nloglik@1.5:2836.37988\tvalidation_0-mse:1408992542720.00000\n",
      "[524]\tvalidation_0-tweedie-nloglik@1.5:2836.38062\tvalidation_0-mse:1408992542720.00000\n",
      "[525]\tvalidation_0-tweedie-nloglik@1.5:2836.38159\tvalidation_0-mse:1408992542720.00000\n",
      "[526]\tvalidation_0-tweedie-nloglik@1.5:2836.37354\tvalidation_0-mse:1408992542720.00000\n",
      "[527]\tvalidation_0-tweedie-nloglik@1.5:2836.37305\tvalidation_0-mse:1408992542720.00000\n",
      "[528]\tvalidation_0-tweedie-nloglik@1.5:2836.37280\tvalidation_0-mse:1408992542720.00000\n",
      "[529]\tvalidation_0-tweedie-nloglik@1.5:2836.37646\tvalidation_0-mse:1408992542720.00000\n",
      "[530]\tvalidation_0-tweedie-nloglik@1.5:2836.37842\tvalidation_0-mse:1408992542720.00000\n",
      "[531]\tvalidation_0-tweedie-nloglik@1.5:2836.37354\tvalidation_0-mse:1408992542720.00000\n",
      "[532]\tvalidation_0-tweedie-nloglik@1.5:2836.37573\tvalidation_0-mse:1408992542720.00000\n",
      "[533]\tvalidation_0-tweedie-nloglik@1.5:2836.37476\tvalidation_0-mse:1408992542720.00000\n",
      "[534]\tvalidation_0-tweedie-nloglik@1.5:2836.37354\tvalidation_0-mse:1408992542720.00000\n",
      "[535]\tvalidation_0-tweedie-nloglik@1.5:2836.36987\tvalidation_0-mse:1408992542720.00000\n",
      "[536]\tvalidation_0-tweedie-nloglik@1.5:2836.35669\tvalidation_0-mse:1408992542720.00000\n",
      "[537]\tvalidation_0-tweedie-nloglik@1.5:2836.35913\tvalidation_0-mse:1408992542720.00000\n",
      "[538]\tvalidation_0-tweedie-nloglik@1.5:2836.35596\tvalidation_0-mse:1408992542720.00000\n",
      "[539]\tvalidation_0-tweedie-nloglik@1.5:2836.35425\tvalidation_0-mse:1408992542720.00000\n",
      "[540]\tvalidation_0-tweedie-nloglik@1.5:2836.35425\tvalidation_0-mse:1408992542720.00000\n",
      "[541]\tvalidation_0-tweedie-nloglik@1.5:2836.35156\tvalidation_0-mse:1408992542720.00000\n",
      "[542]\tvalidation_0-tweedie-nloglik@1.5:2836.35425\tvalidation_0-mse:1408992542720.00000\n",
      "[543]\tvalidation_0-tweedie-nloglik@1.5:2836.36182\tvalidation_0-mse:1408992542720.00000\n",
      "[544]\tvalidation_0-tweedie-nloglik@1.5:2836.35425\tvalidation_0-mse:1408992542720.00000\n",
      "[545]\tvalidation_0-tweedie-nloglik@1.5:2836.35498\tvalidation_0-mse:1408992542720.00000\n",
      "[546]\tvalidation_0-tweedie-nloglik@1.5:2836.35278\tvalidation_0-mse:1408992542720.00000\n",
      "[547]\tvalidation_0-tweedie-nloglik@1.5:2836.35010\tvalidation_0-mse:1408992542720.00000\n",
      "[548]\tvalidation_0-tweedie-nloglik@1.5:2836.35156\tvalidation_0-mse:1408992542720.00000\n",
      "[549]\tvalidation_0-tweedie-nloglik@1.5:2836.35059\tvalidation_0-mse:1408992542720.00000\n",
      "[550]\tvalidation_0-tweedie-nloglik@1.5:2836.35132\tvalidation_0-mse:1408992542720.00000\n",
      "[551]\tvalidation_0-tweedie-nloglik@1.5:2836.34888\tvalidation_0-mse:1408992542720.00000\n",
      "[552]\tvalidation_0-tweedie-nloglik@1.5:2836.33936\tvalidation_0-mse:1408992542720.00000\n",
      "[553]\tvalidation_0-tweedie-nloglik@1.5:2836.34424\tvalidation_0-mse:1408992542720.00000\n",
      "[554]\tvalidation_0-tweedie-nloglik@1.5:2836.34570\tvalidation_0-mse:1408992542720.00000\n",
      "[555]\tvalidation_0-tweedie-nloglik@1.5:2836.34155\tvalidation_0-mse:1408992542720.00000\n",
      "[556]\tvalidation_0-tweedie-nloglik@1.5:2836.34033\tvalidation_0-mse:1408992542720.00000\n",
      "[557]\tvalidation_0-tweedie-nloglik@1.5:2836.34229\tvalidation_0-mse:1408992542720.00000\n",
      "[558]\tvalidation_0-tweedie-nloglik@1.5:2836.32007\tvalidation_0-mse:1408992542720.00000\n",
      "[559]\tvalidation_0-tweedie-nloglik@1.5:2836.31738\tvalidation_0-mse:1408992542720.00000\n",
      "[560]\tvalidation_0-tweedie-nloglik@1.5:2836.31567\tvalidation_0-mse:1408992542720.00000\n",
      "[561]\tvalidation_0-tweedie-nloglik@1.5:2836.31689\tvalidation_0-mse:1408992542720.00000\n",
      "[562]\tvalidation_0-tweedie-nloglik@1.5:2836.31543\tvalidation_0-mse:1408992542720.00000\n",
      "[563]\tvalidation_0-tweedie-nloglik@1.5:2836.30542\tvalidation_0-mse:1408992542720.00000\n",
      "[564]\tvalidation_0-tweedie-nloglik@1.5:2836.30542\tvalidation_0-mse:1408992542720.00000\n",
      "[565]\tvalidation_0-tweedie-nloglik@1.5:2836.29907\tvalidation_0-mse:1408992542720.00000\n",
      "[566]\tvalidation_0-tweedie-nloglik@1.5:2836.30078\tvalidation_0-mse:1408992542720.00000\n",
      "[567]\tvalidation_0-tweedie-nloglik@1.5:2836.30127\tvalidation_0-mse:1408992542720.00000\n",
      "[568]\tvalidation_0-tweedie-nloglik@1.5:2836.29663\tvalidation_0-mse:1408992542720.00000\n",
      "[569]\tvalidation_0-tweedie-nloglik@1.5:2836.29102\tvalidation_0-mse:1408992542720.00000\n",
      "[570]\tvalidation_0-tweedie-nloglik@1.5:2836.28882\tvalidation_0-mse:1408992542720.00000\n"
     ]
    },
    {
     "name": "stdout",
     "output_type": "stream",
     "text": [
      "[571]\tvalidation_0-tweedie-nloglik@1.5:2836.28955\tvalidation_0-mse:1408992542720.00000\n",
      "[572]\tvalidation_0-tweedie-nloglik@1.5:2836.28125\tvalidation_0-mse:1408992542720.00000\n",
      "[573]\tvalidation_0-tweedie-nloglik@1.5:2836.28223\tvalidation_0-mse:1408992542720.00000\n",
      "[574]\tvalidation_0-tweedie-nloglik@1.5:2836.28516\tvalidation_0-mse:1408992542720.00000\n",
      "[575]\tvalidation_0-tweedie-nloglik@1.5:2836.28857\tvalidation_0-mse:1408992542720.00000\n",
      "[576]\tvalidation_0-tweedie-nloglik@1.5:2836.29004\tvalidation_0-mse:1408992542720.00000\n",
      "[577]\tvalidation_0-tweedie-nloglik@1.5:2836.29028\tvalidation_0-mse:1408992542720.00000\n",
      "[578]\tvalidation_0-tweedie-nloglik@1.5:2836.29053\tvalidation_0-mse:1408992542720.00000\n",
      "[579]\tvalidation_0-tweedie-nloglik@1.5:2836.29272\tvalidation_0-mse:1408992542720.00000\n",
      "[580]\tvalidation_0-tweedie-nloglik@1.5:2836.29199\tvalidation_0-mse:1408992542720.00000\n",
      "[581]\tvalidation_0-tweedie-nloglik@1.5:2836.29126\tvalidation_0-mse:1408992542720.00000\n",
      "[582]\tvalidation_0-tweedie-nloglik@1.5:2836.28052\tvalidation_0-mse:1408992542720.00000\n",
      "[583]\tvalidation_0-tweedie-nloglik@1.5:2836.28345\tvalidation_0-mse:1408992542720.00000\n",
      "[584]\tvalidation_0-tweedie-nloglik@1.5:2836.28467\tvalidation_0-mse:1408992542720.00000\n",
      "[585]\tvalidation_0-tweedie-nloglik@1.5:2836.29004\tvalidation_0-mse:1408992542720.00000\n",
      "[586]\tvalidation_0-tweedie-nloglik@1.5:2836.29394\tvalidation_0-mse:1408992542720.00000\n",
      "[587]\tvalidation_0-tweedie-nloglik@1.5:2836.29199\tvalidation_0-mse:1408992542720.00000\n",
      "[588]\tvalidation_0-tweedie-nloglik@1.5:2836.29590\tvalidation_0-mse:1408992542720.00000\n",
      "[589]\tvalidation_0-tweedie-nloglik@1.5:2836.29736\tvalidation_0-mse:1408992542720.00000\n",
      "[590]\tvalidation_0-tweedie-nloglik@1.5:2836.29639\tvalidation_0-mse:1408992542720.00000\n",
      "[591]\tvalidation_0-tweedie-nloglik@1.5:2836.29272\tvalidation_0-mse:1408992542720.00000\n",
      "[592]\tvalidation_0-tweedie-nloglik@1.5:2836.28857\tvalidation_0-mse:1408992542720.00000\n",
      "[593]\tvalidation_0-tweedie-nloglik@1.5:2836.28784\tvalidation_0-mse:1408992542720.00000\n",
      "[594]\tvalidation_0-tweedie-nloglik@1.5:2836.29004\tvalidation_0-mse:1408992542720.00000\n",
      "[595]\tvalidation_0-tweedie-nloglik@1.5:2836.27881\tvalidation_0-mse:1408992542720.00000\n",
      "[596]\tvalidation_0-tweedie-nloglik@1.5:2836.28027\tvalidation_0-mse:1408992542720.00000\n",
      "[597]\tvalidation_0-tweedie-nloglik@1.5:2836.27808\tvalidation_0-mse:1408992542720.00000\n",
      "[598]\tvalidation_0-tweedie-nloglik@1.5:2836.27710\tvalidation_0-mse:1408992542720.00000\n",
      "[599]\tvalidation_0-tweedie-nloglik@1.5:2836.25610\tvalidation_0-mse:1408992542720.00000\n",
      "[600]\tvalidation_0-tweedie-nloglik@1.5:2836.26099\tvalidation_0-mse:1408992542720.00000\n",
      "[601]\tvalidation_0-tweedie-nloglik@1.5:2836.25879\tvalidation_0-mse:1408992542720.00000\n",
      "[602]\tvalidation_0-tweedie-nloglik@1.5:2836.25708\tvalidation_0-mse:1408992542720.00000\n",
      "[603]\tvalidation_0-tweedie-nloglik@1.5:2836.25269\tvalidation_0-mse:1408992542720.00000\n",
      "[604]\tvalidation_0-tweedie-nloglik@1.5:2836.25171\tvalidation_0-mse:1408992542720.00000\n",
      "[605]\tvalidation_0-tweedie-nloglik@1.5:2836.25513\tvalidation_0-mse:1408992542720.00000\n",
      "[606]\tvalidation_0-tweedie-nloglik@1.5:2836.25391\tvalidation_0-mse:1408992542720.00000\n",
      "[607]\tvalidation_0-tweedie-nloglik@1.5:2836.25024\tvalidation_0-mse:1408992542720.00000\n",
      "[608]\tvalidation_0-tweedie-nloglik@1.5:2836.25439\tvalidation_0-mse:1408992542720.00000\n",
      "[609]\tvalidation_0-tweedie-nloglik@1.5:2836.24731\tvalidation_0-mse:1408992542720.00000\n",
      "[610]\tvalidation_0-tweedie-nloglik@1.5:2836.24829\tvalidation_0-mse:1408992542720.00000\n",
      "[611]\tvalidation_0-tweedie-nloglik@1.5:2836.25195\tvalidation_0-mse:1408992542720.00000\n",
      "[612]\tvalidation_0-tweedie-nloglik@1.5:2836.25293\tvalidation_0-mse:1408992542720.00000\n",
      "[613]\tvalidation_0-tweedie-nloglik@1.5:2836.25293\tvalidation_0-mse:1408992542720.00000\n",
      "[614]\tvalidation_0-tweedie-nloglik@1.5:2836.25464\tvalidation_0-mse:1408992542720.00000\n",
      "[615]\tvalidation_0-tweedie-nloglik@1.5:2836.24902\tvalidation_0-mse:1408992542720.00000\n",
      "[616]\tvalidation_0-tweedie-nloglik@1.5:2836.24707\tvalidation_0-mse:1408992542720.00000\n",
      "[617]\tvalidation_0-tweedie-nloglik@1.5:2836.24829\tvalidation_0-mse:1408992542720.00000\n",
      "[618]\tvalidation_0-tweedie-nloglik@1.5:2836.24878\tvalidation_0-mse:1408992542720.00000\n",
      "[619]\tvalidation_0-tweedie-nloglik@1.5:2836.25171\tvalidation_0-mse:1408992542720.00000\n",
      "[620]\tvalidation_0-tweedie-nloglik@1.5:2836.26245\tvalidation_0-mse:1408992542720.00000\n",
      "[621]\tvalidation_0-tweedie-nloglik@1.5:2836.26782\tvalidation_0-mse:1408992542720.00000\n",
      "[622]\tvalidation_0-tweedie-nloglik@1.5:2836.26440\tvalidation_0-mse:1408992542720.00000\n",
      "[623]\tvalidation_0-tweedie-nloglik@1.5:2836.25830\tvalidation_0-mse:1408992542720.00000\n",
      "[624]\tvalidation_0-tweedie-nloglik@1.5:2836.25781\tvalidation_0-mse:1408992542720.00000\n",
      "[625]\tvalidation_0-tweedie-nloglik@1.5:2836.25244\tvalidation_0-mse:1408992542720.00000\n",
      "[626]\tvalidation_0-tweedie-nloglik@1.5:2836.26904\tvalidation_0-mse:1408992542720.00000\n",
      "[627]\tvalidation_0-tweedie-nloglik@1.5:2836.27002\tvalidation_0-mse:1408992542720.00000\n",
      "[628]\tvalidation_0-tweedie-nloglik@1.5:2836.27002\tvalidation_0-mse:1408992542720.00000\n",
      "[629]\tvalidation_0-tweedie-nloglik@1.5:2836.26782\tvalidation_0-mse:1408992542720.00000\n",
      "[630]\tvalidation_0-tweedie-nloglik@1.5:2836.27075\tvalidation_0-mse:1408992542720.00000\n",
      "[631]\tvalidation_0-tweedie-nloglik@1.5:2836.27319\tvalidation_0-mse:1408992542720.00000\n",
      "[632]\tvalidation_0-tweedie-nloglik@1.5:2836.27588\tvalidation_0-mse:1408992542720.00000\n",
      "[633]\tvalidation_0-tweedie-nloglik@1.5:2836.27441\tvalidation_0-mse:1408992542720.00000\n",
      "[634]\tvalidation_0-tweedie-nloglik@1.5:2836.27148\tvalidation_0-mse:1408992542720.00000\n",
      "[635]\tvalidation_0-tweedie-nloglik@1.5:2836.27173\tvalidation_0-mse:1408992542720.00000\n",
      "[636]\tvalidation_0-tweedie-nloglik@1.5:2836.27124\tvalidation_0-mse:1408992542720.00000\n",
      "[637]\tvalidation_0-tweedie-nloglik@1.5:2836.27808\tvalidation_0-mse:1408992542720.00000\n",
      "[638]\tvalidation_0-tweedie-nloglik@1.5:2836.27881\tvalidation_0-mse:1408992542720.00000\n",
      "[639]\tvalidation_0-tweedie-nloglik@1.5:2836.27930\tvalidation_0-mse:1408992542720.00000\n",
      "[640]\tvalidation_0-tweedie-nloglik@1.5:2836.27783\tvalidation_0-mse:1408992542720.00000\n",
      "[641]\tvalidation_0-tweedie-nloglik@1.5:2836.27661\tvalidation_0-mse:1408992542720.00000\n",
      "[642]\tvalidation_0-tweedie-nloglik@1.5:2836.27686\tvalidation_0-mse:1408992542720.00000\n",
      "[643]\tvalidation_0-tweedie-nloglik@1.5:2836.27686\tvalidation_0-mse:1408992542720.00000\n",
      "[644]\tvalidation_0-tweedie-nloglik@1.5:2836.27515\tvalidation_0-mse:1408992542720.00000\n",
      "[645]\tvalidation_0-tweedie-nloglik@1.5:2836.27686\tvalidation_0-mse:1408992542720.00000\n",
      "[646]\tvalidation_0-tweedie-nloglik@1.5:2836.25610\tvalidation_0-mse:1408992542720.00000\n",
      "[647]\tvalidation_0-tweedie-nloglik@1.5:2836.25513\tvalidation_0-mse:1408992542720.00000\n",
      "[648]\tvalidation_0-tweedie-nloglik@1.5:2836.25537\tvalidation_0-mse:1408992542720.00000\n",
      "[649]\tvalidation_0-tweedie-nloglik@1.5:2836.25269\tvalidation_0-mse:1408992542720.00000\n",
      "[650]\tvalidation_0-tweedie-nloglik@1.5:2836.25366\tvalidation_0-mse:1408992542720.00000\n",
      "[651]\tvalidation_0-tweedie-nloglik@1.5:2836.25293\tvalidation_0-mse:1408992542720.00000\n",
      "[652]\tvalidation_0-tweedie-nloglik@1.5:2836.25293\tvalidation_0-mse:1408992542720.00000\n",
      "[653]\tvalidation_0-tweedie-nloglik@1.5:2836.25342\tvalidation_0-mse:1408992542720.00000\n",
      "[654]\tvalidation_0-tweedie-nloglik@1.5:2836.25098\tvalidation_0-mse:1408992542720.00000\n",
      "[655]\tvalidation_0-tweedie-nloglik@1.5:2836.25024\tvalidation_0-mse:1408992542720.00000\n",
      "[656]\tvalidation_0-tweedie-nloglik@1.5:2836.25122\tvalidation_0-mse:1408992542720.00000\n",
      "[657]\tvalidation_0-tweedie-nloglik@1.5:2836.24829\tvalidation_0-mse:1408992542720.00000\n",
      "[658]\tvalidation_0-tweedie-nloglik@1.5:2836.24561\tvalidation_0-mse:1408992542720.00000\n",
      "[659]\tvalidation_0-tweedie-nloglik@1.5:2836.24341\tvalidation_0-mse:1408992542720.00000\n",
      "[660]\tvalidation_0-tweedie-nloglik@1.5:2836.24219\tvalidation_0-mse:1408992542720.00000\n",
      "[661]\tvalidation_0-tweedie-nloglik@1.5:2836.24390\tvalidation_0-mse:1408992542720.00000\n",
      "[662]\tvalidation_0-tweedie-nloglik@1.5:2836.24365\tvalidation_0-mse:1408992542720.00000\n",
      "[663]\tvalidation_0-tweedie-nloglik@1.5:2836.23950\tvalidation_0-mse:1408992542720.00000\n",
      "[664]\tvalidation_0-tweedie-nloglik@1.5:2836.23144\tvalidation_0-mse:1408992542720.00000\n",
      "[665]\tvalidation_0-tweedie-nloglik@1.5:2836.22730\tvalidation_0-mse:1408992542720.00000\n"
     ]
    },
    {
     "name": "stdout",
     "output_type": "stream",
     "text": [
      "[666]\tvalidation_0-tweedie-nloglik@1.5:2836.22754\tvalidation_0-mse:1408992542720.00000\n",
      "[667]\tvalidation_0-tweedie-nloglik@1.5:2836.23413\tvalidation_0-mse:1408992542720.00000\n",
      "[668]\tvalidation_0-tweedie-nloglik@1.5:2836.23389\tvalidation_0-mse:1408992542720.00000\n",
      "[669]\tvalidation_0-tweedie-nloglik@1.5:2836.23267\tvalidation_0-mse:1408992542720.00000\n",
      "[670]\tvalidation_0-tweedie-nloglik@1.5:2836.23022\tvalidation_0-mse:1408992542720.00000\n",
      "[671]\tvalidation_0-tweedie-nloglik@1.5:2836.23022\tvalidation_0-mse:1408992542720.00000\n",
      "[672]\tvalidation_0-tweedie-nloglik@1.5:2836.23364\tvalidation_0-mse:1408992542720.00000\n",
      "[673]\tvalidation_0-tweedie-nloglik@1.5:2836.23828\tvalidation_0-mse:1408992542720.00000\n",
      "[674]\tvalidation_0-tweedie-nloglik@1.5:2836.23682\tvalidation_0-mse:1408992542720.00000\n",
      "[675]\tvalidation_0-tweedie-nloglik@1.5:2836.23804\tvalidation_0-mse:1408992542720.00000\n",
      "[676]\tvalidation_0-tweedie-nloglik@1.5:2836.23804\tvalidation_0-mse:1408992542720.00000\n",
      "[677]\tvalidation_0-tweedie-nloglik@1.5:2836.23901\tvalidation_0-mse:1408992542720.00000\n",
      "[678]\tvalidation_0-tweedie-nloglik@1.5:2836.23584\tvalidation_0-mse:1408992542720.00000\n",
      "[679]\tvalidation_0-tweedie-nloglik@1.5:2836.23535\tvalidation_0-mse:1408992542720.00000\n",
      "[680]\tvalidation_0-tweedie-nloglik@1.5:2836.23926\tvalidation_0-mse:1408992542720.00000\n",
      "[681]\tvalidation_0-tweedie-nloglik@1.5:2836.23828\tvalidation_0-mse:1408992542720.00000\n",
      "[682]\tvalidation_0-tweedie-nloglik@1.5:2836.22876\tvalidation_0-mse:1408992542720.00000\n",
      "[683]\tvalidation_0-tweedie-nloglik@1.5:2836.22754\tvalidation_0-mse:1408992542720.00000\n",
      "[684]\tvalidation_0-tweedie-nloglik@1.5:2836.22852\tvalidation_0-mse:1408992542720.00000\n",
      "[685]\tvalidation_0-tweedie-nloglik@1.5:2836.23120\tvalidation_0-mse:1408992542720.00000\n",
      "[686]\tvalidation_0-tweedie-nloglik@1.5:2836.22827\tvalidation_0-mse:1408992542720.00000\n",
      "[687]\tvalidation_0-tweedie-nloglik@1.5:2836.23120\tvalidation_0-mse:1408992542720.00000\n",
      "[688]\tvalidation_0-tweedie-nloglik@1.5:2836.22827\tvalidation_0-mse:1408992542720.00000\n",
      "[689]\tvalidation_0-tweedie-nloglik@1.5:2836.22925\tvalidation_0-mse:1408992542720.00000\n",
      "[690]\tvalidation_0-tweedie-nloglik@1.5:2836.27148\tvalidation_0-mse:1408992542720.00000\n",
      "[691]\tvalidation_0-tweedie-nloglik@1.5:2836.26904\tvalidation_0-mse:1408992542720.00000\n",
      "[692]\tvalidation_0-tweedie-nloglik@1.5:2836.27539\tvalidation_0-mse:1408992542720.00000\n",
      "[693]\tvalidation_0-tweedie-nloglik@1.5:2836.27710\tvalidation_0-mse:1408992542720.00000\n",
      "[694]\tvalidation_0-tweedie-nloglik@1.5:2836.27173\tvalidation_0-mse:1408992542720.00000\n",
      "[695]\tvalidation_0-tweedie-nloglik@1.5:2836.27490\tvalidation_0-mse:1408992542720.00000\n",
      "[696]\tvalidation_0-tweedie-nloglik@1.5:2836.27270\tvalidation_0-mse:1408992542720.00000\n",
      "[697]\tvalidation_0-tweedie-nloglik@1.5:2836.24976\tvalidation_0-mse:1408992542720.00000\n",
      "[698]\tvalidation_0-tweedie-nloglik@1.5:2836.24976\tvalidation_0-mse:1408992542720.00000\n",
      "[699]\tvalidation_0-tweedie-nloglik@1.5:2836.24170\tvalidation_0-mse:1408992542720.00000\n",
      "[700]\tvalidation_0-tweedie-nloglik@1.5:2836.24121\tvalidation_0-mse:1408992542720.00000\n",
      "[701]\tvalidation_0-tweedie-nloglik@1.5:2836.23731\tvalidation_0-mse:1408992542720.00000\n",
      "[702]\tvalidation_0-tweedie-nloglik@1.5:2836.23950\tvalidation_0-mse:1408992542720.00000\n",
      "[703]\tvalidation_0-tweedie-nloglik@1.5:2836.22314\tvalidation_0-mse:1408992542720.00000\n",
      "[704]\tvalidation_0-tweedie-nloglik@1.5:2836.21948\tvalidation_0-mse:1408992542720.00000\n",
      "[705]\tvalidation_0-tweedie-nloglik@1.5:2836.22485\tvalidation_0-mse:1408992542720.00000\n",
      "[706]\tvalidation_0-tweedie-nloglik@1.5:2836.22510\tvalidation_0-mse:1408992542720.00000\n",
      "[707]\tvalidation_0-tweedie-nloglik@1.5:2836.22485\tvalidation_0-mse:1408992542720.00000\n",
      "[708]\tvalidation_0-tweedie-nloglik@1.5:2836.22485\tvalidation_0-mse:1408992542720.00000\n",
      "[709]\tvalidation_0-tweedie-nloglik@1.5:2836.22827\tvalidation_0-mse:1408992542720.00000\n",
      "[710]\tvalidation_0-tweedie-nloglik@1.5:2836.22412\tvalidation_0-mse:1408992542720.00000\n",
      "[711]\tvalidation_0-tweedie-nloglik@1.5:2836.22559\tvalidation_0-mse:1408992542720.00000\n",
      "[712]\tvalidation_0-tweedie-nloglik@1.5:2836.22339\tvalidation_0-mse:1408992542720.00000\n",
      "[713]\tvalidation_0-tweedie-nloglik@1.5:2836.22827\tvalidation_0-mse:1408992542720.00000\n",
      "[714]\tvalidation_0-tweedie-nloglik@1.5:2836.22656\tvalidation_0-mse:1408992542720.00000\n",
      "[715]\tvalidation_0-tweedie-nloglik@1.5:2836.22607\tvalidation_0-mse:1408992542720.00000\n",
      "[716]\tvalidation_0-tweedie-nloglik@1.5:2836.22681\tvalidation_0-mse:1408992542720.00000\n",
      "[717]\tvalidation_0-tweedie-nloglik@1.5:2836.22754\tvalidation_0-mse:1408992542720.00000\n",
      "[718]\tvalidation_0-tweedie-nloglik@1.5:2836.22998\tvalidation_0-mse:1408992542720.00000\n",
      "[719]\tvalidation_0-tweedie-nloglik@1.5:2836.22681\tvalidation_0-mse:1408992542720.00000\n",
      "[720]\tvalidation_0-tweedie-nloglik@1.5:2836.22290\tvalidation_0-mse:1408992542720.00000\n",
      "[721]\tvalidation_0-tweedie-nloglik@1.5:2836.22241\tvalidation_0-mse:1408992542720.00000\n",
      "[722]\tvalidation_0-tweedie-nloglik@1.5:2836.22241\tvalidation_0-mse:1408992542720.00000\n",
      "[723]\tvalidation_0-tweedie-nloglik@1.5:2836.22241\tvalidation_0-mse:1408992542720.00000\n",
      "[724]\tvalidation_0-tweedie-nloglik@1.5:2836.34888\tvalidation_0-mse:1408992542720.00000\n",
      "[725]\tvalidation_0-tweedie-nloglik@1.5:2836.33691\tvalidation_0-mse:1408992542720.00000\n",
      "[726]\tvalidation_0-tweedie-nloglik@1.5:2836.35230\tvalidation_0-mse:1408992542720.00000\n",
      "[727]\tvalidation_0-tweedie-nloglik@1.5:2836.34888\tvalidation_0-mse:1408992542720.00000\n",
      "[728]\tvalidation_0-tweedie-nloglik@1.5:2836.35913\tvalidation_0-mse:1408992542720.00000\n",
      "[729]\tvalidation_0-tweedie-nloglik@1.5:2836.36206\tvalidation_0-mse:1408992542720.00000\n",
      "[730]\tvalidation_0-tweedie-nloglik@1.5:2836.36108\tvalidation_0-mse:1408992542720.00000\n",
      "[731]\tvalidation_0-tweedie-nloglik@1.5:2836.36231\tvalidation_0-mse:1408992542720.00000\n",
      "[732]\tvalidation_0-tweedie-nloglik@1.5:2836.35962\tvalidation_0-mse:1408992542720.00000\n",
      "[733]\tvalidation_0-tweedie-nloglik@1.5:2836.35376\tvalidation_0-mse:1408992542720.00000\n",
      "[734]\tvalidation_0-tweedie-nloglik@1.5:2836.35327\tvalidation_0-mse:1408992542720.00000\n",
      "[735]\tvalidation_0-tweedie-nloglik@1.5:2836.35107\tvalidation_0-mse:1408992542720.00000\n",
      "[736]\tvalidation_0-tweedie-nloglik@1.5:2836.34888\tvalidation_0-mse:1408992542720.00000\n",
      "[737]\tvalidation_0-tweedie-nloglik@1.5:2836.35010\tvalidation_0-mse:1408992542720.00000\n",
      "[738]\tvalidation_0-tweedie-nloglik@1.5:2836.34766\tvalidation_0-mse:1408992542720.00000\n",
      "[739]\tvalidation_0-tweedie-nloglik@1.5:2836.35156\tvalidation_0-mse:1408992542720.00000\n",
      "[740]\tvalidation_0-tweedie-nloglik@1.5:2836.34839\tvalidation_0-mse:1408992542720.00000\n",
      "[741]\tvalidation_0-tweedie-nloglik@1.5:2836.34302\tvalidation_0-mse:1408992542720.00000\n",
      "[742]\tvalidation_0-tweedie-nloglik@1.5:2836.34155\tvalidation_0-mse:1408992542720.00000\n",
      "[743]\tvalidation_0-tweedie-nloglik@1.5:2836.34399\tvalidation_0-mse:1408992542720.00000\n",
      "[744]\tvalidation_0-tweedie-nloglik@1.5:2836.33960\tvalidation_0-mse:1408992542720.00000\n",
      "[745]\tvalidation_0-tweedie-nloglik@1.5:2836.33765\tvalidation_0-mse:1408992542720.00000\n",
      "[746]\tvalidation_0-tweedie-nloglik@1.5:2836.33520\tvalidation_0-mse:1408992542720.00000\n",
      "[747]\tvalidation_0-tweedie-nloglik@1.5:2836.33447\tvalidation_0-mse:1408992542720.00000\n",
      "[748]\tvalidation_0-tweedie-nloglik@1.5:2836.33618\tvalidation_0-mse:1408992542720.00000\n",
      "[749]\tvalidation_0-tweedie-nloglik@1.5:2836.33887\tvalidation_0-mse:1408992542720.00000\n",
      "[750]\tvalidation_0-tweedie-nloglik@1.5:2836.34033\tvalidation_0-mse:1408992542720.00000\n",
      "[751]\tvalidation_0-tweedie-nloglik@1.5:2836.33936\tvalidation_0-mse:1408992542720.00000\n",
      "[752]\tvalidation_0-tweedie-nloglik@1.5:2836.33765\tvalidation_0-mse:1408992542720.00000\n",
      "[753]\tvalidation_0-tweedie-nloglik@1.5:2836.33496\tvalidation_0-mse:1408992542720.00000\n",
      "[754]\tvalidation_0-tweedie-nloglik@1.5:2836.33594\tvalidation_0-mse:1408992542720.00000\n",
      "[755]\tvalidation_0-tweedie-nloglik@1.5:2836.33398\tvalidation_0-mse:1408992542720.00000\n",
      "[756]\tvalidation_0-tweedie-nloglik@1.5:2836.34155\tvalidation_0-mse:1408992542720.00000\n",
      "[757]\tvalidation_0-tweedie-nloglik@1.5:2836.34155\tvalidation_0-mse:1408992542720.00000\n",
      "[758]\tvalidation_0-tweedie-nloglik@1.5:2836.34253\tvalidation_0-mse:1408992542720.00000\n",
      "[759]\tvalidation_0-tweedie-nloglik@1.5:2836.34351\tvalidation_0-mse:1408992542720.00000\n",
      "[760]\tvalidation_0-tweedie-nloglik@1.5:2836.34302\tvalidation_0-mse:1408992542720.00000\n"
     ]
    },
    {
     "name": "stdout",
     "output_type": "stream",
     "text": [
      "[761]\tvalidation_0-tweedie-nloglik@1.5:2836.34082\tvalidation_0-mse:1408992542720.00000\n",
      "[762]\tvalidation_0-tweedie-nloglik@1.5:2836.33691\tvalidation_0-mse:1408992542720.00000\n",
      "[763]\tvalidation_0-tweedie-nloglik@1.5:2836.33594\tvalidation_0-mse:1408992542720.00000\n",
      "[764]\tvalidation_0-tweedie-nloglik@1.5:2836.34741\tvalidation_0-mse:1408992542720.00000\n",
      "[765]\tvalidation_0-tweedie-nloglik@1.5:2836.34570\tvalidation_0-mse:1408992542720.00000\n",
      "[766]\tvalidation_0-tweedie-nloglik@1.5:2836.34424\tvalidation_0-mse:1408992542720.00000\n",
      "[767]\tvalidation_0-tweedie-nloglik@1.5:2836.33862\tvalidation_0-mse:1408992542720.00000\n",
      "[768]\tvalidation_0-tweedie-nloglik@1.5:2836.33813\tvalidation_0-mse:1408992542720.00000\n",
      "[769]\tvalidation_0-tweedie-nloglik@1.5:2836.34229\tvalidation_0-mse:1408992542720.00000\n",
      "[770]\tvalidation_0-tweedie-nloglik@1.5:2836.34399\tvalidation_0-mse:1408992542720.00000\n",
      "[771]\tvalidation_0-tweedie-nloglik@1.5:2836.34229\tvalidation_0-mse:1408992542720.00000\n",
      "[772]\tvalidation_0-tweedie-nloglik@1.5:2836.34473\tvalidation_0-mse:1408992542720.00000\n",
      "[773]\tvalidation_0-tweedie-nloglik@1.5:2836.34302\tvalidation_0-mse:1408992542720.00000\n",
      "[774]\tvalidation_0-tweedie-nloglik@1.5:2836.34790\tvalidation_0-mse:1408992542720.00000\n",
      "[775]\tvalidation_0-tweedie-nloglik@1.5:2836.34619\tvalidation_0-mse:1408992542720.00000\n",
      "[776]\tvalidation_0-tweedie-nloglik@1.5:2836.34473\tvalidation_0-mse:1408992542720.00000\n",
      "[777]\tvalidation_0-tweedie-nloglik@1.5:2836.34302\tvalidation_0-mse:1408992542720.00000\n",
      "[778]\tvalidation_0-tweedie-nloglik@1.5:2836.33813\tvalidation_0-mse:1408992542720.00000\n",
      "[779]\tvalidation_0-tweedie-nloglik@1.5:2836.35132\tvalidation_0-mse:1408992542720.00000\n",
      "[780]\tvalidation_0-tweedie-nloglik@1.5:2836.34937\tvalidation_0-mse:1408992542720.00000\n",
      "[781]\tvalidation_0-tweedie-nloglik@1.5:2836.34937\tvalidation_0-mse:1408992542720.00000\n",
      "[782]\tvalidation_0-tweedie-nloglik@1.5:2836.34424\tvalidation_0-mse:1408992542720.00000\n",
      "[783]\tvalidation_0-tweedie-nloglik@1.5:2836.33984\tvalidation_0-mse:1408992542720.00000\n",
      "[784]\tvalidation_0-tweedie-nloglik@1.5:2836.34229\tvalidation_0-mse:1408992542720.00000\n",
      "[785]\tvalidation_0-tweedie-nloglik@1.5:2836.35010\tvalidation_0-mse:1408992542720.00000\n",
      "[786]\tvalidation_0-tweedie-nloglik@1.5:2836.35107\tvalidation_0-mse:1408992542720.00000\n",
      "[787]\tvalidation_0-tweedie-nloglik@1.5:2836.35034\tvalidation_0-mse:1408992542720.00000\n",
      "[788]\tvalidation_0-tweedie-nloglik@1.5:2836.35107\tvalidation_0-mse:1408992542720.00000\n",
      "[789]\tvalidation_0-tweedie-nloglik@1.5:2836.35107\tvalidation_0-mse:1408992542720.00000\n",
      "[790]\tvalidation_0-tweedie-nloglik@1.5:2836.35107\tvalidation_0-mse:1408992542720.00000\n",
      "[791]\tvalidation_0-tweedie-nloglik@1.5:2836.35010\tvalidation_0-mse:1408992542720.00000\n",
      "[792]\tvalidation_0-tweedie-nloglik@1.5:2836.35034\tvalidation_0-mse:1408992542720.00000\n",
      "[793]\tvalidation_0-tweedie-nloglik@1.5:2836.35034\tvalidation_0-mse:1408992542720.00000\n",
      "[794]\tvalidation_0-tweedie-nloglik@1.5:2836.35010\tvalidation_0-mse:1408992542720.00000\n",
      "[795]\tvalidation_0-tweedie-nloglik@1.5:2836.35107\tvalidation_0-mse:1408992542720.00000\n",
      "[796]\tvalidation_0-tweedie-nloglik@1.5:2836.35425\tvalidation_0-mse:1408992542720.00000\n",
      "[797]\tvalidation_0-tweedie-nloglik@1.5:2836.35425\tvalidation_0-mse:1408992542720.00000\n",
      "[798]\tvalidation_0-tweedie-nloglik@1.5:2836.35474\tvalidation_0-mse:1408992542720.00000\n",
      "[799]\tvalidation_0-tweedie-nloglik@1.5:2836.35425\tvalidation_0-mse:1408992542720.00000\n",
      "[800]\tvalidation_0-tweedie-nloglik@1.5:2836.35474\tvalidation_0-mse:1408992542720.00000\n",
      "[801]\tvalidation_0-tweedie-nloglik@1.5:2836.35767\tvalidation_0-mse:1408992542720.00000\n",
      "[802]\tvalidation_0-tweedie-nloglik@1.5:2836.35693\tvalidation_0-mse:1408992542720.00000\n",
      "[803]\tvalidation_0-tweedie-nloglik@1.5:2836.35571\tvalidation_0-mse:1408992542720.00000\n",
      "[804]\tvalidation_0-tweedie-nloglik@1.5:2836.35034\tvalidation_0-mse:1408992542720.00000\n",
      "[805]\tvalidation_0-tweedie-nloglik@1.5:2836.35107\tvalidation_0-mse:1408992542720.00000\n",
      "[806]\tvalidation_0-tweedie-nloglik@1.5:2836.35059\tvalidation_0-mse:1408992542720.00000\n",
      "[807]\tvalidation_0-tweedie-nloglik@1.5:2836.34888\tvalidation_0-mse:1408992542720.00000\n",
      "[808]\tvalidation_0-tweedie-nloglik@1.5:2836.35010\tvalidation_0-mse:1408992542720.00000\n",
      "[809]\tvalidation_0-tweedie-nloglik@1.5:2836.34790\tvalidation_0-mse:1408992542720.00000\n",
      "[810]\tvalidation_0-tweedie-nloglik@1.5:2836.35644\tvalidation_0-mse:1408992542720.00000\n",
      "[811]\tvalidation_0-tweedie-nloglik@1.5:2836.35034\tvalidation_0-mse:1408992542720.00000\n",
      "[812]\tvalidation_0-tweedie-nloglik@1.5:2836.35034\tvalidation_0-mse:1408992542720.00000\n",
      "[813]\tvalidation_0-tweedie-nloglik@1.5:2836.34937\tvalidation_0-mse:1408992542720.00000\n",
      "[814]\tvalidation_0-tweedie-nloglik@1.5:2836.35376\tvalidation_0-mse:1408992542720.00000\n",
      "[815]\tvalidation_0-tweedie-nloglik@1.5:2836.35400\tvalidation_0-mse:1408992542720.00000\n",
      "[816]\tvalidation_0-tweedie-nloglik@1.5:2836.35571\tvalidation_0-mse:1408992542720.00000\n",
      "[817]\tvalidation_0-tweedie-nloglik@1.5:2836.35205\tvalidation_0-mse:1408992542720.00000\n",
      "[818]\tvalidation_0-tweedie-nloglik@1.5:2836.35230\tvalidation_0-mse:1408992542720.00000\n",
      "[819]\tvalidation_0-tweedie-nloglik@1.5:2836.34790\tvalidation_0-mse:1408992542720.00000\n",
      "[820]\tvalidation_0-tweedie-nloglik@1.5:2836.34351\tvalidation_0-mse:1408992542720.00000\n",
      "[821]\tvalidation_0-tweedie-nloglik@1.5:2836.34229\tvalidation_0-mse:1408992542720.00000\n",
      "[822]\tvalidation_0-tweedie-nloglik@1.5:2836.34033\tvalidation_0-mse:1408992542720.00000\n",
      "[823]\tvalidation_0-tweedie-nloglik@1.5:2836.34082\tvalidation_0-mse:1408992542720.00000\n",
      "[824]\tvalidation_0-tweedie-nloglik@1.5:2836.33936\tvalidation_0-mse:1408992542720.00000\n",
      "[825]\tvalidation_0-tweedie-nloglik@1.5:2836.33594\tvalidation_0-mse:1408992542720.00000\n",
      "[826]\tvalidation_0-tweedie-nloglik@1.5:2836.33154\tvalidation_0-mse:1408992542720.00000\n",
      "[827]\tvalidation_0-tweedie-nloglik@1.5:2836.32812\tvalidation_0-mse:1408992542720.00000\n",
      "[828]\tvalidation_0-tweedie-nloglik@1.5:2836.32959\tvalidation_0-mse:1408992542720.00000\n",
      "[829]\tvalidation_0-tweedie-nloglik@1.5:2836.33081\tvalidation_0-mse:1408992542720.00000\n",
      "[830]\tvalidation_0-tweedie-nloglik@1.5:2836.33325\tvalidation_0-mse:1408992542720.00000\n",
      "[831]\tvalidation_0-tweedie-nloglik@1.5:2836.33423\tvalidation_0-mse:1408992542720.00000\n",
      "[832]\tvalidation_0-tweedie-nloglik@1.5:2836.33350\tvalidation_0-mse:1408992542720.00000\n",
      "[833]\tvalidation_0-tweedie-nloglik@1.5:2836.33228\tvalidation_0-mse:1408992542720.00000\n",
      "[834]\tvalidation_0-tweedie-nloglik@1.5:2836.32715\tvalidation_0-mse:1408992542720.00000\n",
      "[835]\tvalidation_0-tweedie-nloglik@1.5:2836.32593\tvalidation_0-mse:1408992542720.00000\n",
      "[836]\tvalidation_0-tweedie-nloglik@1.5:2836.32446\tvalidation_0-mse:1408992542720.00000\n",
      "[837]\tvalidation_0-tweedie-nloglik@1.5:2836.32178\tvalidation_0-mse:1408992542720.00000\n",
      "[838]\tvalidation_0-tweedie-nloglik@1.5:2836.31616\tvalidation_0-mse:1408992542720.00000\n",
      "[839]\tvalidation_0-tweedie-nloglik@1.5:2836.31616\tvalidation_0-mse:1408992542720.00000\n",
      "[840]\tvalidation_0-tweedie-nloglik@1.5:2836.32251\tvalidation_0-mse:1408992542720.00000\n",
      "[841]\tvalidation_0-tweedie-nloglik@1.5:2836.32617\tvalidation_0-mse:1408992542720.00000\n",
      "[842]\tvalidation_0-tweedie-nloglik@1.5:2836.32544\tvalidation_0-mse:1408992542720.00000\n",
      "[843]\tvalidation_0-tweedie-nloglik@1.5:2836.32446\tvalidation_0-mse:1408992542720.00000\n",
      "[844]\tvalidation_0-tweedie-nloglik@1.5:2836.33179\tvalidation_0-mse:1408992542720.00000\n",
      "[845]\tvalidation_0-tweedie-nloglik@1.5:2836.33057\tvalidation_0-mse:1408992542720.00000\n",
      "[846]\tvalidation_0-tweedie-nloglik@1.5:2836.33154\tvalidation_0-mse:1408992542720.00000\n",
      "[847]\tvalidation_0-tweedie-nloglik@1.5:2836.33081\tvalidation_0-mse:1408992542720.00000\n",
      "[848]\tvalidation_0-tweedie-nloglik@1.5:2836.33301\tvalidation_0-mse:1408992542720.00000\n",
      "[849]\tvalidation_0-tweedie-nloglik@1.5:2836.33423\tvalidation_0-mse:1408992542720.00000\n",
      "[850]\tvalidation_0-tweedie-nloglik@1.5:2836.33398\tvalidation_0-mse:1408992542720.00000\n",
      "[851]\tvalidation_0-tweedie-nloglik@1.5:2836.33423\tvalidation_0-mse:1408992542720.00000\n",
      "[852]\tvalidation_0-tweedie-nloglik@1.5:2836.33398\tvalidation_0-mse:1408992542720.00000\n",
      "[853]\tvalidation_0-tweedie-nloglik@1.5:2836.32959\tvalidation_0-mse:1408992542720.00000\n",
      "[854]\tvalidation_0-tweedie-nloglik@1.5:2836.33179\tvalidation_0-mse:1408992542720.00000\n",
      "[855]\tvalidation_0-tweedie-nloglik@1.5:2836.33325\tvalidation_0-mse:1408992542720.00000\n"
     ]
    },
    {
     "name": "stdout",
     "output_type": "stream",
     "text": [
      "[856]\tvalidation_0-tweedie-nloglik@1.5:2836.33081\tvalidation_0-mse:1408992542720.00000\n",
      "[857]\tvalidation_0-tweedie-nloglik@1.5:2836.32959\tvalidation_0-mse:1408992542720.00000\n",
      "[858]\tvalidation_0-tweedie-nloglik@1.5:2836.32764\tvalidation_0-mse:1408992542720.00000\n",
      "[859]\tvalidation_0-tweedie-nloglik@1.5:2836.32544\tvalidation_0-mse:1408992542720.00000\n",
      "[860]\tvalidation_0-tweedie-nloglik@1.5:2836.32227\tvalidation_0-mse:1408992542720.00000\n",
      "[861]\tvalidation_0-tweedie-nloglik@1.5:2836.32153\tvalidation_0-mse:1408992542720.00000\n",
      "[862]\tvalidation_0-tweedie-nloglik@1.5:2836.31958\tvalidation_0-mse:1408992542720.00000\n",
      "[863]\tvalidation_0-tweedie-nloglik@1.5:2836.31470\tvalidation_0-mse:1408992542720.00000\n",
      "[864]\tvalidation_0-tweedie-nloglik@1.5:2836.31152\tvalidation_0-mse:1408992542720.00000\n",
      "[865]\tvalidation_0-tweedie-nloglik@1.5:2836.31421\tvalidation_0-mse:1408992542720.00000\n",
      "[866]\tvalidation_0-tweedie-nloglik@1.5:2836.31104\tvalidation_0-mse:1408992542720.00000\n",
      "[867]\tvalidation_0-tweedie-nloglik@1.5:2836.30176\tvalidation_0-mse:1408992542720.00000\n",
      "[868]\tvalidation_0-tweedie-nloglik@1.5:2836.30469\tvalidation_0-mse:1408992542720.00000\n",
      "[869]\tvalidation_0-tweedie-nloglik@1.5:2836.30395\tvalidation_0-mse:1408992542720.00000\n",
      "[870]\tvalidation_0-tweedie-nloglik@1.5:2836.31470\tvalidation_0-mse:1408992542720.00000\n",
      "[871]\tvalidation_0-tweedie-nloglik@1.5:2836.31689\tvalidation_0-mse:1408992542720.00000\n",
      "[872]\tvalidation_0-tweedie-nloglik@1.5:2836.31812\tvalidation_0-mse:1408992542720.00000\n",
      "[873]\tvalidation_0-tweedie-nloglik@1.5:2836.31885\tvalidation_0-mse:1408992542720.00000\n",
      "[874]\tvalidation_0-tweedie-nloglik@1.5:2836.32251\tvalidation_0-mse:1408992542720.00000\n",
      "[875]\tvalidation_0-tweedie-nloglik@1.5:2836.32446\tvalidation_0-mse:1408992542720.00000\n",
      "[876]\tvalidation_0-tweedie-nloglik@1.5:2836.32422\tvalidation_0-mse:1408992542720.00000\n",
      "[877]\tvalidation_0-tweedie-nloglik@1.5:2836.32617\tvalidation_0-mse:1408992542720.00000\n",
      "[878]\tvalidation_0-tweedie-nloglik@1.5:2836.32227\tvalidation_0-mse:1408992542720.00000\n",
      "[879]\tvalidation_0-tweedie-nloglik@1.5:2836.32617\tvalidation_0-mse:1408992542720.00000\n",
      "[880]\tvalidation_0-tweedie-nloglik@1.5:2836.32446\tvalidation_0-mse:1408992542720.00000\n",
      "[881]\tvalidation_0-tweedie-nloglik@1.5:2836.32812\tvalidation_0-mse:1408992542720.00000\n",
      "[882]\tvalidation_0-tweedie-nloglik@1.5:2836.32886\tvalidation_0-mse:1408992542720.00000\n",
      "[883]\tvalidation_0-tweedie-nloglik@1.5:2836.33057\tvalidation_0-mse:1408992542720.00000\n",
      "[884]\tvalidation_0-tweedie-nloglik@1.5:2836.33130\tvalidation_0-mse:1408992542720.00000\n",
      "[885]\tvalidation_0-tweedie-nloglik@1.5:2836.33154\tvalidation_0-mse:1408992542720.00000\n",
      "[886]\tvalidation_0-tweedie-nloglik@1.5:2836.32959\tvalidation_0-mse:1408992542720.00000\n",
      "[887]\tvalidation_0-tweedie-nloglik@1.5:2836.32959\tvalidation_0-mse:1408992542720.00000\n",
      "[888]\tvalidation_0-tweedie-nloglik@1.5:2836.32886\tvalidation_0-mse:1408992542720.00000\n",
      "[889]\tvalidation_0-tweedie-nloglik@1.5:2836.32690\tvalidation_0-mse:1408992542720.00000\n",
      "[890]\tvalidation_0-tweedie-nloglik@1.5:2836.32861\tvalidation_0-mse:1408992542720.00000\n",
      "[891]\tvalidation_0-tweedie-nloglik@1.5:2836.33228\tvalidation_0-mse:1408992542720.00000\n",
      "[892]\tvalidation_0-tweedie-nloglik@1.5:2836.33350\tvalidation_0-mse:1408992542720.00000\n",
      "[893]\tvalidation_0-tweedie-nloglik@1.5:2836.32861\tvalidation_0-mse:1408992542720.00000\n",
      "[894]\tvalidation_0-tweedie-nloglik@1.5:2836.32886\tvalidation_0-mse:1408992542720.00000\n",
      "[895]\tvalidation_0-tweedie-nloglik@1.5:2836.32764\tvalidation_0-mse:1408992542720.00000\n",
      "[896]\tvalidation_0-tweedie-nloglik@1.5:2836.32446\tvalidation_0-mse:1408992542720.00000\n",
      "[897]\tvalidation_0-tweedie-nloglik@1.5:2836.32617\tvalidation_0-mse:1408992542720.00000\n",
      "[898]\tvalidation_0-tweedie-nloglik@1.5:2836.32544\tvalidation_0-mse:1408992542720.00000\n",
      "[899]\tvalidation_0-tweedie-nloglik@1.5:2836.33301\tvalidation_0-mse:1408992542720.00000\n",
      "[900]\tvalidation_0-tweedie-nloglik@1.5:2836.34692\tvalidation_0-mse:1408992542720.00000\n",
      "[901]\tvalidation_0-tweedie-nloglik@1.5:2836.34839\tvalidation_0-mse:1408992542720.00000\n",
      "[902]\tvalidation_0-tweedie-nloglik@1.5:2836.34937\tvalidation_0-mse:1408992542720.00000\n",
      "[903]\tvalidation_0-tweedie-nloglik@1.5:2836.35156\tvalidation_0-mse:1408992542720.00000\n",
      "[904]\tvalidation_0-tweedie-nloglik@1.5:2836.35205\tvalidation_0-mse:1408992542720.00000\n",
      "[905]\tvalidation_0-tweedie-nloglik@1.5:2836.34668\tvalidation_0-mse:1408992542720.00000\n",
      "[906]\tvalidation_0-tweedie-nloglik@1.5:2836.35034\tvalidation_0-mse:1408992542720.00000\n",
      "[907]\tvalidation_0-tweedie-nloglik@1.5:2836.34937\tvalidation_0-mse:1408992542720.00000\n",
      "[908]\tvalidation_0-tweedie-nloglik@1.5:2836.34961\tvalidation_0-mse:1408992542720.00000\n",
      "[909]\tvalidation_0-tweedie-nloglik@1.5:2836.34473\tvalidation_0-mse:1408992542720.00000\n",
      "[910]\tvalidation_0-tweedie-nloglik@1.5:2836.34424\tvalidation_0-mse:1408992542720.00000\n",
      "[911]\tvalidation_0-tweedie-nloglik@1.5:2836.34692\tvalidation_0-mse:1408992542720.00000\n",
      "[912]\tvalidation_0-tweedie-nloglik@1.5:2836.34302\tvalidation_0-mse:1408992542720.00000\n",
      "[913]\tvalidation_0-tweedie-nloglik@1.5:2836.34741\tvalidation_0-mse:1408992542720.00000\n",
      "[914]\tvalidation_0-tweedie-nloglik@1.5:2836.34766\tvalidation_0-mse:1408992542720.00000\n",
      "[915]\tvalidation_0-tweedie-nloglik@1.5:2836.34888\tvalidation_0-mse:1408992542720.00000\n",
      "[916]\tvalidation_0-tweedie-nloglik@1.5:2836.34619\tvalidation_0-mse:1408992542720.00000\n",
      "[917]\tvalidation_0-tweedie-nloglik@1.5:2836.35010\tvalidation_0-mse:1408992542720.00000\n",
      "[918]\tvalidation_0-tweedie-nloglik@1.5:2836.34692\tvalidation_0-mse:1408992542720.00000\n",
      "[919]\tvalidation_0-tweedie-nloglik@1.5:2836.34961\tvalidation_0-mse:1408992542720.00000\n",
      "[920]\tvalidation_0-tweedie-nloglik@1.5:2836.34570\tvalidation_0-mse:1408992542720.00000\n",
      "[921]\tvalidation_0-tweedie-nloglik@1.5:2836.34790\tvalidation_0-mse:1408992542720.00000\n",
      "[922]\tvalidation_0-tweedie-nloglik@1.5:2836.34790\tvalidation_0-mse:1408992542720.00000\n",
      "[923]\tvalidation_0-tweedie-nloglik@1.5:2836.34863\tvalidation_0-mse:1408992542720.00000\n",
      "[924]\tvalidation_0-tweedie-nloglik@1.5:2836.34692\tvalidation_0-mse:1408992542720.00000\n",
      "[925]\tvalidation_0-tweedie-nloglik@1.5:2836.34937\tvalidation_0-mse:1408992542720.00000\n",
      "[926]\tvalidation_0-tweedie-nloglik@1.5:2836.34326\tvalidation_0-mse:1408992542720.00000\n",
      "[927]\tvalidation_0-tweedie-nloglik@1.5:2836.34033\tvalidation_0-mse:1408992542720.00000\n",
      "[928]\tvalidation_0-tweedie-nloglik@1.5:2836.34155\tvalidation_0-mse:1408992542720.00000\n",
      "[929]\tvalidation_0-tweedie-nloglik@1.5:2836.34082\tvalidation_0-mse:1408992542720.00000\n",
      "[930]\tvalidation_0-tweedie-nloglik@1.5:2836.34058\tvalidation_0-mse:1408992542720.00000\n",
      "[931]\tvalidation_0-tweedie-nloglik@1.5:2836.34424\tvalidation_0-mse:1408992542720.00000\n",
      "[932]\tvalidation_0-tweedie-nloglik@1.5:2836.34497\tvalidation_0-mse:1408992542720.00000\n",
      "[933]\tvalidation_0-tweedie-nloglik@1.5:2836.34302\tvalidation_0-mse:1408992542720.00000\n",
      "[934]\tvalidation_0-tweedie-nloglik@1.5:2836.34570\tvalidation_0-mse:1408992542720.00000\n",
      "[935]\tvalidation_0-tweedie-nloglik@1.5:2836.34424\tvalidation_0-mse:1408992542720.00000\n",
      "[936]\tvalidation_0-tweedie-nloglik@1.5:2836.34692\tvalidation_0-mse:1408992542720.00000\n",
      "[937]\tvalidation_0-tweedie-nloglik@1.5:2836.34790\tvalidation_0-mse:1408992542720.00000\n",
      "[938]\tvalidation_0-tweedie-nloglik@1.5:2836.34351\tvalidation_0-mse:1408992542720.00000\n",
      "[939]\tvalidation_0-tweedie-nloglik@1.5:2836.33936\tvalidation_0-mse:1408992542720.00000\n",
      "[940]\tvalidation_0-tweedie-nloglik@1.5:2836.33667\tvalidation_0-mse:1408992542720.00000\n",
      "[941]\tvalidation_0-tweedie-nloglik@1.5:2836.33545\tvalidation_0-mse:1408992542720.00000\n",
      "[942]\tvalidation_0-tweedie-nloglik@1.5:2836.33398\tvalidation_0-mse:1408992542720.00000\n",
      "[943]\tvalidation_0-tweedie-nloglik@1.5:2836.33252\tvalidation_0-mse:1408992542720.00000\n",
      "[944]\tvalidation_0-tweedie-nloglik@1.5:2836.33545\tvalidation_0-mse:1408992542720.00000\n",
      "[945]\tvalidation_0-tweedie-nloglik@1.5:2836.33228\tvalidation_0-mse:1408992542720.00000\n",
      "[946]\tvalidation_0-tweedie-nloglik@1.5:2836.32105\tvalidation_0-mse:1408992542720.00000\n",
      "[947]\tvalidation_0-tweedie-nloglik@1.5:2836.32227\tvalidation_0-mse:1408992542720.00000\n",
      "[948]\tvalidation_0-tweedie-nloglik@1.5:2836.31958\tvalidation_0-mse:1408992542720.00000\n",
      "[949]\tvalidation_0-tweedie-nloglik@1.5:2836.31836\tvalidation_0-mse:1408992542720.00000\n",
      "[950]\tvalidation_0-tweedie-nloglik@1.5:2836.31738\tvalidation_0-mse:1408992542720.00000\n"
     ]
    },
    {
     "name": "stdout",
     "output_type": "stream",
     "text": [
      "[951]\tvalidation_0-tweedie-nloglik@1.5:2836.31812\tvalidation_0-mse:1408992542720.00000\n",
      "[952]\tvalidation_0-tweedie-nloglik@1.5:2836.32007\tvalidation_0-mse:1408992542720.00000\n",
      "[953]\tvalidation_0-tweedie-nloglik@1.5:2836.32275\tvalidation_0-mse:1408992542720.00000\n",
      "[954]\tvalidation_0-tweedie-nloglik@1.5:2836.32373\tvalidation_0-mse:1408992542720.00000\n",
      "[955]\tvalidation_0-tweedie-nloglik@1.5:2836.32495\tvalidation_0-mse:1408992542720.00000\n",
      "[956]\tvalidation_0-tweedie-nloglik@1.5:2836.32617\tvalidation_0-mse:1408992542720.00000\n",
      "[957]\tvalidation_0-tweedie-nloglik@1.5:2836.32690\tvalidation_0-mse:1408992542720.00000\n",
      "[958]\tvalidation_0-tweedie-nloglik@1.5:2836.32544\tvalidation_0-mse:1408992542720.00000\n",
      "[959]\tvalidation_0-tweedie-nloglik@1.5:2836.32593\tvalidation_0-mse:1408992542720.00000\n",
      "[960]\tvalidation_0-tweedie-nloglik@1.5:2836.32495\tvalidation_0-mse:1408992542720.00000\n",
      "[961]\tvalidation_0-tweedie-nloglik@1.5:2836.32544\tvalidation_0-mse:1408992542720.00000\n",
      "[962]\tvalidation_0-tweedie-nloglik@1.5:2836.32690\tvalidation_0-mse:1408992542720.00000\n",
      "[963]\tvalidation_0-tweedie-nloglik@1.5:2836.32861\tvalidation_0-mse:1408992542720.00000\n",
      "[964]\tvalidation_0-tweedie-nloglik@1.5:2836.32886\tvalidation_0-mse:1408992542720.00000\n",
      "[965]\tvalidation_0-tweedie-nloglik@1.5:2836.33057\tvalidation_0-mse:1408992542720.00000\n",
      "[966]\tvalidation_0-tweedie-nloglik@1.5:2836.32910\tvalidation_0-mse:1408992542720.00000\n",
      "[967]\tvalidation_0-tweedie-nloglik@1.5:2836.32910\tvalidation_0-mse:1408992542720.00000\n",
      "[968]\tvalidation_0-tweedie-nloglik@1.5:2836.32910\tvalidation_0-mse:1408992542720.00000\n",
      "[969]\tvalidation_0-tweedie-nloglik@1.5:2836.33154\tvalidation_0-mse:1408992542720.00000\n",
      "[970]\tvalidation_0-tweedie-nloglik@1.5:2836.33301\tvalidation_0-mse:1408992542720.00000\n",
      "[971]\tvalidation_0-tweedie-nloglik@1.5:2836.33252\tvalidation_0-mse:1408992542720.00000\n",
      "[972]\tvalidation_0-tweedie-nloglik@1.5:2836.33154\tvalidation_0-mse:1408992542720.00000\n",
      "[973]\tvalidation_0-tweedie-nloglik@1.5:2836.33057\tvalidation_0-mse:1408992542720.00000\n",
      "[974]\tvalidation_0-tweedie-nloglik@1.5:2836.32593\tvalidation_0-mse:1408992542720.00000\n",
      "[975]\tvalidation_0-tweedie-nloglik@1.5:2836.32617\tvalidation_0-mse:1408992542720.00000\n",
      "[976]\tvalidation_0-tweedie-nloglik@1.5:2836.32617\tvalidation_0-mse:1408992542720.00000\n",
      "[977]\tvalidation_0-tweedie-nloglik@1.5:2836.32715\tvalidation_0-mse:1408992542720.00000\n",
      "[978]\tvalidation_0-tweedie-nloglik@1.5:2836.32617\tvalidation_0-mse:1408992542720.00000\n",
      "[979]\tvalidation_0-tweedie-nloglik@1.5:2836.32910\tvalidation_0-mse:1408992542720.00000\n",
      "[980]\tvalidation_0-tweedie-nloglik@1.5:2836.33179\tvalidation_0-mse:1408992542720.00000\n",
      "[981]\tvalidation_0-tweedie-nloglik@1.5:2836.33301\tvalidation_0-mse:1408992542720.00000\n",
      "[982]\tvalidation_0-tweedie-nloglik@1.5:2836.33228\tvalidation_0-mse:1408992542720.00000\n",
      "[983]\tvalidation_0-tweedie-nloglik@1.5:2836.33154\tvalidation_0-mse:1408992542720.00000\n",
      "[984]\tvalidation_0-tweedie-nloglik@1.5:2836.33252\tvalidation_0-mse:1408992542720.00000\n",
      "[985]\tvalidation_0-tweedie-nloglik@1.5:2836.33325\tvalidation_0-mse:1408992542720.00000\n",
      "[986]\tvalidation_0-tweedie-nloglik@1.5:2836.33960\tvalidation_0-mse:1408992542720.00000\n",
      "[987]\tvalidation_0-tweedie-nloglik@1.5:2836.33960\tvalidation_0-mse:1408992542720.00000\n",
      "[988]\tvalidation_0-tweedie-nloglik@1.5:2836.33960\tvalidation_0-mse:1408992542720.00000\n",
      "[989]\tvalidation_0-tweedie-nloglik@1.5:2836.33667\tvalidation_0-mse:1408992542720.00000\n",
      "[990]\tvalidation_0-tweedie-nloglik@1.5:2836.33716\tvalidation_0-mse:1408992542720.00000\n",
      "[991]\tvalidation_0-tweedie-nloglik@1.5:2836.33765\tvalidation_0-mse:1408992542720.00000\n",
      "[992]\tvalidation_0-tweedie-nloglik@1.5:2836.33936\tvalidation_0-mse:1408992542720.00000\n",
      "[993]\tvalidation_0-tweedie-nloglik@1.5:2836.33887\tvalidation_0-mse:1408992542720.00000\n",
      "[994]\tvalidation_0-tweedie-nloglik@1.5:2836.34033\tvalidation_0-mse:1408992542720.00000\n",
      "[995]\tvalidation_0-tweedie-nloglik@1.5:2836.33960\tvalidation_0-mse:1408992542720.00000\n",
      "[996]\tvalidation_0-tweedie-nloglik@1.5:2836.33350\tvalidation_0-mse:1408992542720.00000\n",
      "[997]\tvalidation_0-tweedie-nloglik@1.5:2836.33398\tvalidation_0-mse:1408992542720.00000\n",
      "[998]\tvalidation_0-tweedie-nloglik@1.5:2836.33130\tvalidation_0-mse:1408992542720.00000\n",
      "[999]\tvalidation_0-tweedie-nloglik@1.5:2836.33179\tvalidation_0-mse:1408992542720.00000\n"
     ]
    },
    {
     "data": {
      "text/plain": [
       "{'mse': 128522463228.4819, 'r2_score': 0.8647867673514608}"
      ]
     },
     "execution_count": 79,
     "metadata": {},
     "output_type": "execute_result"
    }
   ],
   "source": [
    "xgb_model.fit(X_train, y_train, eval_set=[(X_test, y_test)],\n",
    "              eval_metric=mse_score)\n",
    "\n",
    "y_pred = xgb_model.predict(X_test)\n",
    "\n",
    "xgb_score = {}\n",
    "\n",
    "xgb_score[\"mse\"] = mean_squared_error(y_test, y_pred)\n",
    "xgb_score[\"r2_score\"] = xgb_model.score(X_test, y_test)\n",
    "\n",
    "xgb_score"
   ]
  },
  {
   "cell_type": "markdown",
   "metadata": {},
   "source": [
    "## Check some predictions"
   ]
  },
  {
   "cell_type": "code",
   "execution_count": 85,
   "metadata": {},
   "outputs": [
    {
     "name": "stdout",
     "output_type": "stream",
     "text": [
      "{'Prediction': 'R$ 299,617.50', 'Real': 'R$ 315,000.00'}\n",
      "{'Prediction': 'R$ 1,175.22', 'Real': 'R$ 2,800.00'}\n",
      "{'Prediction': 'R$ 220,586.39', 'Real': 'R$ 301,000.00'}\n",
      "{'Prediction': 'R$ 461,148.47', 'Real': 'R$ 392,000.00'}\n",
      "{'Prediction': 'R$ 3,997.23', 'Real': 'R$ 3,849.00'}\n",
      "{'Prediction': 'R$ 478,642.22', 'Real': 'R$ 486,499.00'}\n",
      "{'Prediction': 'R$ 345,251.19', 'Real': 'R$ 343,000.00'}\n",
      "{'Prediction': 'R$ 319,405.66', 'Real': 'R$ 371,000.00'}\n",
      "{'Prediction': 'R$ 344,907.62', 'Real': 'R$ 364,000.00'}\n",
      "{'Prediction': 'R$ 1,868,469.00', 'Real': 'R$ 2,050,999.00'}\n",
      "{'Prediction': 'R$ 265,740.72', 'Real': 'R$ 203,000.00'}\n",
      "{'Prediction': 'R$ 426,435.66', 'Real': 'R$ 460,039.00'}\n",
      "{'Prediction': 'R$ 289,741.94', 'Real': 'R$ 350,000.00'}\n",
      "{'Prediction': 'R$ 269,690.34', 'Real': 'R$ 259,699.00'}\n",
      "{'Prediction': 'R$ 195,506.27', 'Real': 'R$ 224,000.00'}\n",
      "{'Prediction': 'R$ 701,194.62', 'Real': 'R$ 910,000.00'}\n",
      "{'Prediction': 'R$ 380,444.78', 'Real': 'R$ 409,500.00'}\n",
      "{'Prediction': 'R$ 2,231,330.75', 'Real': 'R$ 2,450,000.00'}\n",
      "{'Prediction': 'R$ 847,415.31', 'Real': 'R$ 840,000.00'}\n",
      "{'Prediction': 'R$ 250,960.81', 'Real': 'R$ 210,000.00'}\n",
      "{'Prediction': 'R$ 2,096,365.25', 'Real': 'R$ 2,374,400.00'}\n",
      "{'Prediction': 'R$ 390,016.12', 'Real': 'R$ 448,000.00'}\n",
      "{'Prediction': 'R$ 5,694,209.00', 'Real': 'R$ 4,094,999.00'}\n",
      "{'Prediction': 'R$ 378,576.50', 'Real': 'R$ 417,900.00'}\n",
      "{'Prediction': 'R$ 677,944.56', 'Real': 'R$ 840,000.00'}\n",
      "{'Prediction': 'R$ 285,764.00', 'Real': 'R$ 273,000.00'}\n",
      "{'Prediction': 'R$ 214,485.86', 'Real': 'R$ 157,500.00'}\n",
      "{'Prediction': 'R$ 305,092.50', 'Real': 'R$ 297,500.00'}\n",
      "{'Prediction': 'R$ 285,173.75', 'Real': 'R$ 276,500.00'}\n",
      "{'Prediction': 'R$ 351,125.81', 'Real': 'R$ 332,500.00'}\n",
      "{'Prediction': 'R$ 295,060.12', 'Real': 'R$ 394,398.00'}\n",
      "{'Prediction': 'R$ 1,796.97', 'Real': 'R$ 3,500.00'}\n",
      "{'Prediction': 'R$ 232,911.47', 'Real': 'R$ 192,500.00'}\n",
      "{'Prediction': 'R$ 817,136.69', 'Real': 'R$ 584,500.00'}\n",
      "{'Prediction': 'R$ 372,465.59', 'Real': 'R$ 258,999.00'}\n",
      "{'Prediction': 'R$ 254,315.53', 'Real': 'R$ 230,999.00'}\n",
      "{'Prediction': 'R$ 3,828,712.25', 'Real': 'R$ 2,275,000.00'}\n",
      "{'Prediction': 'R$ 454,967.28', 'Real': 'R$ 280,000.00'}\n",
      "{'Prediction': 'R$ 9,293.00', 'Real': 'R$ 17,500.00'}\n",
      "{'Prediction': 'R$ 2,536,921.50', 'Real': 'R$ 2,520,000.00'}\n",
      "{'Prediction': 'R$ 3,796.08', 'Real': 'R$ 3,779.00'}\n",
      "{'Prediction': 'R$ 347,148.28', 'Real': 'R$ 350,000.00'}\n",
      "{'Prediction': 'R$ 225,177.89', 'Real': 'R$ 154,000.00'}\n",
      "{'Prediction': 'R$ 321,149.09', 'Real': 'R$ 273,000.00'}\n",
      "{'Prediction': 'R$ 1,703.32', 'Real': 'R$ 1,575.00'}\n",
      "{'Prediction': 'R$ 1,565,395.38', 'Real': 'R$ 1,924,999.00'}\n",
      "{'Prediction': 'R$ 526,470.31', 'Real': 'R$ 448,000.00'}\n",
      "{'Prediction': 'R$ 193,677.59', 'Real': 'R$ 185,500.00'}\n",
      "{'Prediction': 'R$ 250,241.92', 'Real': 'R$ 244,999.00'}\n",
      "{'Prediction': 'R$ 276,456.31', 'Real': 'R$ 261,099.00'}\n"
     ]
    }
   ],
   "source": [
    "for i in range(50):\n",
    "    print(check_prediction(xgb_model, X_test.iloc[i], y_test[i]))"
   ]
  },
  {
   "cell_type": "markdown",
   "metadata": {},
   "source": [
    "## Price range score\n",
    "\n",
    "This metric allow was to check in a binary vision if the model performs good or not."
   ]
  },
  {
   "cell_type": "code",
   "execution_count": 86,
   "metadata": {},
   "outputs": [
    {
     "data": {
      "text/plain": [
       "0.8283557046979866"
      ]
     },
     "execution_count": 86,
     "metadata": {},
     "output_type": "execute_result"
    }
   ],
   "source": [
    "df_score = []\n",
    "\n",
    "for i in range(len(X_test)):\n",
    "    y_pred = xgb_model.predict(X_test.iloc[[i]])[0]\n",
    "    score_range = price_range_score(y_pred, y_test[i])\n",
    "    df_score.append({\"real\": y_test[i], \"prediction\": y_pred, \"pr_score\": score_range})\n",
    "    \n",
    "df_score = pd.DataFrame(df_score)\n",
    "\n",
    "for col in [\"real\", \"prediction\"]:\n",
    "    df_score[col] = df_score[col].astype(int)\n",
    "    \n",
    "df_score[\"bins\"] = pd.qcut(df_score[\"real\"], q=4)\n",
    "df_score[\"bins\"] = df_score[\"bins\"].astype(str)\n",
    "\n",
    "df_score[\"pr_score\"].sum() / len(df_score)"
   ]
  },
  {
   "cell_type": "markdown",
   "metadata": {},
   "source": [
    "## Score by price_ranges\n",
    "\n",
    "Here we can see the model performance based on bins."
   ]
  },
  {
   "cell_type": "code",
   "execution_count": 87,
   "metadata": {},
   "outputs": [
    {
     "data": {
      "text/html": [
       "<div>\n",
       "<style scoped>\n",
       "    .dataframe tbody tr th:only-of-type {\n",
       "        vertical-align: middle;\n",
       "    }\n",
       "\n",
       "    .dataframe tbody tr th {\n",
       "        vertical-align: top;\n",
       "    }\n",
       "\n",
       "    .dataframe thead th {\n",
       "        text-align: right;\n",
       "    }\n",
       "</style>\n",
       "<table border=\"1\" class=\"dataframe\">\n",
       "  <thead>\n",
       "    <tr style=\"text-align: right;\">\n",
       "      <th></th>\n",
       "      <th>bin</th>\n",
       "      <th>r2_score</th>\n",
       "    </tr>\n",
       "  </thead>\n",
       "  <tbody>\n",
       "    <tr>\n",
       "      <th>0</th>\n",
       "      <td>(224000.0, 409045.0]</td>\n",
       "      <td>-0.098336</td>\n",
       "    </tr>\n",
       "    <tr>\n",
       "      <th>1</th>\n",
       "      <td>(199.999, 224000.0]</td>\n",
       "      <td>0.918003</td>\n",
       "    </tr>\n",
       "    <tr>\n",
       "      <th>2</th>\n",
       "      <td>(409045.0, 770000.0]</td>\n",
       "      <td>-0.264923</td>\n",
       "    </tr>\n",
       "    <tr>\n",
       "      <th>3</th>\n",
       "      <td>(770000.0, 25434920.0]</td>\n",
       "      <td>0.771646</td>\n",
       "    </tr>\n",
       "  </tbody>\n",
       "</table>\n",
       "</div>"
      ],
      "text/plain": [
       "                      bin  r2_score\n",
       "0    (224000.0, 409045.0] -0.098336\n",
       "1     (199.999, 224000.0]  0.918003\n",
       "2    (409045.0, 770000.0] -0.264923\n",
       "3  (770000.0, 25434920.0]  0.771646"
      ]
     },
     "execution_count": 87,
     "metadata": {},
     "output_type": "execute_result"
    }
   ],
   "source": [
    "from sklearn.metrics import r2_score\n",
    "\n",
    "r2_bins = []\n",
    "for _bin in df_score[\"bins\"].unique():\n",
    "    y_true = df_score[df_score[\"bins\"] == _bin][\"real\"].values\n",
    "    y_pred = df_score[df_score[\"bins\"] == _bin][\"prediction\"].values\n",
    "    r2 = r2_score(y_true, y_pred)\n",
    "    r2_bins.append({\"bin\": _bin, \"r2_score\": r2})\n",
    "                    \n",
    "df_r2 = pd.DataFrame(r2_bins)\n",
    "df_r2"
   ]
  },
  {
   "cell_type": "code",
   "execution_count": 97,
   "metadata": {},
   "outputs": [
    {
     "data": {
      "application/vnd.plotly.v1+json": {
       "config": {
        "plotlyServerURL": "https://plot.ly"
       },
       "data": [
        {
         "alignmentgroup": "True",
         "hovertemplate": "bin=%{x}<br>r2_score=%{text}<extra></extra>",
         "legendgroup": "",
         "marker": {
          "color": "#636efa"
         },
         "name": "",
         "offsetgroup": "",
         "orientation": "v",
         "showlegend": false,
         "text": [
          -0.09833589215988225,
          0.9180027630465508,
          -0.26492317602205184,
          0.7716457177028042
         ],
         "textposition": "auto",
         "type": "bar",
         "x": [
          "(224000.0, 409045.0]",
          "(199.999, 224000.0]",
          "(409045.0, 770000.0]",
          "(770000.0, 25434920.0]"
         ],
         "xaxis": "x",
         "y": [
          -0.09833589215988225,
          0.9180027630465508,
          -0.26492317602205184,
          0.7716457177028042
         ],
         "yaxis": "y"
        }
       ],
       "layout": {
        "barmode": "relative",
        "legend": {
         "tracegroupgap": 0
        },
        "template": {
         "data": {
          "bar": [
           {
            "error_x": {
             "color": "#2a3f5f"
            },
            "error_y": {
             "color": "#2a3f5f"
            },
            "marker": {
             "line": {
              "color": "#E5ECF6",
              "width": 0.5
             }
            },
            "type": "bar"
           }
          ],
          "barpolar": [
           {
            "marker": {
             "line": {
              "color": "#E5ECF6",
              "width": 0.5
             }
            },
            "type": "barpolar"
           }
          ],
          "carpet": [
           {
            "aaxis": {
             "endlinecolor": "#2a3f5f",
             "gridcolor": "white",
             "linecolor": "white",
             "minorgridcolor": "white",
             "startlinecolor": "#2a3f5f"
            },
            "baxis": {
             "endlinecolor": "#2a3f5f",
             "gridcolor": "white",
             "linecolor": "white",
             "minorgridcolor": "white",
             "startlinecolor": "#2a3f5f"
            },
            "type": "carpet"
           }
          ],
          "choropleth": [
           {
            "colorbar": {
             "outlinewidth": 0,
             "ticks": ""
            },
            "type": "choropleth"
           }
          ],
          "contour": [
           {
            "colorbar": {
             "outlinewidth": 0,
             "ticks": ""
            },
            "colorscale": [
             [
              0,
              "#0d0887"
             ],
             [
              0.1111111111111111,
              "#46039f"
             ],
             [
              0.2222222222222222,
              "#7201a8"
             ],
             [
              0.3333333333333333,
              "#9c179e"
             ],
             [
              0.4444444444444444,
              "#bd3786"
             ],
             [
              0.5555555555555556,
              "#d8576b"
             ],
             [
              0.6666666666666666,
              "#ed7953"
             ],
             [
              0.7777777777777778,
              "#fb9f3a"
             ],
             [
              0.8888888888888888,
              "#fdca26"
             ],
             [
              1,
              "#f0f921"
             ]
            ],
            "type": "contour"
           }
          ],
          "contourcarpet": [
           {
            "colorbar": {
             "outlinewidth": 0,
             "ticks": ""
            },
            "type": "contourcarpet"
           }
          ],
          "heatmap": [
           {
            "colorbar": {
             "outlinewidth": 0,
             "ticks": ""
            },
            "colorscale": [
             [
              0,
              "#0d0887"
             ],
             [
              0.1111111111111111,
              "#46039f"
             ],
             [
              0.2222222222222222,
              "#7201a8"
             ],
             [
              0.3333333333333333,
              "#9c179e"
             ],
             [
              0.4444444444444444,
              "#bd3786"
             ],
             [
              0.5555555555555556,
              "#d8576b"
             ],
             [
              0.6666666666666666,
              "#ed7953"
             ],
             [
              0.7777777777777778,
              "#fb9f3a"
             ],
             [
              0.8888888888888888,
              "#fdca26"
             ],
             [
              1,
              "#f0f921"
             ]
            ],
            "type": "heatmap"
           }
          ],
          "heatmapgl": [
           {
            "colorbar": {
             "outlinewidth": 0,
             "ticks": ""
            },
            "colorscale": [
             [
              0,
              "#0d0887"
             ],
             [
              0.1111111111111111,
              "#46039f"
             ],
             [
              0.2222222222222222,
              "#7201a8"
             ],
             [
              0.3333333333333333,
              "#9c179e"
             ],
             [
              0.4444444444444444,
              "#bd3786"
             ],
             [
              0.5555555555555556,
              "#d8576b"
             ],
             [
              0.6666666666666666,
              "#ed7953"
             ],
             [
              0.7777777777777778,
              "#fb9f3a"
             ],
             [
              0.8888888888888888,
              "#fdca26"
             ],
             [
              1,
              "#f0f921"
             ]
            ],
            "type": "heatmapgl"
           }
          ],
          "histogram": [
           {
            "marker": {
             "colorbar": {
              "outlinewidth": 0,
              "ticks": ""
             }
            },
            "type": "histogram"
           }
          ],
          "histogram2d": [
           {
            "colorbar": {
             "outlinewidth": 0,
             "ticks": ""
            },
            "colorscale": [
             [
              0,
              "#0d0887"
             ],
             [
              0.1111111111111111,
              "#46039f"
             ],
             [
              0.2222222222222222,
              "#7201a8"
             ],
             [
              0.3333333333333333,
              "#9c179e"
             ],
             [
              0.4444444444444444,
              "#bd3786"
             ],
             [
              0.5555555555555556,
              "#d8576b"
             ],
             [
              0.6666666666666666,
              "#ed7953"
             ],
             [
              0.7777777777777778,
              "#fb9f3a"
             ],
             [
              0.8888888888888888,
              "#fdca26"
             ],
             [
              1,
              "#f0f921"
             ]
            ],
            "type": "histogram2d"
           }
          ],
          "histogram2dcontour": [
           {
            "colorbar": {
             "outlinewidth": 0,
             "ticks": ""
            },
            "colorscale": [
             [
              0,
              "#0d0887"
             ],
             [
              0.1111111111111111,
              "#46039f"
             ],
             [
              0.2222222222222222,
              "#7201a8"
             ],
             [
              0.3333333333333333,
              "#9c179e"
             ],
             [
              0.4444444444444444,
              "#bd3786"
             ],
             [
              0.5555555555555556,
              "#d8576b"
             ],
             [
              0.6666666666666666,
              "#ed7953"
             ],
             [
              0.7777777777777778,
              "#fb9f3a"
             ],
             [
              0.8888888888888888,
              "#fdca26"
             ],
             [
              1,
              "#f0f921"
             ]
            ],
            "type": "histogram2dcontour"
           }
          ],
          "mesh3d": [
           {
            "colorbar": {
             "outlinewidth": 0,
             "ticks": ""
            },
            "type": "mesh3d"
           }
          ],
          "parcoords": [
           {
            "line": {
             "colorbar": {
              "outlinewidth": 0,
              "ticks": ""
             }
            },
            "type": "parcoords"
           }
          ],
          "pie": [
           {
            "automargin": true,
            "type": "pie"
           }
          ],
          "scatter": [
           {
            "marker": {
             "colorbar": {
              "outlinewidth": 0,
              "ticks": ""
             }
            },
            "type": "scatter"
           }
          ],
          "scatter3d": [
           {
            "line": {
             "colorbar": {
              "outlinewidth": 0,
              "ticks": ""
             }
            },
            "marker": {
             "colorbar": {
              "outlinewidth": 0,
              "ticks": ""
             }
            },
            "type": "scatter3d"
           }
          ],
          "scattercarpet": [
           {
            "marker": {
             "colorbar": {
              "outlinewidth": 0,
              "ticks": ""
             }
            },
            "type": "scattercarpet"
           }
          ],
          "scattergeo": [
           {
            "marker": {
             "colorbar": {
              "outlinewidth": 0,
              "ticks": ""
             }
            },
            "type": "scattergeo"
           }
          ],
          "scattergl": [
           {
            "marker": {
             "colorbar": {
              "outlinewidth": 0,
              "ticks": ""
             }
            },
            "type": "scattergl"
           }
          ],
          "scattermapbox": [
           {
            "marker": {
             "colorbar": {
              "outlinewidth": 0,
              "ticks": ""
             }
            },
            "type": "scattermapbox"
           }
          ],
          "scatterpolar": [
           {
            "marker": {
             "colorbar": {
              "outlinewidth": 0,
              "ticks": ""
             }
            },
            "type": "scatterpolar"
           }
          ],
          "scatterpolargl": [
           {
            "marker": {
             "colorbar": {
              "outlinewidth": 0,
              "ticks": ""
             }
            },
            "type": "scatterpolargl"
           }
          ],
          "scatterternary": [
           {
            "marker": {
             "colorbar": {
              "outlinewidth": 0,
              "ticks": ""
             }
            },
            "type": "scatterternary"
           }
          ],
          "surface": [
           {
            "colorbar": {
             "outlinewidth": 0,
             "ticks": ""
            },
            "colorscale": [
             [
              0,
              "#0d0887"
             ],
             [
              0.1111111111111111,
              "#46039f"
             ],
             [
              0.2222222222222222,
              "#7201a8"
             ],
             [
              0.3333333333333333,
              "#9c179e"
             ],
             [
              0.4444444444444444,
              "#bd3786"
             ],
             [
              0.5555555555555556,
              "#d8576b"
             ],
             [
              0.6666666666666666,
              "#ed7953"
             ],
             [
              0.7777777777777778,
              "#fb9f3a"
             ],
             [
              0.8888888888888888,
              "#fdca26"
             ],
             [
              1,
              "#f0f921"
             ]
            ],
            "type": "surface"
           }
          ],
          "table": [
           {
            "cells": {
             "fill": {
              "color": "#EBF0F8"
             },
             "line": {
              "color": "white"
             }
            },
            "header": {
             "fill": {
              "color": "#C8D4E3"
             },
             "line": {
              "color": "white"
             }
            },
            "type": "table"
           }
          ]
         },
         "layout": {
          "annotationdefaults": {
           "arrowcolor": "#2a3f5f",
           "arrowhead": 0,
           "arrowwidth": 1
          },
          "coloraxis": {
           "colorbar": {
            "outlinewidth": 0,
            "ticks": ""
           }
          },
          "colorscale": {
           "diverging": [
            [
             0,
             "#8e0152"
            ],
            [
             0.1,
             "#c51b7d"
            ],
            [
             0.2,
             "#de77ae"
            ],
            [
             0.3,
             "#f1b6da"
            ],
            [
             0.4,
             "#fde0ef"
            ],
            [
             0.5,
             "#f7f7f7"
            ],
            [
             0.6,
             "#e6f5d0"
            ],
            [
             0.7,
             "#b8e186"
            ],
            [
             0.8,
             "#7fbc41"
            ],
            [
             0.9,
             "#4d9221"
            ],
            [
             1,
             "#276419"
            ]
           ],
           "sequential": [
            [
             0,
             "#0d0887"
            ],
            [
             0.1111111111111111,
             "#46039f"
            ],
            [
             0.2222222222222222,
             "#7201a8"
            ],
            [
             0.3333333333333333,
             "#9c179e"
            ],
            [
             0.4444444444444444,
             "#bd3786"
            ],
            [
             0.5555555555555556,
             "#d8576b"
            ],
            [
             0.6666666666666666,
             "#ed7953"
            ],
            [
             0.7777777777777778,
             "#fb9f3a"
            ],
            [
             0.8888888888888888,
             "#fdca26"
            ],
            [
             1,
             "#f0f921"
            ]
           ],
           "sequentialminus": [
            [
             0,
             "#0d0887"
            ],
            [
             0.1111111111111111,
             "#46039f"
            ],
            [
             0.2222222222222222,
             "#7201a8"
            ],
            [
             0.3333333333333333,
             "#9c179e"
            ],
            [
             0.4444444444444444,
             "#bd3786"
            ],
            [
             0.5555555555555556,
             "#d8576b"
            ],
            [
             0.6666666666666666,
             "#ed7953"
            ],
            [
             0.7777777777777778,
             "#fb9f3a"
            ],
            [
             0.8888888888888888,
             "#fdca26"
            ],
            [
             1,
             "#f0f921"
            ]
           ]
          },
          "colorway": [
           "#636efa",
           "#EF553B",
           "#00cc96",
           "#ab63fa",
           "#FFA15A",
           "#19d3f3",
           "#FF6692",
           "#B6E880",
           "#FF97FF",
           "#FECB52"
          ],
          "font": {
           "color": "#2a3f5f"
          },
          "geo": {
           "bgcolor": "white",
           "lakecolor": "white",
           "landcolor": "#E5ECF6",
           "showlakes": true,
           "showland": true,
           "subunitcolor": "white"
          },
          "hoverlabel": {
           "align": "left"
          },
          "hovermode": "closest",
          "mapbox": {
           "style": "light"
          },
          "paper_bgcolor": "white",
          "plot_bgcolor": "#E5ECF6",
          "polar": {
           "angularaxis": {
            "gridcolor": "white",
            "linecolor": "white",
            "ticks": ""
           },
           "bgcolor": "#E5ECF6",
           "radialaxis": {
            "gridcolor": "white",
            "linecolor": "white",
            "ticks": ""
           }
          },
          "scene": {
           "xaxis": {
            "backgroundcolor": "#E5ECF6",
            "gridcolor": "white",
            "gridwidth": 2,
            "linecolor": "white",
            "showbackground": true,
            "ticks": "",
            "zerolinecolor": "white"
           },
           "yaxis": {
            "backgroundcolor": "#E5ECF6",
            "gridcolor": "white",
            "gridwidth": 2,
            "linecolor": "white",
            "showbackground": true,
            "ticks": "",
            "zerolinecolor": "white"
           },
           "zaxis": {
            "backgroundcolor": "#E5ECF6",
            "gridcolor": "white",
            "gridwidth": 2,
            "linecolor": "white",
            "showbackground": true,
            "ticks": "",
            "zerolinecolor": "white"
           }
          },
          "shapedefaults": {
           "line": {
            "color": "#2a3f5f"
           }
          },
          "ternary": {
           "aaxis": {
            "gridcolor": "white",
            "linecolor": "white",
            "ticks": ""
           },
           "baxis": {
            "gridcolor": "white",
            "linecolor": "white",
            "ticks": ""
           },
           "bgcolor": "#E5ECF6",
           "caxis": {
            "gridcolor": "white",
            "linecolor": "white",
            "ticks": ""
           }
          },
          "title": {
           "x": 0.05
          },
          "xaxis": {
           "automargin": true,
           "gridcolor": "white",
           "linecolor": "white",
           "ticks": "",
           "title": {
            "standoff": 15
           },
           "zerolinecolor": "white",
           "zerolinewidth": 2
          },
          "yaxis": {
           "automargin": true,
           "gridcolor": "white",
           "linecolor": "white",
           "ticks": "",
           "title": {
            "standoff": 15
           },
           "zerolinecolor": "white",
           "zerolinewidth": 2
          }
         }
        },
        "title": {
         "text": "R2 Score for range of prices"
        },
        "xaxis": {
         "anchor": "y",
         "domain": [
          0,
          1
         ],
         "title": {
          "text": "bin"
         }
        },
        "yaxis": {
         "anchor": "x",
         "domain": [
          0,
          1
         ],
         "range": [
          -1,
          1
         ],
         "title": {
          "text": "r2_score"
         }
        }
       }
      },
      "text/html": [
       "<div>                            <div id=\"456c0b55-9ab4-4701-a12f-4ba4d5745d2b\" class=\"plotly-graph-div\" style=\"height:525px; width:100%;\"></div>            <script type=\"text/javascript\">                require([\"plotly\"], function(Plotly) {                    window.PLOTLYENV=window.PLOTLYENV || {};                                    if (document.getElementById(\"456c0b55-9ab4-4701-a12f-4ba4d5745d2b\")) {                    Plotly.newPlot(                        \"456c0b55-9ab4-4701-a12f-4ba4d5745d2b\",                        [{\"alignmentgroup\": \"True\", \"hovertemplate\": \"bin=%{x}<br>r2_score=%{text}<extra></extra>\", \"legendgroup\": \"\", \"marker\": {\"color\": \"#636efa\"}, \"name\": \"\", \"offsetgroup\": \"\", \"orientation\": \"v\", \"showlegend\": false, \"text\": [-0.09833589215988225, 0.9180027630465508, -0.26492317602205184, 0.7716457177028042], \"textposition\": \"auto\", \"type\": \"bar\", \"x\": [\"(224000.0, 409045.0]\", \"(199.999, 224000.0]\", \"(409045.0, 770000.0]\", \"(770000.0, 25434920.0]\"], \"xaxis\": \"x\", \"y\": [-0.09833589215988225, 0.9180027630465508, -0.26492317602205184, 0.7716457177028042], \"yaxis\": \"y\"}],                        {\"barmode\": \"relative\", \"legend\": {\"tracegroupgap\": 0}, \"template\": {\"data\": {\"bar\": [{\"error_x\": {\"color\": \"#2a3f5f\"}, \"error_y\": {\"color\": \"#2a3f5f\"}, \"marker\": {\"line\": {\"color\": \"#E5ECF6\", \"width\": 0.5}}, \"type\": \"bar\"}], \"barpolar\": [{\"marker\": {\"line\": {\"color\": \"#E5ECF6\", \"width\": 0.5}}, \"type\": \"barpolar\"}], \"carpet\": [{\"aaxis\": {\"endlinecolor\": \"#2a3f5f\", \"gridcolor\": \"white\", \"linecolor\": \"white\", \"minorgridcolor\": \"white\", \"startlinecolor\": \"#2a3f5f\"}, \"baxis\": {\"endlinecolor\": \"#2a3f5f\", \"gridcolor\": \"white\", \"linecolor\": \"white\", \"minorgridcolor\": \"white\", \"startlinecolor\": \"#2a3f5f\"}, \"type\": \"carpet\"}], \"choropleth\": [{\"colorbar\": {\"outlinewidth\": 0, \"ticks\": \"\"}, \"type\": \"choropleth\"}], \"contour\": [{\"colorbar\": {\"outlinewidth\": 0, \"ticks\": \"\"}, \"colorscale\": [[0.0, \"#0d0887\"], [0.1111111111111111, \"#46039f\"], [0.2222222222222222, \"#7201a8\"], [0.3333333333333333, \"#9c179e\"], [0.4444444444444444, \"#bd3786\"], [0.5555555555555556, \"#d8576b\"], [0.6666666666666666, \"#ed7953\"], [0.7777777777777778, \"#fb9f3a\"], [0.8888888888888888, \"#fdca26\"], [1.0, \"#f0f921\"]], \"type\": \"contour\"}], \"contourcarpet\": [{\"colorbar\": {\"outlinewidth\": 0, \"ticks\": \"\"}, \"type\": \"contourcarpet\"}], \"heatmap\": [{\"colorbar\": {\"outlinewidth\": 0, \"ticks\": \"\"}, \"colorscale\": [[0.0, \"#0d0887\"], [0.1111111111111111, \"#46039f\"], [0.2222222222222222, \"#7201a8\"], [0.3333333333333333, \"#9c179e\"], [0.4444444444444444, \"#bd3786\"], [0.5555555555555556, \"#d8576b\"], [0.6666666666666666, \"#ed7953\"], [0.7777777777777778, \"#fb9f3a\"], [0.8888888888888888, \"#fdca26\"], [1.0, \"#f0f921\"]], \"type\": \"heatmap\"}], \"heatmapgl\": [{\"colorbar\": {\"outlinewidth\": 0, \"ticks\": \"\"}, \"colorscale\": [[0.0, \"#0d0887\"], [0.1111111111111111, \"#46039f\"], [0.2222222222222222, \"#7201a8\"], [0.3333333333333333, \"#9c179e\"], [0.4444444444444444, \"#bd3786\"], [0.5555555555555556, \"#d8576b\"], [0.6666666666666666, \"#ed7953\"], [0.7777777777777778, \"#fb9f3a\"], [0.8888888888888888, \"#fdca26\"], [1.0, \"#f0f921\"]], \"type\": \"heatmapgl\"}], \"histogram\": [{\"marker\": {\"colorbar\": {\"outlinewidth\": 0, \"ticks\": \"\"}}, \"type\": \"histogram\"}], \"histogram2d\": [{\"colorbar\": {\"outlinewidth\": 0, \"ticks\": \"\"}, \"colorscale\": [[0.0, \"#0d0887\"], [0.1111111111111111, \"#46039f\"], [0.2222222222222222, \"#7201a8\"], [0.3333333333333333, \"#9c179e\"], [0.4444444444444444, \"#bd3786\"], [0.5555555555555556, \"#d8576b\"], [0.6666666666666666, \"#ed7953\"], [0.7777777777777778, \"#fb9f3a\"], [0.8888888888888888, \"#fdca26\"], [1.0, \"#f0f921\"]], \"type\": \"histogram2d\"}], \"histogram2dcontour\": [{\"colorbar\": {\"outlinewidth\": 0, \"ticks\": \"\"}, \"colorscale\": [[0.0, \"#0d0887\"], [0.1111111111111111, \"#46039f\"], [0.2222222222222222, \"#7201a8\"], [0.3333333333333333, \"#9c179e\"], [0.4444444444444444, \"#bd3786\"], [0.5555555555555556, \"#d8576b\"], [0.6666666666666666, \"#ed7953\"], [0.7777777777777778, \"#fb9f3a\"], [0.8888888888888888, \"#fdca26\"], [1.0, \"#f0f921\"]], \"type\": \"histogram2dcontour\"}], \"mesh3d\": [{\"colorbar\": {\"outlinewidth\": 0, \"ticks\": \"\"}, \"type\": \"mesh3d\"}], \"parcoords\": [{\"line\": {\"colorbar\": {\"outlinewidth\": 0, \"ticks\": \"\"}}, \"type\": \"parcoords\"}], \"pie\": [{\"automargin\": true, \"type\": \"pie\"}], \"scatter\": [{\"marker\": {\"colorbar\": {\"outlinewidth\": 0, \"ticks\": \"\"}}, \"type\": \"scatter\"}], \"scatter3d\": [{\"line\": {\"colorbar\": {\"outlinewidth\": 0, \"ticks\": \"\"}}, \"marker\": {\"colorbar\": {\"outlinewidth\": 0, \"ticks\": \"\"}}, \"type\": \"scatter3d\"}], \"scattercarpet\": [{\"marker\": {\"colorbar\": {\"outlinewidth\": 0, \"ticks\": \"\"}}, \"type\": \"scattercarpet\"}], \"scattergeo\": [{\"marker\": {\"colorbar\": {\"outlinewidth\": 0, \"ticks\": \"\"}}, \"type\": \"scattergeo\"}], \"scattergl\": [{\"marker\": {\"colorbar\": {\"outlinewidth\": 0, \"ticks\": \"\"}}, \"type\": \"scattergl\"}], \"scattermapbox\": [{\"marker\": {\"colorbar\": {\"outlinewidth\": 0, \"ticks\": \"\"}}, \"type\": \"scattermapbox\"}], \"scatterpolar\": [{\"marker\": {\"colorbar\": {\"outlinewidth\": 0, \"ticks\": \"\"}}, \"type\": \"scatterpolar\"}], \"scatterpolargl\": [{\"marker\": {\"colorbar\": {\"outlinewidth\": 0, \"ticks\": \"\"}}, \"type\": \"scatterpolargl\"}], \"scatterternary\": [{\"marker\": {\"colorbar\": {\"outlinewidth\": 0, \"ticks\": \"\"}}, \"type\": \"scatterternary\"}], \"surface\": [{\"colorbar\": {\"outlinewidth\": 0, \"ticks\": \"\"}, \"colorscale\": [[0.0, \"#0d0887\"], [0.1111111111111111, \"#46039f\"], [0.2222222222222222, \"#7201a8\"], [0.3333333333333333, \"#9c179e\"], [0.4444444444444444, \"#bd3786\"], [0.5555555555555556, \"#d8576b\"], [0.6666666666666666, \"#ed7953\"], [0.7777777777777778, \"#fb9f3a\"], [0.8888888888888888, \"#fdca26\"], [1.0, \"#f0f921\"]], \"type\": \"surface\"}], \"table\": [{\"cells\": {\"fill\": {\"color\": \"#EBF0F8\"}, \"line\": {\"color\": \"white\"}}, \"header\": {\"fill\": {\"color\": \"#C8D4E3\"}, \"line\": {\"color\": \"white\"}}, \"type\": \"table\"}]}, \"layout\": {\"annotationdefaults\": {\"arrowcolor\": \"#2a3f5f\", \"arrowhead\": 0, \"arrowwidth\": 1}, \"coloraxis\": {\"colorbar\": {\"outlinewidth\": 0, \"ticks\": \"\"}}, \"colorscale\": {\"diverging\": [[0, \"#8e0152\"], [0.1, \"#c51b7d\"], [0.2, \"#de77ae\"], [0.3, \"#f1b6da\"], [0.4, \"#fde0ef\"], [0.5, \"#f7f7f7\"], [0.6, \"#e6f5d0\"], [0.7, \"#b8e186\"], [0.8, \"#7fbc41\"], [0.9, \"#4d9221\"], [1, \"#276419\"]], \"sequential\": [[0.0, \"#0d0887\"], [0.1111111111111111, \"#46039f\"], [0.2222222222222222, \"#7201a8\"], [0.3333333333333333, \"#9c179e\"], [0.4444444444444444, \"#bd3786\"], [0.5555555555555556, \"#d8576b\"], [0.6666666666666666, \"#ed7953\"], [0.7777777777777778, \"#fb9f3a\"], [0.8888888888888888, \"#fdca26\"], [1.0, \"#f0f921\"]], \"sequentialminus\": [[0.0, \"#0d0887\"], [0.1111111111111111, \"#46039f\"], [0.2222222222222222, \"#7201a8\"], [0.3333333333333333, \"#9c179e\"], [0.4444444444444444, \"#bd3786\"], [0.5555555555555556, \"#d8576b\"], [0.6666666666666666, \"#ed7953\"], [0.7777777777777778, \"#fb9f3a\"], [0.8888888888888888, \"#fdca26\"], [1.0, \"#f0f921\"]]}, \"colorway\": [\"#636efa\", \"#EF553B\", \"#00cc96\", \"#ab63fa\", \"#FFA15A\", \"#19d3f3\", \"#FF6692\", \"#B6E880\", \"#FF97FF\", \"#FECB52\"], \"font\": {\"color\": \"#2a3f5f\"}, \"geo\": {\"bgcolor\": \"white\", \"lakecolor\": \"white\", \"landcolor\": \"#E5ECF6\", \"showlakes\": true, \"showland\": true, \"subunitcolor\": \"white\"}, \"hoverlabel\": {\"align\": \"left\"}, \"hovermode\": \"closest\", \"mapbox\": {\"style\": \"light\"}, \"paper_bgcolor\": \"white\", \"plot_bgcolor\": \"#E5ECF6\", \"polar\": {\"angularaxis\": {\"gridcolor\": \"white\", \"linecolor\": \"white\", \"ticks\": \"\"}, \"bgcolor\": \"#E5ECF6\", \"radialaxis\": {\"gridcolor\": \"white\", \"linecolor\": \"white\", \"ticks\": \"\"}}, \"scene\": {\"xaxis\": {\"backgroundcolor\": \"#E5ECF6\", \"gridcolor\": \"white\", \"gridwidth\": 2, \"linecolor\": \"white\", \"showbackground\": true, \"ticks\": \"\", \"zerolinecolor\": \"white\"}, \"yaxis\": {\"backgroundcolor\": \"#E5ECF6\", \"gridcolor\": \"white\", \"gridwidth\": 2, \"linecolor\": \"white\", \"showbackground\": true, \"ticks\": \"\", \"zerolinecolor\": \"white\"}, \"zaxis\": {\"backgroundcolor\": \"#E5ECF6\", \"gridcolor\": \"white\", \"gridwidth\": 2, \"linecolor\": \"white\", \"showbackground\": true, \"ticks\": \"\", \"zerolinecolor\": \"white\"}}, \"shapedefaults\": {\"line\": {\"color\": \"#2a3f5f\"}}, \"ternary\": {\"aaxis\": {\"gridcolor\": \"white\", \"linecolor\": \"white\", \"ticks\": \"\"}, \"baxis\": {\"gridcolor\": \"white\", \"linecolor\": \"white\", \"ticks\": \"\"}, \"bgcolor\": \"#E5ECF6\", \"caxis\": {\"gridcolor\": \"white\", \"linecolor\": \"white\", \"ticks\": \"\"}}, \"title\": {\"x\": 0.05}, \"xaxis\": {\"automargin\": true, \"gridcolor\": \"white\", \"linecolor\": \"white\", \"ticks\": \"\", \"title\": {\"standoff\": 15}, \"zerolinecolor\": \"white\", \"zerolinewidth\": 2}, \"yaxis\": {\"automargin\": true, \"gridcolor\": \"white\", \"linecolor\": \"white\", \"ticks\": \"\", \"title\": {\"standoff\": 15}, \"zerolinecolor\": \"white\", \"zerolinewidth\": 2}}}, \"title\": {\"text\": \"R2 Score for range of prices\"}, \"xaxis\": {\"anchor\": \"y\", \"domain\": [0.0, 1.0], \"title\": {\"text\": \"bin\"}}, \"yaxis\": {\"anchor\": \"x\", \"domain\": [0.0, 1.0], \"range\": [-1, 1], \"title\": {\"text\": \"r2_score\"}}},                        {\"responsive\": true}                    ).then(function(){\n",
       "                            \n",
       "var gd = document.getElementById('456c0b55-9ab4-4701-a12f-4ba4d5745d2b');\n",
       "var x = new MutationObserver(function (mutations, observer) {{\n",
       "        var display = window.getComputedStyle(gd).display;\n",
       "        if (!display || display === 'none') {{\n",
       "            console.log([gd, 'removed!']);\n",
       "            Plotly.purge(gd);\n",
       "            observer.disconnect();\n",
       "        }}\n",
       "}});\n",
       "\n",
       "// Listen for the removal of the full notebook cells\n",
       "var notebookContainer = gd.closest('#notebook-container');\n",
       "if (notebookContainer) {{\n",
       "    x.observe(notebookContainer, {childList: true});\n",
       "}}\n",
       "\n",
       "// Listen for the clearing of the current output cell\n",
       "var outputEl = gd.closest('.output');\n",
       "if (outputEl) {{\n",
       "    x.observe(outputEl, {childList: true});\n",
       "}}\n",
       "\n",
       "                        })                };                });            </script>        </div>"
      ]
     },
     "metadata": {},
     "output_type": "display_data"
    }
   ],
   "source": [
    "px.bar(df_r2, range_y=[-1, 1], x=\"bin\", y=\"r2_score\",\n",
    "       title=\"R2 Score for range of prices\", text=\"r2_score\")"
   ]
  },
  {
   "cell_type": "markdown",
   "metadata": {},
   "source": [
    "# Save trained model"
   ]
  },
  {
   "cell_type": "code",
   "execution_count": 89,
   "metadata": {},
   "outputs": [],
   "source": [
    "xgb_model.save_model(\"../models/model.xgb\")"
   ]
  },
  {
   "cell_type": "markdown",
   "metadata": {},
   "source": [
    "# Predict test dataset"
   ]
  },
  {
   "cell_type": "code",
   "execution_count": 90,
   "metadata": {},
   "outputs": [
    {
     "name": "stdout",
     "output_type": "stream",
     "text": [
      "(16036, 49)\n"
     ]
    }
   ],
   "source": [
    "df_test = pd.read_feather(\"../data/processed/test.feather\")\n",
    "print(df_test.shape)"
   ]
  },
  {
   "cell_type": "code",
   "execution_count": 91,
   "metadata": {},
   "outputs": [
    {
     "name": "stdout",
     "output_type": "stream",
     "text": [
      "<class 'pandas.core.frame.DataFrame'>\n",
      "RangeIndex: 16036 entries, 0 to 16035\n",
      "Data columns (total 49 columns):\n",
      " #   Column                         Non-Null Count  Dtype  \n",
      "---  ------                         --------------  -----  \n",
      " 0   id                             16036 non-null  object \n",
      " 1   usableAreas                    16029 non-null  float64\n",
      " 2   parkingSpaces                  15772 non-null  float64\n",
      " 3   suites                         14641 non-null  float64\n",
      " 4   bathrooms                      16035 non-null  float64\n",
      " 5   totalAreas                     9942 non-null   float64\n",
      " 6   bedrooms                       16036 non-null  int64  \n",
      " 7   publicationType                16036 non-null  object \n",
      " 8   geohash                        16031 non-null  object \n",
      " 9   price                          0 non-null      object \n",
      " 10  businessType                   16036 non-null  object \n",
      " 11  yearlyIptu                     13639 non-null  float64\n",
      " 12  monthlyCondoFee                15100 non-null  float64\n",
      " 13  has_gym                        16036 non-null  bool   \n",
      " 14  has_garden                     16036 non-null  bool   \n",
      " 15  has_pool                       16036 non-null  bool   \n",
      " 16  has_lobby                      16036 non-null  bool   \n",
      " 17  has_partyRoom                  16036 non-null  bool   \n",
      " 18  has_balcony                    16036 non-null  bool   \n",
      " 19  has_playground                 16036 non-null  bool   \n",
      " 20  has_grill                      16036 non-null  bool   \n",
      " 21  has_games                      16036 non-null  bool   \n",
      " 22  has_closet                     16036 non-null  bool   \n",
      " 23  has_elevator                   16036 non-null  bool   \n",
      " 24  has_furnitures                 16036 non-null  bool   \n",
      " 25  has_toilet                     16036 non-null  bool   \n",
      " 26  total_dom_part_improvisados    15902 non-null  float64\n",
      " 27  renda_nom_dom_part             15902 non-null  float64\n",
      " 28  renda_nom_dom_part_perm        15902 non-null  float64\n",
      " 29  renda_nom_dom_part_imp         15902 non-null  float64\n",
      " 30  renda_nom_dom_sal_baixo1       15902 non-null  float64\n",
      " 31  renda_nom_dom_sal_baixo2       15902 non-null  float64\n",
      " 32  renda_nom_dom_sal_baixo3       15902 non-null  float64\n",
      " 33  renda_nom_dom_sal_baixo4       15902 non-null  float64\n",
      " 34  renda_nom_dom_sal_medio1       15902 non-null  float64\n",
      " 35  renda_nom_dom_sal_medio2       15902 non-null  float64\n",
      " 36  renda_nom_dom_sal_medio3       15902 non-null  float64\n",
      " 37  renda_nom_dom_sal_alto1        15902 non-null  float64\n",
      " 38  renda_nom_dom_sal_alto2        15902 non-null  float64\n",
      " 39  renda_nom_dom_sem_rendimento   15902 non-null  float64\n",
      " 40  rural_urbano                   0 non-null      object \n",
      " 41  ident_logradouro_proprios      15902 non-null  float64\n",
      " 42  nao_ident_logradouro_proprios  15902 non-null  float64\n",
      " 43  ident_logradouro_alugados      15902 non-null  float64\n",
      " 44  nao_ident_logradouro_alugados  15902 non-null  float64\n",
      " 45  ilum_publica_proprios          15902 non-null  float64\n",
      " 46  nao_ilum_publica_proprios      15902 non-null  float64\n",
      " 47  ilum_publica_alugados          15902 non-null  float64\n",
      " 48  nao_ilum_publica_alugados      15902 non-null  float64\n",
      "dtypes: bool(13), float64(29), int64(1), object(6)\n",
      "memory usage: 4.6+ MB\n"
     ]
    }
   ],
   "source": [
    "df_test.info()"
   ]
  },
  {
   "cell_type": "code",
   "execution_count": 92,
   "metadata": {},
   "outputs": [],
   "source": [
    "ids = df_test[\"id\"].values\n",
    "\n",
    "df_test.drop(columns=[\"price\"], inplace=True)\n",
    "\n",
    "X2_test = prep_modeling(df_test, invalid_cols, geohash=geohash_delimiters, generate_encoder=False)"
   ]
  },
  {
   "cell_type": "code",
   "execution_count": 93,
   "metadata": {},
   "outputs": [
    {
     "name": "stdout",
     "output_type": "stream",
     "text": [
      "<class 'pandas.core.frame.DataFrame'>\n",
      "RangeIndex: 16036 entries, 0 to 16035\n",
      "Data columns (total 45 columns):\n",
      " #   Column                         Non-Null Count  Dtype  \n",
      "---  ------                         --------------  -----  \n",
      " 0   usableAreas                    16036 non-null  float64\n",
      " 1   parkingSpaces                  16036 non-null  float64\n",
      " 2   suites                         16036 non-null  float64\n",
      " 3   bathrooms                      16036 non-null  float64\n",
      " 4   totalAreas                     16036 non-null  float64\n",
      " 5   bedrooms                       16036 non-null  float64\n",
      " 6   publicationType                16036 non-null  float64\n",
      " 7   businessType                   16036 non-null  float64\n",
      " 8   yearlyIptu                     16036 non-null  float64\n",
      " 9   monthlyCondoFee                16036 non-null  float64\n",
      " 10  has_gym                        16036 non-null  float64\n",
      " 11  has_garden                     16036 non-null  float64\n",
      " 12  has_pool                       16036 non-null  float64\n",
      " 13  has_lobby                      16036 non-null  float64\n",
      " 14  has_partyRoom                  16036 non-null  float64\n",
      " 15  has_balcony                    16036 non-null  float64\n",
      " 16  has_playground                 16036 non-null  float64\n",
      " 17  has_grill                      16036 non-null  float64\n",
      " 18  has_games                      16036 non-null  float64\n",
      " 19  has_closet                     16036 non-null  float64\n",
      " 20  has_furnitures                 16036 non-null  float64\n",
      " 21  has_toilet                     16036 non-null  float64\n",
      " 22  total_dom_part_improvisados    16036 non-null  float64\n",
      " 23  renda_nom_dom_part             16036 non-null  float64\n",
      " 24  renda_nom_dom_part_perm        16036 non-null  float64\n",
      " 25  renda_nom_dom_part_imp         16036 non-null  float64\n",
      " 26  renda_nom_dom_sal_baixo1       16036 non-null  float64\n",
      " 27  renda_nom_dom_sal_baixo2       16036 non-null  float64\n",
      " 28  renda_nom_dom_sal_baixo3       16036 non-null  float64\n",
      " 29  renda_nom_dom_sal_baixo4       16036 non-null  float64\n",
      " 30  renda_nom_dom_sal_medio1       16036 non-null  float64\n",
      " 31  renda_nom_dom_sal_medio2       16036 non-null  float64\n",
      " 32  renda_nom_dom_sal_medio3       16036 non-null  float64\n",
      " 33  renda_nom_dom_sal_alto1        16036 non-null  float64\n",
      " 34  renda_nom_dom_sal_alto2        16036 non-null  float64\n",
      " 35  renda_nom_dom_sem_rendimento   16036 non-null  float64\n",
      " 36  ident_logradouro_proprios      16036 non-null  float64\n",
      " 37  nao_ident_logradouro_proprios  16036 non-null  float64\n",
      " 38  ident_logradouro_alugados      16036 non-null  float64\n",
      " 39  nao_ident_logradouro_alugados  16036 non-null  float64\n",
      " 40  ilum_publica_proprios          16036 non-null  float64\n",
      " 41  nao_ilum_publica_proprios      16036 non-null  float64\n",
      " 42  ilum_publica_alugados          16036 non-null  float64\n",
      " 43  nao_ilum_publica_alugados      16036 non-null  float64\n",
      " 44  geohash_5                      16036 non-null  float64\n",
      "dtypes: float64(45)\n",
      "memory usage: 5.5 MB\n"
     ]
    }
   ],
   "source": [
    "X2_test.info()"
   ]
  },
  {
   "cell_type": "code",
   "execution_count": 94,
   "metadata": {},
   "outputs": [],
   "source": [
    "def test_prediction(test, ids, model):\n",
    "    \"\"\"\n",
    "    Function to apply predict on test dataset.\n",
    "    \n",
    "    Arguments:\n",
    "    - test (pd.DataFrame): Test dataset.\n",
    "    - ids (list): ID for each row in test dataset.\n",
    "    - model (XGBRegressor model): Trained model.\n",
    "    \n",
    "    Output:\n",
    "    List of dicts like {\"id\": \"X\", \"price\": 100.0}\n",
    "    \"\"\"\n",
    "    result = []\n",
    "    for i in range(len(test)):\n",
    "        pred = model.predict(test.iloc[[i]])[0]\n",
    "        result.append({\"id\": ids[i], \"price\": pred})\n",
    "        \n",
    "    return result"
   ]
  },
  {
   "cell_type": "code",
   "execution_count": 95,
   "metadata": {},
   "outputs": [
    {
     "name": "stdout",
     "output_type": "stream",
     "text": [
      "(16036, 2)\n"
     ]
    },
    {
     "data": {
      "text/html": [
       "<div>\n",
       "<style scoped>\n",
       "    .dataframe tbody tr th:only-of-type {\n",
       "        vertical-align: middle;\n",
       "    }\n",
       "\n",
       "    .dataframe tbody tr th {\n",
       "        vertical-align: top;\n",
       "    }\n",
       "\n",
       "    .dataframe thead th {\n",
       "        text-align: right;\n",
       "    }\n",
       "</style>\n",
       "<table border=\"1\" class=\"dataframe\">\n",
       "  <thead>\n",
       "    <tr style=\"text-align: right;\">\n",
       "      <th></th>\n",
       "      <th>id</th>\n",
       "      <th>price</th>\n",
       "    </tr>\n",
       "  </thead>\n",
       "  <tbody>\n",
       "    <tr>\n",
       "      <th>0</th>\n",
       "      <td>89224365f8</td>\n",
       "      <td>4.244306e+05</td>\n",
       "    </tr>\n",
       "    <tr>\n",
       "      <th>1</th>\n",
       "      <td>363731333f</td>\n",
       "      <td>2.252767e+05</td>\n",
       "    </tr>\n",
       "    <tr>\n",
       "      <th>2</th>\n",
       "      <td>6e6283378a</td>\n",
       "      <td>4.350355e+05</td>\n",
       "    </tr>\n",
       "    <tr>\n",
       "      <th>3</th>\n",
       "      <td>4c29a27f44</td>\n",
       "      <td>1.532090e+06</td>\n",
       "    </tr>\n",
       "    <tr>\n",
       "      <th>4</th>\n",
       "      <td>7b16cf224b</td>\n",
       "      <td>5.235942e+05</td>\n",
       "    </tr>\n",
       "  </tbody>\n",
       "</table>\n",
       "</div>"
      ],
      "text/plain": [
       "           id         price\n",
       "0  89224365f8  4.244306e+05\n",
       "1  363731333f  2.252767e+05\n",
       "2  6e6283378a  4.350355e+05\n",
       "3  4c29a27f44  1.532090e+06\n",
       "4  7b16cf224b  5.235942e+05"
      ]
     },
     "execution_count": 95,
     "metadata": {},
     "output_type": "execute_result"
    }
   ],
   "source": [
    "test_preds = test_prediction(X2_test, ids, xgb_model)\n",
    "test_preds = pd.DataFrame(test_preds)\n",
    "\n",
    "print(test_preds.shape)\n",
    "test_preds.head()"
   ]
  },
  {
   "cell_type": "markdown",
   "metadata": {},
   "source": [
    "## Save predictions.csv"
   ]
  },
  {
   "cell_type": "code",
   "execution_count": 96,
   "metadata": {},
   "outputs": [],
   "source": [
    "test_preds.to_csv(\"../predictions.csv\", index=False, encoding=\"utf-8\")"
   ]
  },
  {
   "cell_type": "markdown",
   "metadata": {},
   "source": [
    "---\n",
    "---\n",
    "---\n",
    "\n",
    "# That's the end!"
   ]
  }
 ],
 "metadata": {
  "kernelspec": {
   "display_name": "conda_python3",
   "language": "python",
   "name": "conda_python3"
  },
  "language_info": {
   "codemirror_mode": {
    "name": "ipython",
    "version": 3
   },
   "file_extension": ".py",
   "mimetype": "text/x-python",
   "name": "python",
   "nbconvert_exporter": "python",
   "pygments_lexer": "ipython3",
   "version": "3.6.10"
  }
 },
 "nbformat": 4,
 "nbformat_minor": 4
}
