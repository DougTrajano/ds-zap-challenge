{
 "cells": [
  {
   "cell_type": "markdown",
   "metadata": {},
   "source": [
    "# Modeling"
   ]
  },
  {
   "cell_type": "markdown",
   "metadata": {},
   "source": [
    "## Imports"
   ]
  },
  {
   "cell_type": "code",
   "execution_count": 1,
   "metadata": {},
   "outputs": [],
   "source": [
    "from modeling import *\n",
    "import pandas as pd\n",
    "import numpy as np"
   ]
  },
  {
   "cell_type": "markdown",
   "metadata": {},
   "source": [
    "## Parameters"
   ]
  },
  {
   "cell_type": "code",
   "execution_count": 2,
   "metadata": {},
   "outputs": [],
   "source": [
    "invalid_cols = [\"has_elevator\", \"rural_urbano\", \"geohash_4\", \"geohash_3\", \"geohash\"]\n",
    "\n",
    "seed = 1993\n",
    "\n",
    "target_col = \"price\""
   ]
  },
  {
   "cell_type": "markdown",
   "metadata": {},
   "source": [
    "## Load train dataset"
   ]
  },
  {
   "cell_type": "code",
   "execution_count": 3,
   "metadata": {},
   "outputs": [
    {
     "name": "stdout",
     "output_type": "stream",
     "text": [
      "(72131, 48)\n"
     ]
    }
   ],
   "source": [
    "df_train = pd.read_feather(\"../data/processed/train.feather\")\n",
    "print(df_train.shape)"
   ]
  },
  {
   "cell_type": "code",
   "execution_count": 4,
   "metadata": {},
   "outputs": [
    {
     "name": "stdout",
     "output_type": "stream",
     "text": [
      "<class 'pandas.core.frame.DataFrame'>\n",
      "RangeIndex: 72131 entries, 0 to 72130\n",
      "Data columns (total 48 columns):\n",
      " #   Column                         Non-Null Count  Dtype  \n",
      "---  ------                         --------------  -----  \n",
      " 0   usableAreas                    72121 non-null  float64\n",
      " 1   parkingSpaces                  70911 non-null  float64\n",
      " 2   suites                         66178 non-null  float64\n",
      " 3   bathrooms                      72130 non-null  float64\n",
      " 4   totalAreas                     43795 non-null  float64\n",
      " 5   bedrooms                       72131 non-null  int64  \n",
      " 6   publicationType                72131 non-null  object \n",
      " 7   geohash                        72123 non-null  object \n",
      " 8   price                          72131 non-null  int64  \n",
      " 9   businessType                   72131 non-null  object \n",
      " 10  yearlyIptu                     62150 non-null  float64\n",
      " 11  monthlyCondoFee                68357 non-null  float64\n",
      " 12  has_gym                        72131 non-null  bool   \n",
      " 13  has_garden                     72131 non-null  bool   \n",
      " 14  has_pool                       72131 non-null  bool   \n",
      " 15  has_lobby                      72131 non-null  bool   \n",
      " 16  has_partyRoom                  72131 non-null  bool   \n",
      " 17  has_balcony                    72131 non-null  bool   \n",
      " 18  has_playground                 72131 non-null  bool   \n",
      " 19  has_grill                      72131 non-null  bool   \n",
      " 20  has_games                      72131 non-null  bool   \n",
      " 21  has_closet                     72131 non-null  bool   \n",
      " 22  has_elevator                   72131 non-null  bool   \n",
      " 23  has_furnitures                 72131 non-null  bool   \n",
      " 24  has_toilet                     72131 non-null  bool   \n",
      " 25  total_dom_part_improvisados    71700 non-null  float64\n",
      " 26  renda_nom_dom_part             71700 non-null  float64\n",
      " 27  renda_nom_dom_part_perm        71700 non-null  float64\n",
      " 28  renda_nom_dom_part_imp         71700 non-null  float64\n",
      " 29  renda_nom_dom_sal_baixo1       71700 non-null  float64\n",
      " 30  renda_nom_dom_sal_baixo2       71700 non-null  float64\n",
      " 31  renda_nom_dom_sal_baixo3       71700 non-null  float64\n",
      " 32  renda_nom_dom_sal_baixo4       71700 non-null  float64\n",
      " 33  renda_nom_dom_sal_medio1       71700 non-null  float64\n",
      " 34  renda_nom_dom_sal_medio2       71700 non-null  float64\n",
      " 35  renda_nom_dom_sal_medio3       71700 non-null  float64\n",
      " 36  renda_nom_dom_sal_alto1        71700 non-null  float64\n",
      " 37  renda_nom_dom_sal_alto2        71700 non-null  float64\n",
      " 38  renda_nom_dom_sem_rendimento   71700 non-null  float64\n",
      " 39  rural_urbano                   0 non-null      object \n",
      " 40  ident_logradouro_proprios      71700 non-null  float64\n",
      " 41  nao_ident_logradouro_proprios  71700 non-null  float64\n",
      " 42  ident_logradouro_alugados      71700 non-null  float64\n",
      " 43  nao_ident_logradouro_alugados  71700 non-null  float64\n",
      " 44  ilum_publica_proprios          71700 non-null  float64\n",
      " 45  nao_ilum_publica_proprios      71700 non-null  float64\n",
      " 46  ilum_publica_alugados          71700 non-null  float64\n",
      " 47  nao_ilum_publica_alugados      71700 non-null  float64\n",
      "dtypes: bool(13), float64(29), int64(2), object(4)\n",
      "memory usage: 20.2+ MB\n"
     ]
    }
   ],
   "source": [
    "df_train.info()"
   ]
  },
  {
   "cell_type": "markdown",
   "metadata": {},
   "source": [
    "## Prepare dataset"
   ]
  },
  {
   "cell_type": "code",
   "execution_count": 5,
   "metadata": {},
   "outputs": [],
   "source": [
    "X = prep_modeling(df_train, invalid_cols)"
   ]
  },
  {
   "cell_type": "code",
   "execution_count": 6,
   "metadata": {},
   "outputs": [],
   "source": [
    "y = X[target_col].values\n",
    "X = X.drop(columns=[target_col])"
   ]
  },
  {
   "cell_type": "code",
   "execution_count": 9,
   "metadata": {},
   "outputs": [],
   "source": [
    "y_binned = bins_y(y)"
   ]
  },
  {
   "cell_type": "code",
   "execution_count": 128,
   "metadata": {},
   "outputs": [
    {
     "name": "stdout",
     "output_type": "stream",
     "text": [
      "train size: (50491, 44)\n",
      "test size: (21640, 44)\n"
     ]
    }
   ],
   "source": [
    "from sklearn.model_selection import train_test_split\n",
    "\n",
    "X_train, X_test, y_train, y_test = train_test_split(X, y, test_size=0.3, random_state=1993, stratify=y_binned)\n",
    "\n",
    "X_train.reset_index(drop=True, inplace=True)\n",
    "X_test.reset_index(drop=True, inplace=True)\n",
    "\n",
    "print(\"train size:\", X_train.shape)\n",
    "print(\"test size:\", X_test.shape)"
   ]
  },
  {
   "cell_type": "markdown",
   "metadata": {},
   "source": [
    "## Remove outliers values\n",
    "\n",
    "Based on **Target feature stats** of [exploratory_analysis.ipynb](exploratory_analysis.ipynb) we have data outliers that were entered incorrectly.\n",
    "\n",
    "Remove them isn't a best choicce, but for the first version of the model, I'll do that.\n",
    "\n",
    "I'll remove all observations with price lower than 50000 and higher than 5000000."
   ]
  },
  {
   "cell_type": "code",
   "execution_count": 129,
   "metadata": {},
   "outputs": [],
   "source": [
    "X_train, y_train = remove_outliers(X_train, y_train, lower=10000, higher=13000000)"
   ]
  },
  {
   "cell_type": "markdown",
   "metadata": {},
   "source": [
    "## Training"
   ]
  },
  {
   "cell_type": "markdown",
   "metadata": {},
   "source": [
    "### XGBoost Regressor"
   ]
  },
  {
   "cell_type": "code",
   "execution_count": 159,
   "metadata": {},
   "outputs": [],
   "source": [
    "from sklearn.metrics import mean_squared_error\n",
    "from sklearn.model_selection import cross_val_score\n",
    "from xgboost.sklearn import XGBRegressor\n",
    "from sklearn.model_selection import GridSearchCV"
   ]
  },
  {
   "cell_type": "markdown",
   "metadata": {},
   "source": [
    "### Baseline"
   ]
  },
  {
   "cell_type": "code",
   "execution_count": 152,
   "metadata": {},
   "outputs": [
    {
     "data": {
      "text/plain": [
       "{'MSE': 341956618186.56, 'Score': 0.714044332229657}"
      ]
     },
     "execution_count": 152,
     "metadata": {},
     "output_type": "execute_result"
    }
   ],
   "source": [
    "xgb_score = {}\n",
    "\n",
    "xgb_model = XGBRegressor()\n",
    "xgb_model.fit(X_train, y_train)\n",
    "\n",
    "y_pred = xgb_model.predict(X_test)\n",
    "\n",
    "xgb_score[\"MSE\"] = mean_squared_error(y_test, y_pred)\n",
    "xgb_score[\"Score\"] = xgb_model.score(X_test, y_test)\n",
    "\n",
    "xgb_score"
   ]
  },
  {
   "cell_type": "markdown",
   "metadata": {},
   "source": [
    "### Grid Search\n",
    "\n",
    "In the next cell we'll run Grid Search to find best parameters. We'll apply cross-validation as well."
   ]
  },
  {
   "cell_type": "code",
   "execution_count": null,
   "metadata": {},
   "outputs": [],
   "source": [
    "xgb_params = {\n",
    "    \"n_estimators\": [50, 100, 150, 200],\n",
    "    \"max_depth\": [10, 20, 30, 44],\n",
    "    \"learning_rate\": [1e-1, 1e-2, 1e-3],\n",
    "    \"random_state\": [seed]\n",
    "}\n",
    "\n",
    "grid_obj = GridSearchCV(xgb_model, xgb_params, n_jobs=1, cv=5, verbose=1)\n",
    "grid_obj = grid_obj.fit(X[:1000], y[:1000])\n",
    "\n",
    "xgb_model = grid_obj.best_estimator_"
   ]
  },
  {
   "cell_type": "markdown",
   "metadata": {},
   "source": [
    "### Cross validation"
   ]
  },
  {
   "cell_type": "code",
   "execution_count": 166,
   "metadata": {},
   "outputs": [
    {
     "name": "stdout",
     "output_type": "stream",
     "text": [
      "Fold 1 - Score: 0.4675\n",
      "Fold 2 - Score: 0.8631\n",
      "Fold 3 - Score: 0.8450\n",
      "Fold 4 - Score: 0.8209\n",
      "Fold 5 - Score: 0.8181\n"
     ]
    }
   ],
   "source": [
    "cv_n = 5\n",
    "\n",
    "xgb_scores = cross_val_score(xgb_model, X, y, cv=cv_n)\n",
    "\n",
    "for n in range(cv_n):\n",
    "    print(\"Fold {} - Score: {:.4f}\".format(n+1, xgb_scores[n]))"
   ]
  },
  {
   "cell_type": "markdown",
   "metadata": {},
   "source": [
    "### Check some predictions"
   ]
  },
  {
   "cell_type": "code",
   "execution_count": 167,
   "metadata": {},
   "outputs": [
    {
     "name": "stdout",
     "output_type": "stream",
     "text": [
      "{'Prediction': 'R$ 1,174,789.62', 'Real': 'R$ 1,330,000.00'}\n",
      "{'Prediction': 'R$ 736,565.31', 'Real': 'R$ 595,000.00'}\n",
      "{'Prediction': 'R$ 389,548.00', 'Real': 'R$ 371,000.00'}\n",
      "{'Prediction': 'R$ 589,651.25', 'Real': 'R$ 556,500.00'}\n",
      "{'Prediction': 'R$ 3,139,063.50', 'Real': 'R$ 3,430,000.00'}\n",
      "{'Prediction': 'R$ 278,799.31', 'Real': 'R$ 237,999.00'}\n",
      "{'Prediction': 'R$ 554,661.38', 'Real': 'R$ 420,000.00'}\n",
      "{'Prediction': 'R$ 2,200,463.25', 'Real': 'R$ 3,500,000.00'}\n",
      "{'Prediction': 'R$ 264,893.16', 'Real': 'R$ 293,300.00'}\n",
      "{'Prediction': 'R$ 383,267.31', 'Real': 'R$ 503,999.00'}\n",
      "{'Prediction': 'R$ 212,278.17', 'Real': 'R$ 224,000.00'}\n",
      "{'Prediction': 'R$ 1,344,855.75', 'Real': 'R$ 1,113,000.00'}\n",
      "{'Prediction': 'R$ 274,496.62', 'Real': 'R$ 262,500.00'}\n",
      "{'Prediction': 'R$ 1,247,619.62', 'Real': 'R$ 1,295,000.00'}\n",
      "{'Prediction': 'R$ 2,077,493.25', 'Real': 'R$ 2,912,700.00'}\n",
      "{'Prediction': 'R$ 416,478.56', 'Real': 'R$ 406,000.00'}\n",
      "{'Prediction': 'R$ 1,165,462.62', 'Real': 'R$ 1,042,999.00'}\n",
      "{'Prediction': 'R$ 743,795.50', 'Real': 'R$ 979,999.00'}\n",
      "{'Prediction': 'R$ 395,701.72', 'Real': 'R$ 409,500.00'}\n",
      "{'Prediction': 'R$ 2,113,405.50', 'Real': 'R$ 2,029,999.00'}\n",
      "{'Prediction': 'R$ -446,102.44', 'Real': 'R$ 4,550.00'}\n",
      "{'Prediction': 'R$ 157,984.48', 'Real': 'R$ 150,500.00'}\n",
      "{'Prediction': 'R$ 188,508.73', 'Real': 'R$ 171,276.00'}\n",
      "{'Prediction': 'R$ 411,446.91', 'Real': 'R$ 385,000.00'}\n",
      "{'Prediction': 'R$ 643,403.00', 'Real': 'R$ 496,999.00'}\n",
      "{'Prediction': 'R$ 1,026,338.12', 'Real': 'R$ 1,050,000.00'}\n",
      "{'Prediction': 'R$ 1,571,230.88', 'Real': 'R$ 1,365,000.00'}\n",
      "{'Prediction': 'R$ 1,070,053.38', 'Real': 'R$ 1,155,000.00'}\n",
      "{'Prediction': 'R$ 133,236.53', 'Real': 'R$ 139,300.00'}\n",
      "{'Prediction': 'R$ 286,739.62', 'Real': 'R$ 206,500.00'}\n",
      "{'Prediction': 'R$ 927,890.06', 'Real': 'R$ 665,000.00'}\n",
      "{'Prediction': 'R$ 384,799.78', 'Real': 'R$ 409,500.00'}\n",
      "{'Prediction': 'R$ 199,309.55', 'Real': 'R$ 250,188.00'}\n",
      "{'Prediction': 'R$ 1,045,723.56', 'Real': 'R$ 1,042,999.00'}\n",
      "{'Prediction': 'R$ 728,643.12', 'Real': 'R$ 616,000.00'}\n",
      "{'Prediction': 'R$ 482,185.81', 'Real': 'R$ 832,300.00'}\n",
      "{'Prediction': 'R$ 375,496.78', 'Real': 'R$ 381,500.00'}\n",
      "{'Prediction': 'R$ 648,107.62', 'Real': 'R$ 745,500.00'}\n",
      "{'Prediction': 'R$ 4,652,027.00', 'Real': 'R$ 5,362,000.00'}\n",
      "{'Prediction': 'R$ 1,038,425.44', 'Real': 'R$ 910,000.00'}\n",
      "{'Prediction': 'R$ 234,718.92', 'Real': 'R$ 230,999.00'}\n",
      "{'Prediction': 'R$ 477,837.88', 'Real': 'R$ 350,000.00'}\n",
      "{'Prediction': 'R$ 799,760.50', 'Real': 'R$ 910,000.00'}\n",
      "{'Prediction': 'R$ 567,984.69', 'Real': 'R$ 343,000.00'}\n",
      "{'Prediction': 'R$ 486,594.31', 'Real': 'R$ 591,500.00'}\n",
      "{'Prediction': 'R$ 364,443.94', 'Real': 'R$ 423,500.00'}\n",
      "{'Prediction': 'R$ 144,483.33', 'Real': 'R$ 139,300.00'}\n",
      "{'Prediction': 'R$ 239,480.39', 'Real': 'R$ 258,999.00'}\n",
      "{'Prediction': 'R$ 962,932.50', 'Real': 'R$ 1,113,000.00'}\n",
      "{'Prediction': 'R$ 243,198.16', 'Real': 'R$ 237,999.00'}\n"
     ]
    }
   ],
   "source": [
    "for i in range(50):\n",
    "    print(check_prediction(xgb_model, X_test.iloc[i], y_test[i]))"
   ]
  },
  {
   "cell_type": "markdown",
   "metadata": {},
   "source": [
    "## Save trained model"
   ]
  },
  {
   "cell_type": "code",
   "execution_count": 169,
   "metadata": {},
   "outputs": [],
   "source": [
    "xgb_model.save_model(\"model.xgb\")"
   ]
  },
  {
   "cell_type": "markdown",
   "metadata": {},
   "source": [
    "## Predict test dataset"
   ]
  },
  {
   "cell_type": "code",
   "execution_count": 192,
   "metadata": {},
   "outputs": [
    {
     "name": "stdout",
     "output_type": "stream",
     "text": [
      "(16036, 48)\n"
     ]
    }
   ],
   "source": [
    "df_test = pd.read_feather(\"../data/processed/test.feather\")\n",
    "print(df_test.shape)"
   ]
  },
  {
   "cell_type": "code",
   "execution_count": 193,
   "metadata": {},
   "outputs": [
    {
     "name": "stdout",
     "output_type": "stream",
     "text": [
      "<class 'pandas.core.frame.DataFrame'>\n",
      "RangeIndex: 16036 entries, 0 to 16035\n",
      "Data columns (total 48 columns):\n",
      " #   Column                         Non-Null Count  Dtype  \n",
      "---  ------                         --------------  -----  \n",
      " 0   usableAreas                    16029 non-null  float64\n",
      " 1   parkingSpaces                  15772 non-null  float64\n",
      " 2   suites                         14641 non-null  float64\n",
      " 3   bathrooms                      16035 non-null  float64\n",
      " 4   totalAreas                     9942 non-null   float64\n",
      " 5   bedrooms                       16036 non-null  int64  \n",
      " 6   publicationType                16036 non-null  object \n",
      " 7   geohash                        16031 non-null  object \n",
      " 8   price                          0 non-null      object \n",
      " 9   businessType                   16036 non-null  object \n",
      " 10  yearlyIptu                     13639 non-null  float64\n",
      " 11  monthlyCondoFee                15100 non-null  float64\n",
      " 12  has_gym                        16036 non-null  bool   \n",
      " 13  has_garden                     16036 non-null  bool   \n",
      " 14  has_pool                       16036 non-null  bool   \n",
      " 15  has_lobby                      16036 non-null  bool   \n",
      " 16  has_partyRoom                  16036 non-null  bool   \n",
      " 17  has_balcony                    16036 non-null  bool   \n",
      " 18  has_playground                 16036 non-null  bool   \n",
      " 19  has_grill                      16036 non-null  bool   \n",
      " 20  has_games                      16036 non-null  bool   \n",
      " 21  has_closet                     16036 non-null  bool   \n",
      " 22  has_elevator                   16036 non-null  bool   \n",
      " 23  has_furnitures                 16036 non-null  bool   \n",
      " 24  has_toilet                     16036 non-null  bool   \n",
      " 25  total_dom_part_improvisados    15902 non-null  float64\n",
      " 26  renda_nom_dom_part             15902 non-null  float64\n",
      " 27  renda_nom_dom_part_perm        15902 non-null  float64\n",
      " 28  renda_nom_dom_part_imp         15902 non-null  float64\n",
      " 29  renda_nom_dom_sal_baixo1       15902 non-null  float64\n",
      " 30  renda_nom_dom_sal_baixo2       15902 non-null  float64\n",
      " 31  renda_nom_dom_sal_baixo3       15902 non-null  float64\n",
      " 32  renda_nom_dom_sal_baixo4       15902 non-null  float64\n",
      " 33  renda_nom_dom_sal_medio1       15902 non-null  float64\n",
      " 34  renda_nom_dom_sal_medio2       15902 non-null  float64\n",
      " 35  renda_nom_dom_sal_medio3       15902 non-null  float64\n",
      " 36  renda_nom_dom_sal_alto1        15902 non-null  float64\n",
      " 37  renda_nom_dom_sal_alto2        15902 non-null  float64\n",
      " 38  renda_nom_dom_sem_rendimento   15902 non-null  float64\n",
      " 39  rural_urbano                   0 non-null      object \n",
      " 40  ident_logradouro_proprios      15902 non-null  float64\n",
      " 41  nao_ident_logradouro_proprios  15902 non-null  float64\n",
      " 42  ident_logradouro_alugados      15902 non-null  float64\n",
      " 43  nao_ident_logradouro_alugados  15902 non-null  float64\n",
      " 44  ilum_publica_proprios          15902 non-null  float64\n",
      " 45  nao_ilum_publica_proprios      15902 non-null  float64\n",
      " 46  ilum_publica_alugados          15902 non-null  float64\n",
      " 47  nao_ilum_publica_alugados      15902 non-null  float64\n",
      "dtypes: bool(13), float64(29), int64(1), object(5)\n",
      "memory usage: 4.5+ MB\n"
     ]
    }
   ],
   "source": [
    "df_test.info()"
   ]
  },
  {
   "cell_type": "code",
   "execution_count": null,
   "metadata": {},
   "outputs": [],
   "source": [
    "test_preds = test_prediction(df_test, xgb_model)\n",
    "test_preds = pd.DataFrame(test_preds)\n",
    "\n",
    "print(test_preds.shape)\n",
    "test_preds.head()"
   ]
  },
  {
   "cell_type": "markdown",
   "metadata": {},
   "source": [
    "## Save predictions.csv"
   ]
  },
  {
   "cell_type": "code",
   "execution_count": null,
   "metadata": {},
   "outputs": [],
   "source": [
    "test_preds.to_csv(\"../predictions.csv\", index=False, encoding=\"utf-8\")"
   ]
  },
  {
   "cell_type": "markdown",
   "metadata": {},
   "source": [
    "---\n",
    "---\n",
    "---\n",
    "\n",
    "# That's the end!"
   ]
  }
 ],
 "metadata": {
  "kernelspec": {
   "display_name": "conda_python3",
   "language": "python",
   "name": "conda_python3"
  },
  "language_info": {
   "codemirror_mode": {
    "name": "ipython",
    "version": 3
   },
   "file_extension": ".py",
   "mimetype": "text/x-python",
   "name": "python",
   "nbconvert_exporter": "python",
   "pygments_lexer": "ipython3",
   "version": "3.6.10"
  }
 },
 "nbformat": 4,
 "nbformat_minor": 4
}
